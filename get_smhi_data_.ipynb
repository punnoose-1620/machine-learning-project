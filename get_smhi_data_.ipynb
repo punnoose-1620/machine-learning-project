{
 "cells": [
  {
   "attachments": {},
   "cell_type": "markdown",
   "metadata": {},
   "source": [
    "# Download the weather data"
   ]
  },
  {
   "cell_type": "code",
   "execution_count": 4,
   "metadata": {},
   "outputs": [],
   "source": [
    "# https://opendata.smhi.se/apidocs/\n",
    "\n",
    "import requests\n",
    "import pandas as pd\n",
    "from pathlib import Path\n",
    "\n",
    "api = \"https://opendata-download-metobs.smhi.se/api/\""
   ]
  },
  {
   "cell_type": "markdown",
   "metadata": {},
   "source": [
    "## Parameter selection\n",
    "\n",
    "I have already defined the parameters to download, shown below. In comments, I provide the parameters' description.\n",
    "\n",
    "If you need specific or only one parameter, change list to include the corresponding element(s), e.g., `params = [4]`"
   ]
  },
  {
   "cell_type": "code",
   "execution_count": 6,
   "metadata": {},
   "outputs": [],
   "source": [
    "# Hourly data\n",
    "# 1  = Air temperature, once/hour (mean)\n",
    "# 4  = Wind speed,      once/hour (mean)\n",
    "# 10 = Sunshine time,   once/hour\n",
    "\n",
    "# Daily data\n",
    "# 2  = Air temperature, once/day (mean), at 00:00 hrs.\n",
    "# 5  = Precipitation,   once/day (sum of 24 hours), at 06:00 a.m.\n",
    "# 8\t = Snow depth,      once/day, at 06:00 am\n",
    "\n",
    "params = [2, 5, 8, 10]"
   ]
  },
  {
   "cell_type": "code",
   "execution_count": 8,
   "metadata": {},
   "outputs": [],
   "source": [
    "Path(\"./smhi_data/\").mkdir(parents=True, exist_ok=True)\n",
    "\n",
    "stations_list = []\n",
    "stations_LongLat = {}\n",
    "\n",
    "for p in params:\n",
    "    # Fetch stations for parameter p\n",
    "\n",
    "    url = api + f\"version/latest/parameter/{p}.json\"\n",
    "    res = requests.get(url)\n",
    "    station_id = []\n",
    "    for r in res.json()[\"station\"]:\n",
    "        if r[\"measuringStations\"] == \"ADDITIONAL\" or r[\"active\"] == \"False\":\n",
    "            continue\n",
    "        station_id.append(r[\"id\"])\n",
    "        stations_LongLat[r[\"id\"]] = (r[\"latitude\"], r[\"longitude\"])\n",
    "\n",
    "    stations_list.append(station_id)\n",
    "\n",
    "# To make it easier to select stations, we can take the union of the stations for the different parameters. \n",
    "# We ignore \"amount of Sunshine time\" for union calculation as it has a low amount of stations \n",
    "# (which are not overlapping any other stations).\n",
    "stations_list_union = list(set(stations_list[0]) & set(stations_list[1]) & set(stations_list[2]))"
   ]
  },
  {
   "cell_type": "code",
   "execution_count": 10,
   "metadata": {},
   "outputs": [
    {
     "name": "stdout",
     "output_type": "stream",
     "text": [
      "919\n",
      "2090\n",
      "1883\n",
      "20\n"
     ]
    }
   ],
   "source": [
    "# Number of stations for each parameter.\n",
    "for s in stations_list:\n",
    "    print(len(s))"
   ]
  },
  {
   "attachments": {},
   "cell_type": "markdown",
   "metadata": {},
   "source": [
    "# Check swedish energy zones"
   ]
  },
  {
   "cell_type": "markdown",
   "metadata": {},
   "source": [
    "To predict electricity prices, you may want to consider the Swedish electricity zones.\n",
    "\n",
    "Sweden is divided into [four electricity regions](https://www.tekniskaverken.se/privat/other-languages/save-electricity/electricity-market/), as shown in the picture below. \n",
    "\n",
    "![Swedish energy zones](https://tekniskaverken.imagevault.media/publishedmedia/5o14j5u8dactydhw88la/karta-elomraden-sverige.png)"
   ]
  },
  {
   "cell_type": "markdown",
   "metadata": {},
   "source": [
    "Below, I provide some simple steps on how to get data only from the stations included in a preferred zone."
   ]
  },
  {
   "cell_type": "code",
   "execution_count": 46,
   "metadata": {},
   "outputs": [],
   "source": [
    "# If above SE2 line, then it is SE1\n",
    "\n",
    "# Below this line is SE2\n",
    "a2 = (66.188660, 14.291650)\n",
    "b2 = (64.297761, 21.484794)\n",
    "\n",
    "# Below this line is SE3\n",
    "a3 = (61.532329, 11.963278)\n",
    "b3 = (61.156689, 17.719862)\n",
    "\n",
    "# Below this line is SE4\n",
    "a4 = (57.260111, 11.920329)\n",
    "b4 = (57.177640, 18.843320)\n",
    "\n",
    "# Function for checking above/below a line.\n",
    "is_below = lambda px, py, x1, y1, x2, y2: (px - x1)*(y2-y1) - (py -y1)*(x2-x1) < 0"
   ]
  },
  {
   "cell_type": "code",
   "execution_count": 48,
   "metadata": {},
   "outputs": [],
   "source": [
    "# Get a dict with key: station, and value: energy zone.\n",
    "# Here we add the sun-amount again.\n",
    "stations_zone = {}\n",
    "\n",
    "for s in stations_list_union + stations_list[3]:\n",
    "    if is_below(*stations_LongLat[s], *a4, *b4):\n",
    "        stations_zone[s] = \"SE4\"\n",
    "        continue\n",
    "    if is_below(*stations_LongLat[s], *a3, *b3):\n",
    "        stations_zone[s] = \"SE3\"\n",
    "        continue\n",
    "    if is_below(*stations_LongLat[s], *a2, *b2):\n",
    "        stations_zone[s] = \"SE2\"\n",
    "        continue\n",
    "    stations_zone[s] = \"SE1\""
   ]
  },
  {
   "cell_type": "markdown",
   "metadata": {},
   "source": [
    "Let's say, for example, we want to keep only zone S3 because our data correspond to places in that zone."
   ]
  },
  {
   "cell_type": "code",
   "execution_count": 50,
   "metadata": {},
   "outputs": [
    {
     "data": {
      "text/html": [
       "<div>\n",
       "<style scoped>\n",
       "    .dataframe tbody tr th:only-of-type {\n",
       "        vertical-align: middle;\n",
       "    }\n",
       "\n",
       "    .dataframe tbody tr th {\n",
       "        vertical-align: top;\n",
       "    }\n",
       "\n",
       "    .dataframe thead th {\n",
       "        text-align: right;\n",
       "    }\n",
       "</style>\n",
       "<table border=\"1\" class=\"dataframe\">\n",
       "  <thead>\n",
       "    <tr style=\"text-align: right;\">\n",
       "      <th></th>\n",
       "      <th>stations</th>\n",
       "      <th>latitude</th>\n",
       "      <th>longitude</th>\n",
       "      <th>energy zone</th>\n",
       "    </tr>\n",
       "  </thead>\n",
       "  <tbody>\n",
       "    <tr>\n",
       "      <th>2</th>\n",
       "      <td>106500</td>\n",
       "      <td>60.8321</td>\n",
       "      <td>16.0581</td>\n",
       "      <td>SE3</td>\n",
       "    </tr>\n",
       "    <tr>\n",
       "      <th>4</th>\n",
       "      <td>92170</td>\n",
       "      <td>59.2891</td>\n",
       "      <td>12.0542</td>\n",
       "      <td>SE3</td>\n",
       "    </tr>\n",
       "    <tr>\n",
       "      <th>16</th>\n",
       "      <td>84020</td>\n",
       "      <td>58.0389</td>\n",
       "      <td>14.9853</td>\n",
       "      <td>SE3</td>\n",
       "    </tr>\n",
       "    <tr>\n",
       "      <th>17</th>\n",
       "      <td>96310</td>\n",
       "      <td>59.5259</td>\n",
       "      <td>16.0192</td>\n",
       "      <td>SE3</td>\n",
       "    </tr>\n",
       "    <tr>\n",
       "      <th>18</th>\n",
       "      <td>108600</td>\n",
       "      <td>60.1829</td>\n",
       "      <td>18.3964</td>\n",
       "      <td>SE3</td>\n",
       "    </tr>\n",
       "    <tr>\n",
       "      <th>...</th>\n",
       "      <td>...</td>\n",
       "      <td>...</td>\n",
       "      <td>...</td>\n",
       "      <td>...</td>\n",
       "    </tr>\n",
       "    <tr>\n",
       "      <th>747</th>\n",
       "      <td>86655</td>\n",
       "      <td>58.5824</td>\n",
       "      <td>16.1485</td>\n",
       "      <td>SE3</td>\n",
       "    </tr>\n",
       "    <tr>\n",
       "      <th>748</th>\n",
       "      <td>98735</td>\n",
       "      <td>59.3534</td>\n",
       "      <td>18.0634</td>\n",
       "      <td>SE3</td>\n",
       "    </tr>\n",
       "    <tr>\n",
       "      <th>750</th>\n",
       "      <td>99275</td>\n",
       "      <td>59.4422</td>\n",
       "      <td>19.5020</td>\n",
       "      <td>SE3</td>\n",
       "    </tr>\n",
       "    <tr>\n",
       "      <th>753</th>\n",
       "      <td>78645</td>\n",
       "      <td>57.6727</td>\n",
       "      <td>18.3448</td>\n",
       "      <td>SE3</td>\n",
       "    </tr>\n",
       "    <tr>\n",
       "      <th>755</th>\n",
       "      <td>77215</td>\n",
       "      <td>57.3673</td>\n",
       "      <td>17.0987</td>\n",
       "      <td>SE3</td>\n",
       "    </tr>\n",
       "  </tbody>\n",
       "</table>\n",
       "<p>357 rows × 4 columns</p>\n",
       "</div>"
      ],
      "text/plain": [
       "     stations  latitude  longitude energy zone\n",
       "2      106500   60.8321    16.0581         SE3\n",
       "4       92170   59.2891    12.0542         SE3\n",
       "16      84020   58.0389    14.9853         SE3\n",
       "17      96310   59.5259    16.0192         SE3\n",
       "18     108600   60.1829    18.3964         SE3\n",
       "..        ...       ...        ...         ...\n",
       "747     86655   58.5824    16.1485         SE3\n",
       "748     98735   59.3534    18.0634         SE3\n",
       "750     99275   59.4422    19.5020         SE3\n",
       "753     78645   57.6727    18.3448         SE3\n",
       "755     77215   57.3673    17.0987         SE3\n",
       "\n",
       "[357 rows x 4 columns]"
      ]
     },
     "execution_count": 50,
     "metadata": {},
     "output_type": "execute_result"
    }
   ],
   "source": [
    "data = [[s, *list(stations_LongLat[s]), stations_zone[s]] for s in (stations_list_union + stations_list[3])]\n",
    "\n",
    "zone_frame = pd.DataFrame(data,\n",
    "                          columns=[\"stations\", \"latitude\", \"longitude\", \"energy zone\"])\n",
    "\n",
    "# Keeping only zone S3\n",
    "zone_frame = zone_frame.loc[zone_frame['energy zone'] == \"SE3\"]\n",
    "\n",
    "Path(f\"./smhi_data_2022-today/\").mkdir(parents=True, exist_ok=True)\n",
    "filepath = Path(f\"./smhi_data_2022-today/station_zone_data.csv\")\n",
    "\n",
    "zone_frame.to_csv(filepath, index=False)\n",
    "zone_frame"
   ]
  },
  {
   "cell_type": "markdown",
   "metadata": {},
   "source": [
    "The code below fetches the data for the corresponding energy zone, i.e., zone SE3.\n",
    "\n",
    "The output of the code block is several folders named \"parameter_x\" (x equals the parameter's number) included in the folder \"smhi_data\"."
   ]
  },
  {
   "cell_type": "code",
   "execution_count": 40,
   "metadata": {},
   "outputs": [],
   "source": [
    "for p in params:\n",
    "    # Go through each parameter p\n",
    "\n",
    "    Path(f\"./smhi_data/parameter_{p}\").mkdir(parents=True, exist_ok=True)\n",
    "    \n",
    "    # special case for Sunshine time\n",
    "    if p == 10:\n",
    "        for s in stations_list[3]:\n",
    "            # Fetch data from each station s\n",
    "            url = api + f\"version/latest/parameter/{p}/station/{s}/period/corrected-archive/data.csv\"\n",
    "            res = requests.get(url)\n",
    "\n",
    "            if stations_zone[s] == \"SE3\":\n",
    "                with open(f\"./smhi_data/parameter_{p}/station_{s}-{stations_zone[s]}.csv\", \"wb\") as binary_file:\n",
    "                    # Write bytes to file\n",
    "                    binary_file.write(res.content)\n",
    "        continue\n",
    "\n",
    "    for s in stations_list_union:\n",
    "        # Fetch data from each station s\n",
    "        url = api + f\"version/latest/parameter/{p}/station/{s}/period/corrected-archive/data.csv\"\n",
    "        res = requests.get(url)\n",
    "\n",
    "        if stations_zone[s] == \"SE3\":\n",
    "            with open(f\"./smhi_data/parameter_{p}/station_{s}-{stations_zone[s]}.csv\", \"wb\") as binary_file:\n",
    "                # Write bytes to file\n",
    "                binary_file.write(res.content)"
   ]
  },
  {
   "cell_type": "markdown",
   "metadata": {},
   "source": [
    "The code below creates the weather data you will use for your project.\n",
    "\n",
    "Those data are stored in a folder named \"smhi_data_2014-today\" containing only data from 2014-01-01 to match, e.g., the Jordbruksverket data period.\n",
    "\n",
    "You can change this parameter in the corresponding code part below."
   ]
  },
  {
   "cell_type": "code",
   "execution_count": 57,
   "metadata": {},
   "outputs": [],
   "source": [
    "for param in params:\n",
    "    # defining the path, i.e., the folder where the data from the corresponding parameter exist, and accessing all .csv files\n",
    "    p = Path(f\"./smhi_data/parameter_{param}\").glob(\"*.csv\")\n",
    "    Path(f\"./smhi_data_2022-today/parameter_{param}\").mkdir(parents=True, exist_ok=True)\n",
    "\n",
    "    # defining the target path, i.e., the folder where the processed data file should be saved\n",
    "    target_path = Path(f\"./smhi_data_2022-today/parameter_{param}\")\n",
    "    files = [x for x in p if x.is_file()]\n",
    "\n",
    "    # Start Date should be aligned with the data from the company:\n",
    "    start_date = pd.Timestamp(\"2014-01-01\")                       # ---> change the date here\n",
    "    \n",
    "    # Read, clean, re-save data\n",
    "    for f in files:\n",
    "        try:\n",
    "            print(f) # keep track of the files toggling\n",
    "    \n",
    "            '''\n",
    "            IMPORTANT:\n",
    "            We try to find the start of the data set based on the different formats in the original files.\n",
    "            If you HAVE ADDED ADDITIONAL parameters, check the corresponding files to revise the code below properly.\n",
    "            '''\n",
    "            for i in range(1, 20, 1): # csv files variable length header \n",
    "                try:\n",
    "                    if param == 2: # this format is met in files corresponding to parameter 2\n",
    "                        df = pd.read_csv(f, sep=\";\", skiprows=i, usecols=[\"Representativt dygn\", \"Lufttemperatur\", \"Kvalitet\"])\n",
    "                        df.rename(columns={'Representativt dygn': 'Datum'}, inplace=True)\n",
    "                    elif param == 5: # this format is met in files corresponding to parameter 5\n",
    "                        df = pd.read_csv(f, sep=\";\", skiprows=i, usecols=[\"Representativt dygn\", \"Nederbördsmängd\", \"Kvalitet\"])\n",
    "                        df.rename(columns={'Representativt dygn': 'Datum'}, inplace=True)\n",
    "                    elif param == 8: # this format is met in files corresponding to parameter 8\n",
    "                        df = pd.read_csv(f, sep=\";\", skiprows=i, usecols=[\"Datum\", \"Tid (UTC)\", \"Snödjup\", \"Kvalitet\"])\n",
    "                    elif param == 10: # this format is met in files corresponding to parameter 10\n",
    "                        df = pd.read_csv(f, sep=\";\", skiprows=i, usecols=[\"Datum\", \"Tid (UTC)\", \"Solskenstid\", \"Kvalitet\"])\n",
    "                    break\n",
    "                except:\n",
    "                    continue\n",
    "        \n",
    "            # Check that the file has correct timespan\n",
    "            last_time = df[\"Datum\"].tail(1).apply(pd.to_datetime)\n",
    "        \n",
    "            if last_time.iloc[0] > start_date:\n",
    "                # Quick remove all unneccecary data and save\n",
    "                idx = df[\"Datum\"].str.contains(\"2014\").idxmax()   # ---> change the date here, too\n",
    "                df = df.drop(df.index[:idx])\n",
    "                df.to_csv((target_path / f.name), index=False)\n",
    "                \n",
    "        except:\n",
    "            print(\"Bad file\")\n",
    "            continue"
   ]
  },
  {
   "cell_type": "code",
   "execution_count": null,
   "metadata": {},
   "outputs": [],
   "source": []
  }
 ],
 "metadata": {
  "kernelspec": {
   "display_name": "Python 3 (ipykernel)",
   "language": "python",
   "name": "python3"
  },
  "language_info": {
   "codemirror_mode": {
    "name": "ipython",
    "version": 3
   },
   "file_extension": ".py",
   "mimetype": "text/x-python",
   "name": "python",
   "nbconvert_exporter": "python",
   "pygments_lexer": "ipython3",
   "version": "3.11.10"
  },
  "vscode": {
   "interpreter": {
    "hash": "12a841fcffb38c1c0cb439267769ca77ba69c0bbaee65bbaff24558dd320c006"
   }
  }
 },
 "nbformat": 4,
 "nbformat_minor": 4
}
