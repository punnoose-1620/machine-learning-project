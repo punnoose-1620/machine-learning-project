{
 "cells": [
  {
   "attachments": {},
   "cell_type": "markdown",
   "metadata": {},
   "source": [
    "# Download the weather data"
   ]
  },
  {
   "cell_type": "code",
   "execution_count": 35,
   "metadata": {},
   "outputs": [],
   "source": [
    "# https://opendata.smhi.se/apidocs/\n",
    "\n",
    "import requests\n",
    "import pandas as pd\n",
    "from tqdm import tqdm\n",
    "from pathlib import Path\n",
    "\n",
    "api = \"https://opendata-download-metobs.smhi.se/api/\""
   ]
  },
  {
   "cell_type": "markdown",
   "metadata": {},
   "source": [
    "## Parameter selection\n",
    "\n",
    "I have already defined the parameters to download, shown below. In comments, I provide the parameters' description.\n",
    "\n",
    "If you need specific or only one parameter, change list to include the corresponding element(s), e.g., `params = [4]`"
   ]
  },
  {
   "cell_type": "code",
   "execution_count": 36,
   "metadata": {},
   "outputs": [],
   "source": [
    "# Hourly data\n",
    "# 1  = Air temperature, once/hour (mean)\n",
    "# 4  = Wind speed,      once/hour (mean)\n",
    "# 10 = Sunshine time,   once/hour\n",
    "\n",
    "# Daily data\n",
    "# 2  = Air temperature, once/day (mean), at 00:00 hrs.\n",
    "# 5  = Precipitation,   once/day (sum of 24 hours), at 06:00 a.m.\n",
    "# 8\t = Snow depth,      once/day, at 06:00 am\n",
    "\n",
    "params = [2, 5, 8, 10]"
   ]
  },
  {
   "cell_type": "code",
   "execution_count": 37,
   "metadata": {},
   "outputs": [
    {
     "name": "stderr",
     "output_type": "stream",
     "text": [
      "Fetching data for parameters [2, 5, 8, 10]: 100%|██████████| 4/4 [00:00<00:00,  5.47it/s]\n"
     ]
    }
   ],
   "source": [
    "Path(\"./smhi_data/\").mkdir(parents=True, exist_ok=True)\n",
    "\n",
    "stations_list = []\n",
    "stations_LongLat = {}\n",
    "\n",
    "for p in tqdm(params, desc=f'Fetching data for parameters {params}'):\n",
    "    # Fetch stations for parameter p\n",
    "\n",
    "    url = api + f\"version/latest/parameter/{p}.json\"\n",
    "    res = requests.get(url)\n",
    "    station_id = []\n",
    "    for r in res.json()[\"station\"]:\n",
    "        if r[\"measuringStations\"] == \"ADDITIONAL\" or r[\"active\"] == \"False\":\n",
    "            continue\n",
    "        station_id.append(r[\"id\"])\n",
    "        stations_LongLat[r[\"id\"]] = (r[\"latitude\"], r[\"longitude\"])\n",
    "\n",
    "    stations_list.append(station_id)\n",
    "\n",
    "# To make it easier to select stations, we can take the union of the stations for the different parameters. \n",
    "# We ignore \"amount of Sunshine time\" for union calculation as it has a low amount of stations \n",
    "# (which are not overlapping any other stations).\n",
    "stations_list_union = list(set(stations_list[0]) & set(stations_list[1]) & set(stations_list[2]))"
   ]
  },
  {
   "cell_type": "code",
   "execution_count": 38,
   "metadata": {},
   "outputs": [
    {
     "name": "stdout",
     "output_type": "stream",
     "text": [
      "921\n",
      "2091\n",
      "1885\n",
      "20\n"
     ]
    }
   ],
   "source": [
    "# Number of stations for each parameter.\n",
    "for s in stations_list:\n",
    "    print(len(s))"
   ]
  },
  {
   "attachments": {},
   "cell_type": "markdown",
   "metadata": {},
   "source": [
    "# Check swedish energy zones"
   ]
  },
  {
   "cell_type": "markdown",
   "metadata": {},
   "source": [
    "To predict electricity prices, you may want to consider the Swedish electricity zones.\n",
    "\n",
    "Sweden is divided into [four electricity regions](https://www.tekniskaverken.se/privat/other-languages/save-electricity/electricity-market/), as shown in the picture below. \n",
    "\n",
    "![Swedish energy zones](https://tekniskaverken.imagevault.media/publishedmedia/5o14j5u8dactydhw88la/karta-elomraden-sverige.png)"
   ]
  },
  {
   "cell_type": "markdown",
   "metadata": {},
   "source": [
    "Below, I provide some simple steps on how to get data only from the stations included in a preferred zone."
   ]
  },
  {
   "cell_type": "code",
   "execution_count": 39,
   "metadata": {},
   "outputs": [],
   "source": [
    "# If above SE2 line, then it is SE1\n",
    "\n",
    "# Below this line is SE2\n",
    "a2 = (66.188660, 14.291650)\n",
    "b2 = (64.297761, 21.484794)\n",
    "\n",
    "# Below this line is SE3\n",
    "a3 = (61.532329, 11.963278)\n",
    "b3 = (61.156689, 17.719862)\n",
    "\n",
    "# Below this line is SE4\n",
    "a4 = (57.260111, 11.920329)\n",
    "b4 = (57.177640, 18.843320)\n",
    "\n",
    "# Function for checking above/below a line.\n",
    "is_below = lambda px, py, x1, y1, x2, y2: (px - x1)*(y2-y1) - (py -y1)*(x2-x1) < 0"
   ]
  },
  {
   "cell_type": "code",
   "execution_count": 40,
   "metadata": {},
   "outputs": [],
   "source": [
    "# Get a dict with key: station, and value: energy zone.\n",
    "# Here we add the sun-amount again.\n",
    "stations_zone = {}\n",
    "\n",
    "for s in stations_list_union + stations_list[3]:\n",
    "    if is_below(*stations_LongLat[s], *a4, *b4):\n",
    "        stations_zone[s] = \"SE4\"\n",
    "        continue\n",
    "    if is_below(*stations_LongLat[s], *a3, *b3):\n",
    "        stations_zone[s] = \"SE3\"\n",
    "        continue\n",
    "    if is_below(*stations_LongLat[s], *a2, *b2):\n",
    "        stations_zone[s] = \"SE2\"\n",
    "        continue\n",
    "    stations_zone[s] = \"SE1\""
   ]
  },
  {
   "cell_type": "markdown",
   "metadata": {},
   "source": [
    "Let's say, for example, we want to keep only zone S3 because our data correspond to places in that zone."
   ]
  },
  {
   "cell_type": "code",
   "execution_count": 41,
   "metadata": {},
   "outputs": [
    {
     "data": {
      "text/html": [
       "<div>\n",
       "<style scoped>\n",
       "    .dataframe tbody tr th:only-of-type {\n",
       "        vertical-align: middle;\n",
       "    }\n",
       "\n",
       "    .dataframe tbody tr th {\n",
       "        vertical-align: top;\n",
       "    }\n",
       "\n",
       "    .dataframe thead th {\n",
       "        text-align: right;\n",
       "    }\n",
       "</style>\n",
       "<table border=\"1\" class=\"dataframe\">\n",
       "  <thead>\n",
       "    <tr style=\"text-align: right;\">\n",
       "      <th></th>\n",
       "      <th>stations</th>\n",
       "      <th>latitude</th>\n",
       "      <th>longitude</th>\n",
       "      <th>energy zone</th>\n",
       "    </tr>\n",
       "  </thead>\n",
       "  <tbody>\n",
       "    <tr>\n",
       "      <th>2</th>\n",
       "      <td>106500</td>\n",
       "      <td>60.8321</td>\n",
       "      <td>16.0581</td>\n",
       "      <td>SE3</td>\n",
       "    </tr>\n",
       "    <tr>\n",
       "      <th>4</th>\n",
       "      <td>92170</td>\n",
       "      <td>59.2891</td>\n",
       "      <td>12.0542</td>\n",
       "      <td>SE3</td>\n",
       "    </tr>\n",
       "    <tr>\n",
       "      <th>16</th>\n",
       "      <td>84020</td>\n",
       "      <td>58.0389</td>\n",
       "      <td>14.9853</td>\n",
       "      <td>SE3</td>\n",
       "    </tr>\n",
       "    <tr>\n",
       "      <th>17</th>\n",
       "      <td>96310</td>\n",
       "      <td>59.5259</td>\n",
       "      <td>16.0192</td>\n",
       "      <td>SE3</td>\n",
       "    </tr>\n",
       "    <tr>\n",
       "      <th>18</th>\n",
       "      <td>108600</td>\n",
       "      <td>60.1829</td>\n",
       "      <td>18.3964</td>\n",
       "      <td>SE3</td>\n",
       "    </tr>\n",
       "    <tr>\n",
       "      <th>...</th>\n",
       "      <td>...</td>\n",
       "      <td>...</td>\n",
       "      <td>...</td>\n",
       "      <td>...</td>\n",
       "    </tr>\n",
       "    <tr>\n",
       "      <th>750</th>\n",
       "      <td>86655</td>\n",
       "      <td>58.5824</td>\n",
       "      <td>16.1485</td>\n",
       "      <td>SE3</td>\n",
       "    </tr>\n",
       "    <tr>\n",
       "      <th>751</th>\n",
       "      <td>98735</td>\n",
       "      <td>59.3534</td>\n",
       "      <td>18.0634</td>\n",
       "      <td>SE3</td>\n",
       "    </tr>\n",
       "    <tr>\n",
       "      <th>753</th>\n",
       "      <td>99275</td>\n",
       "      <td>59.4422</td>\n",
       "      <td>19.5020</td>\n",
       "      <td>SE3</td>\n",
       "    </tr>\n",
       "    <tr>\n",
       "      <th>756</th>\n",
       "      <td>78645</td>\n",
       "      <td>57.6727</td>\n",
       "      <td>18.3448</td>\n",
       "      <td>SE3</td>\n",
       "    </tr>\n",
       "    <tr>\n",
       "      <th>758</th>\n",
       "      <td>77215</td>\n",
       "      <td>57.3673</td>\n",
       "      <td>17.0987</td>\n",
       "      <td>SE3</td>\n",
       "    </tr>\n",
       "  </tbody>\n",
       "</table>\n",
       "<p>358 rows × 4 columns</p>\n",
       "</div>"
      ],
      "text/plain": [
       "     stations  latitude  longitude energy zone\n",
       "2      106500   60.8321    16.0581         SE3\n",
       "4       92170   59.2891    12.0542         SE3\n",
       "16      84020   58.0389    14.9853         SE3\n",
       "17      96310   59.5259    16.0192         SE3\n",
       "18     108600   60.1829    18.3964         SE3\n",
       "..        ...       ...        ...         ...\n",
       "750     86655   58.5824    16.1485         SE3\n",
       "751     98735   59.3534    18.0634         SE3\n",
       "753     99275   59.4422    19.5020         SE3\n",
       "756     78645   57.6727    18.3448         SE3\n",
       "758     77215   57.3673    17.0987         SE3\n",
       "\n",
       "[358 rows x 4 columns]"
      ]
     },
     "execution_count": 41,
     "metadata": {},
     "output_type": "execute_result"
    }
   ],
   "source": [
    "data = [[s, *list(stations_LongLat[s]), stations_zone[s]] for s in (stations_list_union + stations_list[3])]\n",
    "\n",
    "zone_frame = pd.DataFrame(data, columns=[\"stations\", \"latitude\", \"longitude\", \"energy zone\"])\n",
    "\n",
    "# Keeping only zone S3\n",
    "zone_frame = zone_frame.loc[zone_frame['energy zone'] == \"SE3\"]\n",
    "\n",
    "Path(f\"./smhi_data_2014-today/\").mkdir(parents=True, exist_ok=True)\n",
    "filepath = Path(f\"./smhi_data_2014-today/station_zone_data.csv\")\n",
    "\n",
    "zone_frame.to_csv(filepath, index=False)\n",
    "zone_frame"
   ]
  },
  {
   "cell_type": "markdown",
   "metadata": {},
   "source": [
    "The code below fetches the data for the corresponding energy zone, i.e., zone SE3.\n",
    "\n",
    "The output of the code block is several folders named \"parameter_x\" (x equals the parameter's number) included in the folder \"smhi_data\"."
   ]
  },
  {
   "cell_type": "code",
   "execution_count": 42,
   "metadata": {},
   "outputs": [
    {
     "name": "stderr",
     "output_type": "stream",
     "text": [
      "Getting Param 2 from 740 Stations List Union: 100%|██████████| 740/740 [02:40<00:00,  4.61it/s]\n",
      "Getting Param 5 from 740 Stations List Union: 100%|██████████| 740/740 [02:57<00:00,  4.17it/s]\n",
      "Getting Param 8 from 740 Stations List Union: 100%|██████████| 740/740 [01:13<00:00, 10.11it/s]\n",
      "Getting Param 10 from 4 Stations List: 100%|██████████| 20/20 [00:20<00:00,  1.04s/it]\n"
     ]
    }
   ],
   "source": [
    "for p in params:\n",
    "    # Go through each parameter p\n",
    "\n",
    "    Path(f\"./smhi_data/parameter_{p}\").mkdir(parents=True, exist_ok=True)\n",
    "    \n",
    "    # special case for Sunshine time\n",
    "    if p == 10:\n",
    "        for s in tqdm(stations_list[3], desc=f\"Getting Param {p} from {len(stations_list)} Stations List\"):\n",
    "            # Fetch data from each station s\n",
    "            url = api + f\"version/latest/parameter/{p}/station/{s}/period/corrected-archive/data.csv\"\n",
    "            res = requests.get(url)\n",
    "\n",
    "            if stations_zone[s] == \"SE3\":\n",
    "                with open(f\"./smhi_data/parameter_{p}/station_{s}-{stations_zone[s]}.csv\", \"wb\") as binary_file:\n",
    "                    # Write bytes to file\n",
    "                    binary_file.write(res.content)\n",
    "        continue\n",
    "\n",
    "    for s in tqdm(stations_list_union, desc=f'Getting Param {p} from {len(stations_list_union)} Stations List Union'):\n",
    "        # Fetch data from each station s\n",
    "        url = api + f\"version/latest/parameter/{p}/station/{s}/period/corrected-archive/data.csv\"\n",
    "        res = requests.get(url)\n",
    "\n",
    "        if stations_zone[s] == \"SE3\":\n",
    "            with open(f\"./smhi_data/parameter_{p}/station_{s}-{stations_zone[s]}.csv\", \"wb\") as binary_file:\n",
    "                # Write bytes to file\n",
    "                binary_file.write(res.content)"
   ]
  },
  {
   "cell_type": "markdown",
   "metadata": {},
   "source": [
    "The code below creates the weather data you will use for your project.\n",
    "\n",
    "Those data are stored in a folder named \"smhi_data_2014-today\" containing only data from 2014-01-01 to match, e.g., the Jordbruksverket data period.\n",
    "\n",
    "You can change this parameter in the corresponding code part below."
   ]
  },
  {
   "cell_type": "code",
   "execution_count": 43,
   "metadata": {},
   "outputs": [
    {
     "name": "stdout",
     "output_type": "stream",
     "text": [
      "smhi_data\\parameter_2\\station_102170-SE3.csv\n"
     ]
    },
    {
     "name": "stderr",
     "output_type": "stream",
     "text": [
      "Writing to file smhi_data\\parameter_2\\station_102170-SE3.csv:  37%|███▋      | 7/19 [00:00<00:00, 143.30it/s]\n"
     ]
    },
    {
     "name": "stdout",
     "output_type": "stream",
     "text": [
      "Bad file\n",
      "smhi_data\\parameter_2\\station_102190-SE3.csv\n"
     ]
    },
    {
     "name": "stderr",
     "output_type": "stream",
     "text": [
      "Writing to file smhi_data\\parameter_2\\station_102190-SE3.csv:  42%|████▏     | 8/19 [00:00<00:00, 131.73it/s]\n"
     ]
    },
    {
     "name": "stdout",
     "output_type": "stream",
     "text": [
      "smhi_data\\parameter_2\\station_102200-SE3.csv\n"
     ]
    },
    {
     "name": "stderr",
     "output_type": "stream",
     "text": [
      "Writing to file smhi_data\\parameter_2\\station_102200-SE3.csv:  37%|███▋      | 7/19 [00:00<00:00, 334.62it/s]\n"
     ]
    },
    {
     "name": "stdout",
     "output_type": "stream",
     "text": [
      "smhi_data\\parameter_2\\station_102210-SE3.csv\n"
     ]
    },
    {
     "name": "stderr",
     "output_type": "stream",
     "text": [
      "Writing to file smhi_data\\parameter_2\\station_102210-SE3.csv:  37%|███▋      | 7/19 [00:00<00:00, 194.29it/s]\n"
     ]
    },
    {
     "name": "stdout",
     "output_type": "stream",
     "text": [
      "smhi_data\\parameter_2\\station_102540-SE3.csv\n"
     ]
    },
    {
     "name": "stderr",
     "output_type": "stream",
     "text": [
      "Writing to file smhi_data\\parameter_2\\station_102540-SE3.csv:  37%|███▋      | 7/19 [00:00<00:00, 109.94it/s]\n"
     ]
    },
    {
     "name": "stdout",
     "output_type": "stream",
     "text": [
      "Bad file\n",
      "smhi_data\\parameter_2\\station_103050-SE3.csv\n"
     ]
    },
    {
     "name": "stderr",
     "output_type": "stream",
     "text": [
      "Writing to file smhi_data\\parameter_2\\station_103050-SE3.csv:  37%|███▋      | 7/19 [00:00<00:00, 140.23it/s]\n"
     ]
    },
    {
     "name": "stdout",
     "output_type": "stream",
     "text": [
      "smhi_data\\parameter_2\\station_103080-SE3.csv\n"
     ]
    },
    {
     "name": "stderr",
     "output_type": "stream",
     "text": [
      "Writing to file smhi_data\\parameter_2\\station_103080-SE3.csv:  47%|████▋     | 9/19 [00:00<00:00, 151.18it/s]\n"
     ]
    },
    {
     "name": "stdout",
     "output_type": "stream",
     "text": [
      "smhi_data\\parameter_2\\station_103090-SE3.csv\n"
     ]
    },
    {
     "name": "stderr",
     "output_type": "stream",
     "text": [
      "Writing to file smhi_data\\parameter_2\\station_103090-SE3.csv:  42%|████▏     | 8/19 [00:00<00:00, 119.52it/s]\n"
     ]
    },
    {
     "name": "stdout",
     "output_type": "stream",
     "text": [
      "Bad file\n",
      "smhi_data\\parameter_2\\station_103290-SE3.csv\n"
     ]
    },
    {
     "name": "stderr",
     "output_type": "stream",
     "text": [
      "Writing to file smhi_data\\parameter_2\\station_103290-SE3.csv:  37%|███▋      | 7/19 [00:00<00:00, 646.36it/s]\n"
     ]
    },
    {
     "name": "stdout",
     "output_type": "stream",
     "text": [
      "smhi_data\\parameter_2\\station_103410-SE3.csv\n"
     ]
    },
    {
     "name": "stderr",
     "output_type": "stream",
     "text": [
      "Writing to file smhi_data\\parameter_2\\station_103410-SE3.csv:  47%|████▋     | 9/19 [00:00<00:00, 110.55it/s]\n"
     ]
    },
    {
     "name": "stdout",
     "output_type": "stream",
     "text": [
      "Bad file\n",
      "smhi_data\\parameter_2\\station_103570-SE3.csv\n"
     ]
    },
    {
     "name": "stderr",
     "output_type": "stream",
     "text": [
      "Writing to file smhi_data\\parameter_2\\station_103570-SE3.csv:  37%|███▋      | 7/19 [00:00<00:00, 635.82it/s]\n"
     ]
    },
    {
     "name": "stdout",
     "output_type": "stream",
     "text": [
      "smhi_data\\parameter_2\\station_103600-SE3.csv\n"
     ]
    },
    {
     "name": "stderr",
     "output_type": "stream",
     "text": [
      "Writing to file smhi_data\\parameter_2\\station_103600-SE3.csv:  37%|███▋      | 7/19 [00:00<00:00, 163.24it/s]\n"
     ]
    },
    {
     "name": "stdout",
     "output_type": "stream",
     "text": [
      "smhi_data\\parameter_2\\station_104090-SE3.csv\n"
     ]
    },
    {
     "name": "stderr",
     "output_type": "stream",
     "text": [
      "Writing to file smhi_data\\parameter_2\\station_104090-SE3.csv:  53%|█████▎    | 10/19 [00:00<00:00, 167.58it/s]\n"
     ]
    },
    {
     "name": "stdout",
     "output_type": "stream",
     "text": [
      "Bad file\n",
      "smhi_data\\parameter_2\\station_104120-SE3.csv\n"
     ]
    },
    {
     "name": "stderr",
     "output_type": "stream",
     "text": [
      "Writing to file smhi_data\\parameter_2\\station_104120-SE3.csv:  37%|███▋      | 7/19 [00:00<00:00, 150.92it/s]\n"
     ]
    },
    {
     "name": "stdout",
     "output_type": "stream",
     "text": [
      "smhi_data\\parameter_2\\station_104300-SE3.csv\n"
     ]
    },
    {
     "name": "stderr",
     "output_type": "stream",
     "text": [
      "Writing to file smhi_data\\parameter_2\\station_104300-SE3.csv:  42%|████▏     | 8/19 [00:00<00:00, 162.35it/s]\n"
     ]
    },
    {
     "name": "stdout",
     "output_type": "stream",
     "text": [
      "smhi_data\\parameter_2\\station_104530-SE3.csv\n"
     ]
    },
    {
     "name": "stderr",
     "output_type": "stream",
     "text": [
      "Writing to file smhi_data\\parameter_2\\station_104530-SE3.csv:  37%|███▋      | 7/19 [00:00<00:00, 124.95it/s]\n"
     ]
    },
    {
     "name": "stdout",
     "output_type": "stream",
     "text": [
      "smhi_data\\parameter_2\\station_104580-SE3.csv\n"
     ]
    },
    {
     "name": "stderr",
     "output_type": "stream",
     "text": [
      "Writing to file smhi_data\\parameter_2\\station_104580-SE3.csv:  63%|██████▎   | 12/19 [00:00<00:00, 148.42it/s]\n"
     ]
    },
    {
     "name": "stdout",
     "output_type": "stream",
     "text": [
      "Bad file\n",
      "smhi_data\\parameter_2\\station_104600-SE3.csv\n"
     ]
    },
    {
     "name": "stderr",
     "output_type": "stream",
     "text": [
      "Writing to file smhi_data\\parameter_2\\station_104600-SE3.csv:  37%|███▋      | 7/19 [00:00<00:00, 532.56it/s]\n"
     ]
    },
    {
     "name": "stdout",
     "output_type": "stream",
     "text": [
      "smhi_data\\parameter_2\\station_105200-SE3.csv\n"
     ]
    },
    {
     "name": "stderr",
     "output_type": "stream",
     "text": [
      "Writing to file smhi_data\\parameter_2\\station_105200-SE3.csv:  37%|███▋      | 7/19 [00:00<00:00, 145.95it/s]\n"
     ]
    },
    {
     "name": "stdout",
     "output_type": "stream",
     "text": [
      "smhi_data\\parameter_2\\station_105210-SE3.csv\n"
     ]
    },
    {
     "name": "stderr",
     "output_type": "stream",
     "text": [
      "Writing to file smhi_data\\parameter_2\\station_105210-SE3.csv:  37%|███▋      | 7/19 [00:00<00:00, 1158.28it/s]\n"
     ]
    },
    {
     "name": "stdout",
     "output_type": "stream",
     "text": [
      "smhi_data\\parameter_2\\station_105220-SE3.csv\n"
     ]
    },
    {
     "name": "stderr",
     "output_type": "stream",
     "text": [
      "Writing to file smhi_data\\parameter_2\\station_105220-SE3.csv:  37%|███▋      | 7/19 [00:00<00:00, 148.22it/s]\n"
     ]
    },
    {
     "name": "stdout",
     "output_type": "stream",
     "text": [
      "Bad file\n",
      "smhi_data\\parameter_2\\station_105230-SE3.csv\n"
     ]
    },
    {
     "name": "stderr",
     "output_type": "stream",
     "text": [
      "Writing to file smhi_data\\parameter_2\\station_105230-SE3.csv:  37%|███▋      | 7/19 [00:00<00:00, 127.80it/s]\n"
     ]
    },
    {
     "name": "stdout",
     "output_type": "stream",
     "text": [
      "smhi_data\\parameter_2\\station_105260-SE3.csv\n"
     ]
    },
    {
     "name": "stderr",
     "output_type": "stream",
     "text": [
      "Writing to file smhi_data\\parameter_2\\station_105260-SE3.csv:  53%|█████▎    | 10/19 [00:00<00:00, 133.54it/s]\n"
     ]
    },
    {
     "name": "stdout",
     "output_type": "stream",
     "text": [
      "Bad file\n",
      "smhi_data\\parameter_2\\station_105310-SE3.csv\n"
     ]
    },
    {
     "name": "stderr",
     "output_type": "stream",
     "text": [
      "Writing to file smhi_data\\parameter_2\\station_105310-SE3.csv:  37%|███▋      | 7/19 [00:00<00:00, 464.18it/s]\n"
     ]
    },
    {
     "name": "stdout",
     "output_type": "stream",
     "text": [
      "smhi_data\\parameter_2\\station_105360-SE3.csv\n"
     ]
    },
    {
     "name": "stderr",
     "output_type": "stream",
     "text": [
      "Writing to file smhi_data\\parameter_2\\station_105360-SE3.csv:  37%|███▋      | 7/19 [00:00<00:00, 129.51it/s]\n"
     ]
    },
    {
     "name": "stdout",
     "output_type": "stream",
     "text": [
      "smhi_data\\parameter_2\\station_105370-SE3.csv\n"
     ]
    },
    {
     "name": "stderr",
     "output_type": "stream",
     "text": [
      "Writing to file smhi_data\\parameter_2\\station_105370-SE3.csv:  47%|████▋     | 9/19 [00:00<00:00, 77.43it/s]\n"
     ]
    },
    {
     "name": "stdout",
     "output_type": "stream",
     "text": [
      "Bad file\n",
      "smhi_data\\parameter_2\\station_105410-SE3.csv\n"
     ]
    },
    {
     "name": "stderr",
     "output_type": "stream",
     "text": [
      "Writing to file smhi_data\\parameter_2\\station_105410-SE3.csv:  37%|███▋      | 7/19 [00:00<00:00, 674.09it/s]\n"
     ]
    },
    {
     "name": "stdout",
     "output_type": "stream",
     "text": [
      "smhi_data\\parameter_2\\station_105450-SE3.csv\n"
     ]
    },
    {
     "name": "stderr",
     "output_type": "stream",
     "text": [
      "Writing to file smhi_data\\parameter_2\\station_105450-SE3.csv:  47%|████▋     | 9/19 [00:00<00:00, 116.07it/s]\n"
     ]
    },
    {
     "name": "stdout",
     "output_type": "stream",
     "text": [
      "Bad file\n",
      "smhi_data\\parameter_2\\station_105550-SE3.csv\n"
     ]
    },
    {
     "name": "stderr",
     "output_type": "stream",
     "text": [
      "Writing to file smhi_data\\parameter_2\\station_105550-SE3.csv:  42%|████▏     | 8/19 [00:00<00:00, 141.04it/s]\n"
     ]
    },
    {
     "name": "stdout",
     "output_type": "stream",
     "text": [
      "smhi_data\\parameter_2\\station_105630-SE3.csv\n"
     ]
    },
    {
     "name": "stderr",
     "output_type": "stream",
     "text": [
      "Writing to file smhi_data\\parameter_2\\station_105630-SE3.csv:  37%|███▋      | 7/19 [00:00<00:00, 142.48it/s]\n"
     ]
    },
    {
     "name": "stdout",
     "output_type": "stream",
     "text": [
      "smhi_data\\parameter_2\\station_105640-SE3.csv\n"
     ]
    },
    {
     "name": "stderr",
     "output_type": "stream",
     "text": [
      "Writing to file smhi_data\\parameter_2\\station_105640-SE3.csv:  37%|███▋      | 7/19 [00:00<00:00, 390.58it/s]\n"
     ]
    },
    {
     "name": "stdout",
     "output_type": "stream",
     "text": [
      "smhi_data\\parameter_2\\station_106040-SE3.csv\n"
     ]
    },
    {
     "name": "stderr",
     "output_type": "stream",
     "text": [
      "Writing to file smhi_data\\parameter_2\\station_106040-SE3.csv:  37%|███▋      | 7/19 [00:00<00:00, 150.75it/s]\n"
     ]
    },
    {
     "name": "stdout",
     "output_type": "stream",
     "text": [
      "Bad file\n",
      "smhi_data\\parameter_2\\station_106060-SE3.csv\n"
     ]
    },
    {
     "name": "stderr",
     "output_type": "stream",
     "text": [
      "Writing to file smhi_data\\parameter_2\\station_106060-SE3.csv:  37%|███▋      | 7/19 [00:00<00:00, 592.20it/s]\n"
     ]
    },
    {
     "name": "stdout",
     "output_type": "stream",
     "text": [
      "smhi_data\\parameter_2\\station_106070-SE3.csv\n"
     ]
    },
    {
     "name": "stderr",
     "output_type": "stream",
     "text": [
      "Writing to file smhi_data\\parameter_2\\station_106070-SE3.csv:  37%|███▋      | 7/19 [00:00<00:00, 107.06it/s]\n"
     ]
    },
    {
     "name": "stdout",
     "output_type": "stream",
     "text": [
      "Bad file\n",
      "smhi_data\\parameter_2\\station_106080-SE3.csv\n"
     ]
    },
    {
     "name": "stderr",
     "output_type": "stream",
     "text": [
      "Writing to file smhi_data\\parameter_2\\station_106080-SE3.csv:  37%|███▋      | 7/19 [00:00<00:00, 1085.12it/s]\n"
     ]
    },
    {
     "name": "stdout",
     "output_type": "stream",
     "text": [
      "smhi_data\\parameter_2\\station_106100-SE3.csv\n"
     ]
    },
    {
     "name": "stderr",
     "output_type": "stream",
     "text": [
      "Writing to file smhi_data\\parameter_2\\station_106100-SE3.csv:  47%|████▋     | 9/19 [00:00<00:00, 128.57it/s]\n"
     ]
    },
    {
     "name": "stdout",
     "output_type": "stream",
     "text": [
      "smhi_data\\parameter_2\\station_106170-SE3.csv\n"
     ]
    },
    {
     "name": "stderr",
     "output_type": "stream",
     "text": [
      "Writing to file smhi_data\\parameter_2\\station_106170-SE3.csv:  37%|███▋      | 7/19 [00:00<00:00, 153.88it/s]\n"
     ]
    },
    {
     "name": "stdout",
     "output_type": "stream",
     "text": [
      "smhi_data\\parameter_2\\station_106270-SE3.csv\n"
     ]
    },
    {
     "name": "stderr",
     "output_type": "stream",
     "text": [
      "Writing to file smhi_data\\parameter_2\\station_106270-SE3.csv:  37%|███▋      | 7/19 [00:00<00:00, 140.21it/s]\n"
     ]
    },
    {
     "name": "stdout",
     "output_type": "stream",
     "text": [
      "smhi_data\\parameter_2\\station_106340-SE3.csv\n"
     ]
    },
    {
     "name": "stderr",
     "output_type": "stream",
     "text": [
      "Writing to file smhi_data\\parameter_2\\station_106340-SE3.csv:  37%|███▋      | 7/19 [00:00<00:00, 660.94it/s]\n"
     ]
    },
    {
     "name": "stdout",
     "output_type": "stream",
     "text": [
      "smhi_data\\parameter_2\\station_106360-SE3.csv\n"
     ]
    },
    {
     "name": "stderr",
     "output_type": "stream",
     "text": [
      "Writing to file smhi_data\\parameter_2\\station_106360-SE3.csv:  37%|███▋      | 7/19 [00:00<00:00, 288.51it/s]\n"
     ]
    },
    {
     "name": "stdout",
     "output_type": "stream",
     "text": [
      "smhi_data\\parameter_2\\station_106500-SE3.csv\n"
     ]
    },
    {
     "name": "stderr",
     "output_type": "stream",
     "text": [
      "Writing to file smhi_data\\parameter_2\\station_106500-SE3.csv:  47%|████▋     | 9/19 [00:00<00:00, 157.21it/s]\n"
     ]
    },
    {
     "name": "stdout",
     "output_type": "stream",
     "text": [
      "smhi_data\\parameter_2\\station_106580-SE3.csv\n"
     ]
    },
    {
     "name": "stderr",
     "output_type": "stream",
     "text": [
      "Writing to file smhi_data\\parameter_2\\station_106580-SE3.csv:  37%|███▋      | 7/19 [00:00<00:00, 138.15it/s]\n"
     ]
    },
    {
     "name": "stdout",
     "output_type": "stream",
     "text": [
      "smhi_data\\parameter_2\\station_107020-SE3.csv\n"
     ]
    },
    {
     "name": "stderr",
     "output_type": "stream",
     "text": [
      "Writing to file smhi_data\\parameter_2\\station_107020-SE3.csv:  37%|███▋      | 7/19 [00:00<00:00, 975.35it/s]\n"
     ]
    },
    {
     "name": "stdout",
     "output_type": "stream",
     "text": [
      "smhi_data\\parameter_2\\station_107040-SE3.csv\n"
     ]
    },
    {
     "name": "stderr",
     "output_type": "stream",
     "text": [
      "Writing to file smhi_data\\parameter_2\\station_107040-SE3.csv:  37%|███▋      | 7/19 [00:00<00:00, 780.02it/s]\n"
     ]
    },
    {
     "name": "stdout",
     "output_type": "stream",
     "text": [
      "smhi_data\\parameter_2\\station_107050-SE3.csv\n"
     ]
    },
    {
     "name": "stderr",
     "output_type": "stream",
     "text": [
      "Writing to file smhi_data\\parameter_2\\station_107050-SE3.csv:  37%|███▋      | 7/19 [00:00<00:00, 927.53it/s]\n"
     ]
    },
    {
     "name": "stdout",
     "output_type": "stream",
     "text": [
      "smhi_data\\parameter_2\\station_107120-SE3.csv\n"
     ]
    },
    {
     "name": "stderr",
     "output_type": "stream",
     "text": [
      "Writing to file smhi_data\\parameter_2\\station_107120-SE3.csv:  37%|███▋      | 7/19 [00:00<00:00, 140.49it/s]\n"
     ]
    },
    {
     "name": "stdout",
     "output_type": "stream",
     "text": [
      "smhi_data\\parameter_2\\station_107130-SE3.csv\n"
     ]
    },
    {
     "name": "stderr",
     "output_type": "stream",
     "text": [
      "Writing to file smhi_data\\parameter_2\\station_107130-SE3.csv:  37%|███▋      | 7/19 [00:00<00:00, 131.95it/s]\n"
     ]
    },
    {
     "name": "stdout",
     "output_type": "stream",
     "text": [
      "smhi_data\\parameter_2\\station_107180-SE3.csv\n"
     ]
    },
    {
     "name": "stderr",
     "output_type": "stream",
     "text": [
      "Writing to file smhi_data\\parameter_2\\station_107180-SE3.csv:  37%|███▋      | 7/19 [00:00<00:00, 150.28it/s]\n"
     ]
    },
    {
     "name": "stdout",
     "output_type": "stream",
     "text": [
      "smhi_data\\parameter_2\\station_107220-SE3.csv\n"
     ]
    },
    {
     "name": "stderr",
     "output_type": "stream",
     "text": [
      "Writing to file smhi_data\\parameter_2\\station_107220-SE3.csv:  37%|███▋      | 7/19 [00:00<00:00, 569.68it/s]\n"
     ]
    },
    {
     "name": "stdout",
     "output_type": "stream",
     "text": [
      "smhi_data\\parameter_2\\station_107270-SE3.csv\n"
     ]
    },
    {
     "name": "stderr",
     "output_type": "stream",
     "text": [
      "Writing to file smhi_data\\parameter_2\\station_107270-SE3.csv:  37%|███▋      | 7/19 [00:00<00:00, 134.23it/s]\n"
     ]
    },
    {
     "name": "stdout",
     "output_type": "stream",
     "text": [
      "smhi_data\\parameter_2\\station_107330-SE3.csv\n"
     ]
    },
    {
     "name": "stderr",
     "output_type": "stream",
     "text": [
      "Writing to file smhi_data\\parameter_2\\station_107330-SE3.csv:  37%|███▋      | 7/19 [00:00<00:00, 160.64it/s]\n"
     ]
    },
    {
     "name": "stdout",
     "output_type": "stream",
     "text": [
      "smhi_data\\parameter_2\\station_107400-SE3.csv\n"
     ]
    },
    {
     "name": "stderr",
     "output_type": "stream",
     "text": [
      "Writing to file smhi_data\\parameter_2\\station_107400-SE3.csv:  79%|███████▉  | 15/19 [00:00<00:00, 135.29it/s]\n"
     ]
    },
    {
     "name": "stdout",
     "output_type": "stream",
     "text": [
      "smhi_data\\parameter_2\\station_107440-SE3.csv\n"
     ]
    },
    {
     "name": "stderr",
     "output_type": "stream",
     "text": [
      "Writing to file smhi_data\\parameter_2\\station_107440-SE3.csv:  47%|████▋     | 9/19 [00:00<00:00, 143.08it/s]\n"
     ]
    },
    {
     "name": "stdout",
     "output_type": "stream",
     "text": [
      "Bad file\n",
      "smhi_data\\parameter_2\\station_107450-SE3.csv\n"
     ]
    },
    {
     "name": "stderr",
     "output_type": "stream",
     "text": [
      "Writing to file smhi_data\\parameter_2\\station_107450-SE3.csv:  42%|████▏     | 8/19 [00:00<00:00, 157.60it/s]\n"
     ]
    },
    {
     "name": "stdout",
     "output_type": "stream",
     "text": [
      "smhi_data\\parameter_2\\station_107530-SE3.csv\n"
     ]
    },
    {
     "name": "stderr",
     "output_type": "stream",
     "text": [
      "Writing to file smhi_data\\parameter_2\\station_107530-SE3.csv:  42%|████▏     | 8/19 [00:00<00:00, 173.73it/s]\n"
     ]
    },
    {
     "name": "stdout",
     "output_type": "stream",
     "text": [
      "smhi_data\\parameter_2\\station_108100-SE3.csv\n"
     ]
    },
    {
     "name": "stderr",
     "output_type": "stream",
     "text": [
      "Writing to file smhi_data\\parameter_2\\station_108100-SE3.csv:  37%|███▋      | 7/19 [00:00<00:00, 157.52it/s]\n"
     ]
    },
    {
     "name": "stdout",
     "output_type": "stream",
     "text": [
      "smhi_data\\parameter_2\\station_108110-SE3.csv\n"
     ]
    },
    {
     "name": "stderr",
     "output_type": "stream",
     "text": [
      "Writing to file smhi_data\\parameter_2\\station_108110-SE3.csv:  37%|███▋      | 7/19 [00:00<00:00, 128.67it/s]\n"
     ]
    },
    {
     "name": "stdout",
     "output_type": "stream",
     "text": [
      "Bad file\n",
      "smhi_data\\parameter_2\\station_108170-SE3.csv\n"
     ]
    },
    {
     "name": "stderr",
     "output_type": "stream",
     "text": [
      "Writing to file smhi_data\\parameter_2\\station_108170-SE3.csv:  42%|████▏     | 8/19 [00:00<00:00, 163.70it/s]\n"
     ]
    },
    {
     "name": "stdout",
     "output_type": "stream",
     "text": [
      "smhi_data\\parameter_2\\station_108320-SE3.csv\n"
     ]
    },
    {
     "name": "stderr",
     "output_type": "stream",
     "text": [
      "Writing to file smhi_data\\parameter_2\\station_108320-SE3.csv:  42%|████▏     | 8/19 [00:00<00:00, 112.30it/s]\n"
     ]
    },
    {
     "name": "stdout",
     "output_type": "stream",
     "text": [
      "Bad file\n",
      "smhi_data\\parameter_2\\station_108600-SE3.csv\n"
     ]
    },
    {
     "name": "stderr",
     "output_type": "stream",
     "text": [
      "Writing to file smhi_data\\parameter_2\\station_108600-SE3.csv:  37%|███▋      | 7/19 [00:00<00:00, 155.02it/s]\n"
     ]
    },
    {
     "name": "stdout",
     "output_type": "stream",
     "text": [
      "smhi_data\\parameter_2\\station_108640-SE3.csv\n"
     ]
    },
    {
     "name": "stderr",
     "output_type": "stream",
     "text": [
      "Writing to file smhi_data\\parameter_2\\station_108640-SE3.csv:  37%|███▋      | 7/19 [00:00<00:00, 155.87it/s]\n"
     ]
    },
    {
     "name": "stdout",
     "output_type": "stream",
     "text": [
      "smhi_data\\parameter_2\\station_112080-SE3.csv\n"
     ]
    },
    {
     "name": "stderr",
     "output_type": "stream",
     "text": [
      "Writing to file smhi_data\\parameter_2\\station_112080-SE3.csv:  47%|████▋     | 9/19 [00:00<00:00, 162.00it/s]\n"
     ]
    },
    {
     "name": "stdout",
     "output_type": "stream",
     "text": [
      "smhi_data\\parameter_2\\station_112170-SE3.csv\n"
     ]
    },
    {
     "name": "stderr",
     "output_type": "stream",
     "text": [
      "Writing to file smhi_data\\parameter_2\\station_112170-SE3.csv:  37%|███▋      | 7/19 [00:00<00:00, 125.86it/s]\n"
     ]
    },
    {
     "name": "stdout",
     "output_type": "stream",
     "text": [
      "smhi_data\\parameter_2\\station_113100-SE3.csv\n"
     ]
    },
    {
     "name": "stderr",
     "output_type": "stream",
     "text": [
      "Writing to file smhi_data\\parameter_2\\station_113100-SE3.csv:  37%|███▋      | 7/19 [00:00<00:00, 114.52it/s]\n"
     ]
    },
    {
     "name": "stdout",
     "output_type": "stream",
     "text": [
      "smhi_data\\parameter_2\\station_113230-SE3.csv\n"
     ]
    },
    {
     "name": "stderr",
     "output_type": "stream",
     "text": [
      "Writing to file smhi_data\\parameter_2\\station_113230-SE3.csv:  37%|███▋      | 7/19 [00:00<00:00, 315.06it/s]\n"
     ]
    },
    {
     "name": "stdout",
     "output_type": "stream",
     "text": [
      "smhi_data\\parameter_2\\station_113610-SE3.csv\n"
     ]
    },
    {
     "name": "stderr",
     "output_type": "stream",
     "text": [
      "Writing to file smhi_data\\parameter_2\\station_113610-SE3.csv:  42%|████▏     | 8/19 [00:00<00:00, 444.07it/s]\n"
     ]
    },
    {
     "name": "stdout",
     "output_type": "stream",
     "text": [
      "smhi_data\\parameter_2\\station_114160-SE3.csv\n"
     ]
    },
    {
     "name": "stderr",
     "output_type": "stream",
     "text": [
      "Writing to file smhi_data\\parameter_2\\station_114160-SE3.csv:  42%|████▏     | 8/19 [00:00<00:00, 118.18it/s]\n"
     ]
    },
    {
     "name": "stdout",
     "output_type": "stream",
     "text": [
      "smhi_data\\parameter_2\\station_115040-SE3.csv\n"
     ]
    },
    {
     "name": "stderr",
     "output_type": "stream",
     "text": [
      "Writing to file smhi_data\\parameter_2\\station_115040-SE3.csv:  37%|███▋      | 7/19 [00:00<00:00, 325.51it/s]\n"
     ]
    },
    {
     "name": "stdout",
     "output_type": "stream",
     "text": [
      "smhi_data\\parameter_2\\station_115050-SE3.csv\n"
     ]
    },
    {
     "name": "stderr",
     "output_type": "stream",
     "text": [
      "Writing to file smhi_data\\parameter_2\\station_115050-SE3.csv:  37%|███▋      | 7/19 [00:00<00:00, 939.64it/s]\n"
     ]
    },
    {
     "name": "stdout",
     "output_type": "stream",
     "text": [
      "smhi_data\\parameter_2\\station_115630-SE3.csv\n"
     ]
    },
    {
     "name": "stderr",
     "output_type": "stream",
     "text": [
      "Writing to file smhi_data\\parameter_2\\station_115630-SE3.csv:  37%|███▋      | 7/19 [00:00<00:00, 492.69it/s]\n"
     ]
    },
    {
     "name": "stdout",
     "output_type": "stream",
     "text": [
      "smhi_data\\parameter_2\\station_117610-SE3.csv\n"
     ]
    },
    {
     "name": "stderr",
     "output_type": "stream",
     "text": [
      "Writing to file smhi_data\\parameter_2\\station_117610-SE3.csv:  37%|███▋      | 7/19 [00:00<00:00, 437.09it/s]\n"
     ]
    },
    {
     "name": "stdout",
     "output_type": "stream",
     "text": [
      "smhi_data\\parameter_2\\station_71190-SE3.csv\n"
     ]
    },
    {
     "name": "stderr",
     "output_type": "stream",
     "text": [
      "Writing to file smhi_data\\parameter_2\\station_71190-SE3.csv:  47%|████▋     | 9/19 [00:00<00:00, 105.98it/s]\n"
     ]
    },
    {
     "name": "stdout",
     "output_type": "stream",
     "text": [
      "Bad file\n",
      "smhi_data\\parameter_2\\station_71380-SE3.csv\n"
     ]
    },
    {
     "name": "stderr",
     "output_type": "stream",
     "text": [
      "Writing to file smhi_data\\parameter_2\\station_71380-SE3.csv:  42%|████▏     | 8/19 [00:00<00:00, 53.14it/s]\n"
     ]
    },
    {
     "name": "stdout",
     "output_type": "stream",
     "text": [
      "Bad file\n",
      "smhi_data\\parameter_2\\station_71420-SE3.csv\n"
     ]
    },
    {
     "name": "stderr",
     "output_type": "stream",
     "text": [
      "Writing to file smhi_data\\parameter_2\\station_71420-SE3.csv:  63%|██████▎   | 12/19 [00:00<00:00, 176.79it/s]\n"
     ]
    },
    {
     "name": "stdout",
     "output_type": "stream",
     "text": [
      "Bad file\n",
      "smhi_data\\parameter_2\\station_71430-SE3.csv\n"
     ]
    },
    {
     "name": "stderr",
     "output_type": "stream",
     "text": [
      "Writing to file smhi_data\\parameter_2\\station_71430-SE3.csv:  37%|███▋      | 7/19 [00:00<00:00, 155.90it/s]\n"
     ]
    },
    {
     "name": "stdout",
     "output_type": "stream",
     "text": [
      "smhi_data\\parameter_2\\station_71470-SE3.csv\n"
     ]
    },
    {
     "name": "stderr",
     "output_type": "stream",
     "text": [
      "Writing to file smhi_data\\parameter_2\\station_71470-SE3.csv:  37%|███▋      | 7/19 [00:00<00:00, 132.65it/s]\n"
     ]
    },
    {
     "name": "stdout",
     "output_type": "stream",
     "text": [
      "smhi_data\\parameter_2\\station_71500-SE3.csv\n"
     ]
    },
    {
     "name": "stderr",
     "output_type": "stream",
     "text": [
      "Writing to file smhi_data\\parameter_2\\station_71500-SE3.csv:  37%|███▋      | 7/19 [00:00<00:00, 461.10it/s]\n"
     ]
    },
    {
     "name": "stdout",
     "output_type": "stream",
     "text": [
      "smhi_data\\parameter_2\\station_71510-SE3.csv\n"
     ]
    },
    {
     "name": "stderr",
     "output_type": "stream",
     "text": [
      "Writing to file smhi_data\\parameter_2\\station_71510-SE3.csv:  47%|████▋     | 9/19 [00:00<00:00, 169.12it/s]\n"
     ]
    },
    {
     "name": "stdout",
     "output_type": "stream",
     "text": [
      "Bad file\n",
      "smhi_data\\parameter_2\\station_72290-SE3.csv\n"
     ]
    },
    {
     "name": "stderr",
     "output_type": "stream",
     "text": [
      "Writing to file smhi_data\\parameter_2\\station_72290-SE3.csv:  42%|████▏     | 8/19 [00:00<00:00, 160.91it/s]\n"
     ]
    },
    {
     "name": "stdout",
     "output_type": "stream",
     "text": [
      "smhi_data\\parameter_2\\station_72300-SE3.csv\n"
     ]
    },
    {
     "name": "stderr",
     "output_type": "stream",
     "text": [
      "Writing to file smhi_data\\parameter_2\\station_72300-SE3.csv:  37%|███▋      | 7/19 [00:00<00:00, 152.20it/s]\n"
     ]
    },
    {
     "name": "stdout",
     "output_type": "stream",
     "text": [
      "smhi_data\\parameter_2\\station_72400-SE3.csv\n"
     ]
    },
    {
     "name": "stderr",
     "output_type": "stream",
     "text": [
      "Writing to file smhi_data\\parameter_2\\station_72400-SE3.csv:  37%|███▋      | 7/19 [00:00<00:00, 105.11it/s]\n"
     ]
    },
    {
     "name": "stdout",
     "output_type": "stream",
     "text": [
      "smhi_data\\parameter_2\\station_72420-SE3.csv\n"
     ]
    },
    {
     "name": "stderr",
     "output_type": "stream",
     "text": [
      "Writing to file smhi_data\\parameter_2\\station_72420-SE3.csv:  47%|████▋     | 9/19 [00:00<00:00, 117.63it/s]\n"
     ]
    },
    {
     "name": "stdout",
     "output_type": "stream",
     "text": [
      "Bad file\n",
      "smhi_data\\parameter_2\\station_72450-SE3.csv\n"
     ]
    },
    {
     "name": "stderr",
     "output_type": "stream",
     "text": [
      "Writing to file smhi_data\\parameter_2\\station_72450-SE3.csv:  37%|███▋      | 7/19 [00:00<00:00, 83.94it/s]\n"
     ]
    },
    {
     "name": "stdout",
     "output_type": "stream",
     "text": [
      "Bad file\n",
      "smhi_data\\parameter_2\\station_72500-SE3.csv\n"
     ]
    },
    {
     "name": "stderr",
     "output_type": "stream",
     "text": [
      "Writing to file smhi_data\\parameter_2\\station_72500-SE3.csv:  37%|███▋      | 7/19 [00:00<00:00, 1358.07it/s]\n"
     ]
    },
    {
     "name": "stdout",
     "output_type": "stream",
     "text": [
      "smhi_data\\parameter_2\\station_72520-SE3.csv\n"
     ]
    },
    {
     "name": "stderr",
     "output_type": "stream",
     "text": [
      "Writing to file smhi_data\\parameter_2\\station_72520-SE3.csv:  37%|███▋      | 7/19 [00:00<00:00, 854.91it/s]\n"
     ]
    },
    {
     "name": "stdout",
     "output_type": "stream",
     "text": [
      "smhi_data\\parameter_2\\station_72630-SE3.csv\n"
     ]
    },
    {
     "name": "stderr",
     "output_type": "stream",
     "text": [
      "Writing to file smhi_data\\parameter_2\\station_72630-SE3.csv:  37%|███▋      | 7/19 [00:00<00:00, 86.27it/s]\n"
     ]
    },
    {
     "name": "stdout",
     "output_type": "stream",
     "text": [
      "smhi_data\\parameter_2\\station_73170-SE3.csv\n"
     ]
    },
    {
     "name": "stderr",
     "output_type": "stream",
     "text": [
      "Writing to file smhi_data\\parameter_2\\station_73170-SE3.csv:  37%|███▋      | 7/19 [00:00<00:00, 282.15it/s]\n"
     ]
    },
    {
     "name": "stdout",
     "output_type": "stream",
     "text": [
      "smhi_data\\parameter_2\\station_73190-SE3.csv\n"
     ]
    },
    {
     "name": "stderr",
     "output_type": "stream",
     "text": [
      "Writing to file smhi_data\\parameter_2\\station_73190-SE3.csv:  37%|███▋      | 7/19 [00:00<00:00, 129.24it/s]\n"
     ]
    },
    {
     "name": "stdout",
     "output_type": "stream",
     "text": [
      "smhi_data\\parameter_2\\station_73230-SE3.csv\n"
     ]
    },
    {
     "name": "stderr",
     "output_type": "stream",
     "text": [
      "Writing to file smhi_data\\parameter_2\\station_73230-SE3.csv:  42%|████▏     | 8/19 [00:00<00:00, 160.04it/s]\n"
     ]
    },
    {
     "name": "stdout",
     "output_type": "stream",
     "text": [
      "smhi_data\\parameter_2\\station_73250-SE3.csv\n"
     ]
    },
    {
     "name": "stderr",
     "output_type": "stream",
     "text": [
      "Writing to file smhi_data\\parameter_2\\station_73250-SE3.csv:  37%|███▋      | 7/19 [00:00<00:00, 161.31it/s]\n"
     ]
    },
    {
     "name": "stdout",
     "output_type": "stream",
     "text": [
      "smhi_data\\parameter_2\\station_73390-SE3.csv\n"
     ]
    },
    {
     "name": "stderr",
     "output_type": "stream",
     "text": [
      "Writing to file smhi_data\\parameter_2\\station_73390-SE3.csv:  37%|███▋      | 7/19 [00:00<00:00, 376.09it/s]\n"
     ]
    },
    {
     "name": "stdout",
     "output_type": "stream",
     "text": [
      "smhi_data\\parameter_2\\station_73430-SE3.csv\n"
     ]
    },
    {
     "name": "stderr",
     "output_type": "stream",
     "text": [
      "Writing to file smhi_data\\parameter_2\\station_73430-SE3.csv:  37%|███▋      | 7/19 [00:00<00:00, 149.63it/s]\n"
     ]
    },
    {
     "name": "stdout",
     "output_type": "stream",
     "text": [
      "smhi_data\\parameter_2\\station_73470-SE3.csv\n"
     ]
    },
    {
     "name": "stderr",
     "output_type": "stream",
     "text": [
      "Writing to file smhi_data\\parameter_2\\station_73470-SE3.csv:  53%|█████▎    | 10/19 [00:00<00:00, 111.85it/s]\n"
     ]
    },
    {
     "name": "stdout",
     "output_type": "stream",
     "text": [
      "Bad file\n",
      "smhi_data\\parameter_2\\station_73560-SE3.csv\n"
     ]
    },
    {
     "name": "stderr",
     "output_type": "stream",
     "text": [
      "Writing to file smhi_data\\parameter_2\\station_73560-SE3.csv:  42%|████▏     | 8/19 [00:00<00:00, 844.16it/s]\n"
     ]
    },
    {
     "name": "stdout",
     "output_type": "stream",
     "text": [
      "smhi_data\\parameter_2\\station_73570-SE3.csv\n"
     ]
    },
    {
     "name": "stderr",
     "output_type": "stream",
     "text": [
      "Writing to file smhi_data\\parameter_2\\station_73570-SE3.csv:  37%|███▋      | 7/19 [00:00<00:00, 142.71it/s]\n"
     ]
    },
    {
     "name": "stdout",
     "output_type": "stream",
     "text": [
      "smhi_data\\parameter_2\\station_73660-SE3.csv\n"
     ]
    },
    {
     "name": "stderr",
     "output_type": "stream",
     "text": [
      "Writing to file smhi_data\\parameter_2\\station_73660-SE3.csv:  37%|███▋      | 7/19 [00:00<00:00, 370.40it/s]\n"
     ]
    },
    {
     "name": "stdout",
     "output_type": "stream",
     "text": [
      "smhi_data\\parameter_2\\station_73680-SE3.csv\n"
     ]
    },
    {
     "name": "stderr",
     "output_type": "stream",
     "text": [
      "Writing to file smhi_data\\parameter_2\\station_73680-SE3.csv:  37%|███▋      | 7/19 [00:00<00:00, 343.23it/s]\n"
     ]
    },
    {
     "name": "stdout",
     "output_type": "stream",
     "text": [
      "smhi_data\\parameter_2\\station_73690-SE3.csv\n"
     ]
    },
    {
     "name": "stderr",
     "output_type": "stream",
     "text": [
      "Writing to file smhi_data\\parameter_2\\station_73690-SE3.csv:  37%|███▋      | 7/19 [00:00<00:00, 311.72it/s]\n"
     ]
    },
    {
     "name": "stdout",
     "output_type": "stream",
     "text": [
      "smhi_data\\parameter_2\\station_74180-SE3.csv\n"
     ]
    },
    {
     "name": "stderr",
     "output_type": "stream",
     "text": [
      "Writing to file smhi_data\\parameter_2\\station_74180-SE3.csv:  42%|████▏     | 8/19 [00:00<00:00, 110.22it/s]\n"
     ]
    },
    {
     "name": "stdout",
     "output_type": "stream",
     "text": [
      "Bad file\n",
      "smhi_data\\parameter_2\\station_74240-SE3.csv\n"
     ]
    },
    {
     "name": "stderr",
     "output_type": "stream",
     "text": [
      "Writing to file smhi_data\\parameter_2\\station_74240-SE3.csv:  37%|███▋      | 7/19 [00:00<00:00, 144.95it/s]\n"
     ]
    },
    {
     "name": "stdout",
     "output_type": "stream",
     "text": [
      "smhi_data\\parameter_2\\station_74340-SE3.csv\n"
     ]
    },
    {
     "name": "stderr",
     "output_type": "stream",
     "text": [
      "Writing to file smhi_data\\parameter_2\\station_74340-SE3.csv:  37%|███▋      | 7/19 [00:00<00:00, 163.34it/s]\n"
     ]
    },
    {
     "name": "stdout",
     "output_type": "stream",
     "text": [
      "smhi_data\\parameter_2\\station_74350-SE3.csv\n"
     ]
    },
    {
     "name": "stderr",
     "output_type": "stream",
     "text": [
      "Writing to file smhi_data\\parameter_2\\station_74350-SE3.csv:  37%|███▋      | 7/19 [00:00<00:00, 137.07it/s]\n"
     ]
    },
    {
     "name": "stdout",
     "output_type": "stream",
     "text": [
      "smhi_data\\parameter_2\\station_74390-SE3.csv\n"
     ]
    },
    {
     "name": "stderr",
     "output_type": "stream",
     "text": [
      "Writing to file smhi_data\\parameter_2\\station_74390-SE3.csv:  42%|████▏     | 8/19 [00:00<00:00, 146.52it/s]\n"
     ]
    },
    {
     "name": "stdout",
     "output_type": "stream",
     "text": [
      "smhi_data\\parameter_2\\station_74420-SE3.csv\n"
     ]
    },
    {
     "name": "stderr",
     "output_type": "stream",
     "text": [
      "Writing to file smhi_data\\parameter_2\\station_74420-SE3.csv:  47%|████▋     | 9/19 [00:00<00:00, 120.63it/s]\n"
     ]
    },
    {
     "name": "stdout",
     "output_type": "stream",
     "text": [
      "Bad file\n",
      "smhi_data\\parameter_2\\station_74440-SE3.csv\n"
     ]
    },
    {
     "name": "stderr",
     "output_type": "stream",
     "text": [
      "Writing to file smhi_data\\parameter_2\\station_74440-SE3.csv:  42%|████▏     | 8/19 [00:00<00:00, 112.84it/s]\n"
     ]
    },
    {
     "name": "stdout",
     "output_type": "stream",
     "text": [
      "Bad file\n",
      "smhi_data\\parameter_2\\station_74450-SE3.csv\n"
     ]
    },
    {
     "name": "stderr",
     "output_type": "stream",
     "text": [
      "Writing to file smhi_data\\parameter_2\\station_74450-SE3.csv:  37%|███▋      | 7/19 [00:00<00:00, 162.16it/s]\n"
     ]
    },
    {
     "name": "stdout",
     "output_type": "stream",
     "text": [
      "smhi_data\\parameter_2\\station_74460-SE3.csv\n"
     ]
    },
    {
     "name": "stderr",
     "output_type": "stream",
     "text": [
      "Writing to file smhi_data\\parameter_2\\station_74460-SE3.csv:  37%|███▋      | 7/19 [00:00<00:00, 113.16it/s]\n"
     ]
    },
    {
     "name": "stdout",
     "output_type": "stream",
     "text": [
      "Bad file\n",
      "smhi_data\\parameter_2\\station_74470-SE3.csv\n"
     ]
    },
    {
     "name": "stderr",
     "output_type": "stream",
     "text": [
      "Writing to file smhi_data\\parameter_2\\station_74470-SE3.csv:  42%|████▏     | 8/19 [00:00<00:00, 73.57it/s]\n"
     ]
    },
    {
     "name": "stdout",
     "output_type": "stream",
     "text": [
      "smhi_data\\parameter_2\\station_74480-SE3.csv\n"
     ]
    },
    {
     "name": "stderr",
     "output_type": "stream",
     "text": [
      "Writing to file smhi_data\\parameter_2\\station_74480-SE3.csv:  37%|███▋      | 7/19 [00:00<00:00, 138.86it/s]\n"
     ]
    },
    {
     "name": "stdout",
     "output_type": "stream",
     "text": [
      "smhi_data\\parameter_2\\station_74490-SE3.csv\n"
     ]
    },
    {
     "name": "stderr",
     "output_type": "stream",
     "text": [
      "Writing to file smhi_data\\parameter_2\\station_74490-SE3.csv:  37%|███▋      | 7/19 [00:00<00:00, 53.31it/s]\n"
     ]
    },
    {
     "name": "stdout",
     "output_type": "stream",
     "text": [
      "Bad file\n",
      "smhi_data\\parameter_2\\station_74510-SE3.csv\n"
     ]
    },
    {
     "name": "stderr",
     "output_type": "stream",
     "text": [
      "Writing to file smhi_data\\parameter_2\\station_74510-SE3.csv:  37%|███▋      | 7/19 [00:00<00:00, 678.61it/s]\n"
     ]
    },
    {
     "name": "stdout",
     "output_type": "stream",
     "text": [
      "smhi_data\\parameter_2\\station_74530-SE3.csv\n"
     ]
    },
    {
     "name": "stderr",
     "output_type": "stream",
     "text": [
      "Writing to file smhi_data\\parameter_2\\station_74530-SE3.csv:  37%|███▋      | 7/19 [00:00<00:00, 121.08it/s]\n"
     ]
    },
    {
     "name": "stdout",
     "output_type": "stream",
     "text": [
      "smhi_data\\parameter_2\\station_74640-SE3.csv\n"
     ]
    },
    {
     "name": "stderr",
     "output_type": "stream",
     "text": [
      "Writing to file smhi_data\\parameter_2\\station_74640-SE3.csv:  37%|███▋      | 7/19 [00:00<00:00, 160.01it/s]\n"
     ]
    },
    {
     "name": "stdout",
     "output_type": "stream",
     "text": [
      "smhi_data\\parameter_2\\station_74650-SE3.csv\n"
     ]
    },
    {
     "name": "stderr",
     "output_type": "stream",
     "text": [
      "Writing to file smhi_data\\parameter_2\\station_74650-SE3.csv:  37%|███▋      | 7/19 [00:00<00:00, 160.13it/s]\n"
     ]
    },
    {
     "name": "stdout",
     "output_type": "stream",
     "text": [
      "smhi_data\\parameter_2\\station_75140-SE3.csv\n"
     ]
    },
    {
     "name": "stderr",
     "output_type": "stream",
     "text": [
      "Writing to file smhi_data\\parameter_2\\station_75140-SE3.csv:  37%|███▋      | 7/19 [00:00<00:00, 142.79it/s]\n"
     ]
    },
    {
     "name": "stdout",
     "output_type": "stream",
     "text": [
      "smhi_data\\parameter_2\\station_75160-SE3.csv\n"
     ]
    },
    {
     "name": "stderr",
     "output_type": "stream",
     "text": [
      "Writing to file smhi_data\\parameter_2\\station_75160-SE3.csv:  37%|███▋      | 7/19 [00:00<00:00, 140.80it/s]\n"
     ]
    },
    {
     "name": "stdout",
     "output_type": "stream",
     "text": [
      "smhi_data\\parameter_2\\station_75240-SE3.csv\n"
     ]
    },
    {
     "name": "stderr",
     "output_type": "stream",
     "text": [
      "Writing to file smhi_data\\parameter_2\\station_75240-SE3.csv:  53%|█████▎    | 10/19 [00:00<00:00, 141.07it/s]\n"
     ]
    },
    {
     "name": "stdout",
     "output_type": "stream",
     "text": [
      "smhi_data\\parameter_2\\station_75380-SE3.csv\n"
     ]
    },
    {
     "name": "stderr",
     "output_type": "stream",
     "text": [
      "Writing to file smhi_data\\parameter_2\\station_75380-SE3.csv:  37%|███▋      | 7/19 [00:00<00:00, 126.09it/s]\n"
     ]
    },
    {
     "name": "stdout",
     "output_type": "stream",
     "text": [
      "smhi_data\\parameter_2\\station_75400-SE3.csv\n"
     ]
    },
    {
     "name": "stderr",
     "output_type": "stream",
     "text": [
      "Writing to file smhi_data\\parameter_2\\station_75400-SE3.csv:  37%|███▋      | 7/19 [00:00<00:00, 131.45it/s]\n"
     ]
    },
    {
     "name": "stdout",
     "output_type": "stream",
     "text": [
      "smhi_data\\parameter_2\\station_75410-SE3.csv\n"
     ]
    },
    {
     "name": "stderr",
     "output_type": "stream",
     "text": [
      "Writing to file smhi_data\\parameter_2\\station_75410-SE3.csv:  37%|███▋      | 7/19 [00:00<00:00, 146.36it/s]\n"
     ]
    },
    {
     "name": "stdout",
     "output_type": "stream",
     "text": [
      "smhi_data\\parameter_2\\station_76160-SE3.csv\n"
     ]
    },
    {
     "name": "stderr",
     "output_type": "stream",
     "text": [
      "Writing to file smhi_data\\parameter_2\\station_76160-SE3.csv:  42%|████▏     | 8/19 [00:00<00:00, 119.12it/s]\n"
     ]
    },
    {
     "name": "stdout",
     "output_type": "stream",
     "text": [
      "Bad file\n",
      "smhi_data\\parameter_2\\station_76380-SE3.csv\n"
     ]
    },
    {
     "name": "stderr",
     "output_type": "stream",
     "text": [
      "Writing to file smhi_data\\parameter_2\\station_76380-SE3.csv:  42%|████▏     | 8/19 [00:00<00:00, 118.68it/s]\n"
     ]
    },
    {
     "name": "stdout",
     "output_type": "stream",
     "text": [
      "smhi_data\\parameter_2\\station_76430-SE3.csv\n"
     ]
    },
    {
     "name": "stderr",
     "output_type": "stream",
     "text": [
      "Writing to file smhi_data\\parameter_2\\station_76430-SE3.csv:  37%|███▋      | 7/19 [00:00<00:00, 115.08it/s]\n"
     ]
    },
    {
     "name": "stdout",
     "output_type": "stream",
     "text": [
      "smhi_data\\parameter_2\\station_76470-SE3.csv\n"
     ]
    },
    {
     "name": "stderr",
     "output_type": "stream",
     "text": [
      "Writing to file smhi_data\\parameter_2\\station_76470-SE3.csv:  42%|████▏     | 8/19 [00:00<00:00, 88.31it/s]\n"
     ]
    },
    {
     "name": "stdout",
     "output_type": "stream",
     "text": [
      "smhi_data\\parameter_2\\station_76530-SE3.csv\n"
     ]
    },
    {
     "name": "stderr",
     "output_type": "stream",
     "text": [
      "Writing to file smhi_data\\parameter_2\\station_76530-SE3.csv:  42%|████▏     | 8/19 [00:00<00:00, 127.35it/s]\n"
     ]
    },
    {
     "name": "stdout",
     "output_type": "stream",
     "text": [
      "smhi_data\\parameter_2\\station_77170-SE3.csv\n"
     ]
    },
    {
     "name": "stderr",
     "output_type": "stream",
     "text": [
      "Writing to file smhi_data\\parameter_2\\station_77170-SE3.csv:  37%|███▋      | 7/19 [00:00<00:00, 144.86it/s]\n"
     ]
    },
    {
     "name": "stdout",
     "output_type": "stream",
     "text": [
      "smhi_data\\parameter_2\\station_77180-SE3.csv\n"
     ]
    },
    {
     "name": "stderr",
     "output_type": "stream",
     "text": [
      "Writing to file smhi_data\\parameter_2\\station_77180-SE3.csv:  37%|███▋      | 7/19 [00:00<00:00, 138.02it/s]\n"
     ]
    },
    {
     "name": "stdout",
     "output_type": "stream",
     "text": [
      "smhi_data\\parameter_2\\station_77220-SE3.csv\n"
     ]
    },
    {
     "name": "stderr",
     "output_type": "stream",
     "text": [
      "Writing to file smhi_data\\parameter_2\\station_77220-SE3.csv:  42%|████▏     | 8/19 [00:00<00:00, 56.76it/s]\n"
     ]
    },
    {
     "name": "stdout",
     "output_type": "stream",
     "text": [
      "Bad file\n",
      "smhi_data\\parameter_2\\station_78140-SE3.csv\n"
     ]
    },
    {
     "name": "stderr",
     "output_type": "stream",
     "text": [
      "Writing to file smhi_data\\parameter_2\\station_78140-SE3.csv:  42%|████▏     | 8/19 [00:00<00:00, 98.40it/s]\n"
     ]
    },
    {
     "name": "stdout",
     "output_type": "stream",
     "text": [
      "Bad file\n",
      "smhi_data\\parameter_2\\station_78240-SE3.csv\n"
     ]
    },
    {
     "name": "stderr",
     "output_type": "stream",
     "text": [
      "Writing to file smhi_data\\parameter_2\\station_78240-SE3.csv:  37%|███▋      | 7/19 [00:00<00:00, 144.49it/s]\n"
     ]
    },
    {
     "name": "stdout",
     "output_type": "stream",
     "text": [
      "smhi_data\\parameter_2\\station_78250-SE3.csv\n"
     ]
    },
    {
     "name": "stderr",
     "output_type": "stream",
     "text": [
      "Writing to file smhi_data\\parameter_2\\station_78250-SE3.csv:  37%|███▋      | 7/19 [00:00<00:00, 139.48it/s]\n"
     ]
    },
    {
     "name": "stdout",
     "output_type": "stream",
     "text": [
      "smhi_data\\parameter_2\\station_78280-SE3.csv\n"
     ]
    },
    {
     "name": "stderr",
     "output_type": "stream",
     "text": [
      "Writing to file smhi_data\\parameter_2\\station_78280-SE3.csv:  47%|████▋     | 9/19 [00:00<00:00, 146.55it/s]\n"
     ]
    },
    {
     "name": "stdout",
     "output_type": "stream",
     "text": [
      "Bad file\n",
      "smhi_data\\parameter_2\\station_78310-SE3.csv\n"
     ]
    },
    {
     "name": "stderr",
     "output_type": "stream",
     "text": [
      "Writing to file smhi_data\\parameter_2\\station_78310-SE3.csv:  37%|███▋      | 7/19 [00:00<00:00, 315.02it/s]\n"
     ]
    },
    {
     "name": "stdout",
     "output_type": "stream",
     "text": [
      "smhi_data\\parameter_2\\station_78320-SE3.csv\n"
     ]
    },
    {
     "name": "stderr",
     "output_type": "stream",
     "text": [
      "Writing to file smhi_data\\parameter_2\\station_78320-SE3.csv:  37%|███▋      | 7/19 [00:00<00:00, 331.17it/s]\n"
     ]
    },
    {
     "name": "stdout",
     "output_type": "stream",
     "text": [
      "Bad file\n",
      "smhi_data\\parameter_2\\station_78360-SE3.csv\n"
     ]
    },
    {
     "name": "stderr",
     "output_type": "stream",
     "text": [
      "Writing to file smhi_data\\parameter_2\\station_78360-SE3.csv:  37%|███▋      | 7/19 [00:00<00:00, 116.08it/s]\n"
     ]
    },
    {
     "name": "stdout",
     "output_type": "stream",
     "text": [
      "smhi_data\\parameter_2\\station_78390-SE3.csv\n"
     ]
    },
    {
     "name": "stderr",
     "output_type": "stream",
     "text": [
      "Writing to file smhi_data\\parameter_2\\station_78390-SE3.csv:  37%|███▋      | 7/19 [00:00<00:00, 78.04it/s]\n"
     ]
    },
    {
     "name": "stdout",
     "output_type": "stream",
     "text": [
      "smhi_data\\parameter_2\\station_78400-SE3.csv\n"
     ]
    },
    {
     "name": "stderr",
     "output_type": "stream",
     "text": [
      "Writing to file smhi_data\\parameter_2\\station_78400-SE3.csv:  37%|███▋      | 7/19 [00:00<00:00, 104.44it/s]\n"
     ]
    },
    {
     "name": "stdout",
     "output_type": "stream",
     "text": [
      "Bad file\n",
      "smhi_data\\parameter_2\\station_78420-SE3.csv\n"
     ]
    },
    {
     "name": "stderr",
     "output_type": "stream",
     "text": [
      "Writing to file smhi_data\\parameter_2\\station_78420-SE3.csv:  37%|███▋      | 7/19 [00:00<00:00, 187.72it/s]\n"
     ]
    },
    {
     "name": "stdout",
     "output_type": "stream",
     "text": [
      "smhi_data\\parameter_2\\station_79580-SE3.csv\n"
     ]
    },
    {
     "name": "stderr",
     "output_type": "stream",
     "text": [
      "Writing to file smhi_data\\parameter_2\\station_79580-SE3.csv:  37%|███▋      | 7/19 [00:00<00:00, 113.15it/s]\n"
     ]
    },
    {
     "name": "stdout",
     "output_type": "stream",
     "text": [
      "smhi_data\\parameter_2\\station_81010-SE3.csv\n"
     ]
    },
    {
     "name": "stderr",
     "output_type": "stream",
     "text": [
      "Writing to file smhi_data\\parameter_2\\station_81010-SE3.csv:  37%|███▋      | 7/19 [00:00<00:00, 133.20it/s]\n"
     ]
    },
    {
     "name": "stdout",
     "output_type": "stream",
     "text": [
      "smhi_data\\parameter_2\\station_81040-SE3.csv\n"
     ]
    },
    {
     "name": "stderr",
     "output_type": "stream",
     "text": [
      "Writing to file smhi_data\\parameter_2\\station_81040-SE3.csv:  37%|███▋      | 7/19 [00:00<00:00, 106.82it/s]\n"
     ]
    },
    {
     "name": "stdout",
     "output_type": "stream",
     "text": [
      "Bad file\n",
      "smhi_data\\parameter_2\\station_81060-SE3.csv\n"
     ]
    },
    {
     "name": "stderr",
     "output_type": "stream",
     "text": [
      "Writing to file smhi_data\\parameter_2\\station_81060-SE3.csv:  37%|███▋      | 7/19 [00:00<00:00, 51.37it/s]\n"
     ]
    },
    {
     "name": "stdout",
     "output_type": "stream",
     "text": [
      "smhi_data\\parameter_2\\station_81130-SE3.csv\n"
     ]
    },
    {
     "name": "stderr",
     "output_type": "stream",
     "text": [
      "Writing to file smhi_data\\parameter_2\\station_81130-SE3.csv:  37%|███▋      | 7/19 [00:00<00:00, 146.84it/s]\n"
     ]
    },
    {
     "name": "stdout",
     "output_type": "stream",
     "text": [
      "smhi_data\\parameter_2\\station_81150-SE3.csv\n"
     ]
    },
    {
     "name": "stderr",
     "output_type": "stream",
     "text": [
      "Writing to file smhi_data\\parameter_2\\station_81150-SE3.csv:  37%|███▋      | 7/19 [00:00<00:00, 118.23it/s]\n"
     ]
    },
    {
     "name": "stdout",
     "output_type": "stream",
     "text": [
      "smhi_data\\parameter_2\\station_81210-SE3.csv\n"
     ]
    },
    {
     "name": "stderr",
     "output_type": "stream",
     "text": [
      "Writing to file smhi_data\\parameter_2\\station_81210-SE3.csv:  37%|███▋      | 7/19 [00:00<00:00, 130.11it/s]\n"
     ]
    },
    {
     "name": "stdout",
     "output_type": "stream",
     "text": [
      "smhi_data\\parameter_2\\station_81220-SE3.csv\n"
     ]
    },
    {
     "name": "stderr",
     "output_type": "stream",
     "text": [
      "Writing to file smhi_data\\parameter_2\\station_81220-SE3.csv:  37%|███▋      | 7/19 [00:00<00:00, 132.96it/s]\n"
     ]
    },
    {
     "name": "stdout",
     "output_type": "stream",
     "text": [
      "smhi_data\\parameter_2\\station_81320-SE3.csv\n"
     ]
    },
    {
     "name": "stderr",
     "output_type": "stream",
     "text": [
      "Writing to file smhi_data\\parameter_2\\station_81320-SE3.csv:  37%|███▋      | 7/19 [00:00<00:00, 108.75it/s]\n"
     ]
    },
    {
     "name": "stdout",
     "output_type": "stream",
     "text": [
      "smhi_data\\parameter_2\\station_81340-SE3.csv\n"
     ]
    },
    {
     "name": "stderr",
     "output_type": "stream",
     "text": [
      "Writing to file smhi_data\\parameter_2\\station_81340-SE3.csv:  37%|███▋      | 7/19 [00:00<00:00, 96.68it/s]\n"
     ]
    },
    {
     "name": "stdout",
     "output_type": "stream",
     "text": [
      "smhi_data\\parameter_2\\station_81540-SE3.csv\n"
     ]
    },
    {
     "name": "stderr",
     "output_type": "stream",
     "text": [
      "Writing to file smhi_data\\parameter_2\\station_81540-SE3.csv:  47%|████▋     | 9/19 [00:00<00:00, 107.18it/s]\n"
     ]
    },
    {
     "name": "stdout",
     "output_type": "stream",
     "text": [
      "Bad file\n",
      "smhi_data\\parameter_2\\station_81560-SE3.csv\n"
     ]
    },
    {
     "name": "stderr",
     "output_type": "stream",
     "text": [
      "Writing to file smhi_data\\parameter_2\\station_81560-SE3.csv:  37%|███▋      | 7/19 [00:00<00:00, 140.67it/s]\n"
     ]
    },
    {
     "name": "stdout",
     "output_type": "stream",
     "text": [
      "smhi_data\\parameter_2\\station_81620-SE3.csv\n"
     ]
    },
    {
     "name": "stderr",
     "output_type": "stream",
     "text": [
      "Writing to file smhi_data\\parameter_2\\station_81620-SE3.csv:  37%|███▋      | 7/19 [00:00<00:00, 148.82it/s]\n"
     ]
    },
    {
     "name": "stdout",
     "output_type": "stream",
     "text": [
      "smhi_data\\parameter_2\\station_81630-SE3.csv\n"
     ]
    },
    {
     "name": "stderr",
     "output_type": "stream",
     "text": [
      "Writing to file smhi_data\\parameter_2\\station_81630-SE3.csv:  37%|███▋      | 7/19 [00:00<00:00, 157.50it/s]\n"
     ]
    },
    {
     "name": "stdout",
     "output_type": "stream",
     "text": [
      "smhi_data\\parameter_2\\station_81640-SE3.csv\n"
     ]
    },
    {
     "name": "stderr",
     "output_type": "stream",
     "text": [
      "Writing to file smhi_data\\parameter_2\\station_81640-SE3.csv:  37%|███▋      | 7/19 [00:00<00:00, 144.19it/s]\n"
     ]
    },
    {
     "name": "stdout",
     "output_type": "stream",
     "text": [
      "smhi_data\\parameter_2\\station_82000-SE3.csv\n"
     ]
    },
    {
     "name": "stderr",
     "output_type": "stream",
     "text": [
      "Writing to file smhi_data\\parameter_2\\station_82000-SE3.csv:  37%|███▋      | 7/19 [00:00<00:00, 124.50it/s]\n"
     ]
    },
    {
     "name": "stdout",
     "output_type": "stream",
     "text": [
      "smhi_data\\parameter_2\\station_82010-SE3.csv\n"
     ]
    },
    {
     "name": "stderr",
     "output_type": "stream",
     "text": [
      "Writing to file smhi_data\\parameter_2\\station_82010-SE3.csv:  37%|███▋      | 7/19 [00:00<00:00, 147.29it/s]\n"
     ]
    },
    {
     "name": "stdout",
     "output_type": "stream",
     "text": [
      "smhi_data\\parameter_2\\station_82030-SE3.csv\n"
     ]
    },
    {
     "name": "stderr",
     "output_type": "stream",
     "text": [
      "Writing to file smhi_data\\parameter_2\\station_82030-SE3.csv:  37%|███▋      | 7/19 [00:00<00:00, 152.43it/s]\n"
     ]
    },
    {
     "name": "stdout",
     "output_type": "stream",
     "text": [
      "smhi_data\\parameter_2\\station_82100-SE3.csv\n"
     ]
    },
    {
     "name": "stderr",
     "output_type": "stream",
     "text": [
      "Writing to file smhi_data\\parameter_2\\station_82100-SE3.csv:  37%|███▋      | 7/19 [00:00<00:00, 90.03it/s]\n"
     ]
    },
    {
     "name": "stdout",
     "output_type": "stream",
     "text": [
      "smhi_data\\parameter_2\\station_82110-SE3.csv\n"
     ]
    },
    {
     "name": "stderr",
     "output_type": "stream",
     "text": [
      "Writing to file smhi_data\\parameter_2\\station_82110-SE3.csv:  42%|████▏     | 8/19 [00:00<00:00, 120.95it/s]\n"
     ]
    },
    {
     "name": "stdout",
     "output_type": "stream",
     "text": [
      "Bad file\n",
      "smhi_data\\parameter_2\\station_82190-SE3.csv\n"
     ]
    },
    {
     "name": "stderr",
     "output_type": "stream",
     "text": [
      "Writing to file smhi_data\\parameter_2\\station_82190-SE3.csv:  37%|███▋      | 7/19 [00:00<00:00, 156.21it/s]\n"
     ]
    },
    {
     "name": "stdout",
     "output_type": "stream",
     "text": [
      "smhi_data\\parameter_2\\station_82200-SE3.csv\n"
     ]
    },
    {
     "name": "stderr",
     "output_type": "stream",
     "text": [
      "Writing to file smhi_data\\parameter_2\\station_82200-SE3.csv:  37%|███▋      | 7/19 [00:00<00:00, 446.22it/s]\n"
     ]
    },
    {
     "name": "stdout",
     "output_type": "stream",
     "text": [
      "smhi_data\\parameter_2\\station_82230-SE3.csv\n"
     ]
    },
    {
     "name": "stderr",
     "output_type": "stream",
     "text": [
      "Writing to file smhi_data\\parameter_2\\station_82230-SE3.csv:  42%|████▏     | 8/19 [00:00<00:00, 68.90it/s]\n"
     ]
    },
    {
     "name": "stdout",
     "output_type": "stream",
     "text": [
      "Bad file\n",
      "smhi_data\\parameter_2\\station_82250-SE3.csv\n"
     ]
    },
    {
     "name": "stderr",
     "output_type": "stream",
     "text": [
      "Writing to file smhi_data\\parameter_2\\station_82250-SE3.csv:  37%|███▋      | 7/19 [00:00<00:00, 378.12it/s]\n"
     ]
    },
    {
     "name": "stdout",
     "output_type": "stream",
     "text": [
      "smhi_data\\parameter_2\\station_82260-SE3.csv\n"
     ]
    },
    {
     "name": "stderr",
     "output_type": "stream",
     "text": [
      "Writing to file smhi_data\\parameter_2\\station_82260-SE3.csv:  42%|████▏     | 8/19 [00:00<00:00, 104.96it/s]\n"
     ]
    },
    {
     "name": "stdout",
     "output_type": "stream",
     "text": [
      "Bad file\n",
      "smhi_data\\parameter_2\\station_82380-SE3.csv\n"
     ]
    },
    {
     "name": "stderr",
     "output_type": "stream",
     "text": [
      "Writing to file smhi_data\\parameter_2\\station_82380-SE3.csv:  42%|████▏     | 8/19 [00:00<00:00, 158.91it/s]\n"
     ]
    },
    {
     "name": "stdout",
     "output_type": "stream",
     "text": [
      "smhi_data\\parameter_2\\station_82540-SE3.csv\n"
     ]
    },
    {
     "name": "stderr",
     "output_type": "stream",
     "text": [
      "Writing to file smhi_data\\parameter_2\\station_82540-SE3.csv:  37%|███▋      | 7/19 [00:00<00:00, 134.37it/s]\n"
     ]
    },
    {
     "name": "stdout",
     "output_type": "stream",
     "text": [
      "smhi_data\\parameter_2\\station_82620-SE3.csv\n"
     ]
    },
    {
     "name": "stderr",
     "output_type": "stream",
     "text": [
      "Writing to file smhi_data\\parameter_2\\station_82620-SE3.csv:  37%|███▋      | 7/19 [00:00<00:00, 139.97it/s]\n"
     ]
    },
    {
     "name": "stdout",
     "output_type": "stream",
     "text": [
      "smhi_data\\parameter_2\\station_82640-SE3.csv\n"
     ]
    },
    {
     "name": "stderr",
     "output_type": "stream",
     "text": [
      "Writing to file smhi_data\\parameter_2\\station_82640-SE3.csv:  37%|███▋      | 7/19 [00:00<00:00, 137.44it/s]\n"
     ]
    },
    {
     "name": "stdout",
     "output_type": "stream",
     "text": [
      "smhi_data\\parameter_2\\station_82650-SE3.csv\n"
     ]
    },
    {
     "name": "stderr",
     "output_type": "stream",
     "text": [
      "Writing to file smhi_data\\parameter_2\\station_82650-SE3.csv:  37%|███▋      | 7/19 [00:00<00:00, 176.97it/s]\n"
     ]
    },
    {
     "name": "stdout",
     "output_type": "stream",
     "text": [
      "smhi_data\\parameter_2\\station_82660-SE3.csv\n"
     ]
    },
    {
     "name": "stderr",
     "output_type": "stream",
     "text": [
      "Writing to file smhi_data\\parameter_2\\station_82660-SE3.csv:  37%|███▋      | 7/19 [00:00<00:00, 377.70it/s]\n"
     ]
    },
    {
     "name": "stdout",
     "output_type": "stream",
     "text": [
      "smhi_data\\parameter_2\\station_83050-SE3.csv\n"
     ]
    },
    {
     "name": "stderr",
     "output_type": "stream",
     "text": [
      "Writing to file smhi_data\\parameter_2\\station_83050-SE3.csv:  37%|███▋      | 7/19 [00:00<00:00, 115.63it/s]\n"
     ]
    },
    {
     "name": "stdout",
     "output_type": "stream",
     "text": [
      "smhi_data\\parameter_2\\station_83090-SE3.csv\n"
     ]
    },
    {
     "name": "stderr",
     "output_type": "stream",
     "text": [
      "Writing to file smhi_data\\parameter_2\\station_83090-SE3.csv:  37%|███▋      | 7/19 [00:00<00:00, 89.37it/s]\n"
     ]
    },
    {
     "name": "stdout",
     "output_type": "stream",
     "text": [
      "smhi_data\\parameter_2\\station_83130-SE3.csv\n"
     ]
    },
    {
     "name": "stderr",
     "output_type": "stream",
     "text": [
      "Writing to file smhi_data\\parameter_2\\station_83130-SE3.csv:  37%|███▋      | 7/19 [00:00<00:00, 127.16it/s]\n"
     ]
    },
    {
     "name": "stdout",
     "output_type": "stream",
     "text": [
      "smhi_data\\parameter_2\\station_83150-SE3.csv\n"
     ]
    },
    {
     "name": "stderr",
     "output_type": "stream",
     "text": [
      "Writing to file smhi_data\\parameter_2\\station_83150-SE3.csv:  37%|███▋      | 7/19 [00:00<00:00, 1343.90it/s]\n"
     ]
    },
    {
     "name": "stdout",
     "output_type": "stream",
     "text": [
      "smhi_data\\parameter_2\\station_83170-SE3.csv\n"
     ]
    },
    {
     "name": "stderr",
     "output_type": "stream",
     "text": [
      "Writing to file smhi_data\\parameter_2\\station_83170-SE3.csv:  37%|███▋      | 7/19 [00:00<00:00, 121.58it/s]\n"
     ]
    },
    {
     "name": "stdout",
     "output_type": "stream",
     "text": [
      "smhi_data\\parameter_2\\station_83200-SE3.csv\n"
     ]
    },
    {
     "name": "stderr",
     "output_type": "stream",
     "text": [
      "Writing to file smhi_data\\parameter_2\\station_83200-SE3.csv:  37%|███▋      | 7/19 [00:00<00:00, 635.91it/s]\n"
     ]
    },
    {
     "name": "stdout",
     "output_type": "stream",
     "text": [
      "smhi_data\\parameter_2\\station_83210-SE3.csv\n"
     ]
    },
    {
     "name": "stderr",
     "output_type": "stream",
     "text": [
      "Writing to file smhi_data\\parameter_2\\station_83210-SE3.csv:  37%|███▋      | 7/19 [00:00<00:00, 117.99it/s]\n"
     ]
    },
    {
     "name": "stdout",
     "output_type": "stream",
     "text": [
      "smhi_data\\parameter_2\\station_83230-SE3.csv\n"
     ]
    },
    {
     "name": "stderr",
     "output_type": "stream",
     "text": [
      "Writing to file smhi_data\\parameter_2\\station_83230-SE3.csv:  37%|███▋      | 7/19 [00:00<00:00, 91.99it/s]\n"
     ]
    },
    {
     "name": "stdout",
     "output_type": "stream",
     "text": [
      "Bad file\n",
      "smhi_data\\parameter_2\\station_83240-SE3.csv\n"
     ]
    },
    {
     "name": "stderr",
     "output_type": "stream",
     "text": [
      "Writing to file smhi_data\\parameter_2\\station_83240-SE3.csv:  37%|███▋      | 7/19 [00:00<00:00, 618.03it/s]\n"
     ]
    },
    {
     "name": "stdout",
     "output_type": "stream",
     "text": [
      "smhi_data\\parameter_2\\station_83270-SE3.csv\n"
     ]
    },
    {
     "name": "stderr",
     "output_type": "stream",
     "text": [
      "Writing to file smhi_data\\parameter_2\\station_83270-SE3.csv:  47%|████▋     | 9/19 [00:00<00:00, 70.59it/s]\n"
     ]
    },
    {
     "name": "stdout",
     "output_type": "stream",
     "text": [
      "Bad file\n",
      "smhi_data\\parameter_2\\station_83280-SE3.csv\n"
     ]
    },
    {
     "name": "stderr",
     "output_type": "stream",
     "text": [
      "Writing to file smhi_data\\parameter_2\\station_83280-SE3.csv:  47%|████▋     | 9/19 [00:00<00:00, 98.38it/s]\n"
     ]
    },
    {
     "name": "stdout",
     "output_type": "stream",
     "text": [
      "Bad file\n",
      "smhi_data\\parameter_2\\station_83320-SE3.csv\n"
     ]
    },
    {
     "name": "stderr",
     "output_type": "stream",
     "text": [
      "Writing to file smhi_data\\parameter_2\\station_83320-SE3.csv:  42%|████▏     | 8/19 [00:00<00:00, 149.05it/s]\n"
     ]
    },
    {
     "name": "stdout",
     "output_type": "stream",
     "text": [
      "Bad file\n",
      "smhi_data\\parameter_2\\station_83340-SE3.csv\n"
     ]
    },
    {
     "name": "stderr",
     "output_type": "stream",
     "text": [
      "Writing to file smhi_data\\parameter_2\\station_83340-SE3.csv:  37%|███▋      | 7/19 [00:00<00:00, 136.53it/s]\n"
     ]
    },
    {
     "name": "stdout",
     "output_type": "stream",
     "text": [
      "smhi_data\\parameter_2\\station_83440-SE3.csv\n"
     ]
    },
    {
     "name": "stderr",
     "output_type": "stream",
     "text": [
      "Writing to file smhi_data\\parameter_2\\station_83440-SE3.csv:  42%|████▏     | 8/19 [00:00<00:00, 104.17it/s]\n"
     ]
    },
    {
     "name": "stdout",
     "output_type": "stream",
     "text": [
      "Bad file\n",
      "smhi_data\\parameter_2\\station_83460-SE3.csv\n"
     ]
    },
    {
     "name": "stderr",
     "output_type": "stream",
     "text": [
      "Writing to file smhi_data\\parameter_2\\station_83460-SE3.csv:  42%|████▏     | 8/19 [00:00<00:00, 144.50it/s]\n"
     ]
    },
    {
     "name": "stdout",
     "output_type": "stream",
     "text": [
      "smhi_data\\parameter_2\\station_83540-SE3.csv\n"
     ]
    },
    {
     "name": "stderr",
     "output_type": "stream",
     "text": [
      "Writing to file smhi_data\\parameter_2\\station_83540-SE3.csv:  37%|███▋      | 7/19 [00:00<00:00, 111.22it/s]\n"
     ]
    },
    {
     "name": "stdout",
     "output_type": "stream",
     "text": [
      "smhi_data\\parameter_2\\station_83610-SE3.csv\n"
     ]
    },
    {
     "name": "stderr",
     "output_type": "stream",
     "text": [
      "Writing to file smhi_data\\parameter_2\\station_83610-SE3.csv:  37%|███▋      | 7/19 [00:00<00:00, 604.44it/s]\n"
     ]
    },
    {
     "name": "stdout",
     "output_type": "stream",
     "text": [
      "smhi_data\\parameter_2\\station_83630-SE3.csv\n"
     ]
    },
    {
     "name": "stderr",
     "output_type": "stream",
     "text": [
      "Writing to file smhi_data\\parameter_2\\station_83630-SE3.csv:  37%|███▋      | 7/19 [00:00<00:00, 154.12it/s]\n"
     ]
    },
    {
     "name": "stdout",
     "output_type": "stream",
     "text": [
      "smhi_data\\parameter_2\\station_83640-SE3.csv\n"
     ]
    },
    {
     "name": "stderr",
     "output_type": "stream",
     "text": [
      "Writing to file smhi_data\\parameter_2\\station_83640-SE3.csv:  37%|███▋      | 7/19 [00:00<00:00, 153.33it/s]\n"
     ]
    },
    {
     "name": "stdout",
     "output_type": "stream",
     "text": [
      "smhi_data\\parameter_2\\station_83660-SE3.csv\n"
     ]
    },
    {
     "name": "stderr",
     "output_type": "stream",
     "text": [
      "Writing to file smhi_data\\parameter_2\\station_83660-SE3.csv:  37%|███▋      | 7/19 [00:00<00:00, 154.04it/s]\n"
     ]
    },
    {
     "name": "stdout",
     "output_type": "stream",
     "text": [
      "smhi_data\\parameter_2\\station_83670-SE3.csv\n"
     ]
    },
    {
     "name": "stderr",
     "output_type": "stream",
     "text": [
      "Writing to file smhi_data\\parameter_2\\station_83670-SE3.csv:  37%|███▋      | 7/19 [00:00<00:00, 145.47it/s]\n"
     ]
    },
    {
     "name": "stdout",
     "output_type": "stream",
     "text": [
      "smhi_data\\parameter_2\\station_83690-SE3.csv\n"
     ]
    },
    {
     "name": "stderr",
     "output_type": "stream",
     "text": [
      "Writing to file smhi_data\\parameter_2\\station_83690-SE3.csv:  37%|███▋      | 7/19 [00:00<00:00, 400.19it/s]\n"
     ]
    },
    {
     "name": "stdout",
     "output_type": "stream",
     "text": [
      "smhi_data\\parameter_2\\station_83740-SE3.csv\n"
     ]
    },
    {
     "name": "stderr",
     "output_type": "stream",
     "text": [
      "Writing to file smhi_data\\parameter_2\\station_83740-SE3.csv:  37%|███▋      | 7/19 [00:00<00:00, 143.36it/s]\n"
     ]
    },
    {
     "name": "stdout",
     "output_type": "stream",
     "text": [
      "smhi_data\\parameter_2\\station_84020-SE3.csv\n"
     ]
    },
    {
     "name": "stderr",
     "output_type": "stream",
     "text": [
      "Writing to file smhi_data\\parameter_2\\station_84020-SE3.csv:  37%|███▋      | 7/19 [00:00<00:00, 148.30it/s]\n"
     ]
    },
    {
     "name": "stdout",
     "output_type": "stream",
     "text": [
      "smhi_data\\parameter_2\\station_84060-SE3.csv\n"
     ]
    },
    {
     "name": "stderr",
     "output_type": "stream",
     "text": [
      "Writing to file smhi_data\\parameter_2\\station_84060-SE3.csv:  37%|███▋      | 7/19 [00:00<00:00, 116.10it/s]\n"
     ]
    },
    {
     "name": "stdout",
     "output_type": "stream",
     "text": [
      "smhi_data\\parameter_2\\station_84310-SE3.csv\n"
     ]
    },
    {
     "name": "stderr",
     "output_type": "stream",
     "text": [
      "Writing to file smhi_data\\parameter_2\\station_84310-SE3.csv:  47%|████▋     | 9/19 [00:00<00:00, 116.00it/s]\n"
     ]
    },
    {
     "name": "stdout",
     "output_type": "stream",
     "text": [
      "Bad file\n",
      "smhi_data\\parameter_2\\station_84390-SE3.csv\n"
     ]
    },
    {
     "name": "stderr",
     "output_type": "stream",
     "text": [
      "Writing to file smhi_data\\parameter_2\\station_84390-SE3.csv:  42%|████▏     | 8/19 [00:00<00:00, 153.69it/s]\n"
     ]
    },
    {
     "name": "stdout",
     "output_type": "stream",
     "text": [
      "smhi_data\\parameter_2\\station_84470-SE3.csv\n"
     ]
    },
    {
     "name": "stderr",
     "output_type": "stream",
     "text": [
      "Writing to file smhi_data\\parameter_2\\station_84470-SE3.csv:  37%|███▋      | 7/19 [00:00<00:00, 333.24it/s]\n"
     ]
    },
    {
     "name": "stdout",
     "output_type": "stream",
     "text": [
      "smhi_data\\parameter_2\\station_84580-SE3.csv\n"
     ]
    },
    {
     "name": "stderr",
     "output_type": "stream",
     "text": [
      "Writing to file smhi_data\\parameter_2\\station_84580-SE3.csv:  42%|████▏     | 8/19 [00:00<00:00, 121.67it/s]\n"
     ]
    },
    {
     "name": "stdout",
     "output_type": "stream",
     "text": [
      "smhi_data\\parameter_2\\station_84610-SE3.csv\n"
     ]
    },
    {
     "name": "stderr",
     "output_type": "stream",
     "text": [
      "Writing to file smhi_data\\parameter_2\\station_84610-SE3.csv:  37%|███▋      | 7/19 [00:00<00:00, 466.77it/s]\n"
     ]
    },
    {
     "name": "stdout",
     "output_type": "stream",
     "text": [
      "smhi_data\\parameter_2\\station_84620-SE3.csv\n"
     ]
    },
    {
     "name": "stderr",
     "output_type": "stream",
     "text": [
      "Writing to file smhi_data\\parameter_2\\station_84620-SE3.csv:  37%|███▋      | 7/19 [00:00<00:00, 81.26it/s]\n"
     ]
    },
    {
     "name": "stdout",
     "output_type": "stream",
     "text": [
      "smhi_data\\parameter_2\\station_84630-SE3.csv\n"
     ]
    },
    {
     "name": "stderr",
     "output_type": "stream",
     "text": [
      "Writing to file smhi_data\\parameter_2\\station_84630-SE3.csv:  37%|███▋      | 7/19 [00:00<00:00, 118.88it/s]\n"
     ]
    },
    {
     "name": "stdout",
     "output_type": "stream",
     "text": [
      "smhi_data\\parameter_2\\station_84660-SE3.csv\n"
     ]
    },
    {
     "name": "stderr",
     "output_type": "stream",
     "text": [
      "Writing to file smhi_data\\parameter_2\\station_84660-SE3.csv:  37%|███▋      | 7/19 [00:00<00:00, 162.62it/s]\n"
     ]
    },
    {
     "name": "stdout",
     "output_type": "stream",
     "text": [
      "smhi_data\\parameter_2\\station_84690-SE3.csv\n"
     ]
    },
    {
     "name": "stderr",
     "output_type": "stream",
     "text": [
      "Writing to file smhi_data\\parameter_2\\station_84690-SE3.csv:  37%|███▋      | 7/19 [00:00<00:00, 539.01it/s]\n"
     ]
    },
    {
     "name": "stdout",
     "output_type": "stream",
     "text": [
      "smhi_data\\parameter_2\\station_84780-SE3.csv\n"
     ]
    },
    {
     "name": "stderr",
     "output_type": "stream",
     "text": [
      "Writing to file smhi_data\\parameter_2\\station_84780-SE3.csv:  37%|███▋      | 7/19 [00:00<00:00, 153.81it/s]\n"
     ]
    },
    {
     "name": "stdout",
     "output_type": "stream",
     "text": [
      "smhi_data\\parameter_2\\station_85010-SE3.csv\n"
     ]
    },
    {
     "name": "stderr",
     "output_type": "stream",
     "text": [
      "Writing to file smhi_data\\parameter_2\\station_85010-SE3.csv:  37%|███▋      | 7/19 [00:00<00:00, 411.28it/s]\n"
     ]
    },
    {
     "name": "stdout",
     "output_type": "stream",
     "text": [
      "smhi_data\\parameter_2\\station_85040-SE3.csv\n"
     ]
    },
    {
     "name": "stderr",
     "output_type": "stream",
     "text": [
      "Writing to file smhi_data\\parameter_2\\station_85040-SE3.csv:  47%|████▋     | 9/19 [00:00<00:00, 123.64it/s]\n"
     ]
    },
    {
     "name": "stdout",
     "output_type": "stream",
     "text": [
      "smhi_data\\parameter_2\\station_85130-SE3.csv\n"
     ]
    },
    {
     "name": "stderr",
     "output_type": "stream",
     "text": [
      "Writing to file smhi_data\\parameter_2\\station_85130-SE3.csv:  37%|███▋      | 7/19 [00:00<00:00, 137.82it/s]\n"
     ]
    },
    {
     "name": "stdout",
     "output_type": "stream",
     "text": [
      "smhi_data\\parameter_2\\station_85160-SE3.csv\n"
     ]
    },
    {
     "name": "stderr",
     "output_type": "stream",
     "text": [
      "Writing to file smhi_data\\parameter_2\\station_85160-SE3.csv:  37%|███▋      | 7/19 [00:00<00:00, 128.07it/s]\n"
     ]
    },
    {
     "name": "stdout",
     "output_type": "stream",
     "text": [
      "smhi_data\\parameter_2\\station_85180-SE3.csv\n"
     ]
    },
    {
     "name": "stderr",
     "output_type": "stream",
     "text": [
      "Writing to file smhi_data\\parameter_2\\station_85180-SE3.csv:  37%|███▋      | 7/19 [00:00<00:00, 140.89it/s]\n"
     ]
    },
    {
     "name": "stdout",
     "output_type": "stream",
     "text": [
      "Bad file\n",
      "smhi_data\\parameter_2\\station_85210-SE3.csv\n"
     ]
    },
    {
     "name": "stderr",
     "output_type": "stream",
     "text": [
      "Writing to file smhi_data\\parameter_2\\station_85210-SE3.csv:  37%|███▋      | 7/19 [00:00<00:00, 138.74it/s]\n"
     ]
    },
    {
     "name": "stdout",
     "output_type": "stream",
     "text": [
      "smhi_data\\parameter_2\\station_85220-SE3.csv\n"
     ]
    },
    {
     "name": "stderr",
     "output_type": "stream",
     "text": [
      "Writing to file smhi_data\\parameter_2\\station_85220-SE3.csv:  37%|███▋      | 7/19 [00:00<00:00, 117.02it/s]\n"
     ]
    },
    {
     "name": "stdout",
     "output_type": "stream",
     "text": [
      "smhi_data\\parameter_2\\station_85240-SE3.csv\n"
     ]
    },
    {
     "name": "stderr",
     "output_type": "stream",
     "text": [
      "Writing to file smhi_data\\parameter_2\\station_85240-SE3.csv:  37%|███▋      | 7/19 [00:00<00:00, 77.92it/s]\n"
     ]
    },
    {
     "name": "stdout",
     "output_type": "stream",
     "text": [
      "Bad file\n",
      "smhi_data\\parameter_2\\station_85250-SE3.csv\n"
     ]
    },
    {
     "name": "stderr",
     "output_type": "stream",
     "text": [
      "Writing to file smhi_data\\parameter_2\\station_85250-SE3.csv:  37%|███▋      | 7/19 [00:00<00:00, 83.16it/s]\n"
     ]
    },
    {
     "name": "stdout",
     "output_type": "stream",
     "text": [
      "smhi_data\\parameter_2\\station_85270-SE3.csv\n"
     ]
    },
    {
     "name": "stderr",
     "output_type": "stream",
     "text": [
      "Writing to file smhi_data\\parameter_2\\station_85270-SE3.csv:  37%|███▋      | 7/19 [00:00<00:00, 244.74it/s]\n"
     ]
    },
    {
     "name": "stdout",
     "output_type": "stream",
     "text": [
      "smhi_data\\parameter_2\\station_85280-SE3.csv\n"
     ]
    },
    {
     "name": "stderr",
     "output_type": "stream",
     "text": [
      "Writing to file smhi_data\\parameter_2\\station_85280-SE3.csv:  37%|███▋      | 7/19 [00:00<00:00, 86.93it/s]\n"
     ]
    },
    {
     "name": "stdout",
     "output_type": "stream",
     "text": [
      "smhi_data\\parameter_2\\station_85330-SE3.csv\n"
     ]
    },
    {
     "name": "stderr",
     "output_type": "stream",
     "text": [
      "Writing to file smhi_data\\parameter_2\\station_85330-SE3.csv:  37%|███▋      | 7/19 [00:00<00:00, 116.45it/s]\n"
     ]
    },
    {
     "name": "stdout",
     "output_type": "stream",
     "text": [
      "smhi_data\\parameter_2\\station_85450-SE3.csv\n"
     ]
    },
    {
     "name": "stderr",
     "output_type": "stream",
     "text": [
      "Writing to file smhi_data\\parameter_2\\station_85450-SE3.csv:  53%|█████▎    | 10/19 [00:00<00:00, 131.43it/s]\n"
     ]
    },
    {
     "name": "stdout",
     "output_type": "stream",
     "text": [
      "smhi_data\\parameter_2\\station_85490-SE3.csv\n"
     ]
    },
    {
     "name": "stderr",
     "output_type": "stream",
     "text": [
      "Writing to file smhi_data\\parameter_2\\station_85490-SE3.csv:  37%|███▋      | 7/19 [00:00<00:00, 129.66it/s]\n"
     ]
    },
    {
     "name": "stdout",
     "output_type": "stream",
     "text": [
      "Bad file\n",
      "smhi_data\\parameter_2\\station_85520-SE3.csv\n"
     ]
    },
    {
     "name": "stderr",
     "output_type": "stream",
     "text": [
      "Writing to file smhi_data\\parameter_2\\station_85520-SE3.csv:  42%|████▏     | 8/19 [00:00<00:00, 146.91it/s]\n"
     ]
    },
    {
     "name": "stdout",
     "output_type": "stream",
     "text": [
      "smhi_data\\parameter_2\\station_85630-SE3.csv\n"
     ]
    },
    {
     "name": "stderr",
     "output_type": "stream",
     "text": [
      "Writing to file smhi_data\\parameter_2\\station_85630-SE3.csv:  37%|███▋      | 7/19 [00:00<00:00, 162.07it/s]\n"
     ]
    },
    {
     "name": "stdout",
     "output_type": "stream",
     "text": [
      "smhi_data\\parameter_2\\station_85650-SE3.csv\n"
     ]
    },
    {
     "name": "stderr",
     "output_type": "stream",
     "text": [
      "Writing to file smhi_data\\parameter_2\\station_85650-SE3.csv:  37%|███▋      | 7/19 [00:00<00:00, 160.05it/s]\n"
     ]
    },
    {
     "name": "stdout",
     "output_type": "stream",
     "text": [
      "smhi_data\\parameter_2\\station_86010-SE3.csv\n"
     ]
    },
    {
     "name": "stderr",
     "output_type": "stream",
     "text": [
      "Writing to file smhi_data\\parameter_2\\station_86010-SE3.csv:  37%|███▋      | 7/19 [00:00<00:00, 386.91it/s]\n"
     ]
    },
    {
     "name": "stdout",
     "output_type": "stream",
     "text": [
      "smhi_data\\parameter_2\\station_86090-SE3.csv\n"
     ]
    },
    {
     "name": "stderr",
     "output_type": "stream",
     "text": [
      "Writing to file smhi_data\\parameter_2\\station_86090-SE3.csv:  37%|███▋      | 7/19 [00:00<00:00, 161.70it/s]\n"
     ]
    },
    {
     "name": "stdout",
     "output_type": "stream",
     "text": [
      "smhi_data\\parameter_2\\station_86200-SE3.csv\n"
     ]
    },
    {
     "name": "stderr",
     "output_type": "stream",
     "text": [
      "Writing to file smhi_data\\parameter_2\\station_86200-SE3.csv:  37%|███▋      | 7/19 [00:00<00:00, 137.07it/s]\n"
     ]
    },
    {
     "name": "stdout",
     "output_type": "stream",
     "text": [
      "smhi_data\\parameter_2\\station_86330-SE3.csv\n"
     ]
    },
    {
     "name": "stderr",
     "output_type": "stream",
     "text": [
      "Writing to file smhi_data\\parameter_2\\station_86330-SE3.csv:  37%|███▋      | 7/19 [00:00<00:00, 119.43it/s]\n"
     ]
    },
    {
     "name": "stdout",
     "output_type": "stream",
     "text": [
      "smhi_data\\parameter_2\\station_86340-SE3.csv\n"
     ]
    },
    {
     "name": "stderr",
     "output_type": "stream",
     "text": [
      "Writing to file smhi_data\\parameter_2\\station_86340-SE3.csv:  42%|████▏     | 8/19 [00:00<00:00, 134.19it/s]\n"
     ]
    },
    {
     "name": "stdout",
     "output_type": "stream",
     "text": [
      "Bad file\n",
      "smhi_data\\parameter_2\\station_86350-SE3.csv\n"
     ]
    },
    {
     "name": "stderr",
     "output_type": "stream",
     "text": [
      "Writing to file smhi_data\\parameter_2\\station_86350-SE3.csv:  37%|███▋      | 7/19 [00:00<00:00, 146.61it/s]\n"
     ]
    },
    {
     "name": "stdout",
     "output_type": "stream",
     "text": [
      "smhi_data\\parameter_2\\station_86360-SE3.csv\n"
     ]
    },
    {
     "name": "stderr",
     "output_type": "stream",
     "text": [
      "Writing to file smhi_data\\parameter_2\\station_86360-SE3.csv:  37%|███▋      | 7/19 [00:00<00:00, 147.03it/s]\n"
     ]
    },
    {
     "name": "stdout",
     "output_type": "stream",
     "text": [
      "smhi_data\\parameter_2\\station_86370-SE3.csv\n"
     ]
    },
    {
     "name": "stderr",
     "output_type": "stream",
     "text": [
      "Writing to file smhi_data\\parameter_2\\station_86370-SE3.csv:  37%|███▋      | 7/19 [00:00<00:00, 102.71it/s]\n"
     ]
    },
    {
     "name": "stdout",
     "output_type": "stream",
     "text": [
      "smhi_data\\parameter_2\\station_86470-SE3.csv\n"
     ]
    },
    {
     "name": "stderr",
     "output_type": "stream",
     "text": [
      "Writing to file smhi_data\\parameter_2\\station_86470-SE3.csv:  42%|████▏     | 8/19 [00:00<00:00, 94.41it/s]\n"
     ]
    },
    {
     "name": "stdout",
     "output_type": "stream",
     "text": [
      "Bad file\n",
      "smhi_data\\parameter_2\\station_86480-SE3.csv\n"
     ]
    },
    {
     "name": "stderr",
     "output_type": "stream",
     "text": [
      "Writing to file smhi_data\\parameter_2\\station_86480-SE3.csv:  37%|███▋      | 7/19 [00:00<00:00, 133.00it/s]\n"
     ]
    },
    {
     "name": "stdout",
     "output_type": "stream",
     "text": [
      "smhi_data\\parameter_2\\station_86650-SE3.csv\n"
     ]
    },
    {
     "name": "stderr",
     "output_type": "stream",
     "text": [
      "Writing to file smhi_data\\parameter_2\\station_86650-SE3.csv:  37%|███▋      | 7/19 [00:00<00:00, 267.75it/s]\n"
     ]
    },
    {
     "name": "stdout",
     "output_type": "stream",
     "text": [
      "smhi_data\\parameter_2\\station_86660-SE3.csv\n"
     ]
    },
    {
     "name": "stderr",
     "output_type": "stream",
     "text": [
      "Writing to file smhi_data\\parameter_2\\station_86660-SE3.csv:  37%|███▋      | 7/19 [00:00<00:00, 86.30it/s]\n"
     ]
    },
    {
     "name": "stdout",
     "output_type": "stream",
     "text": [
      "smhi_data\\parameter_2\\station_86670-SE3.csv\n"
     ]
    },
    {
     "name": "stderr",
     "output_type": "stream",
     "text": [
      "Writing to file smhi_data\\parameter_2\\station_86670-SE3.csv:  37%|███▋      | 7/19 [00:00<00:00, 136.00it/s]\n"
     ]
    },
    {
     "name": "stdout",
     "output_type": "stream",
     "text": [
      "smhi_data\\parameter_2\\station_86700-SE3.csv\n"
     ]
    },
    {
     "name": "stderr",
     "output_type": "stream",
     "text": [
      "Writing to file smhi_data\\parameter_2\\station_86700-SE3.csv:  37%|███▋      | 7/19 [00:00<00:00, 157.19it/s]\n"
     ]
    },
    {
     "name": "stdout",
     "output_type": "stream",
     "text": [
      "smhi_data\\parameter_2\\station_87150-SE3.csv\n"
     ]
    },
    {
     "name": "stderr",
     "output_type": "stream",
     "text": [
      "Writing to file smhi_data\\parameter_2\\station_87150-SE3.csv:  37%|███▋      | 7/19 [00:00<00:00, 121.02it/s]\n"
     ]
    },
    {
     "name": "stdout",
     "output_type": "stream",
     "text": [
      "smhi_data\\parameter_2\\station_87400-SE3.csv\n"
     ]
    },
    {
     "name": "stderr",
     "output_type": "stream",
     "text": [
      "Writing to file smhi_data\\parameter_2\\station_87400-SE3.csv:  42%|████▏     | 8/19 [00:00<00:00, 134.59it/s]\n"
     ]
    },
    {
     "name": "stdout",
     "output_type": "stream",
     "text": [
      "Bad file\n",
      "smhi_data\\parameter_2\\station_87450-SE3.csv\n"
     ]
    },
    {
     "name": "stderr",
     "output_type": "stream",
     "text": [
      "Writing to file smhi_data\\parameter_2\\station_87450-SE3.csv:  53%|█████▎    | 10/19 [00:00<00:00, 92.51it/s]\n"
     ]
    },
    {
     "name": "stdout",
     "output_type": "stream",
     "text": [
      "Bad file\n",
      "smhi_data\\parameter_2\\station_87520-SE3.csv\n"
     ]
    },
    {
     "name": "stderr",
     "output_type": "stream",
     "text": [
      "Writing to file smhi_data\\parameter_2\\station_87520-SE3.csv:  37%|███▋      | 7/19 [00:00<00:00, 818.97it/s]\n"
     ]
    },
    {
     "name": "stdout",
     "output_type": "stream",
     "text": [
      "smhi_data\\parameter_2\\station_87540-SE3.csv\n"
     ]
    },
    {
     "name": "stderr",
     "output_type": "stream",
     "text": [
      "Writing to file smhi_data\\parameter_2\\station_87540-SE3.csv:  37%|███▋      | 7/19 [00:00<00:00, 142.01it/s]\n"
     ]
    },
    {
     "name": "stdout",
     "output_type": "stream",
     "text": [
      "smhi_data\\parameter_2\\station_87570-SE3.csv\n"
     ]
    },
    {
     "name": "stderr",
     "output_type": "stream",
     "text": [
      "Writing to file smhi_data\\parameter_2\\station_87570-SE3.csv:  37%|███▋      | 7/19 [00:00<00:00, 146.46it/s]\n"
     ]
    },
    {
     "name": "stdout",
     "output_type": "stream",
     "text": [
      "smhi_data\\parameter_2\\station_88570-SE3.csv\n"
     ]
    },
    {
     "name": "stderr",
     "output_type": "stream",
     "text": [
      "Writing to file smhi_data\\parameter_2\\station_88570-SE3.csv:  37%|███▋      | 7/19 [00:00<00:00, 303.13it/s]\n"
     ]
    },
    {
     "name": "stdout",
     "output_type": "stream",
     "text": [
      "smhi_data\\parameter_2\\station_88580-SE3.csv\n"
     ]
    },
    {
     "name": "stderr",
     "output_type": "stream",
     "text": [
      "Writing to file smhi_data\\parameter_2\\station_88580-SE3.csv:  37%|███▋      | 7/19 [00:00<00:00, 123.77it/s]\n"
     ]
    },
    {
     "name": "stdout",
     "output_type": "stream",
     "text": [
      "smhi_data\\parameter_2\\station_88590-SE3.csv\n"
     ]
    },
    {
     "name": "stderr",
     "output_type": "stream",
     "text": [
      "Writing to file smhi_data\\parameter_2\\station_88590-SE3.csv:  37%|███▋      | 7/19 [00:00<00:00, 108.96it/s]\n"
     ]
    },
    {
     "name": "stdout",
     "output_type": "stream",
     "text": [
      "smhi_data\\parameter_2\\station_89240-SE3.csv\n"
     ]
    },
    {
     "name": "stderr",
     "output_type": "stream",
     "text": [
      "Writing to file smhi_data\\parameter_2\\station_89240-SE3.csv:  37%|███▋      | 7/19 [00:00<00:00, 71.54it/s]\n"
     ]
    },
    {
     "name": "stdout",
     "output_type": "stream",
     "text": [
      "smhi_data\\parameter_2\\station_91120-SE3.csv\n"
     ]
    },
    {
     "name": "stderr",
     "output_type": "stream",
     "text": [
      "Writing to file smhi_data\\parameter_2\\station_91120-SE3.csv:  37%|███▋      | 7/19 [00:00<00:00, 602.10it/s]\n"
     ]
    },
    {
     "name": "stdout",
     "output_type": "stream",
     "text": [
      "smhi_data\\parameter_2\\station_91130-SE3.csv\n"
     ]
    },
    {
     "name": "stderr",
     "output_type": "stream",
     "text": [
      "Writing to file smhi_data\\parameter_2\\station_91130-SE3.csv:  37%|███▋      | 7/19 [00:00<00:00, 123.88it/s]\n"
     ]
    },
    {
     "name": "stdout",
     "output_type": "stream",
     "text": [
      "smhi_data\\parameter_2\\station_91370-SE3.csv\n"
     ]
    },
    {
     "name": "stderr",
     "output_type": "stream",
     "text": [
      "Writing to file smhi_data\\parameter_2\\station_91370-SE3.csv:  37%|███▋      | 7/19 [00:00<00:00, 135.66it/s]\n"
     ]
    },
    {
     "name": "stdout",
     "output_type": "stream",
     "text": [
      "smhi_data\\parameter_2\\station_91520-SE3.csv\n"
     ]
    },
    {
     "name": "stderr",
     "output_type": "stream",
     "text": [
      "Writing to file smhi_data\\parameter_2\\station_91520-SE3.csv:  37%|███▋      | 7/19 [00:00<00:00, 127.76it/s]\n"
     ]
    },
    {
     "name": "stdout",
     "output_type": "stream",
     "text": [
      "smhi_data\\parameter_2\\station_91620-SE3.csv\n"
     ]
    },
    {
     "name": "stderr",
     "output_type": "stream",
     "text": [
      "Writing to file smhi_data\\parameter_2\\station_91620-SE3.csv:  37%|███▋      | 7/19 [00:00<00:00, 151.06it/s]\n"
     ]
    },
    {
     "name": "stdout",
     "output_type": "stream",
     "text": [
      "smhi_data\\parameter_2\\station_91660-SE3.csv\n"
     ]
    },
    {
     "name": "stderr",
     "output_type": "stream",
     "text": [
      "Writing to file smhi_data\\parameter_2\\station_91660-SE3.csv:  37%|███▋      | 7/19 [00:00<00:00, 357.34it/s]\n"
     ]
    },
    {
     "name": "stdout",
     "output_type": "stream",
     "text": [
      "smhi_data\\parameter_2\\station_92030-SE3.csv\n"
     ]
    },
    {
     "name": "stderr",
     "output_type": "stream",
     "text": [
      "Writing to file smhi_data\\parameter_2\\station_92030-SE3.csv:  37%|███▋      | 7/19 [00:00<00:00, 151.43it/s]\n"
     ]
    },
    {
     "name": "stdout",
     "output_type": "stream",
     "text": [
      "smhi_data\\parameter_2\\station_92100-SE3.csv\n"
     ]
    },
    {
     "name": "stderr",
     "output_type": "stream",
     "text": [
      "Writing to file smhi_data\\parameter_2\\station_92100-SE3.csv:  42%|████▏     | 8/19 [00:00<00:00, 128.95it/s]\n"
     ]
    },
    {
     "name": "stdout",
     "output_type": "stream",
     "text": [
      "Bad file\n",
      "smhi_data\\parameter_2\\station_92170-SE3.csv\n"
     ]
    },
    {
     "name": "stderr",
     "output_type": "stream",
     "text": [
      "Writing to file smhi_data\\parameter_2\\station_92170-SE3.csv:  37%|███▋      | 7/19 [00:00<00:00, 145.32it/s]\n"
     ]
    },
    {
     "name": "stdout",
     "output_type": "stream",
     "text": [
      "smhi_data\\parameter_2\\station_92370-SE3.csv\n"
     ]
    },
    {
     "name": "stderr",
     "output_type": "stream",
     "text": [
      "Writing to file smhi_data\\parameter_2\\station_92370-SE3.csv:  37%|███▋      | 7/19 [00:00<00:00, 183.19it/s]\n"
     ]
    },
    {
     "name": "stdout",
     "output_type": "stream",
     "text": [
      "smhi_data\\parameter_2\\station_92380-SE3.csv\n"
     ]
    },
    {
     "name": "stderr",
     "output_type": "stream",
     "text": [
      "Writing to file smhi_data\\parameter_2\\station_92380-SE3.csv:  37%|███▋      | 7/19 [00:00<00:00, 877.81it/s]\n"
     ]
    },
    {
     "name": "stdout",
     "output_type": "stream",
     "text": [
      "smhi_data\\parameter_2\\station_92400-SE3.csv\n"
     ]
    },
    {
     "name": "stderr",
     "output_type": "stream",
     "text": [
      "Writing to file smhi_data\\parameter_2\\station_92400-SE3.csv:  47%|████▋     | 9/19 [00:00<00:00, 136.91it/s]\n"
     ]
    },
    {
     "name": "stdout",
     "output_type": "stream",
     "text": [
      "smhi_data\\parameter_2\\station_92480-SE3.csv\n"
     ]
    },
    {
     "name": "stderr",
     "output_type": "stream",
     "text": [
      "Writing to file smhi_data\\parameter_2\\station_92480-SE3.csv:  37%|███▋      | 7/19 [00:00<00:00, 139.37it/s]\n"
     ]
    },
    {
     "name": "stdout",
     "output_type": "stream",
     "text": [
      "smhi_data\\parameter_2\\station_92630-SE3.csv\n"
     ]
    },
    {
     "name": "stderr",
     "output_type": "stream",
     "text": [
      "Writing to file smhi_data\\parameter_2\\station_92630-SE3.csv:  37%|███▋      | 7/19 [00:00<00:00, 156.76it/s]\n"
     ]
    },
    {
     "name": "stdout",
     "output_type": "stream",
     "text": [
      "smhi_data\\parameter_2\\station_93220-SE3.csv\n"
     ]
    },
    {
     "name": "stderr",
     "output_type": "stream",
     "text": [
      "Writing to file smhi_data\\parameter_2\\station_93220-SE3.csv:  42%|████▏     | 8/19 [00:00<00:00, 115.60it/s]\n"
     ]
    },
    {
     "name": "stdout",
     "output_type": "stream",
     "text": [
      "Bad file\n",
      "smhi_data\\parameter_2\\station_93230-SE3.csv\n"
     ]
    },
    {
     "name": "stderr",
     "output_type": "stream",
     "text": [
      "Writing to file smhi_data\\parameter_2\\station_93230-SE3.csv:  37%|███▋      | 7/19 [00:00<00:00, 370.47it/s]\n"
     ]
    },
    {
     "name": "stdout",
     "output_type": "stream",
     "text": [
      "smhi_data\\parameter_2\\station_93240-SE3.csv\n"
     ]
    },
    {
     "name": "stderr",
     "output_type": "stream",
     "text": [
      "Writing to file smhi_data\\parameter_2\\station_93240-SE3.csv:  37%|███▋      | 7/19 [00:00<00:00, 179.16it/s]\n"
     ]
    },
    {
     "name": "stdout",
     "output_type": "stream",
     "text": [
      "smhi_data\\parameter_2\\station_93250-SE3.csv\n"
     ]
    },
    {
     "name": "stderr",
     "output_type": "stream",
     "text": [
      "Writing to file smhi_data\\parameter_2\\station_93250-SE3.csv:  42%|████▏     | 8/19 [00:00<00:00, 116.10it/s]\n"
     ]
    },
    {
     "name": "stdout",
     "output_type": "stream",
     "text": [
      "smhi_data\\parameter_2\\station_93340-SE3.csv\n"
     ]
    },
    {
     "name": "stderr",
     "output_type": "stream",
     "text": [
      "Writing to file smhi_data\\parameter_2\\station_93340-SE3.csv:  37%|███▋      | 7/19 [00:00<00:00, 163.05it/s]\n"
     ]
    },
    {
     "name": "stdout",
     "output_type": "stream",
     "text": [
      "smhi_data\\parameter_2\\station_93360-SE3.csv\n"
     ]
    },
    {
     "name": "stderr",
     "output_type": "stream",
     "text": [
      "Writing to file smhi_data\\parameter_2\\station_93360-SE3.csv:  37%|███▋      | 7/19 [00:00<00:00, 387.22it/s]\n"
     ]
    },
    {
     "name": "stdout",
     "output_type": "stream",
     "text": [
      "smhi_data\\parameter_2\\station_93520-SE3.csv\n"
     ]
    },
    {
     "name": "stderr",
     "output_type": "stream",
     "text": [
      "Writing to file smhi_data\\parameter_2\\station_93520-SE3.csv:  42%|████▏     | 8/19 [00:00<00:00, 159.95it/s]\n"
     ]
    },
    {
     "name": "stdout",
     "output_type": "stream",
     "text": [
      "Bad file\n",
      "smhi_data\\parameter_2\\station_93580-SE3.csv\n"
     ]
    },
    {
     "name": "stderr",
     "output_type": "stream",
     "text": [
      "Writing to file smhi_data\\parameter_2\\station_93580-SE3.csv:  37%|███▋      | 7/19 [00:00<00:00, 151.85it/s]\n"
     ]
    },
    {
     "name": "stdout",
     "output_type": "stream",
     "text": [
      "smhi_data\\parameter_2\\station_94050-SE3.csv\n"
     ]
    },
    {
     "name": "stderr",
     "output_type": "stream",
     "text": [
      "Writing to file smhi_data\\parameter_2\\station_94050-SE3.csv:  37%|███▋      | 7/19 [00:00<00:00, 86.61it/s]\n"
     ]
    },
    {
     "name": "stdout",
     "output_type": "stream",
     "text": [
      "Bad file\n",
      "smhi_data\\parameter_2\\station_94140-SE3.csv\n"
     ]
    },
    {
     "name": "stderr",
     "output_type": "stream",
     "text": [
      "Writing to file smhi_data\\parameter_2\\station_94140-SE3.csv:  37%|███▋      | 7/19 [00:00<00:00, 155.46it/s]\n"
     ]
    },
    {
     "name": "stdout",
     "output_type": "stream",
     "text": [
      "smhi_data\\parameter_2\\station_94170-SE3.csv\n"
     ]
    },
    {
     "name": "stderr",
     "output_type": "stream",
     "text": [
      "Writing to file smhi_data\\parameter_2\\station_94170-SE3.csv:  37%|███▋      | 7/19 [00:00<00:00, 165.58it/s]\n"
     ]
    },
    {
     "name": "stdout",
     "output_type": "stream",
     "text": [
      "smhi_data\\parameter_2\\station_94180-SE3.csv\n"
     ]
    },
    {
     "name": "stderr",
     "output_type": "stream",
     "text": [
      "Writing to file smhi_data\\parameter_2\\station_94180-SE3.csv:  42%|████▏     | 8/19 [00:00<00:00, 124.32it/s]\n"
     ]
    },
    {
     "name": "stdout",
     "output_type": "stream",
     "text": [
      "Bad file\n",
      "smhi_data\\parameter_2\\station_94200-SE3.csv\n"
     ]
    },
    {
     "name": "stderr",
     "output_type": "stream",
     "text": [
      "Writing to file smhi_data\\parameter_2\\station_94200-SE3.csv:  37%|███▋      | 7/19 [00:00<00:00, 333.10it/s]\n"
     ]
    },
    {
     "name": "stdout",
     "output_type": "stream",
     "text": [
      "smhi_data\\parameter_2\\station_94320-SE3.csv\n"
     ]
    },
    {
     "name": "stderr",
     "output_type": "stream",
     "text": [
      "Writing to file smhi_data\\parameter_2\\station_94320-SE3.csv:  37%|███▋      | 7/19 [00:00<00:00, 153.39it/s]\n"
     ]
    },
    {
     "name": "stdout",
     "output_type": "stream",
     "text": [
      "smhi_data\\parameter_2\\station_94370-SE3.csv\n"
     ]
    },
    {
     "name": "stderr",
     "output_type": "stream",
     "text": [
      "Writing to file smhi_data\\parameter_2\\station_94370-SE3.csv:  37%|███▋      | 7/19 [00:00<00:00, 186.96it/s]\n"
     ]
    },
    {
     "name": "stdout",
     "output_type": "stream",
     "text": [
      "smhi_data\\parameter_2\\station_94410-SE3.csv\n"
     ]
    },
    {
     "name": "stderr",
     "output_type": "stream",
     "text": [
      "Writing to file smhi_data\\parameter_2\\station_94410-SE3.csv:  37%|███▋      | 7/19 [00:00<00:00, 147.05it/s]\n"
     ]
    },
    {
     "name": "stdout",
     "output_type": "stream",
     "text": [
      "smhi_data\\parameter_2\\station_94430-SE3.csv\n"
     ]
    },
    {
     "name": "stderr",
     "output_type": "stream",
     "text": [
      "Writing to file smhi_data\\parameter_2\\station_94430-SE3.csv:  37%|███▋      | 7/19 [00:00<00:00, 158.41it/s]\n"
     ]
    },
    {
     "name": "stdout",
     "output_type": "stream",
     "text": [
      "smhi_data\\parameter_2\\station_94450-SE3.csv\n"
     ]
    },
    {
     "name": "stderr",
     "output_type": "stream",
     "text": [
      "Writing to file smhi_data\\parameter_2\\station_94450-SE3.csv:  37%|███▋      | 7/19 [00:00<00:00, 368.45it/s]\n"
     ]
    },
    {
     "name": "stdout",
     "output_type": "stream",
     "text": [
      "smhi_data\\parameter_2\\station_94560-SE3.csv\n"
     ]
    },
    {
     "name": "stderr",
     "output_type": "stream",
     "text": [
      "Writing to file smhi_data\\parameter_2\\station_94560-SE3.csv:  37%|███▋      | 7/19 [00:00<00:00, 408.90it/s]\n"
     ]
    },
    {
     "name": "stdout",
     "output_type": "stream",
     "text": [
      "smhi_data\\parameter_2\\station_94580-SE3.csv\n"
     ]
    },
    {
     "name": "stderr",
     "output_type": "stream",
     "text": [
      "Writing to file smhi_data\\parameter_2\\station_94580-SE3.csv:  47%|████▋     | 9/19 [00:00<00:00, 161.04it/s]\n"
     ]
    },
    {
     "name": "stdout",
     "output_type": "stream",
     "text": [
      "Bad file\n",
      "smhi_data\\parameter_2\\station_94600-SE3.csv\n"
     ]
    },
    {
     "name": "stderr",
     "output_type": "stream",
     "text": [
      "Writing to file smhi_data\\parameter_2\\station_94600-SE3.csv:  37%|███▋      | 7/19 [00:00<00:00, 1391.08it/s]\n"
     ]
    },
    {
     "name": "stdout",
     "output_type": "stream",
     "text": [
      "smhi_data\\parameter_2\\station_94660-SE3.csv\n"
     ]
    },
    {
     "name": "stderr",
     "output_type": "stream",
     "text": [
      "Writing to file smhi_data\\parameter_2\\station_94660-SE3.csv:  37%|███▋      | 7/19 [00:00<00:00, 407.03it/s]\n"
     ]
    },
    {
     "name": "stdout",
     "output_type": "stream",
     "text": [
      "smhi_data\\parameter_2\\station_95020-SE3.csv\n"
     ]
    },
    {
     "name": "stderr",
     "output_type": "stream",
     "text": [
      "Writing to file smhi_data\\parameter_2\\station_95020-SE3.csv:  37%|███▋      | 7/19 [00:00<00:00, 127.69it/s]\n"
     ]
    },
    {
     "name": "stdout",
     "output_type": "stream",
     "text": [
      "smhi_data\\parameter_2\\station_95030-SE3.csv\n"
     ]
    },
    {
     "name": "stderr",
     "output_type": "stream",
     "text": [
      "Writing to file smhi_data\\parameter_2\\station_95030-SE3.csv:  47%|████▋     | 9/19 [00:00<00:00, 175.94it/s]\n"
     ]
    },
    {
     "name": "stdout",
     "output_type": "stream",
     "text": [
      "smhi_data\\parameter_2\\station_95160-SE3.csv\n"
     ]
    },
    {
     "name": "stderr",
     "output_type": "stream",
     "text": [
      "Writing to file smhi_data\\parameter_2\\station_95160-SE3.csv:  53%|█████▎    | 10/19 [00:00<00:00, 106.72it/s]\n"
     ]
    },
    {
     "name": "stdout",
     "output_type": "stream",
     "text": [
      "smhi_data\\parameter_2\\station_95230-SE3.csv\n"
     ]
    },
    {
     "name": "stderr",
     "output_type": "stream",
     "text": [
      "Writing to file smhi_data\\parameter_2\\station_95230-SE3.csv:  37%|███▋      | 7/19 [00:00<00:00, 163.76it/s]\n"
     ]
    },
    {
     "name": "stdout",
     "output_type": "stream",
     "text": [
      "smhi_data\\parameter_2\\station_95300-SE3.csv\n"
     ]
    },
    {
     "name": "stderr",
     "output_type": "stream",
     "text": [
      "Writing to file smhi_data\\parameter_2\\station_95300-SE3.csv:  37%|███▋      | 7/19 [00:00<00:00, 151.43it/s]\n"
     ]
    },
    {
     "name": "stdout",
     "output_type": "stream",
     "text": [
      "smhi_data\\parameter_2\\station_95320-SE3.csv\n"
     ]
    },
    {
     "name": "stderr",
     "output_type": "stream",
     "text": [
      "Writing to file smhi_data\\parameter_2\\station_95320-SE3.csv:  37%|███▋      | 7/19 [00:00<00:00, 174.62it/s]\n"
     ]
    },
    {
     "name": "stdout",
     "output_type": "stream",
     "text": [
      "smhi_data\\parameter_2\\station_95350-SE3.csv\n"
     ]
    },
    {
     "name": "stderr",
     "output_type": "stream",
     "text": [
      "Writing to file smhi_data\\parameter_2\\station_95350-SE3.csv:  37%|███▋      | 7/19 [00:00<00:00, 151.41it/s]\n"
     ]
    },
    {
     "name": "stdout",
     "output_type": "stream",
     "text": [
      "smhi_data\\parameter_2\\station_95380-SE3.csv\n"
     ]
    },
    {
     "name": "stderr",
     "output_type": "stream",
     "text": [
      "Writing to file smhi_data\\parameter_2\\station_95380-SE3.csv:  37%|███▋      | 7/19 [00:00<00:00, 461.00it/s]\n"
     ]
    },
    {
     "name": "stdout",
     "output_type": "stream",
     "text": [
      "smhi_data\\parameter_2\\station_95490-SE3.csv\n"
     ]
    },
    {
     "name": "stderr",
     "output_type": "stream",
     "text": [
      "Writing to file smhi_data\\parameter_2\\station_95490-SE3.csv:  37%|███▋      | 7/19 [00:00<00:00, 100.66it/s]\n"
     ]
    },
    {
     "name": "stdout",
     "output_type": "stream",
     "text": [
      "smhi_data\\parameter_2\\station_95500-SE3.csv\n"
     ]
    },
    {
     "name": "stderr",
     "output_type": "stream",
     "text": [
      "Writing to file smhi_data\\parameter_2\\station_95500-SE3.csv:  37%|███▋      | 7/19 [00:00<00:00, 141.20it/s]\n"
     ]
    },
    {
     "name": "stdout",
     "output_type": "stream",
     "text": [
      "smhi_data\\parameter_2\\station_95530-SE3.csv\n"
     ]
    },
    {
     "name": "stderr",
     "output_type": "stream",
     "text": [
      "Writing to file smhi_data\\parameter_2\\station_95530-SE3.csv:  37%|███▋      | 7/19 [00:00<00:00, 161.10it/s]\n"
     ]
    },
    {
     "name": "stdout",
     "output_type": "stream",
     "text": [
      "smhi_data\\parameter_2\\station_95640-SE3.csv\n"
     ]
    },
    {
     "name": "stderr",
     "output_type": "stream",
     "text": [
      "Writing to file smhi_data\\parameter_2\\station_95640-SE3.csv:  37%|███▋      | 7/19 [00:00<00:00, 399.09it/s]\n"
     ]
    },
    {
     "name": "stdout",
     "output_type": "stream",
     "text": [
      "smhi_data\\parameter_2\\station_95660-SE3.csv\n"
     ]
    },
    {
     "name": "stderr",
     "output_type": "stream",
     "text": [
      "Writing to file smhi_data\\parameter_2\\station_95660-SE3.csv:  37%|███▋      | 7/19 [00:00<00:00, 1167.73it/s]\n"
     ]
    },
    {
     "name": "stdout",
     "output_type": "stream",
     "text": [
      "smhi_data\\parameter_2\\station_96000-SE3.csv\n"
     ]
    },
    {
     "name": "stderr",
     "output_type": "stream",
     "text": [
      "Writing to file smhi_data\\parameter_2\\station_96000-SE3.csv:  37%|███▋      | 7/19 [00:00<00:00, 144.56it/s]\n"
     ]
    },
    {
     "name": "stdout",
     "output_type": "stream",
     "text": [
      "Bad file\n",
      "smhi_data\\parameter_2\\station_96030-SE3.csv\n"
     ]
    },
    {
     "name": "stderr",
     "output_type": "stream",
     "text": [
      "Writing to file smhi_data\\parameter_2\\station_96030-SE3.csv:  37%|███▋      | 7/19 [00:00<00:00, 141.56it/s]\n"
     ]
    },
    {
     "name": "stdout",
     "output_type": "stream",
     "text": [
      "smhi_data\\parameter_2\\station_96040-SE3.csv\n"
     ]
    },
    {
     "name": "stderr",
     "output_type": "stream",
     "text": [
      "Writing to file smhi_data\\parameter_2\\station_96040-SE3.csv:  42%|████▏     | 8/19 [00:00<00:00, 161.70it/s]\n"
     ]
    },
    {
     "name": "stdout",
     "output_type": "stream",
     "text": [
      "Bad file\n",
      "smhi_data\\parameter_2\\station_96120-SE3.csv\n"
     ]
    },
    {
     "name": "stderr",
     "output_type": "stream",
     "text": [
      "Writing to file smhi_data\\parameter_2\\station_96120-SE3.csv:  42%|████▏     | 8/19 [00:00<00:00, 179.83it/s]\n"
     ]
    },
    {
     "name": "stdout",
     "output_type": "stream",
     "text": [
      "smhi_data\\parameter_2\\station_96140-SE3.csv\n"
     ]
    },
    {
     "name": "stderr",
     "output_type": "stream",
     "text": [
      "Writing to file smhi_data\\parameter_2\\station_96140-SE3.csv:  42%|████▏     | 8/19 [00:00<00:00, 178.40it/s]\n"
     ]
    },
    {
     "name": "stdout",
     "output_type": "stream",
     "text": [
      "Bad file\n",
      "smhi_data\\parameter_2\\station_96210-SE3.csv\n"
     ]
    },
    {
     "name": "stderr",
     "output_type": "stream",
     "text": [
      "Writing to file smhi_data\\parameter_2\\station_96210-SE3.csv:  37%|███▋      | 7/19 [00:00<00:00, 500.54it/s]\n"
     ]
    },
    {
     "name": "stdout",
     "output_type": "stream",
     "text": [
      "smhi_data\\parameter_2\\station_96230-SE3.csv\n"
     ]
    },
    {
     "name": "stderr",
     "output_type": "stream",
     "text": [
      "Writing to file smhi_data\\parameter_2\\station_96230-SE3.csv:  42%|████▏     | 8/19 [00:00<00:00, 159.25it/s]\n"
     ]
    },
    {
     "name": "stdout",
     "output_type": "stream",
     "text": [
      "smhi_data\\parameter_2\\station_96310-SE3.csv\n"
     ]
    },
    {
     "name": "stderr",
     "output_type": "stream",
     "text": [
      "Writing to file smhi_data\\parameter_2\\station_96310-SE3.csv:  37%|███▋      | 7/19 [00:00<00:00, 165.37it/s]\n"
     ]
    },
    {
     "name": "stdout",
     "output_type": "stream",
     "text": [
      "smhi_data\\parameter_2\\station_96350-SE3.csv\n"
     ]
    },
    {
     "name": "stderr",
     "output_type": "stream",
     "text": [
      "Writing to file smhi_data\\parameter_2\\station_96350-SE3.csv:  53%|█████▎    | 10/19 [00:00<00:00, 117.99it/s]\n"
     ]
    },
    {
     "name": "stdout",
     "output_type": "stream",
     "text": [
      "Bad file\n",
      "smhi_data\\parameter_2\\station_96370-SE3.csv\n"
     ]
    },
    {
     "name": "stderr",
     "output_type": "stream",
     "text": [
      "Writing to file smhi_data\\parameter_2\\station_96370-SE3.csv:  42%|████▏     | 8/19 [00:00<00:00, 152.33it/s]\n"
     ]
    },
    {
     "name": "stdout",
     "output_type": "stream",
     "text": [
      "smhi_data\\parameter_2\\station_96480-SE3.csv\n"
     ]
    },
    {
     "name": "stderr",
     "output_type": "stream",
     "text": [
      "Writing to file smhi_data\\parameter_2\\station_96480-SE3.csv:  37%|███▋      | 7/19 [00:00<00:00, 203.55it/s]\n"
     ]
    },
    {
     "name": "stdout",
     "output_type": "stream",
     "text": [
      "smhi_data\\parameter_2\\station_96501-SE3.csv\n"
     ]
    },
    {
     "name": "stderr",
     "output_type": "stream",
     "text": [
      "Writing to file smhi_data\\parameter_2\\station_96501-SE3.csv:  37%|███▋      | 7/19 [00:00<00:00, 998.54it/s]\n"
     ]
    },
    {
     "name": "stdout",
     "output_type": "stream",
     "text": [
      "smhi_data\\parameter_2\\station_96550-SE3.csv\n"
     ]
    },
    {
     "name": "stderr",
     "output_type": "stream",
     "text": [
      "Writing to file smhi_data\\parameter_2\\station_96550-SE3.csv:  47%|████▋     | 9/19 [00:00<00:00, 161.25it/s]\n"
     ]
    },
    {
     "name": "stdout",
     "output_type": "stream",
     "text": [
      "Bad file\n",
      "smhi_data\\parameter_2\\station_96610-SE3.csv\n"
     ]
    },
    {
     "name": "stderr",
     "output_type": "stream",
     "text": [
      "Writing to file smhi_data\\parameter_2\\station_96610-SE3.csv:  37%|███▋      | 7/19 [00:00<00:00, 181.38it/s]\n"
     ]
    },
    {
     "name": "stdout",
     "output_type": "stream",
     "text": [
      "smhi_data\\parameter_2\\station_96640-SE3.csv\n"
     ]
    },
    {
     "name": "stderr",
     "output_type": "stream",
     "text": [
      "Writing to file smhi_data\\parameter_2\\station_96640-SE3.csv:  37%|███▋      | 7/19 [00:00<00:00, 635.14it/s]\n"
     ]
    },
    {
     "name": "stdout",
     "output_type": "stream",
     "text": [
      "smhi_data\\parameter_2\\station_97070-SE3.csv\n"
     ]
    },
    {
     "name": "stderr",
     "output_type": "stream",
     "text": [
      "Writing to file smhi_data\\parameter_2\\station_97070-SE3.csv:  37%|███▋      | 7/19 [00:00<00:00, 1260.36it/s]\n"
     ]
    },
    {
     "name": "stdout",
     "output_type": "stream",
     "text": [
      "smhi_data\\parameter_2\\station_97100-SE3.csv\n"
     ]
    },
    {
     "name": "stderr",
     "output_type": "stream",
     "text": [
      "Writing to file smhi_data\\parameter_2\\station_97100-SE3.csv:  47%|████▋     | 9/19 [00:00<00:00, 99.74it/s]\n"
     ]
    },
    {
     "name": "stdout",
     "output_type": "stream",
     "text": [
      "Bad file\n",
      "smhi_data\\parameter_2\\station_97120-SE3.csv\n"
     ]
    },
    {
     "name": "stderr",
     "output_type": "stream",
     "text": [
      "Writing to file smhi_data\\parameter_2\\station_97120-SE3.csv:  47%|████▋     | 9/19 [00:00<00:00, 122.11it/s]\n"
     ]
    },
    {
     "name": "stdout",
     "output_type": "stream",
     "text": [
      "Bad file\n",
      "smhi_data\\parameter_2\\station_97150-SE3.csv\n"
     ]
    },
    {
     "name": "stderr",
     "output_type": "stream",
     "text": [
      "Writing to file smhi_data\\parameter_2\\station_97150-SE3.csv:  37%|███▋      | 7/19 [00:00<00:00, 147.00it/s]\n"
     ]
    },
    {
     "name": "stdout",
     "output_type": "stream",
     "text": [
      "smhi_data\\parameter_2\\station_97170-SE3.csv\n"
     ]
    },
    {
     "name": "stderr",
     "output_type": "stream",
     "text": [
      "Writing to file smhi_data\\parameter_2\\station_97170-SE3.csv:  37%|███▋      | 7/19 [00:00<00:00, 973.51it/s]\n"
     ]
    },
    {
     "name": "stdout",
     "output_type": "stream",
     "text": [
      "smhi_data\\parameter_2\\station_97180-SE3.csv\n"
     ]
    },
    {
     "name": "stderr",
     "output_type": "stream",
     "text": [
      "Writing to file smhi_data\\parameter_2\\station_97180-SE3.csv:  37%|███▋      | 7/19 [00:00<00:00, 144.82it/s]\n"
     ]
    },
    {
     "name": "stdout",
     "output_type": "stream",
     "text": [
      "smhi_data\\parameter_2\\station_97200-SE3.csv\n"
     ]
    },
    {
     "name": "stderr",
     "output_type": "stream",
     "text": [
      "Writing to file smhi_data\\parameter_2\\station_97200-SE3.csv:  37%|███▋      | 7/19 [00:00<00:00, 113.10it/s]\n"
     ]
    },
    {
     "name": "stdout",
     "output_type": "stream",
     "text": [
      "Bad file\n",
      "smhi_data\\parameter_2\\station_97210-SE3.csv\n"
     ]
    },
    {
     "name": "stderr",
     "output_type": "stream",
     "text": [
      "Writing to file smhi_data\\parameter_2\\station_97210-SE3.csv:  37%|███▋      | 7/19 [00:00<00:00, 162.51it/s]\n"
     ]
    },
    {
     "name": "stdout",
     "output_type": "stream",
     "text": [
      "smhi_data\\parameter_2\\station_97220-SE3.csv\n"
     ]
    },
    {
     "name": "stderr",
     "output_type": "stream",
     "text": [
      "Writing to file smhi_data\\parameter_2\\station_97220-SE3.csv:  37%|███▋      | 7/19 [00:00<00:00, 1205.21it/s]\n"
     ]
    },
    {
     "name": "stdout",
     "output_type": "stream",
     "text": [
      "smhi_data\\parameter_2\\station_97240-SE3.csv\n"
     ]
    },
    {
     "name": "stderr",
     "output_type": "stream",
     "text": [
      "Writing to file smhi_data\\parameter_2\\station_97240-SE3.csv:  37%|███▋      | 7/19 [00:00<00:00, 189.09it/s]\n"
     ]
    },
    {
     "name": "stdout",
     "output_type": "stream",
     "text": [
      "smhi_data\\parameter_2\\station_97260-SE3.csv\n"
     ]
    },
    {
     "name": "stderr",
     "output_type": "stream",
     "text": [
      "Writing to file smhi_data\\parameter_2\\station_97260-SE3.csv:  37%|███▋      | 7/19 [00:00<00:00, 171.11it/s]\n"
     ]
    },
    {
     "name": "stdout",
     "output_type": "stream",
     "text": [
      "smhi_data\\parameter_2\\station_97270-SE3.csv\n"
     ]
    },
    {
     "name": "stderr",
     "output_type": "stream",
     "text": [
      "Writing to file smhi_data\\parameter_2\\station_97270-SE3.csv:  37%|███▋      | 7/19 [00:00<00:00, 185.55it/s]\n"
     ]
    },
    {
     "name": "stdout",
     "output_type": "stream",
     "text": [
      "smhi_data\\parameter_2\\station_97370-SE3.csv\n"
     ]
    },
    {
     "name": "stderr",
     "output_type": "stream",
     "text": [
      "Writing to file smhi_data\\parameter_2\\station_97370-SE3.csv:  37%|███▋      | 7/19 [00:00<00:00, 175.40it/s]\n"
     ]
    },
    {
     "name": "stdout",
     "output_type": "stream",
     "text": [
      "Bad file\n",
      "smhi_data\\parameter_2\\station_97390-SE3.csv\n"
     ]
    },
    {
     "name": "stderr",
     "output_type": "stream",
     "text": [
      "Writing to file smhi_data\\parameter_2\\station_97390-SE3.csv:  42%|████▏     | 8/19 [00:00<00:00, 156.10it/s]\n"
     ]
    },
    {
     "name": "stdout",
     "output_type": "stream",
     "text": [
      "smhi_data\\parameter_2\\station_97490-SE3.csv\n"
     ]
    },
    {
     "name": "stderr",
     "output_type": "stream",
     "text": [
      "Writing to file smhi_data\\parameter_2\\station_97490-SE3.csv:  37%|███▋      | 7/19 [00:00<00:00, 138.22it/s]\n"
     ]
    },
    {
     "name": "stdout",
     "output_type": "stream",
     "text": [
      "smhi_data\\parameter_2\\station_97510-SE3.csv\n"
     ]
    },
    {
     "name": "stderr",
     "output_type": "stream",
     "text": [
      "Writing to file smhi_data\\parameter_2\\station_97510-SE3.csv:  42%|████▏     | 8/19 [00:00<00:00, 155.99it/s]\n"
     ]
    },
    {
     "name": "stdout",
     "output_type": "stream",
     "text": [
      "Bad file\n",
      "smhi_data\\parameter_2\\station_97520-SE3.csv\n"
     ]
    },
    {
     "name": "stderr",
     "output_type": "stream",
     "text": [
      "Writing to file smhi_data\\parameter_2\\station_97520-SE3.csv:  37%|███▋      | 7/19 [00:00<00:00, 87.70it/s]\n"
     ]
    },
    {
     "name": "stdout",
     "output_type": "stream",
     "text": [
      "smhi_data\\parameter_2\\station_97530-SE3.csv\n"
     ]
    },
    {
     "name": "stderr",
     "output_type": "stream",
     "text": [
      "Writing to file smhi_data\\parameter_2\\station_97530-SE3.csv:  37%|███▋      | 7/19 [00:00<00:00, 116.69it/s]\n"
     ]
    },
    {
     "name": "stdout",
     "output_type": "stream",
     "text": [
      "Bad file\n",
      "smhi_data\\parameter_2\\station_97560-SE3.csv\n"
     ]
    },
    {
     "name": "stderr",
     "output_type": "stream",
     "text": [
      "Writing to file smhi_data\\parameter_2\\station_97560-SE3.csv:  37%|███▋      | 7/19 [00:00<00:00, 1166.75it/s]\n"
     ]
    },
    {
     "name": "stdout",
     "output_type": "stream",
     "text": [
      "smhi_data\\parameter_2\\station_97620-SE3.csv\n"
     ]
    },
    {
     "name": "stderr",
     "output_type": "stream",
     "text": [
      "Writing to file smhi_data\\parameter_2\\station_97620-SE3.csv:  37%|███▋      | 7/19 [00:00<00:00, 137.43it/s]\n"
     ]
    },
    {
     "name": "stdout",
     "output_type": "stream",
     "text": [
      "smhi_data\\parameter_2\\station_97630-SE3.csv\n"
     ]
    },
    {
     "name": "stderr",
     "output_type": "stream",
     "text": [
      "Writing to file smhi_data\\parameter_2\\station_97630-SE3.csv:  37%|███▋      | 7/19 [00:00<00:00, 115.16it/s]\n"
     ]
    },
    {
     "name": "stdout",
     "output_type": "stream",
     "text": [
      "smhi_data\\parameter_2\\station_97700-SE3.csv\n"
     ]
    },
    {
     "name": "stderr",
     "output_type": "stream",
     "text": [
      "Writing to file smhi_data\\parameter_2\\station_97700-SE3.csv:  37%|███▋      | 7/19 [00:00<00:00, 176.80it/s]\n"
     ]
    },
    {
     "name": "stdout",
     "output_type": "stream",
     "text": [
      "smhi_data\\parameter_2\\station_97750-SE3.csv\n"
     ]
    },
    {
     "name": "stderr",
     "output_type": "stream",
     "text": [
      "Writing to file smhi_data\\parameter_2\\station_97750-SE3.csv:  37%|███▋      | 7/19 [00:00<00:00, 999.94it/s]\n"
     ]
    },
    {
     "name": "stdout",
     "output_type": "stream",
     "text": [
      "smhi_data\\parameter_2\\station_98040-SE3.csv\n"
     ]
    },
    {
     "name": "stderr",
     "output_type": "stream",
     "text": [
      "Writing to file smhi_data\\parameter_2\\station_98040-SE3.csv:  42%|████▏     | 8/19 [00:00<00:00, 111.56it/s]\n"
     ]
    },
    {
     "name": "stdout",
     "output_type": "stream",
     "text": [
      "Bad file\n",
      "smhi_data\\parameter_2\\station_98140-SE3.csv\n"
     ]
    },
    {
     "name": "stderr",
     "output_type": "stream",
     "text": [
      "Writing to file smhi_data\\parameter_2\\station_98140-SE3.csv:  42%|████▏     | 8/19 [00:00<00:00, 837.40it/s]\n"
     ]
    },
    {
     "name": "stdout",
     "output_type": "stream",
     "text": [
      "smhi_data\\parameter_2\\station_98170-SE3.csv\n"
     ]
    },
    {
     "name": "stderr",
     "output_type": "stream",
     "text": [
      "Writing to file smhi_data\\parameter_2\\station_98170-SE3.csv:  37%|███▋      | 7/19 [00:00<00:00, 632.49it/s]\n"
     ]
    },
    {
     "name": "stdout",
     "output_type": "stream",
     "text": [
      "smhi_data\\parameter_2\\station_98180-SE3.csv\n"
     ]
    },
    {
     "name": "stderr",
     "output_type": "stream",
     "text": [
      "Writing to file smhi_data\\parameter_2\\station_98180-SE3.csv:  37%|███▋      | 7/19 [00:00<00:00, 133.74it/s]\n"
     ]
    },
    {
     "name": "stdout",
     "output_type": "stream",
     "text": [
      "Bad file\n",
      "smhi_data\\parameter_2\\station_98210-SE3.csv\n"
     ]
    },
    {
     "name": "stderr",
     "output_type": "stream",
     "text": [
      "Writing to file smhi_data\\parameter_2\\station_98210-SE3.csv:  37%|███▋      | 7/19 [00:00<00:00, 76.40it/s]\n"
     ]
    },
    {
     "name": "stdout",
     "output_type": "stream",
     "text": [
      "Bad file\n",
      "smhi_data\\parameter_2\\station_98230-SE3.csv\n"
     ]
    },
    {
     "name": "stderr",
     "output_type": "stream",
     "text": [
      "Writing to file smhi_data\\parameter_2\\station_98230-SE3.csv:  37%|███▋      | 7/19 [00:00<00:00, 137.34it/s]\n"
     ]
    },
    {
     "name": "stdout",
     "output_type": "stream",
     "text": [
      "Bad file\n",
      "smhi_data\\parameter_2\\station_98260-SE3.csv\n"
     ]
    },
    {
     "name": "stderr",
     "output_type": "stream",
     "text": [
      "Writing to file smhi_data\\parameter_2\\station_98260-SE3.csv:  37%|███▋      | 7/19 [00:00<00:00, 120.61it/s]\n"
     ]
    },
    {
     "name": "stdout",
     "output_type": "stream",
     "text": [
      "smhi_data\\parameter_2\\station_98290-SE3.csv\n"
     ]
    },
    {
     "name": "stderr",
     "output_type": "stream",
     "text": [
      "Writing to file smhi_data\\parameter_2\\station_98290-SE3.csv:  37%|███▋      | 7/19 [00:00<00:00, 127.78it/s]\n"
     ]
    },
    {
     "name": "stdout",
     "output_type": "stream",
     "text": [
      "Bad file\n",
      "smhi_data\\parameter_2\\station_98400-SE3.csv\n"
     ]
    },
    {
     "name": "stderr",
     "output_type": "stream",
     "text": [
      "Writing to file smhi_data\\parameter_2\\station_98400-SE3.csv:  37%|███▋      | 7/19 [00:00<00:00, 140.15it/s]\n"
     ]
    },
    {
     "name": "stdout",
     "output_type": "stream",
     "text": [
      "smhi_data\\parameter_2\\station_98460-SE3.csv\n"
     ]
    },
    {
     "name": "stderr",
     "output_type": "stream",
     "text": [
      "Writing to file smhi_data\\parameter_2\\station_98460-SE3.csv:  53%|█████▎    | 10/19 [00:00<00:00, 179.45it/s]\n"
     ]
    },
    {
     "name": "stdout",
     "output_type": "stream",
     "text": [
      "smhi_data\\parameter_2\\station_98510-SE3.csv\n"
     ]
    },
    {
     "name": "stderr",
     "output_type": "stream",
     "text": [
      "Writing to file smhi_data\\parameter_2\\station_98510-SE3.csv:  37%|███▋      | 7/19 [00:00<00:00, 454.66it/s]\n"
     ]
    },
    {
     "name": "stdout",
     "output_type": "stream",
     "text": [
      "smhi_data\\parameter_2\\station_98590-SE3.csv\n"
     ]
    },
    {
     "name": "stderr",
     "output_type": "stream",
     "text": [
      "Writing to file smhi_data\\parameter_2\\station_98590-SE3.csv:  37%|███▋      | 7/19 [00:00<00:00, 118.64it/s]\n"
     ]
    },
    {
     "name": "stdout",
     "output_type": "stream",
     "text": [
      "smhi_data\\parameter_2\\station_98610-SE3.csv\n"
     ]
    },
    {
     "name": "stderr",
     "output_type": "stream",
     "text": [
      "Writing to file smhi_data\\parameter_2\\station_98610-SE3.csv:  37%|███▋      | 7/19 [00:00<00:00, 130.78it/s]\n"
     ]
    },
    {
     "name": "stdout",
     "output_type": "stream",
     "text": [
      "smhi_data\\parameter_2\\station_98630-SE3.csv\n"
     ]
    },
    {
     "name": "stderr",
     "output_type": "stream",
     "text": [
      "Writing to file smhi_data\\parameter_2\\station_98630-SE3.csv:  37%|███▋      | 7/19 [00:00<00:00, 196.06it/s]\n"
     ]
    },
    {
     "name": "stdout",
     "output_type": "stream",
     "text": [
      "smhi_data\\parameter_2\\station_99150-SE3.csv\n"
     ]
    },
    {
     "name": "stderr",
     "output_type": "stream",
     "text": [
      "Writing to file smhi_data\\parameter_2\\station_99150-SE3.csv:  37%|███▋      | 7/19 [00:00<00:00, 175.08it/s]\n"
     ]
    },
    {
     "name": "stdout",
     "output_type": "stream",
     "text": [
      "smhi_data\\parameter_2\\station_99270-SE3.csv\n"
     ]
    },
    {
     "name": "stderr",
     "output_type": "stream",
     "text": [
      "Writing to file smhi_data\\parameter_2\\station_99270-SE3.csv:  37%|███▋      | 7/19 [00:00<00:00, 86.69it/s]\n"
     ]
    },
    {
     "name": "stdout",
     "output_type": "stream",
     "text": [
      "Bad file\n",
      "smhi_data\\parameter_2\\station_99450-SE3.csv\n"
     ]
    },
    {
     "name": "stderr",
     "output_type": "stream",
     "text": [
      "Writing to file smhi_data\\parameter_2\\station_99450-SE3.csv:  42%|████▏     | 8/19 [00:00<00:00, 122.93it/s]\n"
     ]
    },
    {
     "name": "stdout",
     "output_type": "stream",
     "text": [
      "Bad file\n",
      "smhi_data\\parameter_5\\station_102170-SE3.csv\n"
     ]
    },
    {
     "name": "stderr",
     "output_type": "stream",
     "text": [
      "Writing to file smhi_data\\parameter_5\\station_102170-SE3.csv:  37%|███▋      | 7/19 [00:00<00:00, 196.60it/s]\n"
     ]
    },
    {
     "name": "stdout",
     "output_type": "stream",
     "text": [
      "Bad file\n",
      "smhi_data\\parameter_5\\station_102190-SE3.csv\n"
     ]
    },
    {
     "name": "stderr",
     "output_type": "stream",
     "text": [
      "Writing to file smhi_data\\parameter_5\\station_102190-SE3.csv:  42%|████▏     | 8/19 [00:00<00:00, 170.22it/s]\n"
     ]
    },
    {
     "name": "stdout",
     "output_type": "stream",
     "text": [
      "smhi_data\\parameter_5\\station_102200-SE3.csv\n"
     ]
    },
    {
     "name": "stderr",
     "output_type": "stream",
     "text": [
      "Writing to file smhi_data\\parameter_5\\station_102200-SE3.csv:  37%|███▋      | 7/19 [00:00<00:00, 397.33it/s]\n"
     ]
    },
    {
     "name": "stdout",
     "output_type": "stream",
     "text": [
      "smhi_data\\parameter_5\\station_102210-SE3.csv\n"
     ]
    },
    {
     "name": "stderr",
     "output_type": "stream",
     "text": [
      "Writing to file smhi_data\\parameter_5\\station_102210-SE3.csv:  42%|████▏     | 8/19 [00:00<00:00, 153.11it/s]\n"
     ]
    },
    {
     "name": "stdout",
     "output_type": "stream",
     "text": [
      "smhi_data\\parameter_5\\station_102540-SE3.csv\n"
     ]
    },
    {
     "name": "stderr",
     "output_type": "stream",
     "text": [
      "Writing to file smhi_data\\parameter_5\\station_102540-SE3.csv:  37%|███▋      | 7/19 [00:00<00:00, 112.16it/s]\n"
     ]
    },
    {
     "name": "stdout",
     "output_type": "stream",
     "text": [
      "Bad file\n",
      "smhi_data\\parameter_5\\station_103050-SE3.csv\n"
     ]
    },
    {
     "name": "stderr",
     "output_type": "stream",
     "text": [
      "Writing to file smhi_data\\parameter_5\\station_103050-SE3.csv:  37%|███▋      | 7/19 [00:00<00:00, 159.49it/s]\n"
     ]
    },
    {
     "name": "stdout",
     "output_type": "stream",
     "text": [
      "smhi_data\\parameter_5\\station_103080-SE3.csv\n"
     ]
    },
    {
     "name": "stderr",
     "output_type": "stream",
     "text": [
      "Writing to file smhi_data\\parameter_5\\station_103080-SE3.csv:  58%|█████▊    | 11/19 [00:00<00:00, 173.70it/s]\n"
     ]
    },
    {
     "name": "stdout",
     "output_type": "stream",
     "text": [
      "Bad file\n",
      "smhi_data\\parameter_5\\station_103090-SE3.csv\n"
     ]
    },
    {
     "name": "stderr",
     "output_type": "stream",
     "text": [
      "Writing to file smhi_data\\parameter_5\\station_103090-SE3.csv:  42%|████▏     | 8/19 [00:00<00:00, 128.10it/s]\n"
     ]
    },
    {
     "name": "stdout",
     "output_type": "stream",
     "text": [
      "Bad file\n",
      "smhi_data\\parameter_5\\station_103290-SE3.csv\n"
     ]
    },
    {
     "name": "stderr",
     "output_type": "stream",
     "text": [
      "Writing to file smhi_data\\parameter_5\\station_103290-SE3.csv:  37%|███▋      | 7/19 [00:00<00:00, 998.58it/s]\n"
     ]
    },
    {
     "name": "stdout",
     "output_type": "stream",
     "text": [
      "smhi_data\\parameter_5\\station_103410-SE3.csv\n"
     ]
    },
    {
     "name": "stderr",
     "output_type": "stream",
     "text": [
      "Writing to file smhi_data\\parameter_5\\station_103410-SE3.csv:  47%|████▋     | 9/19 [00:00<00:00, 113.68it/s]\n"
     ]
    },
    {
     "name": "stdout",
     "output_type": "stream",
     "text": [
      "Bad file\n",
      "smhi_data\\parameter_5\\station_103570-SE3.csv\n"
     ]
    },
    {
     "name": "stderr",
     "output_type": "stream",
     "text": [
      "Writing to file smhi_data\\parameter_5\\station_103570-SE3.csv:  47%|████▋     | 9/19 [00:00<00:00, 165.23it/s]\n"
     ]
    },
    {
     "name": "stdout",
     "output_type": "stream",
     "text": [
      "Bad file\n",
      "smhi_data\\parameter_5\\station_103600-SE3.csv\n"
     ]
    },
    {
     "name": "stderr",
     "output_type": "stream",
     "text": [
      "Writing to file smhi_data\\parameter_5\\station_103600-SE3.csv:  37%|███▋      | 7/19 [00:00<00:00, 176.85it/s]\n"
     ]
    },
    {
     "name": "stdout",
     "output_type": "stream",
     "text": [
      "smhi_data\\parameter_5\\station_104090-SE3.csv\n"
     ]
    },
    {
     "name": "stderr",
     "output_type": "stream",
     "text": [
      "Writing to file smhi_data\\parameter_5\\station_104090-SE3.csv:  53%|█████▎    | 10/19 [00:00<00:00, 173.68it/s]\n"
     ]
    },
    {
     "name": "stdout",
     "output_type": "stream",
     "text": [
      "Bad file\n",
      "smhi_data\\parameter_5\\station_104120-SE3.csv\n"
     ]
    },
    {
     "name": "stderr",
     "output_type": "stream",
     "text": [
      "Writing to file smhi_data\\parameter_5\\station_104120-SE3.csv:  37%|███▋      | 7/19 [00:00<00:00, 168.49it/s]\n"
     ]
    },
    {
     "name": "stdout",
     "output_type": "stream",
     "text": [
      "smhi_data\\parameter_5\\station_104300-SE3.csv\n"
     ]
    },
    {
     "name": "stderr",
     "output_type": "stream",
     "text": [
      "Writing to file smhi_data\\parameter_5\\station_104300-SE3.csv:  58%|█████▊    | 11/19 [00:00<00:00, 131.53it/s]\n"
     ]
    },
    {
     "name": "stdout",
     "output_type": "stream",
     "text": [
      "Bad file\n",
      "smhi_data\\parameter_5\\station_104530-SE3.csv\n"
     ]
    },
    {
     "name": "stderr",
     "output_type": "stream",
     "text": [
      "Writing to file smhi_data\\parameter_5\\station_104530-SE3.csv:  37%|███▋      | 7/19 [00:00<00:00, 109.68it/s]\n"
     ]
    },
    {
     "name": "stdout",
     "output_type": "stream",
     "text": [
      "smhi_data\\parameter_5\\station_104580-SE3.csv\n"
     ]
    },
    {
     "name": "stderr",
     "output_type": "stream",
     "text": [
      "Writing to file smhi_data\\parameter_5\\station_104580-SE3.csv:  63%|██████▎   | 12/19 [00:00<00:00, 163.85it/s]\n"
     ]
    },
    {
     "name": "stdout",
     "output_type": "stream",
     "text": [
      "Bad file\n",
      "smhi_data\\parameter_5\\station_104600-SE3.csv\n"
     ]
    },
    {
     "name": "stderr",
     "output_type": "stream",
     "text": [
      "Writing to file smhi_data\\parameter_5\\station_104600-SE3.csv:  37%|███▋      | 7/19 [00:00<00:00, 467.97it/s]\n"
     ]
    },
    {
     "name": "stdout",
     "output_type": "stream",
     "text": [
      "smhi_data\\parameter_5\\station_105200-SE3.csv\n"
     ]
    },
    {
     "name": "stderr",
     "output_type": "stream",
     "text": [
      "Writing to file smhi_data\\parameter_5\\station_105200-SE3.csv:  37%|███▋      | 7/19 [00:00<00:00, 159.29it/s]\n"
     ]
    },
    {
     "name": "stdout",
     "output_type": "stream",
     "text": [
      "smhi_data\\parameter_5\\station_105210-SE3.csv\n"
     ]
    },
    {
     "name": "stderr",
     "output_type": "stream",
     "text": [
      "Writing to file smhi_data\\parameter_5\\station_105210-SE3.csv:  47%|████▋     | 9/19 [00:00<00:00, 151.38it/s]\n"
     ]
    },
    {
     "name": "stdout",
     "output_type": "stream",
     "text": [
      "smhi_data\\parameter_5\\station_105220-SE3.csv\n"
     ]
    },
    {
     "name": "stderr",
     "output_type": "stream",
     "text": [
      "Writing to file smhi_data\\parameter_5\\station_105220-SE3.csv:  42%|████▏     | 8/19 [00:00<00:00, 144.10it/s]\n"
     ]
    },
    {
     "name": "stdout",
     "output_type": "stream",
     "text": [
      "Bad file\n",
      "smhi_data\\parameter_5\\station_105230-SE3.csv\n"
     ]
    },
    {
     "name": "stderr",
     "output_type": "stream",
     "text": [
      "Writing to file smhi_data\\parameter_5\\station_105230-SE3.csv:  37%|███▋      | 7/19 [00:00<00:00, 121.57it/s]\n"
     ]
    },
    {
     "name": "stdout",
     "output_type": "stream",
     "text": [
      "smhi_data\\parameter_5\\station_105260-SE3.csv\n"
     ]
    },
    {
     "name": "stderr",
     "output_type": "stream",
     "text": [
      "Writing to file smhi_data\\parameter_5\\station_105260-SE3.csv:  47%|████▋     | 9/19 [00:00<00:00, 186.52it/s]\n"
     ]
    },
    {
     "name": "stdout",
     "output_type": "stream",
     "text": [
      "smhi_data\\parameter_5\\station_105310-SE3.csv\n"
     ]
    },
    {
     "name": "stderr",
     "output_type": "stream",
     "text": [
      "Writing to file smhi_data\\parameter_5\\station_105310-SE3.csv:  47%|████▋     | 9/19 [00:00<00:00, 171.22it/s]\n"
     ]
    },
    {
     "name": "stdout",
     "output_type": "stream",
     "text": [
      "Bad file\n",
      "smhi_data\\parameter_5\\station_105360-SE3.csv\n"
     ]
    },
    {
     "name": "stderr",
     "output_type": "stream",
     "text": [
      "Writing to file smhi_data\\parameter_5\\station_105360-SE3.csv:  37%|███▋      | 7/19 [00:00<00:00, 165.43it/s]\n"
     ]
    },
    {
     "name": "stdout",
     "output_type": "stream",
     "text": [
      "smhi_data\\parameter_5\\station_105370-SE3.csv\n"
     ]
    },
    {
     "name": "stderr",
     "output_type": "stream",
     "text": [
      "Writing to file smhi_data\\parameter_5\\station_105370-SE3.csv:  47%|████▋     | 9/19 [00:00<00:00, 100.56it/s]\n"
     ]
    },
    {
     "name": "stdout",
     "output_type": "stream",
     "text": [
      "Bad file\n",
      "smhi_data\\parameter_5\\station_105410-SE3.csv\n"
     ]
    },
    {
     "name": "stderr",
     "output_type": "stream",
     "text": [
      "Writing to file smhi_data\\parameter_5\\station_105410-SE3.csv:  42%|████▏     | 8/19 [00:00<00:00, 179.29it/s]\n"
     ]
    },
    {
     "name": "stdout",
     "output_type": "stream",
     "text": [
      "smhi_data\\parameter_5\\station_105450-SE3.csv\n"
     ]
    },
    {
     "name": "stderr",
     "output_type": "stream",
     "text": [
      "Writing to file smhi_data\\parameter_5\\station_105450-SE3.csv:  47%|████▋     | 9/19 [00:00<00:00, 140.14it/s]\n"
     ]
    },
    {
     "name": "stdout",
     "output_type": "stream",
     "text": [
      "Bad file\n",
      "smhi_data\\parameter_5\\station_105550-SE3.csv\n"
     ]
    },
    {
     "name": "stderr",
     "output_type": "stream",
     "text": [
      "Writing to file smhi_data\\parameter_5\\station_105550-SE3.csv:  42%|████▏     | 8/19 [00:00<00:00, 181.43it/s]\n"
     ]
    },
    {
     "name": "stdout",
     "output_type": "stream",
     "text": [
      "smhi_data\\parameter_5\\station_105630-SE3.csv\n"
     ]
    },
    {
     "name": "stderr",
     "output_type": "stream",
     "text": [
      "Writing to file smhi_data\\parameter_5\\station_105630-SE3.csv:  37%|███▋      | 7/19 [00:00<00:00, 182.52it/s]\n"
     ]
    },
    {
     "name": "stdout",
     "output_type": "stream",
     "text": [
      "smhi_data\\parameter_5\\station_105640-SE3.csv\n"
     ]
    },
    {
     "name": "stderr",
     "output_type": "stream",
     "text": [
      "Writing to file smhi_data\\parameter_5\\station_105640-SE3.csv:  37%|███▋      | 7/19 [00:00<00:00, 402.41it/s]\n"
     ]
    },
    {
     "name": "stdout",
     "output_type": "stream",
     "text": [
      "smhi_data\\parameter_5\\station_106040-SE3.csv\n"
     ]
    },
    {
     "name": "stderr",
     "output_type": "stream",
     "text": [
      "Writing to file smhi_data\\parameter_5\\station_106040-SE3.csv:  37%|███▋      | 7/19 [00:00<00:00, 164.07it/s]\n"
     ]
    },
    {
     "name": "stdout",
     "output_type": "stream",
     "text": [
      "Bad file\n",
      "smhi_data\\parameter_5\\station_106060-SE3.csv\n"
     ]
    },
    {
     "name": "stderr",
     "output_type": "stream",
     "text": [
      "Writing to file smhi_data\\parameter_5\\station_106060-SE3.csv:  37%|███▋      | 7/19 [00:00<00:00, 607.93it/s]\n"
     ]
    },
    {
     "name": "stdout",
     "output_type": "stream",
     "text": [
      "smhi_data\\parameter_5\\station_106070-SE3.csv\n"
     ]
    },
    {
     "name": "stderr",
     "output_type": "stream",
     "text": [
      "Writing to file smhi_data\\parameter_5\\station_106070-SE3.csv:  37%|███▋      | 7/19 [00:00<00:00, 97.80it/s]\n"
     ]
    },
    {
     "name": "stdout",
     "output_type": "stream",
     "text": [
      "Bad file\n",
      "smhi_data\\parameter_5\\station_106080-SE3.csv\n"
     ]
    },
    {
     "name": "stderr",
     "output_type": "stream",
     "text": [
      "Writing to file smhi_data\\parameter_5\\station_106080-SE3.csv:  37%|███▋      | 7/19 [00:00<00:00, 147.66it/s]\n"
     ]
    },
    {
     "name": "stdout",
     "output_type": "stream",
     "text": [
      "smhi_data\\parameter_5\\station_106100-SE3.csv\n"
     ]
    },
    {
     "name": "stderr",
     "output_type": "stream",
     "text": [
      "Writing to file smhi_data\\parameter_5\\station_106100-SE3.csv:  47%|████▋     | 9/19 [00:00<00:00, 171.07it/s]\n"
     ]
    },
    {
     "name": "stdout",
     "output_type": "stream",
     "text": [
      "smhi_data\\parameter_5\\station_106170-SE3.csv\n"
     ]
    },
    {
     "name": "stderr",
     "output_type": "stream",
     "text": [
      "Writing to file smhi_data\\parameter_5\\station_106170-SE3.csv:  37%|███▋      | 7/19 [00:00<00:00, 103.19it/s]\n"
     ]
    },
    {
     "name": "stdout",
     "output_type": "stream",
     "text": [
      "smhi_data\\parameter_5\\station_106270-SE3.csv\n"
     ]
    },
    {
     "name": "stderr",
     "output_type": "stream",
     "text": [
      "Writing to file smhi_data\\parameter_5\\station_106270-SE3.csv:  37%|███▋      | 7/19 [00:00<00:00, 139.38it/s]\n"
     ]
    },
    {
     "name": "stdout",
     "output_type": "stream",
     "text": [
      "smhi_data\\parameter_5\\station_106340-SE3.csv\n"
     ]
    },
    {
     "name": "stderr",
     "output_type": "stream",
     "text": [
      "Writing to file smhi_data\\parameter_5\\station_106340-SE3.csv:  37%|███▋      | 7/19 [00:00<00:00, 594.86it/s]\n"
     ]
    },
    {
     "name": "stdout",
     "output_type": "stream",
     "text": [
      "smhi_data\\parameter_5\\station_106360-SE3.csv\n"
     ]
    },
    {
     "name": "stderr",
     "output_type": "stream",
     "text": [
      "Writing to file smhi_data\\parameter_5\\station_106360-SE3.csv:  47%|████▋     | 9/19 [00:00<00:00, 147.96it/s]\n"
     ]
    },
    {
     "name": "stdout",
     "output_type": "stream",
     "text": [
      "Bad file\n",
      "smhi_data\\parameter_5\\station_106500-SE3.csv\n"
     ]
    },
    {
     "name": "stderr",
     "output_type": "stream",
     "text": [
      "Writing to file smhi_data\\parameter_5\\station_106500-SE3.csv:  47%|████▋     | 9/19 [00:00<00:00, 170.31it/s]\n"
     ]
    },
    {
     "name": "stdout",
     "output_type": "stream",
     "text": [
      "smhi_data\\parameter_5\\station_106580-SE3.csv\n"
     ]
    },
    {
     "name": "stderr",
     "output_type": "stream",
     "text": [
      "Writing to file smhi_data\\parameter_5\\station_106580-SE3.csv:  37%|███▋      | 7/19 [00:00<00:00, 163.71it/s]\n"
     ]
    },
    {
     "name": "stdout",
     "output_type": "stream",
     "text": [
      "smhi_data\\parameter_5\\station_107020-SE3.csv\n"
     ]
    },
    {
     "name": "stderr",
     "output_type": "stream",
     "text": [
      "Writing to file smhi_data\\parameter_5\\station_107020-SE3.csv:  37%|███▋      | 7/19 [00:00<00:00, 1255.89it/s]\n"
     ]
    },
    {
     "name": "stdout",
     "output_type": "stream",
     "text": [
      "smhi_data\\parameter_5\\station_107040-SE3.csv\n"
     ]
    },
    {
     "name": "stderr",
     "output_type": "stream",
     "text": [
      "Writing to file smhi_data\\parameter_5\\station_107040-SE3.csv:  42%|████▏     | 8/19 [00:00<00:00, 203.23it/s]\n"
     ]
    },
    {
     "name": "stdout",
     "output_type": "stream",
     "text": [
      "Bad file\n",
      "smhi_data\\parameter_5\\station_107050-SE3.csv\n"
     ]
    },
    {
     "name": "stderr",
     "output_type": "stream",
     "text": [
      "Writing to file smhi_data\\parameter_5\\station_107050-SE3.csv:  37%|███▋      | 7/19 [00:00<00:00, 742.13it/s]\n"
     ]
    },
    {
     "name": "stdout",
     "output_type": "stream",
     "text": [
      "smhi_data\\parameter_5\\station_107120-SE3.csv\n"
     ]
    },
    {
     "name": "stderr",
     "output_type": "stream",
     "text": [
      "Writing to file smhi_data\\parameter_5\\station_107120-SE3.csv:  37%|███▋      | 7/19 [00:00<00:00, 152.36it/s]\n"
     ]
    },
    {
     "name": "stdout",
     "output_type": "stream",
     "text": [
      "smhi_data\\parameter_5\\station_107130-SE3.csv\n"
     ]
    },
    {
     "name": "stderr",
     "output_type": "stream",
     "text": [
      "Writing to file smhi_data\\parameter_5\\station_107130-SE3.csv:  42%|████▏     | 8/19 [00:00<00:00, 173.04it/s]\n"
     ]
    },
    {
     "name": "stdout",
     "output_type": "stream",
     "text": [
      "Bad file\n",
      "smhi_data\\parameter_5\\station_107180-SE3.csv\n"
     ]
    },
    {
     "name": "stderr",
     "output_type": "stream",
     "text": [
      "Writing to file smhi_data\\parameter_5\\station_107180-SE3.csv:  37%|███▋      | 7/19 [00:00<00:00, 157.09it/s]\n"
     ]
    },
    {
     "name": "stdout",
     "output_type": "stream",
     "text": [
      "smhi_data\\parameter_5\\station_107220-SE3.csv\n"
     ]
    },
    {
     "name": "stderr",
     "output_type": "stream",
     "text": [
      "Writing to file smhi_data\\parameter_5\\station_107220-SE3.csv:  37%|███▋      | 7/19 [00:00<00:00, 710.01it/s]\n"
     ]
    },
    {
     "name": "stdout",
     "output_type": "stream",
     "text": [
      "smhi_data\\parameter_5\\station_107270-SE3.csv\n"
     ]
    },
    {
     "name": "stderr",
     "output_type": "stream",
     "text": [
      "Writing to file smhi_data\\parameter_5\\station_107270-SE3.csv:  37%|███▋      | 7/19 [00:00<00:00, 142.94it/s]\n"
     ]
    },
    {
     "name": "stdout",
     "output_type": "stream",
     "text": [
      "smhi_data\\parameter_5\\station_107330-SE3.csv\n"
     ]
    },
    {
     "name": "stderr",
     "output_type": "stream",
     "text": [
      "Writing to file smhi_data\\parameter_5\\station_107330-SE3.csv:  37%|███▋      | 7/19 [00:00<00:00, 143.60it/s]\n"
     ]
    },
    {
     "name": "stdout",
     "output_type": "stream",
     "text": [
      "smhi_data\\parameter_5\\station_107400-SE3.csv\n"
     ]
    },
    {
     "name": "stderr",
     "output_type": "stream",
     "text": [
      "Writing to file smhi_data\\parameter_5\\station_107400-SE3.csv:  79%|███████▉  | 15/19 [00:00<00:00, 118.44it/s]\n"
     ]
    },
    {
     "name": "stdout",
     "output_type": "stream",
     "text": [
      "smhi_data\\parameter_5\\station_107440-SE3.csv\n"
     ]
    },
    {
     "name": "stderr",
     "output_type": "stream",
     "text": [
      "Writing to file smhi_data\\parameter_5\\station_107440-SE3.csv:  37%|███▋      | 7/19 [00:00<00:00, 153.96it/s]\n"
     ]
    },
    {
     "name": "stdout",
     "output_type": "stream",
     "text": [
      "smhi_data\\parameter_5\\station_107450-SE3.csv\n"
     ]
    },
    {
     "name": "stderr",
     "output_type": "stream",
     "text": [
      "Writing to file smhi_data\\parameter_5\\station_107450-SE3.csv:  42%|████▏     | 8/19 [00:00<00:00, 174.14it/s]\n"
     ]
    },
    {
     "name": "stdout",
     "output_type": "stream",
     "text": [
      "smhi_data\\parameter_5\\station_107530-SE3.csv\n"
     ]
    },
    {
     "name": "stderr",
     "output_type": "stream",
     "text": [
      "Writing to file smhi_data\\parameter_5\\station_107530-SE3.csv:  37%|███▋      | 7/19 [00:00<00:00, 1099.92it/s]\n"
     ]
    },
    {
     "name": "stdout",
     "output_type": "stream",
     "text": [
      "smhi_data\\parameter_5\\station_108100-SE3.csv\n"
     ]
    },
    {
     "name": "stderr",
     "output_type": "stream",
     "text": [
      "Writing to file smhi_data\\parameter_5\\station_108100-SE3.csv:  37%|███▋      | 7/19 [00:00<00:00, 164.08it/s]\n"
     ]
    },
    {
     "name": "stdout",
     "output_type": "stream",
     "text": [
      "smhi_data\\parameter_5\\station_108110-SE3.csv\n"
     ]
    },
    {
     "name": "stderr",
     "output_type": "stream",
     "text": [
      "Writing to file smhi_data\\parameter_5\\station_108110-SE3.csv:  37%|███▋      | 7/19 [00:00<00:00, 140.91it/s]\n"
     ]
    },
    {
     "name": "stdout",
     "output_type": "stream",
     "text": [
      "Bad file\n",
      "smhi_data\\parameter_5\\station_108170-SE3.csv\n"
     ]
    },
    {
     "name": "stderr",
     "output_type": "stream",
     "text": [
      "Writing to file smhi_data\\parameter_5\\station_108170-SE3.csv:  42%|████▏     | 8/19 [00:00<00:00, 174.16it/s]\n"
     ]
    },
    {
     "name": "stdout",
     "output_type": "stream",
     "text": [
      "smhi_data\\parameter_5\\station_108320-SE3.csv\n"
     ]
    },
    {
     "name": "stderr",
     "output_type": "stream",
     "text": [
      "Writing to file smhi_data\\parameter_5\\station_108320-SE3.csv:  42%|████▏     | 8/19 [00:00<00:00, 100.59it/s]\n"
     ]
    },
    {
     "name": "stdout",
     "output_type": "stream",
     "text": [
      "Bad file\n",
      "smhi_data\\parameter_5\\station_108600-SE3.csv\n"
     ]
    },
    {
     "name": "stderr",
     "output_type": "stream",
     "text": [
      "Writing to file smhi_data\\parameter_5\\station_108600-SE3.csv:  37%|███▋      | 7/19 [00:00<00:00, 251.53it/s]\n"
     ]
    },
    {
     "name": "stdout",
     "output_type": "stream",
     "text": [
      "smhi_data\\parameter_5\\station_108640-SE3.csv\n"
     ]
    },
    {
     "name": "stderr",
     "output_type": "stream",
     "text": [
      "Writing to file smhi_data\\parameter_5\\station_108640-SE3.csv:  37%|███▋      | 7/19 [00:00<00:00, 168.29it/s]\n"
     ]
    },
    {
     "name": "stdout",
     "output_type": "stream",
     "text": [
      "smhi_data\\parameter_5\\station_112080-SE3.csv\n"
     ]
    },
    {
     "name": "stderr",
     "output_type": "stream",
     "text": [
      "Writing to file smhi_data\\parameter_5\\station_112080-SE3.csv:  47%|████▋     | 9/19 [00:00<00:00, 177.95it/s]\n"
     ]
    },
    {
     "name": "stdout",
     "output_type": "stream",
     "text": [
      "smhi_data\\parameter_5\\station_112170-SE3.csv\n"
     ]
    },
    {
     "name": "stderr",
     "output_type": "stream",
     "text": [
      "Writing to file smhi_data\\parameter_5\\station_112170-SE3.csv:  37%|███▋      | 7/19 [00:00<00:00, 131.50it/s]\n"
     ]
    },
    {
     "name": "stdout",
     "output_type": "stream",
     "text": [
      "smhi_data\\parameter_5\\station_113100-SE3.csv\n"
     ]
    },
    {
     "name": "stderr",
     "output_type": "stream",
     "text": [
      "Writing to file smhi_data\\parameter_5\\station_113100-SE3.csv:  37%|███▋      | 7/19 [00:00<00:00, 151.50it/s]\n"
     ]
    },
    {
     "name": "stdout",
     "output_type": "stream",
     "text": [
      "smhi_data\\parameter_5\\station_113230-SE3.csv\n"
     ]
    },
    {
     "name": "stderr",
     "output_type": "stream",
     "text": [
      "Writing to file smhi_data\\parameter_5\\station_113230-SE3.csv:  37%|███▋      | 7/19 [00:00<00:00, 137.91it/s]\n"
     ]
    },
    {
     "name": "stdout",
     "output_type": "stream",
     "text": [
      "Bad file\n",
      "smhi_data\\parameter_5\\station_113610-SE3.csv\n"
     ]
    },
    {
     "name": "stderr",
     "output_type": "stream",
     "text": [
      "Writing to file smhi_data\\parameter_5\\station_113610-SE3.csv:  42%|████▏     | 8/19 [00:00<00:00, 197.27it/s]\n"
     ]
    },
    {
     "name": "stdout",
     "output_type": "stream",
     "text": [
      "smhi_data\\parameter_5\\station_114160-SE3.csv\n"
     ]
    },
    {
     "name": "stderr",
     "output_type": "stream",
     "text": [
      "Writing to file smhi_data\\parameter_5\\station_114160-SE3.csv:  42%|████▏     | 8/19 [00:00<00:00, 169.48it/s]\n"
     ]
    },
    {
     "name": "stdout",
     "output_type": "stream",
     "text": [
      "smhi_data\\parameter_5\\station_115040-SE3.csv\n"
     ]
    },
    {
     "name": "stderr",
     "output_type": "stream",
     "text": [
      "Writing to file smhi_data\\parameter_5\\station_115040-SE3.csv:  37%|███▋      | 7/19 [00:00<00:00, 133.33it/s]\n"
     ]
    },
    {
     "name": "stdout",
     "output_type": "stream",
     "text": [
      "smhi_data\\parameter_5\\station_115050-SE3.csv\n"
     ]
    },
    {
     "name": "stderr",
     "output_type": "stream",
     "text": [
      "Writing to file smhi_data\\parameter_5\\station_115050-SE3.csv:  37%|███▋      | 7/19 [00:00<00:00, 826.67it/s]\n"
     ]
    },
    {
     "name": "stdout",
     "output_type": "stream",
     "text": [
      "smhi_data\\parameter_5\\station_115630-SE3.csv\n"
     ]
    },
    {
     "name": "stderr",
     "output_type": "stream",
     "text": [
      "Writing to file smhi_data\\parameter_5\\station_115630-SE3.csv:  37%|███▋      | 7/19 [00:00<00:00, 502.11it/s]\n"
     ]
    },
    {
     "name": "stdout",
     "output_type": "stream",
     "text": [
      "smhi_data\\parameter_5\\station_117610-SE3.csv\n"
     ]
    },
    {
     "name": "stderr",
     "output_type": "stream",
     "text": [
      "Writing to file smhi_data\\parameter_5\\station_117610-SE3.csv:  37%|███▋      | 7/19 [00:00<00:00, 416.88it/s]\n"
     ]
    },
    {
     "name": "stdout",
     "output_type": "stream",
     "text": [
      "smhi_data\\parameter_5\\station_71190-SE3.csv\n"
     ]
    },
    {
     "name": "stderr",
     "output_type": "stream",
     "text": [
      "Writing to file smhi_data\\parameter_5\\station_71190-SE3.csv:  47%|████▋     | 9/19 [00:00<00:00, 100.44it/s]\n"
     ]
    },
    {
     "name": "stdout",
     "output_type": "stream",
     "text": [
      "smhi_data\\parameter_5\\station_71380-SE3.csv\n"
     ]
    },
    {
     "name": "stderr",
     "output_type": "stream",
     "text": [
      "Writing to file smhi_data\\parameter_5\\station_71380-SE3.csv:  42%|████▏     | 8/19 [00:00<00:00, 101.53it/s]\n"
     ]
    },
    {
     "name": "stdout",
     "output_type": "stream",
     "text": [
      "Bad file\n",
      "smhi_data\\parameter_5\\station_71420-SE3.csv\n"
     ]
    },
    {
     "name": "stderr",
     "output_type": "stream",
     "text": [
      "Writing to file smhi_data\\parameter_5\\station_71420-SE3.csv:  63%|██████▎   | 12/19 [00:00<00:00, 166.88it/s]\n"
     ]
    },
    {
     "name": "stdout",
     "output_type": "stream",
     "text": [
      "Bad file\n",
      "smhi_data\\parameter_5\\station_71430-SE3.csv\n"
     ]
    },
    {
     "name": "stderr",
     "output_type": "stream",
     "text": [
      "Writing to file smhi_data\\parameter_5\\station_71430-SE3.csv:  37%|███▋      | 7/19 [00:00<00:00, 156.38it/s]\n"
     ]
    },
    {
     "name": "stdout",
     "output_type": "stream",
     "text": [
      "smhi_data\\parameter_5\\station_71470-SE3.csv\n"
     ]
    },
    {
     "name": "stderr",
     "output_type": "stream",
     "text": [
      "Writing to file smhi_data\\parameter_5\\station_71470-SE3.csv:  37%|███▋      | 7/19 [00:00<00:00, 143.22it/s]\n"
     ]
    },
    {
     "name": "stdout",
     "output_type": "stream",
     "text": [
      "smhi_data\\parameter_5\\station_71500-SE3.csv\n"
     ]
    },
    {
     "name": "stderr",
     "output_type": "stream",
     "text": [
      "Writing to file smhi_data\\parameter_5\\station_71500-SE3.csv:  37%|███▋      | 7/19 [00:00<00:00, 465.85it/s]\n"
     ]
    },
    {
     "name": "stdout",
     "output_type": "stream",
     "text": [
      "smhi_data\\parameter_5\\station_71510-SE3.csv\n"
     ]
    },
    {
     "name": "stderr",
     "output_type": "stream",
     "text": [
      "Writing to file smhi_data\\parameter_5\\station_71510-SE3.csv:  47%|████▋     | 9/19 [00:00<00:00, 160.29it/s]\n"
     ]
    },
    {
     "name": "stdout",
     "output_type": "stream",
     "text": [
      "Bad file\n",
      "smhi_data\\parameter_5\\station_72290-SE3.csv\n"
     ]
    },
    {
     "name": "stderr",
     "output_type": "stream",
     "text": [
      "Writing to file smhi_data\\parameter_5\\station_72290-SE3.csv:  42%|████▏     | 8/19 [00:00<00:00, 192.68it/s]\n"
     ]
    },
    {
     "name": "stdout",
     "output_type": "stream",
     "text": [
      "smhi_data\\parameter_5\\station_72300-SE3.csv\n"
     ]
    },
    {
     "name": "stderr",
     "output_type": "stream",
     "text": [
      "Writing to file smhi_data\\parameter_5\\station_72300-SE3.csv:  47%|████▋     | 9/19 [00:00<00:00, 137.84it/s]\n"
     ]
    },
    {
     "name": "stdout",
     "output_type": "stream",
     "text": [
      "Bad file\n",
      "smhi_data\\parameter_5\\station_72400-SE3.csv\n"
     ]
    },
    {
     "name": "stderr",
     "output_type": "stream",
     "text": [
      "Writing to file smhi_data\\parameter_5\\station_72400-SE3.csv:  42%|████▏     | 8/19 [00:00<00:00, 143.97it/s]\n"
     ]
    },
    {
     "name": "stdout",
     "output_type": "stream",
     "text": [
      "Bad file\n",
      "smhi_data\\parameter_5\\station_72420-SE3.csv\n"
     ]
    },
    {
     "name": "stderr",
     "output_type": "stream",
     "text": [
      "Writing to file smhi_data\\parameter_5\\station_72420-SE3.csv:  42%|████▏     | 8/19 [00:00<00:00, 175.21it/s]\n"
     ]
    },
    {
     "name": "stdout",
     "output_type": "stream",
     "text": [
      "smhi_data\\parameter_5\\station_72450-SE3.csv\n"
     ]
    },
    {
     "name": "stderr",
     "output_type": "stream",
     "text": [
      "Writing to file smhi_data\\parameter_5\\station_72450-SE3.csv:  37%|███▋      | 7/19 [00:00<00:00, 90.66it/s]\n"
     ]
    },
    {
     "name": "stdout",
     "output_type": "stream",
     "text": [
      "Bad file\n",
      "smhi_data\\parameter_5\\station_72500-SE3.csv\n"
     ]
    },
    {
     "name": "stderr",
     "output_type": "stream",
     "text": [
      "Writing to file smhi_data\\parameter_5\\station_72500-SE3.csv:  37%|███▋      | 7/19 [00:00<00:00, 371.71it/s]\n"
     ]
    },
    {
     "name": "stdout",
     "output_type": "stream",
     "text": [
      "smhi_data\\parameter_5\\station_72520-SE3.csv\n"
     ]
    },
    {
     "name": "stderr",
     "output_type": "stream",
     "text": [
      "Writing to file smhi_data\\parameter_5\\station_72520-SE3.csv:  37%|███▋      | 7/19 [00:00<00:00, 998.17it/s]\n"
     ]
    },
    {
     "name": "stdout",
     "output_type": "stream",
     "text": [
      "smhi_data\\parameter_5\\station_72630-SE3.csv\n"
     ]
    },
    {
     "name": "stderr",
     "output_type": "stream",
     "text": [
      "Writing to file smhi_data\\parameter_5\\station_72630-SE3.csv:  37%|███▋      | 7/19 [00:00<00:00, 93.31it/s]\n"
     ]
    },
    {
     "name": "stdout",
     "output_type": "stream",
     "text": [
      "smhi_data\\parameter_5\\station_73170-SE3.csv\n"
     ]
    },
    {
     "name": "stderr",
     "output_type": "stream",
     "text": [
      "Writing to file smhi_data\\parameter_5\\station_73170-SE3.csv:  37%|███▋      | 7/19 [00:00<00:00, 245.85it/s]\n"
     ]
    },
    {
     "name": "stdout",
     "output_type": "stream",
     "text": [
      "smhi_data\\parameter_5\\station_73190-SE3.csv\n"
     ]
    },
    {
     "name": "stderr",
     "output_type": "stream",
     "text": [
      "Writing to file smhi_data\\parameter_5\\station_73190-SE3.csv:  37%|███▋      | 7/19 [00:00<00:00, 121.18it/s]\n"
     ]
    },
    {
     "name": "stdout",
     "output_type": "stream",
     "text": [
      "smhi_data\\parameter_5\\station_73230-SE3.csv\n"
     ]
    },
    {
     "name": "stderr",
     "output_type": "stream",
     "text": [
      "Writing to file smhi_data\\parameter_5\\station_73230-SE3.csv:  42%|████▏     | 8/19 [00:00<00:00, 147.03it/s]\n"
     ]
    },
    {
     "name": "stdout",
     "output_type": "stream",
     "text": [
      "Bad file\n",
      "smhi_data\\parameter_5\\station_73250-SE3.csv\n"
     ]
    },
    {
     "name": "stderr",
     "output_type": "stream",
     "text": [
      "Writing to file smhi_data\\parameter_5\\station_73250-SE3.csv:  37%|███▋      | 7/19 [00:00<00:00, 181.20it/s]\n"
     ]
    },
    {
     "name": "stdout",
     "output_type": "stream",
     "text": [
      "smhi_data\\parameter_5\\station_73390-SE3.csv\n"
     ]
    },
    {
     "name": "stderr",
     "output_type": "stream",
     "text": [
      "Writing to file smhi_data\\parameter_5\\station_73390-SE3.csv:  37%|███▋      | 7/19 [00:00<00:00, 400.57it/s]\n"
     ]
    },
    {
     "name": "stdout",
     "output_type": "stream",
     "text": [
      "smhi_data\\parameter_5\\station_73430-SE3.csv\n"
     ]
    },
    {
     "name": "stderr",
     "output_type": "stream",
     "text": [
      "Writing to file smhi_data\\parameter_5\\station_73430-SE3.csv:  37%|███▋      | 7/19 [00:00<00:00, 161.93it/s]\n"
     ]
    },
    {
     "name": "stdout",
     "output_type": "stream",
     "text": [
      "smhi_data\\parameter_5\\station_73470-SE3.csv\n"
     ]
    },
    {
     "name": "stderr",
     "output_type": "stream",
     "text": [
      "Writing to file smhi_data\\parameter_5\\station_73470-SE3.csv:  53%|█████▎    | 10/19 [00:00<00:00, 120.33it/s]\n"
     ]
    },
    {
     "name": "stdout",
     "output_type": "stream",
     "text": [
      "Bad file\n",
      "smhi_data\\parameter_5\\station_73560-SE3.csv\n"
     ]
    },
    {
     "name": "stderr",
     "output_type": "stream",
     "text": [
      "Writing to file smhi_data\\parameter_5\\station_73560-SE3.csv:  53%|█████▎    | 10/19 [00:00<00:00, 172.42it/s]\n"
     ]
    },
    {
     "name": "stdout",
     "output_type": "stream",
     "text": [
      "Bad file\n",
      "smhi_data\\parameter_5\\station_73570-SE3.csv\n"
     ]
    },
    {
     "name": "stderr",
     "output_type": "stream",
     "text": [
      "Writing to file smhi_data\\parameter_5\\station_73570-SE3.csv:  37%|███▋      | 7/19 [00:00<00:00, 167.15it/s]\n"
     ]
    },
    {
     "name": "stdout",
     "output_type": "stream",
     "text": [
      "smhi_data\\parameter_5\\station_73660-SE3.csv\n"
     ]
    },
    {
     "name": "stderr",
     "output_type": "stream",
     "text": [
      "Writing to file smhi_data\\parameter_5\\station_73660-SE3.csv:  42%|████▏     | 8/19 [00:00<00:00, 421.08it/s]\n"
     ]
    },
    {
     "name": "stdout",
     "output_type": "stream",
     "text": [
      "Bad file\n",
      "smhi_data\\parameter_5\\station_73680-SE3.csv\n"
     ]
    },
    {
     "name": "stderr",
     "output_type": "stream",
     "text": [
      "Writing to file smhi_data\\parameter_5\\station_73680-SE3.csv:  37%|███▋      | 7/19 [00:00<00:00, 375.17it/s]\n"
     ]
    },
    {
     "name": "stdout",
     "output_type": "stream",
     "text": [
      "smhi_data\\parameter_5\\station_73690-SE3.csv\n"
     ]
    },
    {
     "name": "stderr",
     "output_type": "stream",
     "text": [
      "Writing to file smhi_data\\parameter_5\\station_73690-SE3.csv:  37%|███▋      | 7/19 [00:00<00:00, 434.68it/s]\n"
     ]
    },
    {
     "name": "stdout",
     "output_type": "stream",
     "text": [
      "smhi_data\\parameter_5\\station_74180-SE3.csv\n"
     ]
    },
    {
     "name": "stderr",
     "output_type": "stream",
     "text": [
      "Writing to file smhi_data\\parameter_5\\station_74180-SE3.csv:  42%|████▏     | 8/19 [00:00<00:00, 143.91it/s]\n"
     ]
    },
    {
     "name": "stdout",
     "output_type": "stream",
     "text": [
      "Bad file\n",
      "smhi_data\\parameter_5\\station_74240-SE3.csv\n"
     ]
    },
    {
     "name": "stderr",
     "output_type": "stream",
     "text": [
      "Writing to file smhi_data\\parameter_5\\station_74240-SE3.csv:  42%|████▏     | 8/19 [00:00<00:00, 127.40it/s]\n"
     ]
    },
    {
     "name": "stdout",
     "output_type": "stream",
     "text": [
      "Bad file\n",
      "smhi_data\\parameter_5\\station_74340-SE3.csv\n"
     ]
    },
    {
     "name": "stderr",
     "output_type": "stream",
     "text": [
      "Writing to file smhi_data\\parameter_5\\station_74340-SE3.csv:  37%|███▋      | 7/19 [00:00<00:00, 159.52it/s]\n"
     ]
    },
    {
     "name": "stdout",
     "output_type": "stream",
     "text": [
      "smhi_data\\parameter_5\\station_74350-SE3.csv\n"
     ]
    },
    {
     "name": "stderr",
     "output_type": "stream",
     "text": [
      "Writing to file smhi_data\\parameter_5\\station_74350-SE3.csv:  37%|███▋      | 7/19 [00:00<00:00, 172.02it/s]\n"
     ]
    },
    {
     "name": "stdout",
     "output_type": "stream",
     "text": [
      "smhi_data\\parameter_5\\station_74390-SE3.csv\n"
     ]
    },
    {
     "name": "stderr",
     "output_type": "stream",
     "text": [
      "Writing to file smhi_data\\parameter_5\\station_74390-SE3.csv:  42%|████▏     | 8/19 [00:00<00:00, 129.56it/s]\n"
     ]
    },
    {
     "name": "stdout",
     "output_type": "stream",
     "text": [
      "smhi_data\\parameter_5\\station_74420-SE3.csv\n"
     ]
    },
    {
     "name": "stderr",
     "output_type": "stream",
     "text": [
      "Writing to file smhi_data\\parameter_5\\station_74420-SE3.csv:  47%|████▋     | 9/19 [00:00<00:00, 102.68it/s]\n"
     ]
    },
    {
     "name": "stdout",
     "output_type": "stream",
     "text": [
      "Bad file\n",
      "smhi_data\\parameter_5\\station_74440-SE3.csv\n"
     ]
    },
    {
     "name": "stderr",
     "output_type": "stream",
     "text": [
      "Writing to file smhi_data\\parameter_5\\station_74440-SE3.csv:  42%|████▏     | 8/19 [00:00<00:00, 126.67it/s]\n"
     ]
    },
    {
     "name": "stdout",
     "output_type": "stream",
     "text": [
      "Bad file\n",
      "smhi_data\\parameter_5\\station_74450-SE3.csv\n"
     ]
    },
    {
     "name": "stderr",
     "output_type": "stream",
     "text": [
      "Writing to file smhi_data\\parameter_5\\station_74450-SE3.csv:  37%|███▋      | 7/19 [00:00<00:00, 167.61it/s]\n"
     ]
    },
    {
     "name": "stdout",
     "output_type": "stream",
     "text": [
      "smhi_data\\parameter_5\\station_74460-SE3.csv\n"
     ]
    },
    {
     "name": "stderr",
     "output_type": "stream",
     "text": [
      "Writing to file smhi_data\\parameter_5\\station_74460-SE3.csv:  37%|███▋      | 7/19 [00:00<00:00, 163.76it/s]\n"
     ]
    },
    {
     "name": "stdout",
     "output_type": "stream",
     "text": [
      "smhi_data\\parameter_5\\station_74470-SE3.csv\n"
     ]
    },
    {
     "name": "stderr",
     "output_type": "stream",
     "text": [
      "Writing to file smhi_data\\parameter_5\\station_74470-SE3.csv:  47%|████▋     | 9/19 [00:00<00:00, 120.21it/s]\n"
     ]
    },
    {
     "name": "stdout",
     "output_type": "stream",
     "text": [
      "Bad file\n",
      "smhi_data\\parameter_5\\station_74480-SE3.csv\n"
     ]
    },
    {
     "name": "stderr",
     "output_type": "stream",
     "text": [
      "Writing to file smhi_data\\parameter_5\\station_74480-SE3.csv:  37%|███▋      | 7/19 [00:00<00:00, 112.75it/s]\n"
     ]
    },
    {
     "name": "stdout",
     "output_type": "stream",
     "text": [
      "Bad file\n",
      "smhi_data\\parameter_5\\station_74490-SE3.csv\n"
     ]
    },
    {
     "name": "stderr",
     "output_type": "stream",
     "text": [
      "Writing to file smhi_data\\parameter_5\\station_74490-SE3.csv:  37%|███▋      | 7/19 [00:00<00:00, 118.57it/s]\n"
     ]
    },
    {
     "name": "stdout",
     "output_type": "stream",
     "text": [
      "Bad file\n",
      "smhi_data\\parameter_5\\station_74510-SE3.csv\n"
     ]
    },
    {
     "name": "stderr",
     "output_type": "stream",
     "text": [
      "Writing to file smhi_data\\parameter_5\\station_74510-SE3.csv:  37%|███▋      | 7/19 [00:00<00:00, 650.60it/s]\n"
     ]
    },
    {
     "name": "stdout",
     "output_type": "stream",
     "text": [
      "smhi_data\\parameter_5\\station_74530-SE3.csv\n"
     ]
    },
    {
     "name": "stderr",
     "output_type": "stream",
     "text": [
      "Writing to file smhi_data\\parameter_5\\station_74530-SE3.csv:  37%|███▋      | 7/19 [00:00<00:00, 134.19it/s]\n"
     ]
    },
    {
     "name": "stdout",
     "output_type": "stream",
     "text": [
      "smhi_data\\parameter_5\\station_74640-SE3.csv\n"
     ]
    },
    {
     "name": "stderr",
     "output_type": "stream",
     "text": [
      "Writing to file smhi_data\\parameter_5\\station_74640-SE3.csv:  37%|███▋      | 7/19 [00:00<00:00, 185.13it/s]\n"
     ]
    },
    {
     "name": "stdout",
     "output_type": "stream",
     "text": [
      "smhi_data\\parameter_5\\station_74650-SE3.csv\n"
     ]
    },
    {
     "name": "stderr",
     "output_type": "stream",
     "text": [
      "Writing to file smhi_data\\parameter_5\\station_74650-SE3.csv:  37%|███▋      | 7/19 [00:00<00:00, 186.07it/s]\n"
     ]
    },
    {
     "name": "stdout",
     "output_type": "stream",
     "text": [
      "smhi_data\\parameter_5\\station_75140-SE3.csv\n"
     ]
    },
    {
     "name": "stderr",
     "output_type": "stream",
     "text": [
      "Writing to file smhi_data\\parameter_5\\station_75140-SE3.csv:  37%|███▋      | 7/19 [00:00<00:00, 169.73it/s]\n"
     ]
    },
    {
     "name": "stdout",
     "output_type": "stream",
     "text": [
      "smhi_data\\parameter_5\\station_75160-SE3.csv\n"
     ]
    },
    {
     "name": "stderr",
     "output_type": "stream",
     "text": [
      "Writing to file smhi_data\\parameter_5\\station_75160-SE3.csv:  37%|███▋      | 7/19 [00:00<00:00, 153.23it/s]\n"
     ]
    },
    {
     "name": "stdout",
     "output_type": "stream",
     "text": [
      "smhi_data\\parameter_5\\station_75240-SE3.csv\n"
     ]
    },
    {
     "name": "stderr",
     "output_type": "stream",
     "text": [
      "Writing to file smhi_data\\parameter_5\\station_75240-SE3.csv:  53%|█████▎    | 10/19 [00:00<00:00, 164.14it/s]\n"
     ]
    },
    {
     "name": "stdout",
     "output_type": "stream",
     "text": [
      "smhi_data\\parameter_5\\station_75380-SE3.csv\n"
     ]
    },
    {
     "name": "stderr",
     "output_type": "stream",
     "text": [
      "Writing to file smhi_data\\parameter_5\\station_75380-SE3.csv:  58%|█████▊    | 11/19 [00:00<00:00, 152.59it/s]\n"
     ]
    },
    {
     "name": "stdout",
     "output_type": "stream",
     "text": [
      "Bad file\n",
      "smhi_data\\parameter_5\\station_75400-SE3.csv\n"
     ]
    },
    {
     "name": "stderr",
     "output_type": "stream",
     "text": [
      "Writing to file smhi_data\\parameter_5\\station_75400-SE3.csv:  37%|███▋      | 7/19 [00:00<00:00, 100.76it/s]\n"
     ]
    },
    {
     "name": "stdout",
     "output_type": "stream",
     "text": [
      "smhi_data\\parameter_5\\station_75410-SE3.csv\n"
     ]
    },
    {
     "name": "stderr",
     "output_type": "stream",
     "text": [
      "Writing to file smhi_data\\parameter_5\\station_75410-SE3.csv:  37%|███▋      | 7/19 [00:00<00:00, 173.33it/s]\n"
     ]
    },
    {
     "name": "stdout",
     "output_type": "stream",
     "text": [
      "smhi_data\\parameter_5\\station_76160-SE3.csv\n"
     ]
    },
    {
     "name": "stderr",
     "output_type": "stream",
     "text": [
      "Writing to file smhi_data\\parameter_5\\station_76160-SE3.csv:  42%|████▏     | 8/19 [00:00<00:00, 110.77it/s]\n"
     ]
    },
    {
     "name": "stdout",
     "output_type": "stream",
     "text": [
      "Bad file\n",
      "smhi_data\\parameter_5\\station_76380-SE3.csv\n"
     ]
    },
    {
     "name": "stderr",
     "output_type": "stream",
     "text": [
      "Writing to file smhi_data\\parameter_5\\station_76380-SE3.csv:  42%|████▏     | 8/19 [00:00<00:00, 161.57it/s]\n"
     ]
    },
    {
     "name": "stdout",
     "output_type": "stream",
     "text": [
      "smhi_data\\parameter_5\\station_76430-SE3.csv\n"
     ]
    },
    {
     "name": "stderr",
     "output_type": "stream",
     "text": [
      "Writing to file smhi_data\\parameter_5\\station_76430-SE3.csv:  37%|███▋      | 7/19 [00:00<00:00, 168.39it/s]\n"
     ]
    },
    {
     "name": "stdout",
     "output_type": "stream",
     "text": [
      "smhi_data\\parameter_5\\station_76470-SE3.csv\n"
     ]
    },
    {
     "name": "stderr",
     "output_type": "stream",
     "text": [
      "Writing to file smhi_data\\parameter_5\\station_76470-SE3.csv:  42%|████▏     | 8/19 [00:00<00:00, 105.75it/s]\n"
     ]
    },
    {
     "name": "stdout",
     "output_type": "stream",
     "text": [
      "smhi_data\\parameter_5\\station_76530-SE3.csv\n"
     ]
    },
    {
     "name": "stderr",
     "output_type": "stream",
     "text": [
      "Writing to file smhi_data\\parameter_5\\station_76530-SE3.csv:  42%|████▏     | 8/19 [00:00<00:00, 145.48it/s]\n"
     ]
    },
    {
     "name": "stdout",
     "output_type": "stream",
     "text": [
      "smhi_data\\parameter_5\\station_77170-SE3.csv\n"
     ]
    },
    {
     "name": "stderr",
     "output_type": "stream",
     "text": [
      "Writing to file smhi_data\\parameter_5\\station_77170-SE3.csv:  37%|███▋      | 7/19 [00:00<00:00, 181.39it/s]\n"
     ]
    },
    {
     "name": "stdout",
     "output_type": "stream",
     "text": [
      "smhi_data\\parameter_5\\station_77180-SE3.csv\n"
     ]
    },
    {
     "name": "stderr",
     "output_type": "stream",
     "text": [
      "Writing to file smhi_data\\parameter_5\\station_77180-SE3.csv:  37%|███▋      | 7/19 [00:00<00:00, 161.64it/s]\n"
     ]
    },
    {
     "name": "stdout",
     "output_type": "stream",
     "text": [
      "smhi_data\\parameter_5\\station_77220-SE3.csv\n"
     ]
    },
    {
     "name": "stderr",
     "output_type": "stream",
     "text": [
      "Writing to file smhi_data\\parameter_5\\station_77220-SE3.csv:  42%|████▏     | 8/19 [00:00<00:00, 97.15it/s]\n"
     ]
    },
    {
     "name": "stdout",
     "output_type": "stream",
     "text": [
      "Bad file\n",
      "smhi_data\\parameter_5\\station_78140-SE3.csv\n"
     ]
    },
    {
     "name": "stderr",
     "output_type": "stream",
     "text": [
      "Writing to file smhi_data\\parameter_5\\station_78140-SE3.csv:  42%|████▏     | 8/19 [00:00<00:00, 121.13it/s]\n"
     ]
    },
    {
     "name": "stdout",
     "output_type": "stream",
     "text": [
      "Bad file\n",
      "smhi_data\\parameter_5\\station_78240-SE3.csv\n"
     ]
    },
    {
     "name": "stderr",
     "output_type": "stream",
     "text": [
      "Writing to file smhi_data\\parameter_5\\station_78240-SE3.csv:  42%|████▏     | 8/19 [00:00<00:00, 162.44it/s]\n"
     ]
    },
    {
     "name": "stdout",
     "output_type": "stream",
     "text": [
      "smhi_data\\parameter_5\\station_78250-SE3.csv\n"
     ]
    },
    {
     "name": "stderr",
     "output_type": "stream",
     "text": [
      "Writing to file smhi_data\\parameter_5\\station_78250-SE3.csv:  42%|████▏     | 8/19 [00:00<00:00, 169.55it/s]\n"
     ]
    },
    {
     "name": "stdout",
     "output_type": "stream",
     "text": [
      "smhi_data\\parameter_5\\station_78280-SE3.csv\n"
     ]
    },
    {
     "name": "stderr",
     "output_type": "stream",
     "text": [
      "Writing to file smhi_data\\parameter_5\\station_78280-SE3.csv:  47%|████▋     | 9/19 [00:00<00:00, 187.51it/s]\n"
     ]
    },
    {
     "name": "stdout",
     "output_type": "stream",
     "text": [
      "smhi_data\\parameter_5\\station_78310-SE3.csv\n"
     ]
    },
    {
     "name": "stderr",
     "output_type": "stream",
     "text": [
      "Writing to file smhi_data\\parameter_5\\station_78310-SE3.csv:  37%|███▋      | 7/19 [00:00<00:00, 151.22it/s]\n"
     ]
    },
    {
     "name": "stdout",
     "output_type": "stream",
     "text": [
      "smhi_data\\parameter_5\\station_78320-SE3.csv\n"
     ]
    },
    {
     "name": "stderr",
     "output_type": "stream",
     "text": [
      "Writing to file smhi_data\\parameter_5\\station_78320-SE3.csv:  37%|███▋      | 7/19 [00:00<00:00, 264.92it/s]\n"
     ]
    },
    {
     "name": "stdout",
     "output_type": "stream",
     "text": [
      "Bad file\n",
      "smhi_data\\parameter_5\\station_78360-SE3.csv\n"
     ]
    },
    {
     "name": "stderr",
     "output_type": "stream",
     "text": [
      "Writing to file smhi_data\\parameter_5\\station_78360-SE3.csv:  37%|███▋      | 7/19 [00:00<00:00, 100.08it/s]\n"
     ]
    },
    {
     "name": "stdout",
     "output_type": "stream",
     "text": [
      "smhi_data\\parameter_5\\station_78390-SE3.csv\n"
     ]
    },
    {
     "name": "stderr",
     "output_type": "stream",
     "text": [
      "Writing to file smhi_data\\parameter_5\\station_78390-SE3.csv:  58%|█████▊    | 11/19 [00:00<00:00, 111.59it/s]\n"
     ]
    },
    {
     "name": "stdout",
     "output_type": "stream",
     "text": [
      "Bad file\n",
      "smhi_data\\parameter_5\\station_78400-SE3.csv\n"
     ]
    },
    {
     "name": "stderr",
     "output_type": "stream",
     "text": [
      "Writing to file smhi_data\\parameter_5\\station_78400-SE3.csv:  37%|███▋      | 7/19 [00:00<00:00, 139.13it/s]\n"
     ]
    },
    {
     "name": "stdout",
     "output_type": "stream",
     "text": [
      "Bad file\n",
      "smhi_data\\parameter_5\\station_78420-SE3.csv\n"
     ]
    },
    {
     "name": "stderr",
     "output_type": "stream",
     "text": [
      "Writing to file smhi_data\\parameter_5\\station_78420-SE3.csv:  42%|████▏     | 8/19 [00:00<00:00, 147.12it/s]\n"
     ]
    },
    {
     "name": "stdout",
     "output_type": "stream",
     "text": [
      "Bad file\n",
      "smhi_data\\parameter_5\\station_79580-SE3.csv\n"
     ]
    },
    {
     "name": "stderr",
     "output_type": "stream",
     "text": [
      "Writing to file smhi_data\\parameter_5\\station_79580-SE3.csv:  42%|████▏     | 8/19 [00:00<00:00, 142.78it/s]\n"
     ]
    },
    {
     "name": "stdout",
     "output_type": "stream",
     "text": [
      "Bad file\n",
      "smhi_data\\parameter_5\\station_81010-SE3.csv\n"
     ]
    },
    {
     "name": "stderr",
     "output_type": "stream",
     "text": [
      "Writing to file smhi_data\\parameter_5\\station_81010-SE3.csv:  37%|███▋      | 7/19 [00:00<00:00, 146.07it/s]\n"
     ]
    },
    {
     "name": "stdout",
     "output_type": "stream",
     "text": [
      "smhi_data\\parameter_5\\station_81040-SE3.csv\n"
     ]
    },
    {
     "name": "stderr",
     "output_type": "stream",
     "text": [
      "Writing to file smhi_data\\parameter_5\\station_81040-SE3.csv:  37%|███▋      | 7/19 [00:00<00:00, 161.46it/s]\n"
     ]
    },
    {
     "name": "stdout",
     "output_type": "stream",
     "text": [
      "Bad file\n",
      "smhi_data\\parameter_5\\station_81060-SE3.csv\n"
     ]
    },
    {
     "name": "stderr",
     "output_type": "stream",
     "text": [
      "Writing to file smhi_data\\parameter_5\\station_81060-SE3.csv:  37%|███▋      | 7/19 [00:00<00:00, 110.65it/s]\n"
     ]
    },
    {
     "name": "stdout",
     "output_type": "stream",
     "text": [
      "smhi_data\\parameter_5\\station_81130-SE3.csv\n"
     ]
    },
    {
     "name": "stderr",
     "output_type": "stream",
     "text": [
      "Writing to file smhi_data\\parameter_5\\station_81130-SE3.csv:  37%|███▋      | 7/19 [00:00<00:00, 170.96it/s]\n"
     ]
    },
    {
     "name": "stdout",
     "output_type": "stream",
     "text": [
      "smhi_data\\parameter_5\\station_81150-SE3.csv\n"
     ]
    },
    {
     "name": "stderr",
     "output_type": "stream",
     "text": [
      "Writing to file smhi_data\\parameter_5\\station_81150-SE3.csv:  37%|███▋      | 7/19 [00:00<00:00, 158.81it/s]\n"
     ]
    },
    {
     "name": "stdout",
     "output_type": "stream",
     "text": [
      "smhi_data\\parameter_5\\station_81210-SE3.csv\n"
     ]
    },
    {
     "name": "stderr",
     "output_type": "stream",
     "text": [
      "Writing to file smhi_data\\parameter_5\\station_81210-SE3.csv:  53%|█████▎    | 10/19 [00:00<00:00, 146.67it/s]\n"
     ]
    },
    {
     "name": "stdout",
     "output_type": "stream",
     "text": [
      "Bad file\n",
      "smhi_data\\parameter_5\\station_81220-SE3.csv\n"
     ]
    },
    {
     "name": "stderr",
     "output_type": "stream",
     "text": [
      "Writing to file smhi_data\\parameter_5\\station_81220-SE3.csv:  37%|███▋      | 7/19 [00:00<00:00, 187.53it/s]\n"
     ]
    },
    {
     "name": "stdout",
     "output_type": "stream",
     "text": [
      "smhi_data\\parameter_5\\station_81320-SE3.csv\n"
     ]
    },
    {
     "name": "stderr",
     "output_type": "stream",
     "text": [
      "Writing to file smhi_data\\parameter_5\\station_81320-SE3.csv:  37%|███▋      | 7/19 [00:00<00:00, 111.92it/s]\n"
     ]
    },
    {
     "name": "stdout",
     "output_type": "stream",
     "text": [
      "smhi_data\\parameter_5\\station_81340-SE3.csv\n"
     ]
    },
    {
     "name": "stderr",
     "output_type": "stream",
     "text": [
      "Writing to file smhi_data\\parameter_5\\station_81340-SE3.csv:  37%|███▋      | 7/19 [00:00<00:00, 153.78it/s]\n"
     ]
    },
    {
     "name": "stdout",
     "output_type": "stream",
     "text": [
      "smhi_data\\parameter_5\\station_81540-SE3.csv\n"
     ]
    },
    {
     "name": "stderr",
     "output_type": "stream",
     "text": [
      "Writing to file smhi_data\\parameter_5\\station_81540-SE3.csv:  47%|████▋     | 9/19 [00:00<00:00, 119.24it/s]\n"
     ]
    },
    {
     "name": "stdout",
     "output_type": "stream",
     "text": [
      "Bad file\n",
      "smhi_data\\parameter_5\\station_81560-SE3.csv\n"
     ]
    },
    {
     "name": "stderr",
     "output_type": "stream",
     "text": [
      "Writing to file smhi_data\\parameter_5\\station_81560-SE3.csv:  37%|███▋      | 7/19 [00:00<00:00, 173.36it/s]\n"
     ]
    },
    {
     "name": "stdout",
     "output_type": "stream",
     "text": [
      "smhi_data\\parameter_5\\station_81620-SE3.csv\n"
     ]
    },
    {
     "name": "stderr",
     "output_type": "stream",
     "text": [
      "Writing to file smhi_data\\parameter_5\\station_81620-SE3.csv:  37%|███▋      | 7/19 [00:00<00:00, 185.13it/s]\n"
     ]
    },
    {
     "name": "stdout",
     "output_type": "stream",
     "text": [
      "smhi_data\\parameter_5\\station_81630-SE3.csv\n"
     ]
    },
    {
     "name": "stderr",
     "output_type": "stream",
     "text": [
      "Writing to file smhi_data\\parameter_5\\station_81630-SE3.csv:  37%|███▋      | 7/19 [00:00<00:00, 436.48it/s]\n"
     ]
    },
    {
     "name": "stdout",
     "output_type": "stream",
     "text": [
      "smhi_data\\parameter_5\\station_81640-SE3.csv\n"
     ]
    },
    {
     "name": "stderr",
     "output_type": "stream",
     "text": [
      "Writing to file smhi_data\\parameter_5\\station_81640-SE3.csv:  37%|███▋      | 7/19 [00:00<00:00, 159.51it/s]\n"
     ]
    },
    {
     "name": "stdout",
     "output_type": "stream",
     "text": [
      "smhi_data\\parameter_5\\station_82000-SE3.csv\n"
     ]
    },
    {
     "name": "stderr",
     "output_type": "stream",
     "text": [
      "Writing to file smhi_data\\parameter_5\\station_82000-SE3.csv:  37%|███▋      | 7/19 [00:00<00:00, 152.88it/s]\n"
     ]
    },
    {
     "name": "stdout",
     "output_type": "stream",
     "text": [
      "smhi_data\\parameter_5\\station_82010-SE3.csv\n"
     ]
    },
    {
     "name": "stderr",
     "output_type": "stream",
     "text": [
      "Writing to file smhi_data\\parameter_5\\station_82010-SE3.csv:  37%|███▋      | 7/19 [00:00<00:00, 176.86it/s]\n"
     ]
    },
    {
     "name": "stdout",
     "output_type": "stream",
     "text": [
      "smhi_data\\parameter_5\\station_82030-SE3.csv\n"
     ]
    },
    {
     "name": "stderr",
     "output_type": "stream",
     "text": [
      "Writing to file smhi_data\\parameter_5\\station_82030-SE3.csv:  37%|███▋      | 7/19 [00:00<00:00, 187.16it/s]\n"
     ]
    },
    {
     "name": "stdout",
     "output_type": "stream",
     "text": [
      "smhi_data\\parameter_5\\station_82100-SE3.csv\n"
     ]
    },
    {
     "name": "stderr",
     "output_type": "stream",
     "text": [
      "Writing to file smhi_data\\parameter_5\\station_82100-SE3.csv:  37%|███▋      | 7/19 [00:00<00:00, 160.78it/s]\n"
     ]
    },
    {
     "name": "stdout",
     "output_type": "stream",
     "text": [
      "smhi_data\\parameter_5\\station_82110-SE3.csv\n"
     ]
    },
    {
     "name": "stderr",
     "output_type": "stream",
     "text": [
      "Writing to file smhi_data\\parameter_5\\station_82110-SE3.csv:  42%|████▏     | 8/19 [00:00<00:00, 142.57it/s]\n"
     ]
    },
    {
     "name": "stdout",
     "output_type": "stream",
     "text": [
      "Bad file\n",
      "smhi_data\\parameter_5\\station_82190-SE3.csv\n"
     ]
    },
    {
     "name": "stderr",
     "output_type": "stream",
     "text": [
      "Writing to file smhi_data\\parameter_5\\station_82190-SE3.csv:  37%|███▋      | 7/19 [00:00<00:00, 179.60it/s]\n"
     ]
    },
    {
     "name": "stdout",
     "output_type": "stream",
     "text": [
      "smhi_data\\parameter_5\\station_82200-SE3.csv\n"
     ]
    },
    {
     "name": "stderr",
     "output_type": "stream",
     "text": [
      "Writing to file smhi_data\\parameter_5\\station_82200-SE3.csv:  42%|████▏     | 8/19 [00:00<00:00, 162.17it/s]\n"
     ]
    },
    {
     "name": "stdout",
     "output_type": "stream",
     "text": [
      "smhi_data\\parameter_5\\station_82230-SE3.csv\n"
     ]
    },
    {
     "name": "stderr",
     "output_type": "stream",
     "text": [
      "Writing to file smhi_data\\parameter_5\\station_82230-SE3.csv:  42%|████▏     | 8/19 [00:00<00:00, 90.66it/s]\n"
     ]
    },
    {
     "name": "stdout",
     "output_type": "stream",
     "text": [
      "Bad file\n",
      "smhi_data\\parameter_5\\station_82250-SE3.csv\n"
     ]
    },
    {
     "name": "stderr",
     "output_type": "stream",
     "text": [
      "Writing to file smhi_data\\parameter_5\\station_82250-SE3.csv:  37%|███▋      | 7/19 [00:00<00:00, 348.46it/s]\n"
     ]
    },
    {
     "name": "stdout",
     "output_type": "stream",
     "text": [
      "smhi_data\\parameter_5\\station_82260-SE3.csv\n"
     ]
    },
    {
     "name": "stderr",
     "output_type": "stream",
     "text": [
      "Writing to file smhi_data\\parameter_5\\station_82260-SE3.csv:  42%|████▏     | 8/19 [00:00<00:00, 146.10it/s]\n"
     ]
    },
    {
     "name": "stdout",
     "output_type": "stream",
     "text": [
      "Bad file\n",
      "smhi_data\\parameter_5\\station_82380-SE3.csv\n"
     ]
    },
    {
     "name": "stderr",
     "output_type": "stream",
     "text": [
      "Writing to file smhi_data\\parameter_5\\station_82380-SE3.csv:  47%|████▋     | 9/19 [00:00<00:00, 102.92it/s]\n"
     ]
    },
    {
     "name": "stdout",
     "output_type": "stream",
     "text": [
      "Bad file\n",
      "smhi_data\\parameter_5\\station_82540-SE3.csv\n"
     ]
    },
    {
     "name": "stderr",
     "output_type": "stream",
     "text": [
      "Writing to file smhi_data\\parameter_5\\station_82540-SE3.csv:  37%|███▋      | 7/19 [00:00<00:00, 157.89it/s]\n"
     ]
    },
    {
     "name": "stdout",
     "output_type": "stream",
     "text": [
      "smhi_data\\parameter_5\\station_82620-SE3.csv\n"
     ]
    },
    {
     "name": "stderr",
     "output_type": "stream",
     "text": [
      "Writing to file smhi_data\\parameter_5\\station_82620-SE3.csv:  37%|███▋      | 7/19 [00:00<00:00, 179.31it/s]\n"
     ]
    },
    {
     "name": "stdout",
     "output_type": "stream",
     "text": [
      "smhi_data\\parameter_5\\station_82640-SE3.csv\n"
     ]
    },
    {
     "name": "stderr",
     "output_type": "stream",
     "text": [
      "Writing to file smhi_data\\parameter_5\\station_82640-SE3.csv:  37%|███▋      | 7/19 [00:00<00:00, 167.15it/s]\n"
     ]
    },
    {
     "name": "stdout",
     "output_type": "stream",
     "text": [
      "smhi_data\\parameter_5\\station_82650-SE3.csv\n"
     ]
    },
    {
     "name": "stderr",
     "output_type": "stream",
     "text": [
      "Writing to file smhi_data\\parameter_5\\station_82650-SE3.csv:  37%|███▋      | 7/19 [00:00<00:00, 187.71it/s]\n"
     ]
    },
    {
     "name": "stdout",
     "output_type": "stream",
     "text": [
      "smhi_data\\parameter_5\\station_82660-SE3.csv\n"
     ]
    },
    {
     "name": "stderr",
     "output_type": "stream",
     "text": [
      "Writing to file smhi_data\\parameter_5\\station_82660-SE3.csv:  37%|███▋      | 7/19 [00:00<00:00, 443.53it/s]\n"
     ]
    },
    {
     "name": "stdout",
     "output_type": "stream",
     "text": [
      "smhi_data\\parameter_5\\station_83050-SE3.csv\n"
     ]
    },
    {
     "name": "stderr",
     "output_type": "stream",
     "text": [
      "Writing to file smhi_data\\parameter_5\\station_83050-SE3.csv:  37%|███▋      | 7/19 [00:00<00:00, 145.95it/s]\n"
     ]
    },
    {
     "name": "stdout",
     "output_type": "stream",
     "text": [
      "smhi_data\\parameter_5\\station_83090-SE3.csv\n"
     ]
    },
    {
     "name": "stderr",
     "output_type": "stream",
     "text": [
      "Writing to file smhi_data\\parameter_5\\station_83090-SE3.csv:  47%|████▋     | 9/19 [00:00<00:00, 151.89it/s]\n"
     ]
    },
    {
     "name": "stdout",
     "output_type": "stream",
     "text": [
      "Bad file\n",
      "smhi_data\\parameter_5\\station_83130-SE3.csv\n"
     ]
    },
    {
     "name": "stderr",
     "output_type": "stream",
     "text": [
      "Writing to file smhi_data\\parameter_5\\station_83130-SE3.csv:  37%|███▋      | 7/19 [00:00<00:00, 157.27it/s]"
     ]
    },
    {
     "name": "stdout",
     "output_type": "stream",
     "text": [
      "smhi_data\\parameter_5\\station_83150-SE3.csv"
     ]
    },
    {
     "name": "stderr",
     "output_type": "stream",
     "text": [
      "\n"
     ]
    },
    {
     "name": "stdout",
     "output_type": "stream",
     "text": [
      "\n"
     ]
    },
    {
     "name": "stderr",
     "output_type": "stream",
     "text": [
      "Writing to file smhi_data\\parameter_5\\station_83150-SE3.csv:  42%|████▏     | 8/19 [00:00<00:00, 199.68it/s]\n"
     ]
    },
    {
     "name": "stdout",
     "output_type": "stream",
     "text": [
      "Bad file\n",
      "smhi_data\\parameter_5\\station_83170-SE3.csv\n"
     ]
    },
    {
     "name": "stderr",
     "output_type": "stream",
     "text": [
      "Writing to file smhi_data\\parameter_5\\station_83170-SE3.csv:  37%|███▋      | 7/19 [00:00<00:00, 176.26it/s]\n"
     ]
    },
    {
     "name": "stdout",
     "output_type": "stream",
     "text": [
      "smhi_data\\parameter_5\\station_83200-SE3.csv\n"
     ]
    },
    {
     "name": "stderr",
     "output_type": "stream",
     "text": [
      "Writing to file smhi_data\\parameter_5\\station_83200-SE3.csv:  37%|███▋      | 7/19 [00:00<00:00, 873.01it/s]\n"
     ]
    },
    {
     "name": "stdout",
     "output_type": "stream",
     "text": [
      "smhi_data\\parameter_5\\station_83210-SE3.csv\n"
     ]
    },
    {
     "name": "stderr",
     "output_type": "stream",
     "text": [
      "Writing to file smhi_data\\parameter_5\\station_83210-SE3.csv:  37%|███▋      | 7/19 [00:00<00:00, 119.82it/s]\n"
     ]
    },
    {
     "name": "stdout",
     "output_type": "stream",
     "text": [
      "Bad file\n",
      "smhi_data\\parameter_5\\station_83230-SE3.csv\n"
     ]
    },
    {
     "name": "stderr",
     "output_type": "stream",
     "text": [
      "Writing to file smhi_data\\parameter_5\\station_83230-SE3.csv:  37%|███▋      | 7/19 [00:00<00:00, 119.12it/s]\n"
     ]
    },
    {
     "name": "stdout",
     "output_type": "stream",
     "text": [
      "Bad file\n",
      "smhi_data\\parameter_5\\station_83240-SE3.csv\n"
     ]
    },
    {
     "name": "stderr",
     "output_type": "stream",
     "text": [
      "Writing to file smhi_data\\parameter_5\\station_83240-SE3.csv:  37%|███▋      | 7/19 [00:00<00:00, 807.60it/s]\n"
     ]
    },
    {
     "name": "stdout",
     "output_type": "stream",
     "text": [
      "smhi_data\\parameter_5\\station_83270-SE3.csv\n"
     ]
    },
    {
     "name": "stderr",
     "output_type": "stream",
     "text": [
      "Writing to file smhi_data\\parameter_5\\station_83270-SE3.csv:  47%|████▋     | 9/19 [00:00<00:00, 74.87it/s]\n"
     ]
    },
    {
     "name": "stdout",
     "output_type": "stream",
     "text": [
      "Bad file\n",
      "smhi_data\\parameter_5\\station_83280-SE3.csv\n"
     ]
    },
    {
     "name": "stderr",
     "output_type": "stream",
     "text": [
      "Writing to file smhi_data\\parameter_5\\station_83280-SE3.csv:  53%|█████▎    | 10/19 [00:00<00:00, 134.82it/s]\n"
     ]
    },
    {
     "name": "stdout",
     "output_type": "stream",
     "text": [
      "Bad file\n",
      "smhi_data\\parameter_5\\station_83320-SE3.csv\n"
     ]
    },
    {
     "name": "stderr",
     "output_type": "stream",
     "text": [
      "Writing to file smhi_data\\parameter_5\\station_83320-SE3.csv:  42%|████▏     | 8/19 [00:00<00:00, 116.63it/s]\n"
     ]
    },
    {
     "name": "stdout",
     "output_type": "stream",
     "text": [
      "Bad file\n",
      "smhi_data\\parameter_5\\station_83340-SE3.csv\n"
     ]
    },
    {
     "name": "stderr",
     "output_type": "stream",
     "text": [
      "Writing to file smhi_data\\parameter_5\\station_83340-SE3.csv:  42%|████▏     | 8/19 [00:00<00:00, 155.63it/s]\n"
     ]
    },
    {
     "name": "stdout",
     "output_type": "stream",
     "text": [
      "smhi_data\\parameter_5\\station_83440-SE3.csv\n"
     ]
    },
    {
     "name": "stderr",
     "output_type": "stream",
     "text": [
      "Writing to file smhi_data\\parameter_5\\station_83440-SE3.csv:  42%|████▏     | 8/19 [00:00<00:00, 140.25it/s]\n"
     ]
    },
    {
     "name": "stdout",
     "output_type": "stream",
     "text": [
      "Bad file\n",
      "smhi_data\\parameter_5\\station_83460-SE3.csv\n"
     ]
    },
    {
     "name": "stderr",
     "output_type": "stream",
     "text": [
      "Writing to file smhi_data\\parameter_5\\station_83460-SE3.csv:  37%|███▋      | 7/19 [00:00<00:00, 374.44it/s]\n"
     ]
    },
    {
     "name": "stdout",
     "output_type": "stream",
     "text": [
      "smhi_data\\parameter_5\\station_83540-SE3.csv\n"
     ]
    },
    {
     "name": "stderr",
     "output_type": "stream",
     "text": [
      "Writing to file smhi_data\\parameter_5\\station_83540-SE3.csv:  37%|███▋      | 7/19 [00:00<00:00, 159.78it/s]\n"
     ]
    },
    {
     "name": "stdout",
     "output_type": "stream",
     "text": [
      "smhi_data\\parameter_5\\station_83610-SE3.csv\n"
     ]
    },
    {
     "name": "stderr",
     "output_type": "stream",
     "text": [
      "Writing to file smhi_data\\parameter_5\\station_83610-SE3.csv:  37%|███▋      | 7/19 [00:00<00:00, 822.76it/s]\n"
     ]
    },
    {
     "name": "stdout",
     "output_type": "stream",
     "text": [
      "smhi_data\\parameter_5\\station_83630-SE3.csv\n"
     ]
    },
    {
     "name": "stderr",
     "output_type": "stream",
     "text": [
      "Writing to file smhi_data\\parameter_5\\station_83630-SE3.csv:  37%|███▋      | 7/19 [00:00<00:00, 165.72it/s]\n"
     ]
    },
    {
     "name": "stdout",
     "output_type": "stream",
     "text": [
      "smhi_data\\parameter_5\\station_83640-SE3.csv\n"
     ]
    },
    {
     "name": "stderr",
     "output_type": "stream",
     "text": [
      "Writing to file smhi_data\\parameter_5\\station_83640-SE3.csv:  37%|███▋      | 7/19 [00:00<00:00, 182.34it/s]\n"
     ]
    },
    {
     "name": "stdout",
     "output_type": "stream",
     "text": [
      "smhi_data\\parameter_5\\station_83660-SE3.csv\n"
     ]
    },
    {
     "name": "stderr",
     "output_type": "stream",
     "text": [
      "Writing to file smhi_data\\parameter_5\\station_83660-SE3.csv:  37%|███▋      | 7/19 [00:00<00:00, 185.51it/s]\n"
     ]
    },
    {
     "name": "stdout",
     "output_type": "stream",
     "text": [
      "smhi_data\\parameter_5\\station_83670-SE3.csv\n"
     ]
    },
    {
     "name": "stderr",
     "output_type": "stream",
     "text": [
      "Writing to file smhi_data\\parameter_5\\station_83670-SE3.csv:  37%|███▋      | 7/19 [00:00<00:00, 162.64it/s]\n"
     ]
    },
    {
     "name": "stdout",
     "output_type": "stream",
     "text": [
      "smhi_data\\parameter_5\\station_83690-SE3.csv\n"
     ]
    },
    {
     "name": "stderr",
     "output_type": "stream",
     "text": [
      "Writing to file smhi_data\\parameter_5\\station_83690-SE3.csv:  37%|███▋      | 7/19 [00:00<00:00, 459.16it/s]\n"
     ]
    },
    {
     "name": "stdout",
     "output_type": "stream",
     "text": [
      "smhi_data\\parameter_5\\station_83740-SE3.csv\n"
     ]
    },
    {
     "name": "stderr",
     "output_type": "stream",
     "text": [
      "Writing to file smhi_data\\parameter_5\\station_83740-SE3.csv:  37%|███▋      | 7/19 [00:00<00:00, 475.08it/s]\n"
     ]
    },
    {
     "name": "stdout",
     "output_type": "stream",
     "text": [
      "smhi_data\\parameter_5\\station_84020-SE3.csv\n"
     ]
    },
    {
     "name": "stderr",
     "output_type": "stream",
     "text": [
      "Writing to file smhi_data\\parameter_5\\station_84020-SE3.csv:  47%|████▋     | 9/19 [00:00<00:00, 101.03it/s]\n"
     ]
    },
    {
     "name": "stdout",
     "output_type": "stream",
     "text": [
      "Bad file\n",
      "smhi_data\\parameter_5\\station_84060-SE3.csv\n"
     ]
    },
    {
     "name": "stderr",
     "output_type": "stream",
     "text": [
      "Writing to file smhi_data\\parameter_5\\station_84060-SE3.csv:  58%|█████▊    | 11/19 [00:00<00:00, 154.75it/s]\n"
     ]
    },
    {
     "name": "stdout",
     "output_type": "stream",
     "text": [
      "smhi_data\\parameter_5\\station_84310-SE3.csv\n"
     ]
    },
    {
     "name": "stderr",
     "output_type": "stream",
     "text": [
      "Writing to file smhi_data\\parameter_5\\station_84310-SE3.csv:  47%|████▋     | 9/19 [00:00<00:00, 148.54it/s]\n"
     ]
    },
    {
     "name": "stdout",
     "output_type": "stream",
     "text": [
      "Bad file\n",
      "smhi_data\\parameter_5\\station_84390-SE3.csv\n"
     ]
    },
    {
     "name": "stderr",
     "output_type": "stream",
     "text": [
      "Writing to file smhi_data\\parameter_5\\station_84390-SE3.csv:  47%|████▋     | 9/19 [00:00<00:00, 151.30it/s]\n"
     ]
    },
    {
     "name": "stdout",
     "output_type": "stream",
     "text": [
      "Bad file\n",
      "smhi_data\\parameter_5\\station_84470-SE3.csv\n"
     ]
    },
    {
     "name": "stderr",
     "output_type": "stream",
     "text": [
      "Writing to file smhi_data\\parameter_5\\station_84470-SE3.csv:  47%|████▋     | 9/19 [00:00<00:00, 148.60it/s]\n"
     ]
    },
    {
     "name": "stdout",
     "output_type": "stream",
     "text": [
      "Bad file\n",
      "smhi_data\\parameter_5\\station_84580-SE3.csv\n"
     ]
    },
    {
     "name": "stderr",
     "output_type": "stream",
     "text": [
      "Writing to file smhi_data\\parameter_5\\station_84580-SE3.csv:  47%|████▋     | 9/19 [00:00<00:00, 160.98it/s]\n"
     ]
    },
    {
     "name": "stdout",
     "output_type": "stream",
     "text": [
      "Bad file\n",
      "smhi_data\\parameter_5\\station_84610-SE3.csv\n"
     ]
    },
    {
     "name": "stderr",
     "output_type": "stream",
     "text": [
      "Writing to file smhi_data\\parameter_5\\station_84610-SE3.csv:  37%|███▋      | 7/19 [00:00<00:00, 1165.92it/s]\n"
     ]
    },
    {
     "name": "stdout",
     "output_type": "stream",
     "text": [
      "smhi_data\\parameter_5\\station_84620-SE3.csv\n"
     ]
    },
    {
     "name": "stderr",
     "output_type": "stream",
     "text": [
      "Writing to file smhi_data\\parameter_5\\station_84620-SE3.csv:  37%|███▋      | 7/19 [00:00<00:00, 133.46it/s]\n"
     ]
    },
    {
     "name": "stdout",
     "output_type": "stream",
     "text": [
      "smhi_data\\parameter_5\\station_84630-SE3.csv\n"
     ]
    },
    {
     "name": "stderr",
     "output_type": "stream",
     "text": [
      "Writing to file smhi_data\\parameter_5\\station_84630-SE3.csv:  37%|███▋      | 7/19 [00:00<00:00, 139.45it/s]\n"
     ]
    },
    {
     "name": "stdout",
     "output_type": "stream",
     "text": [
      "smhi_data\\parameter_5\\station_84660-SE3.csv\n"
     ]
    },
    {
     "name": "stderr",
     "output_type": "stream",
     "text": [
      "Writing to file smhi_data\\parameter_5\\station_84660-SE3.csv:  37%|███▋      | 7/19 [00:00<00:00, 1163.24it/s]\n"
     ]
    },
    {
     "name": "stdout",
     "output_type": "stream",
     "text": [
      "smhi_data\\parameter_5\\station_84690-SE3.csv\n"
     ]
    },
    {
     "name": "stderr",
     "output_type": "stream",
     "text": [
      "Writing to file smhi_data\\parameter_5\\station_84690-SE3.csv:  37%|███▋      | 7/19 [00:00<00:00, 662.91it/s]\n"
     ]
    },
    {
     "name": "stdout",
     "output_type": "stream",
     "text": [
      "smhi_data\\parameter_5\\station_84780-SE3.csv\n"
     ]
    },
    {
     "name": "stderr",
     "output_type": "stream",
     "text": [
      "Writing to file smhi_data\\parameter_5\\station_84780-SE3.csv:  37%|███▋      | 7/19 [00:00<00:00, 152.14it/s]\n"
     ]
    },
    {
     "name": "stdout",
     "output_type": "stream",
     "text": [
      "smhi_data\\parameter_5\\station_85010-SE3.csv\n"
     ]
    },
    {
     "name": "stderr",
     "output_type": "stream",
     "text": [
      "Writing to file smhi_data\\parameter_5\\station_85010-SE3.csv:  37%|███▋      | 7/19 [00:00<00:00, 177.82it/s]\n"
     ]
    },
    {
     "name": "stdout",
     "output_type": "stream",
     "text": [
      "smhi_data\\parameter_5\\station_85040-SE3.csv\n"
     ]
    },
    {
     "name": "stderr",
     "output_type": "stream",
     "text": [
      "Writing to file smhi_data\\parameter_5\\station_85040-SE3.csv:  47%|████▋     | 9/19 [00:00<00:00, 137.54it/s]\n"
     ]
    },
    {
     "name": "stdout",
     "output_type": "stream",
     "text": [
      "smhi_data\\parameter_5\\station_85130-SE3.csv\n"
     ]
    },
    {
     "name": "stderr",
     "output_type": "stream",
     "text": [
      "Writing to file smhi_data\\parameter_5\\station_85130-SE3.csv:  47%|████▋     | 9/19 [00:00<00:00, 135.01it/s]\n"
     ]
    },
    {
     "name": "stdout",
     "output_type": "stream",
     "text": [
      "smhi_data\\parameter_5\\station_85160-SE3.csv\n"
     ]
    },
    {
     "name": "stderr",
     "output_type": "stream",
     "text": [
      "Writing to file smhi_data\\parameter_5\\station_85160-SE3.csv:  37%|███▋      | 7/19 [00:00<00:00, 149.01it/s]\n"
     ]
    },
    {
     "name": "stdout",
     "output_type": "stream",
     "text": [
      "smhi_data\\parameter_5\\station_85180-SE3.csv\n"
     ]
    },
    {
     "name": "stderr",
     "output_type": "stream",
     "text": [
      "Writing to file smhi_data\\parameter_5\\station_85180-SE3.csv:  37%|███▋      | 7/19 [00:00<00:00, 183.05it/s]\n"
     ]
    },
    {
     "name": "stdout",
     "output_type": "stream",
     "text": [
      "Bad file\n",
      "smhi_data\\parameter_5\\station_85210-SE3.csv\n"
     ]
    },
    {
     "name": "stderr",
     "output_type": "stream",
     "text": [
      "Writing to file smhi_data\\parameter_5\\station_85210-SE3.csv:  37%|███▋      | 7/19 [00:00<00:00, 169.41it/s]\n"
     ]
    },
    {
     "name": "stdout",
     "output_type": "stream",
     "text": [
      "smhi_data\\parameter_5\\station_85220-SE3.csv\n"
     ]
    },
    {
     "name": "stderr",
     "output_type": "stream",
     "text": [
      "Writing to file smhi_data\\parameter_5\\station_85220-SE3.csv:  37%|███▋      | 7/19 [00:00<00:00, 168.76it/s]\n"
     ]
    },
    {
     "name": "stdout",
     "output_type": "stream",
     "text": [
      "smhi_data\\parameter_5\\station_85240-SE3.csv\n"
     ]
    },
    {
     "name": "stderr",
     "output_type": "stream",
     "text": [
      "Writing to file smhi_data\\parameter_5\\station_85240-SE3.csv:  37%|███▋      | 7/19 [00:00<00:00, 137.26it/s]\n"
     ]
    },
    {
     "name": "stdout",
     "output_type": "stream",
     "text": [
      "Bad file\n",
      "smhi_data\\parameter_5\\station_85250-SE3.csv\n"
     ]
    },
    {
     "name": "stderr",
     "output_type": "stream",
     "text": [
      "Writing to file smhi_data\\parameter_5\\station_85250-SE3.csv:  47%|████▋     | 9/19 [00:00<00:00, 112.96it/s]\n"
     ]
    },
    {
     "name": "stdout",
     "output_type": "stream",
     "text": [
      "Bad file\n",
      "smhi_data\\parameter_5\\station_85270-SE3.csv\n"
     ]
    },
    {
     "name": "stderr",
     "output_type": "stream",
     "text": [
      "Writing to file smhi_data\\parameter_5\\station_85270-SE3.csv:  37%|███▋      | 7/19 [00:00<00:00, 411.80it/s]\n"
     ]
    },
    {
     "name": "stdout",
     "output_type": "stream",
     "text": [
      "smhi_data\\parameter_5\\station_85280-SE3.csv\n"
     ]
    },
    {
     "name": "stderr",
     "output_type": "stream",
     "text": [
      "Writing to file smhi_data\\parameter_5\\station_85280-SE3.csv:  42%|████▏     | 8/19 [00:00<00:00, 170.18it/s]\n"
     ]
    },
    {
     "name": "stdout",
     "output_type": "stream",
     "text": [
      "Bad file\n",
      "smhi_data\\parameter_5\\station_85330-SE3.csv\n"
     ]
    },
    {
     "name": "stderr",
     "output_type": "stream",
     "text": [
      "Writing to file smhi_data\\parameter_5\\station_85330-SE3.csv:  47%|████▋     | 9/19 [00:00<00:00, 133.69it/s]\n"
     ]
    },
    {
     "name": "stdout",
     "output_type": "stream",
     "text": [
      "Bad file\n",
      "smhi_data\\parameter_5\\station_85450-SE3.csv\n"
     ]
    },
    {
     "name": "stderr",
     "output_type": "stream",
     "text": [
      "Writing to file smhi_data\\parameter_5\\station_85450-SE3.csv:  58%|█████▊    | 11/19 [00:00<00:00, 124.34it/s]\n"
     ]
    },
    {
     "name": "stdout",
     "output_type": "stream",
     "text": [
      "Bad file\n",
      "smhi_data\\parameter_5\\station_85490-SE3.csv\n"
     ]
    },
    {
     "name": "stderr",
     "output_type": "stream",
     "text": [
      "Writing to file smhi_data\\parameter_5\\station_85490-SE3.csv:  37%|███▋      | 7/19 [00:00<00:00, 123.17it/s]\n"
     ]
    },
    {
     "name": "stdout",
     "output_type": "stream",
     "text": [
      "Bad file\n",
      "smhi_data\\parameter_5\\station_85520-SE3.csv\n"
     ]
    },
    {
     "name": "stderr",
     "output_type": "stream",
     "text": [
      "Writing to file smhi_data\\parameter_5\\station_85520-SE3.csv:  42%|████▏     | 8/19 [00:00<00:00, 170.08it/s]\n"
     ]
    },
    {
     "name": "stdout",
     "output_type": "stream",
     "text": [
      "smhi_data\\parameter_5\\station_85630-SE3.csv\n"
     ]
    },
    {
     "name": "stderr",
     "output_type": "stream",
     "text": [
      "Writing to file smhi_data\\parameter_5\\station_85630-SE3.csv:  37%|███▋      | 7/19 [00:00<00:00, 135.72it/s]\n"
     ]
    },
    {
     "name": "stdout",
     "output_type": "stream",
     "text": [
      "smhi_data\\parameter_5\\station_85650-SE3.csv\n"
     ]
    },
    {
     "name": "stderr",
     "output_type": "stream",
     "text": [
      "Writing to file smhi_data\\parameter_5\\station_85650-SE3.csv:  37%|███▋      | 7/19 [00:00<00:00, 200.05it/s]\n"
     ]
    },
    {
     "name": "stdout",
     "output_type": "stream",
     "text": [
      "smhi_data\\parameter_5\\station_86010-SE3.csv\n"
     ]
    },
    {
     "name": "stderr",
     "output_type": "stream",
     "text": [
      "Writing to file smhi_data\\parameter_5\\station_86010-SE3.csv:  47%|████▋     | 9/19 [00:00<00:00, 189.33it/s]\n"
     ]
    },
    {
     "name": "stdout",
     "output_type": "stream",
     "text": [
      "Bad file\n",
      "smhi_data\\parameter_5\\station_86090-SE3.csv\n"
     ]
    },
    {
     "name": "stderr",
     "output_type": "stream",
     "text": [
      "Writing to file smhi_data\\parameter_5\\station_86090-SE3.csv:  37%|███▋      | 7/19 [00:00<00:00, 158.26it/s]\n"
     ]
    },
    {
     "name": "stdout",
     "output_type": "stream",
     "text": [
      "smhi_data\\parameter_5\\station_86200-SE3.csv\n"
     ]
    },
    {
     "name": "stderr",
     "output_type": "stream",
     "text": [
      "Writing to file smhi_data\\parameter_5\\station_86200-SE3.csv:  37%|███▋      | 7/19 [00:00<00:00, 106.49it/s]\n"
     ]
    },
    {
     "name": "stdout",
     "output_type": "stream",
     "text": [
      "smhi_data\\parameter_5\\station_86330-SE3.csv\n"
     ]
    },
    {
     "name": "stderr",
     "output_type": "stream",
     "text": [
      "Writing to file smhi_data\\parameter_5\\station_86330-SE3.csv:  37%|███▋      | 7/19 [00:00<00:00, 130.19it/s]\n"
     ]
    },
    {
     "name": "stdout",
     "output_type": "stream",
     "text": [
      "smhi_data\\parameter_5\\station_86340-SE3.csv\n"
     ]
    },
    {
     "name": "stderr",
     "output_type": "stream",
     "text": [
      "Writing to file smhi_data\\parameter_5\\station_86340-SE3.csv:  42%|████▏     | 8/19 [00:00<00:00, 171.66it/s]\n"
     ]
    },
    {
     "name": "stdout",
     "output_type": "stream",
     "text": [
      "Bad file\n",
      "smhi_data\\parameter_5\\station_86350-SE3.csv\n"
     ]
    },
    {
     "name": "stderr",
     "output_type": "stream",
     "text": [
      "Writing to file smhi_data\\parameter_5\\station_86350-SE3.csv:  37%|███▋      | 7/19 [00:00<00:00, 174.58it/s]\n"
     ]
    },
    {
     "name": "stdout",
     "output_type": "stream",
     "text": [
      "smhi_data\\parameter_5\\station_86360-SE3.csv\n"
     ]
    },
    {
     "name": "stderr",
     "output_type": "stream",
     "text": [
      "Writing to file smhi_data\\parameter_5\\station_86360-SE3.csv:  37%|███▋      | 7/19 [00:00<00:00, 145.73it/s]\n"
     ]
    },
    {
     "name": "stdout",
     "output_type": "stream",
     "text": [
      "smhi_data\\parameter_5\\station_86370-SE3.csv\n"
     ]
    },
    {
     "name": "stderr",
     "output_type": "stream",
     "text": [
      "Writing to file smhi_data\\parameter_5\\station_86370-SE3.csv:  37%|███▋      | 7/19 [00:00<00:00, 144.99it/s]\n"
     ]
    },
    {
     "name": "stdout",
     "output_type": "stream",
     "text": [
      "smhi_data\\parameter_5\\station_86470-SE3.csv\n"
     ]
    },
    {
     "name": "stderr",
     "output_type": "stream",
     "text": [
      "Writing to file smhi_data\\parameter_5\\station_86470-SE3.csv:  42%|████▏     | 8/19 [00:00<00:00, 145.00it/s]\n"
     ]
    },
    {
     "name": "stdout",
     "output_type": "stream",
     "text": [
      "Bad file\n",
      "smhi_data\\parameter_5\\station_86480-SE3.csv\n"
     ]
    },
    {
     "name": "stderr",
     "output_type": "stream",
     "text": [
      "Writing to file smhi_data\\parameter_5\\station_86480-SE3.csv:  37%|███▋      | 7/19 [00:00<00:00, 153.68it/s]\n"
     ]
    },
    {
     "name": "stdout",
     "output_type": "stream",
     "text": [
      "smhi_data\\parameter_5\\station_86650-SE3.csv\n"
     ]
    },
    {
     "name": "stderr",
     "output_type": "stream",
     "text": [
      "Writing to file smhi_data\\parameter_5\\station_86650-SE3.csv:  37%|███▋      | 7/19 [00:00<00:00, 430.57it/s]\n"
     ]
    },
    {
     "name": "stdout",
     "output_type": "stream",
     "text": [
      "smhi_data\\parameter_5\\station_86660-SE3.csv\n"
     ]
    },
    {
     "name": "stderr",
     "output_type": "stream",
     "text": [
      "Writing to file smhi_data\\parameter_5\\station_86660-SE3.csv:  42%|████▏     | 8/19 [00:00<00:00, 106.37it/s]\n"
     ]
    },
    {
     "name": "stdout",
     "output_type": "stream",
     "text": [
      "Bad file\n",
      "smhi_data\\parameter_5\\station_86670-SE3.csv\n"
     ]
    },
    {
     "name": "stderr",
     "output_type": "stream",
     "text": [
      "Writing to file smhi_data\\parameter_5\\station_86670-SE3.csv:  37%|███▋      | 7/19 [00:00<00:00, 189.30it/s]\n"
     ]
    },
    {
     "name": "stdout",
     "output_type": "stream",
     "text": [
      "smhi_data\\parameter_5\\station_86700-SE3.csv\n"
     ]
    },
    {
     "name": "stderr",
     "output_type": "stream",
     "text": [
      "Writing to file smhi_data\\parameter_5\\station_86700-SE3.csv:  37%|███▋      | 7/19 [00:00<00:00, 156.19it/s]\n"
     ]
    },
    {
     "name": "stdout",
     "output_type": "stream",
     "text": [
      "smhi_data\\parameter_5\\station_87150-SE3.csv\n"
     ]
    },
    {
     "name": "stderr",
     "output_type": "stream",
     "text": [
      "Writing to file smhi_data\\parameter_5\\station_87150-SE3.csv:  37%|███▋      | 7/19 [00:00<00:00, 139.57it/s]\n"
     ]
    },
    {
     "name": "stdout",
     "output_type": "stream",
     "text": [
      "smhi_data\\parameter_5\\station_87400-SE3.csv\n"
     ]
    },
    {
     "name": "stderr",
     "output_type": "stream",
     "text": [
      "Writing to file smhi_data\\parameter_5\\station_87400-SE3.csv:  42%|████▏     | 8/19 [00:00<00:00, 101.23it/s]\n"
     ]
    },
    {
     "name": "stdout",
     "output_type": "stream",
     "text": [
      "Bad file\n",
      "smhi_data\\parameter_5\\station_87450-SE3.csv\n"
     ]
    },
    {
     "name": "stderr",
     "output_type": "stream",
     "text": [
      "Writing to file smhi_data\\parameter_5\\station_87450-SE3.csv:  53%|█████▎    | 10/19 [00:00<00:00, 107.90it/s]\n"
     ]
    },
    {
     "name": "stdout",
     "output_type": "stream",
     "text": [
      "Bad file\n",
      "smhi_data\\parameter_5\\station_87520-SE3.csv\n"
     ]
    },
    {
     "name": "stderr",
     "output_type": "stream",
     "text": [
      "Writing to file smhi_data\\parameter_5\\station_87520-SE3.csv:  37%|███▋      | 7/19 [00:00<00:00, 643.95it/s]\n"
     ]
    },
    {
     "name": "stdout",
     "output_type": "stream",
     "text": [
      "smhi_data\\parameter_5\\station_87540-SE3.csv\n"
     ]
    },
    {
     "name": "stderr",
     "output_type": "stream",
     "text": [
      "Writing to file smhi_data\\parameter_5\\station_87540-SE3.csv:  37%|███▋      | 7/19 [00:00<00:00, 156.39it/s]\n"
     ]
    },
    {
     "name": "stdout",
     "output_type": "stream",
     "text": [
      "smhi_data\\parameter_5\\station_87570-SE3.csv\n"
     ]
    },
    {
     "name": "stderr",
     "output_type": "stream",
     "text": [
      "Writing to file smhi_data\\parameter_5\\station_87570-SE3.csv:  47%|████▋     | 9/19 [00:00<00:00, 126.71it/s]\n"
     ]
    },
    {
     "name": "stdout",
     "output_type": "stream",
     "text": [
      "Bad file\n",
      "smhi_data\\parameter_5\\station_88570-SE3.csv\n"
     ]
    },
    {
     "name": "stderr",
     "output_type": "stream",
     "text": [
      "Writing to file smhi_data\\parameter_5\\station_88570-SE3.csv:  37%|███▋      | 7/19 [00:00<00:00, 225.35it/s]\n"
     ]
    },
    {
     "name": "stdout",
     "output_type": "stream",
     "text": [
      "smhi_data\\parameter_5\\station_88580-SE3.csv\n"
     ]
    },
    {
     "name": "stderr",
     "output_type": "stream",
     "text": [
      "Writing to file smhi_data\\parameter_5\\station_88580-SE3.csv:  37%|███▋      | 7/19 [00:00<00:00, 164.94it/s]\n"
     ]
    },
    {
     "name": "stdout",
     "output_type": "stream",
     "text": [
      "smhi_data\\parameter_5\\station_88590-SE3.csv\n"
     ]
    },
    {
     "name": "stderr",
     "output_type": "stream",
     "text": [
      "Writing to file smhi_data\\parameter_5\\station_88590-SE3.csv:  37%|███▋      | 7/19 [00:00<00:00, 212.63it/s]\n"
     ]
    },
    {
     "name": "stdout",
     "output_type": "stream",
     "text": [
      "smhi_data\\parameter_5\\station_89240-SE3.csv\n"
     ]
    },
    {
     "name": "stderr",
     "output_type": "stream",
     "text": [
      "Writing to file smhi_data\\parameter_5\\station_89240-SE3.csv:  37%|███▋      | 7/19 [00:00<00:00, 99.82it/s]\n"
     ]
    },
    {
     "name": "stdout",
     "output_type": "stream",
     "text": [
      "smhi_data\\parameter_5\\station_91120-SE3.csv\n"
     ]
    },
    {
     "name": "stderr",
     "output_type": "stream",
     "text": [
      "Writing to file smhi_data\\parameter_5\\station_91120-SE3.csv:  37%|███▋      | 7/19 [00:00<00:00, 784.25it/s]\n"
     ]
    },
    {
     "name": "stdout",
     "output_type": "stream",
     "text": [
      "smhi_data\\parameter_5\\station_91130-SE3.csv\n"
     ]
    },
    {
     "name": "stderr",
     "output_type": "stream",
     "text": [
      "Writing to file smhi_data\\parameter_5\\station_91130-SE3.csv:  37%|███▋      | 7/19 [00:00<00:00, 137.65it/s]\n"
     ]
    },
    {
     "name": "stdout",
     "output_type": "stream",
     "text": [
      "smhi_data\\parameter_5\\station_91370-SE3.csv\n"
     ]
    },
    {
     "name": "stderr",
     "output_type": "stream",
     "text": [
      "Writing to file smhi_data\\parameter_5\\station_91370-SE3.csv:  37%|███▋      | 7/19 [00:00<00:00, 129.04it/s]\n"
     ]
    },
    {
     "name": "stdout",
     "output_type": "stream",
     "text": [
      "smhi_data\\parameter_5\\station_91520-SE3.csv\n"
     ]
    },
    {
     "name": "stderr",
     "output_type": "stream",
     "text": [
      "Writing to file smhi_data\\parameter_5\\station_91520-SE3.csv:  37%|███▋      | 7/19 [00:00<00:00, 161.77it/s]\n"
     ]
    },
    {
     "name": "stdout",
     "output_type": "stream",
     "text": [
      "smhi_data\\parameter_5\\station_91620-SE3.csv\n"
     ]
    },
    {
     "name": "stderr",
     "output_type": "stream",
     "text": [
      "Writing to file smhi_data\\parameter_5\\station_91620-SE3.csv:  37%|███▋      | 7/19 [00:00<00:00, 149.27it/s]\n"
     ]
    },
    {
     "name": "stdout",
     "output_type": "stream",
     "text": [
      "smhi_data\\parameter_5\\station_91660-SE3.csv\n"
     ]
    },
    {
     "name": "stderr",
     "output_type": "stream",
     "text": [
      "Writing to file smhi_data\\parameter_5\\station_91660-SE3.csv:  37%|███▋      | 7/19 [00:00<00:00, 101.47it/s]\n"
     ]
    },
    {
     "name": "stdout",
     "output_type": "stream",
     "text": [
      "smhi_data\\parameter_5\\station_92030-SE3.csv\n"
     ]
    },
    {
     "name": "stderr",
     "output_type": "stream",
     "text": [
      "Writing to file smhi_data\\parameter_5\\station_92030-SE3.csv:  37%|███▋      | 7/19 [00:00<00:00, 159.81it/s]\n"
     ]
    },
    {
     "name": "stdout",
     "output_type": "stream",
     "text": [
      "smhi_data\\parameter_5\\station_92100-SE3.csv\n"
     ]
    },
    {
     "name": "stderr",
     "output_type": "stream",
     "text": [
      "Writing to file smhi_data\\parameter_5\\station_92100-SE3.csv:  42%|████▏     | 8/19 [00:00<00:00, 135.77it/s]\n"
     ]
    },
    {
     "name": "stdout",
     "output_type": "stream",
     "text": [
      "Bad file\n",
      "smhi_data\\parameter_5\\station_92170-SE3.csv\n"
     ]
    },
    {
     "name": "stderr",
     "output_type": "stream",
     "text": [
      "Writing to file smhi_data\\parameter_5\\station_92170-SE3.csv:  37%|███▋      | 7/19 [00:00<00:00, 121.57it/s]\n"
     ]
    },
    {
     "name": "stdout",
     "output_type": "stream",
     "text": [
      "smhi_data\\parameter_5\\station_92370-SE3.csv\n"
     ]
    },
    {
     "name": "stderr",
     "output_type": "stream",
     "text": [
      "Writing to file smhi_data\\parameter_5\\station_92370-SE3.csv:  37%|███▋      | 7/19 [00:00<00:00, 168.49it/s]\n"
     ]
    },
    {
     "name": "stdout",
     "output_type": "stream",
     "text": [
      "smhi_data\\parameter_5\\station_92380-SE3.csv\n"
     ]
    },
    {
     "name": "stderr",
     "output_type": "stream",
     "text": [
      "Writing to file smhi_data\\parameter_5\\station_92380-SE3.csv:  42%|████▏     | 8/19 [00:00<00:00, 197.54it/s]\n"
     ]
    },
    {
     "name": "stdout",
     "output_type": "stream",
     "text": [
      "Bad file\n",
      "smhi_data\\parameter_5\\station_92400-SE3.csv\n"
     ]
    },
    {
     "name": "stderr",
     "output_type": "stream",
     "text": [
      "Writing to file smhi_data\\parameter_5\\station_92400-SE3.csv:  47%|████▋     | 9/19 [00:00<00:00, 148.46it/s]\n"
     ]
    },
    {
     "name": "stdout",
     "output_type": "stream",
     "text": [
      "smhi_data\\parameter_5\\station_92480-SE3.csv\n"
     ]
    },
    {
     "name": "stderr",
     "output_type": "stream",
     "text": [
      "Writing to file smhi_data\\parameter_5\\station_92480-SE3.csv:  37%|███▋      | 7/19 [00:00<00:00, 160.56it/s]\n"
     ]
    },
    {
     "name": "stdout",
     "output_type": "stream",
     "text": [
      "smhi_data\\parameter_5\\station_92630-SE3.csv\n"
     ]
    },
    {
     "name": "stderr",
     "output_type": "stream",
     "text": [
      "Writing to file smhi_data\\parameter_5\\station_92630-SE3.csv:  37%|███▋      | 7/19 [00:00<00:00, 166.61it/s]\n"
     ]
    },
    {
     "name": "stdout",
     "output_type": "stream",
     "text": [
      "smhi_data\\parameter_5\\station_93220-SE3.csv\n"
     ]
    },
    {
     "name": "stderr",
     "output_type": "stream",
     "text": [
      "Writing to file smhi_data\\parameter_5\\station_93220-SE3.csv:  42%|████▏     | 8/19 [00:00<00:00, 146.71it/s]\n"
     ]
    },
    {
     "name": "stdout",
     "output_type": "stream",
     "text": [
      "smhi_data\\parameter_5\\station_93230-SE3.csv\n"
     ]
    },
    {
     "name": "stderr",
     "output_type": "stream",
     "text": [
      "Writing to file smhi_data\\parameter_5\\station_93230-SE3.csv:  37%|███▋      | 7/19 [00:00<00:00, 1873.41it/s]\n"
     ]
    },
    {
     "name": "stdout",
     "output_type": "stream",
     "text": [
      "smhi_data\\parameter_5\\station_93240-SE3.csv\n"
     ]
    },
    {
     "name": "stderr",
     "output_type": "stream",
     "text": [
      "Writing to file smhi_data\\parameter_5\\station_93240-SE3.csv:  42%|████▏     | 8/19 [00:00<00:00, 137.63it/s]\n"
     ]
    },
    {
     "name": "stdout",
     "output_type": "stream",
     "text": [
      "smhi_data\\parameter_5\\station_93250-SE3.csv\n"
     ]
    },
    {
     "name": "stderr",
     "output_type": "stream",
     "text": [
      "Writing to file smhi_data\\parameter_5\\station_93250-SE3.csv:  53%|█████▎    | 10/19 [00:00<00:00, 111.84it/s]\n"
     ]
    },
    {
     "name": "stdout",
     "output_type": "stream",
     "text": [
      "Bad file\n",
      "smhi_data\\parameter_5\\station_93340-SE3.csv\n"
     ]
    },
    {
     "name": "stderr",
     "output_type": "stream",
     "text": [
      "Writing to file smhi_data\\parameter_5\\station_93340-SE3.csv:  42%|████▏     | 8/19 [00:00<00:00, 137.31it/s]\n"
     ]
    },
    {
     "name": "stdout",
     "output_type": "stream",
     "text": [
      "smhi_data\\parameter_5\\station_93360-SE3.csv\n"
     ]
    },
    {
     "name": "stderr",
     "output_type": "stream",
     "text": [
      "Writing to file smhi_data\\parameter_5\\station_93360-SE3.csv:  37%|███▋      | 7/19 [00:00<00:00, 166.80it/s]\n"
     ]
    },
    {
     "name": "stdout",
     "output_type": "stream",
     "text": [
      "smhi_data\\parameter_5\\station_93520-SE3.csv\n"
     ]
    },
    {
     "name": "stderr",
     "output_type": "stream",
     "text": [
      "Writing to file smhi_data\\parameter_5\\station_93520-SE3.csv:  42%|████▏     | 8/19 [00:00<00:00, 152.36it/s]\n"
     ]
    },
    {
     "name": "stdout",
     "output_type": "stream",
     "text": [
      "Bad file\n",
      "smhi_data\\parameter_5\\station_93580-SE3.csv\n"
     ]
    },
    {
     "name": "stderr",
     "output_type": "stream",
     "text": [
      "Writing to file smhi_data\\parameter_5\\station_93580-SE3.csv:  53%|█████▎    | 10/19 [00:00<00:00, 164.52it/s]\n"
     ]
    },
    {
     "name": "stdout",
     "output_type": "stream",
     "text": [
      "smhi_data\\parameter_5\\station_94050-SE3.csv\n"
     ]
    },
    {
     "name": "stderr",
     "output_type": "stream",
     "text": [
      "Writing to file smhi_data\\parameter_5\\station_94050-SE3.csv:  42%|████▏     | 8/19 [00:00<00:00, 144.92it/s]\n"
     ]
    },
    {
     "name": "stdout",
     "output_type": "stream",
     "text": [
      "Bad file\n",
      "smhi_data\\parameter_5\\station_94140-SE3.csv\n"
     ]
    },
    {
     "name": "stderr",
     "output_type": "stream",
     "text": [
      "Writing to file smhi_data\\parameter_5\\station_94140-SE3.csv:  42%|████▏     | 8/19 [00:00<00:00, 149.00it/s]\n"
     ]
    },
    {
     "name": "stdout",
     "output_type": "stream",
     "text": [
      "Bad file\n",
      "smhi_data\\parameter_5\\station_94170-SE3.csv\n"
     ]
    },
    {
     "name": "stderr",
     "output_type": "stream",
     "text": [
      "Writing to file smhi_data\\parameter_5\\station_94170-SE3.csv:  42%|████▏     | 8/19 [00:00<00:00, 159.79it/s]\n"
     ]
    },
    {
     "name": "stdout",
     "output_type": "stream",
     "text": [
      "smhi_data\\parameter_5\\station_94180-SE3.csv\n"
     ]
    },
    {
     "name": "stderr",
     "output_type": "stream",
     "text": [
      "Writing to file smhi_data\\parameter_5\\station_94180-SE3.csv:  42%|████▏     | 8/19 [00:00<00:00, 127.38it/s]\n"
     ]
    },
    {
     "name": "stdout",
     "output_type": "stream",
     "text": [
      "Bad file\n",
      "smhi_data\\parameter_5\\station_94200-SE3.csv\n"
     ]
    },
    {
     "name": "stderr",
     "output_type": "stream",
     "text": [
      "Writing to file smhi_data\\parameter_5\\station_94200-SE3.csv:  42%|████▏     | 8/19 [00:00<00:00, 171.44it/s]\n"
     ]
    },
    {
     "name": "stdout",
     "output_type": "stream",
     "text": [
      "Bad file\n",
      "smhi_data\\parameter_5\\station_94320-SE3.csv\n"
     ]
    },
    {
     "name": "stderr",
     "output_type": "stream",
     "text": [
      "Writing to file smhi_data\\parameter_5\\station_94320-SE3.csv:  42%|████▏     | 8/19 [00:00<00:00, 147.12it/s]\n"
     ]
    },
    {
     "name": "stdout",
     "output_type": "stream",
     "text": [
      "smhi_data\\parameter_5\\station_94370-SE3.csv\n"
     ]
    },
    {
     "name": "stderr",
     "output_type": "stream",
     "text": [
      "Writing to file smhi_data\\parameter_5\\station_94370-SE3.csv:  37%|███▋      | 7/19 [00:00<00:00, 139.27it/s]\n"
     ]
    },
    {
     "name": "stdout",
     "output_type": "stream",
     "text": [
      "smhi_data\\parameter_5\\station_94410-SE3.csv\n"
     ]
    },
    {
     "name": "stderr",
     "output_type": "stream",
     "text": [
      "Writing to file smhi_data\\parameter_5\\station_94410-SE3.csv:  37%|███▋      | 7/19 [00:00<00:00, 102.59it/s]\n"
     ]
    },
    {
     "name": "stdout",
     "output_type": "stream",
     "text": [
      "smhi_data\\parameter_5\\station_94430-SE3.csv\n"
     ]
    },
    {
     "name": "stderr",
     "output_type": "stream",
     "text": [
      "Writing to file smhi_data\\parameter_5\\station_94430-SE3.csv:  37%|███▋      | 7/19 [00:00<00:00, 150.35it/s]\n"
     ]
    },
    {
     "name": "stdout",
     "output_type": "stream",
     "text": [
      "smhi_data\\parameter_5\\station_94450-SE3.csv\n"
     ]
    },
    {
     "name": "stderr",
     "output_type": "stream",
     "text": [
      "Writing to file smhi_data\\parameter_5\\station_94450-SE3.csv:  42%|████▏     | 8/19 [00:00<00:00, 156.67it/s]\n"
     ]
    },
    {
     "name": "stdout",
     "output_type": "stream",
     "text": [
      "Bad file\n",
      "smhi_data\\parameter_5\\station_94560-SE3.csv\n"
     ]
    },
    {
     "name": "stderr",
     "output_type": "stream",
     "text": [
      "Writing to file smhi_data\\parameter_5\\station_94560-SE3.csv:  37%|███▋      | 7/19 [00:00<00:00, 437.66it/s]\n"
     ]
    },
    {
     "name": "stdout",
     "output_type": "stream",
     "text": [
      "smhi_data\\parameter_5\\station_94580-SE3.csv\n"
     ]
    },
    {
     "name": "stderr",
     "output_type": "stream",
     "text": [
      "Writing to file smhi_data\\parameter_5\\station_94580-SE3.csv:  47%|████▋     | 9/19 [00:00<00:00, 141.26it/s]\n"
     ]
    },
    {
     "name": "stdout",
     "output_type": "stream",
     "text": [
      "Bad file\n",
      "smhi_data\\parameter_5\\station_94600-SE3.csv\n"
     ]
    },
    {
     "name": "stderr",
     "output_type": "stream",
     "text": [
      "Writing to file smhi_data\\parameter_5\\station_94600-SE3.csv:  37%|███▋      | 7/19 [00:00<00:00, 790.99it/s]\n"
     ]
    },
    {
     "name": "stdout",
     "output_type": "stream",
     "text": [
      "smhi_data\\parameter_5\\station_94660-SE3.csv\n"
     ]
    },
    {
     "name": "stderr",
     "output_type": "stream",
     "text": [
      "Writing to file smhi_data\\parameter_5\\station_94660-SE3.csv:  37%|███▋      | 7/19 [00:00<00:00, 410.79it/s]\n"
     ]
    },
    {
     "name": "stdout",
     "output_type": "stream",
     "text": [
      "smhi_data\\parameter_5\\station_95020-SE3.csv\n"
     ]
    },
    {
     "name": "stderr",
     "output_type": "stream",
     "text": [
      "Writing to file smhi_data\\parameter_5\\station_95020-SE3.csv:  37%|███▋      | 7/19 [00:00<00:00, 134.38it/s]\n"
     ]
    },
    {
     "name": "stdout",
     "output_type": "stream",
     "text": [
      "smhi_data\\parameter_5\\station_95030-SE3.csv\n"
     ]
    },
    {
     "name": "stderr",
     "output_type": "stream",
     "text": [
      "Writing to file smhi_data\\parameter_5\\station_95030-SE3.csv:  58%|█████▊    | 11/19 [00:00<00:00, 167.48it/s]\n"
     ]
    },
    {
     "name": "stdout",
     "output_type": "stream",
     "text": [
      "Bad file\n",
      "smhi_data\\parameter_5\\station_95160-SE3.csv\n"
     ]
    },
    {
     "name": "stderr",
     "output_type": "stream",
     "text": [
      "Writing to file smhi_data\\parameter_5\\station_95160-SE3.csv:  58%|█████▊    | 11/19 [00:00<00:00, 97.40it/s]\n"
     ]
    },
    {
     "name": "stdout",
     "output_type": "stream",
     "text": [
      "Bad file\n",
      "smhi_data\\parameter_5\\station_95230-SE3.csv\n"
     ]
    },
    {
     "name": "stderr",
     "output_type": "stream",
     "text": [
      "Writing to file smhi_data\\parameter_5\\station_95230-SE3.csv:  37%|███▋      | 7/19 [00:00<00:00, 162.70it/s]\n"
     ]
    },
    {
     "name": "stdout",
     "output_type": "stream",
     "text": [
      "smhi_data\\parameter_5\\station_95300-SE3.csv\n"
     ]
    },
    {
     "name": "stderr",
     "output_type": "stream",
     "text": [
      "Writing to file smhi_data\\parameter_5\\station_95300-SE3.csv:  42%|████▏     | 8/19 [00:00<00:00, 158.96it/s]\n"
     ]
    },
    {
     "name": "stdout",
     "output_type": "stream",
     "text": [
      "Bad file\n",
      "smhi_data\\parameter_5\\station_95320-SE3.csv\n"
     ]
    },
    {
     "name": "stderr",
     "output_type": "stream",
     "text": [
      "Writing to file smhi_data\\parameter_5\\station_95320-SE3.csv:  42%|████▏     | 8/19 [00:00<00:00, 164.73it/s]\n"
     ]
    },
    {
     "name": "stdout",
     "output_type": "stream",
     "text": [
      "smhi_data\\parameter_5\\station_95350-SE3.csv\n"
     ]
    },
    {
     "name": "stderr",
     "output_type": "stream",
     "text": [
      "Writing to file smhi_data\\parameter_5\\station_95350-SE3.csv:  42%|████▏     | 8/19 [00:00<00:00, 107.92it/s]\n"
     ]
    },
    {
     "name": "stdout",
     "output_type": "stream",
     "text": [
      "smhi_data\\parameter_5\\station_95380-SE3.csv\n"
     ]
    },
    {
     "name": "stderr",
     "output_type": "stream",
     "text": [
      "Writing to file smhi_data\\parameter_5\\station_95380-SE3.csv:  37%|███▋      | 7/19 [00:00<00:00, 487.17it/s]\n"
     ]
    },
    {
     "name": "stdout",
     "output_type": "stream",
     "text": [
      "smhi_data\\parameter_5\\station_95490-SE3.csv\n"
     ]
    },
    {
     "name": "stderr",
     "output_type": "stream",
     "text": [
      "Writing to file smhi_data\\parameter_5\\station_95490-SE3.csv:  42%|████▏     | 8/19 [00:00<00:00, 128.05it/s]\n"
     ]
    },
    {
     "name": "stdout",
     "output_type": "stream",
     "text": [
      "Bad file\n",
      "smhi_data\\parameter_5\\station_95500-SE3.csv\n"
     ]
    },
    {
     "name": "stderr",
     "output_type": "stream",
     "text": [
      "Writing to file smhi_data\\parameter_5\\station_95500-SE3.csv:  37%|███▋      | 7/19 [00:00<00:00, 165.32it/s]\n"
     ]
    },
    {
     "name": "stdout",
     "output_type": "stream",
     "text": [
      "smhi_data\\parameter_5\\station_95530-SE3.csv\n"
     ]
    },
    {
     "name": "stderr",
     "output_type": "stream",
     "text": [
      "Writing to file smhi_data\\parameter_5\\station_95530-SE3.csv:  37%|███▋      | 7/19 [00:00<00:00, 151.40it/s]\n"
     ]
    },
    {
     "name": "stdout",
     "output_type": "stream",
     "text": [
      "Bad file\n",
      "smhi_data\\parameter_5\\station_95640-SE3.csv\n"
     ]
    },
    {
     "name": "stderr",
     "output_type": "stream",
     "text": [
      "Writing to file smhi_data\\parameter_5\\station_95640-SE3.csv:  37%|███▋      | 7/19 [00:00<00:00, 348.73it/s]\n"
     ]
    },
    {
     "name": "stdout",
     "output_type": "stream",
     "text": [
      "smhi_data\\parameter_5\\station_95660-SE3.csv\n"
     ]
    },
    {
     "name": "stderr",
     "output_type": "stream",
     "text": [
      "Writing to file smhi_data\\parameter_5\\station_95660-SE3.csv:  37%|███▋      | 7/19 [00:00<00:00, 1386.81it/s]\n"
     ]
    },
    {
     "name": "stdout",
     "output_type": "stream",
     "text": [
      "smhi_data\\parameter_5\\station_96000-SE3.csv\n"
     ]
    },
    {
     "name": "stderr",
     "output_type": "stream",
     "text": [
      "Writing to file smhi_data\\parameter_5\\station_96000-SE3.csv:  37%|███▋      | 7/19 [00:00<00:00, 139.16it/s]\n"
     ]
    },
    {
     "name": "stdout",
     "output_type": "stream",
     "text": [
      "Bad file\n",
      "smhi_data\\parameter_5\\station_96030-SE3.csv\n"
     ]
    },
    {
     "name": "stderr",
     "output_type": "stream",
     "text": [
      "Writing to file smhi_data\\parameter_5\\station_96030-SE3.csv:  37%|███▋      | 7/19 [00:00<00:00, 173.04it/s]\n"
     ]
    },
    {
     "name": "stdout",
     "output_type": "stream",
     "text": [
      "smhi_data\\parameter_5\\station_96040-SE3.csv\n"
     ]
    },
    {
     "name": "stderr",
     "output_type": "stream",
     "text": [
      "Writing to file smhi_data\\parameter_5\\station_96040-SE3.csv:  42%|████▏     | 8/19 [00:00<00:00, 143.06it/s]\n"
     ]
    },
    {
     "name": "stdout",
     "output_type": "stream",
     "text": [
      "Bad file\n",
      "smhi_data\\parameter_5\\station_96120-SE3.csv\n"
     ]
    },
    {
     "name": "stderr",
     "output_type": "stream",
     "text": [
      "Writing to file smhi_data\\parameter_5\\station_96120-SE3.csv:  42%|████▏     | 8/19 [00:00<00:00, 170.44it/s]\n"
     ]
    },
    {
     "name": "stdout",
     "output_type": "stream",
     "text": [
      "smhi_data\\parameter_5\\station_96140-SE3.csv\n"
     ]
    },
    {
     "name": "stderr",
     "output_type": "stream",
     "text": [
      "Writing to file smhi_data\\parameter_5\\station_96140-SE3.csv:  42%|████▏     | 8/19 [00:00<00:00, 165.61it/s]\n"
     ]
    },
    {
     "name": "stdout",
     "output_type": "stream",
     "text": [
      "Bad file\n",
      "smhi_data\\parameter_5\\station_96210-SE3.csv\n"
     ]
    },
    {
     "name": "stderr",
     "output_type": "stream",
     "text": [
      "Writing to file smhi_data\\parameter_5\\station_96210-SE3.csv:  42%|████▏     | 8/19 [00:00<00:00, 156.31it/s]\n"
     ]
    },
    {
     "name": "stdout",
     "output_type": "stream",
     "text": [
      "smhi_data\\parameter_5\\station_96230-SE3.csv\n"
     ]
    },
    {
     "name": "stderr",
     "output_type": "stream",
     "text": [
      "Writing to file smhi_data\\parameter_5\\station_96230-SE3.csv:  47%|████▋     | 9/19 [00:00<00:00, 111.43it/s]\n"
     ]
    },
    {
     "name": "stdout",
     "output_type": "stream",
     "text": [
      "Bad file\n",
      "smhi_data\\parameter_5\\station_96310-SE3.csv\n"
     ]
    },
    {
     "name": "stderr",
     "output_type": "stream",
     "text": [
      "Writing to file smhi_data\\parameter_5\\station_96310-SE3.csv:  47%|████▋     | 9/19 [00:00<00:00, 111.10it/s]\n"
     ]
    },
    {
     "name": "stdout",
     "output_type": "stream",
     "text": [
      "smhi_data\\parameter_5\\station_96350-SE3.csv\n"
     ]
    },
    {
     "name": "stderr",
     "output_type": "stream",
     "text": [
      "Writing to file smhi_data\\parameter_5\\station_96350-SE3.csv:  53%|█████▎    | 10/19 [00:00<00:00, 115.63it/s]\n"
     ]
    },
    {
     "name": "stdout",
     "output_type": "stream",
     "text": [
      "Bad file\n",
      "smhi_data\\parameter_5\\station_96370-SE3.csv\n"
     ]
    },
    {
     "name": "stderr",
     "output_type": "stream",
     "text": [
      "Writing to file smhi_data\\parameter_5\\station_96370-SE3.csv:  42%|████▏     | 8/19 [00:00<00:00, 138.00it/s]\n"
     ]
    },
    {
     "name": "stdout",
     "output_type": "stream",
     "text": [
      "smhi_data\\parameter_5\\station_96480-SE3.csv\n"
     ]
    },
    {
     "name": "stderr",
     "output_type": "stream",
     "text": [
      "Writing to file smhi_data\\parameter_5\\station_96480-SE3.csv:  37%|███▋      | 7/19 [00:00<00:00, 148.71it/s]\n"
     ]
    },
    {
     "name": "stdout",
     "output_type": "stream",
     "text": [
      "smhi_data\\parameter_5\\station_96501-SE3.csv\n"
     ]
    },
    {
     "name": "stderr",
     "output_type": "stream",
     "text": [
      "Writing to file smhi_data\\parameter_5\\station_96501-SE3.csv:  37%|███▋      | 7/19 [00:00<00:00, 1123.40it/s]\n"
     ]
    },
    {
     "name": "stdout",
     "output_type": "stream",
     "text": [
      "smhi_data\\parameter_5\\station_96550-SE3.csv\n"
     ]
    },
    {
     "name": "stderr",
     "output_type": "stream",
     "text": [
      "Writing to file smhi_data\\parameter_5\\station_96550-SE3.csv:  47%|████▋     | 9/19 [00:00<00:00, 126.84it/s]\n"
     ]
    },
    {
     "name": "stdout",
     "output_type": "stream",
     "text": [
      "Bad file\n",
      "smhi_data\\parameter_5\\station_96610-SE3.csv\n"
     ]
    },
    {
     "name": "stderr",
     "output_type": "stream",
     "text": [
      "Writing to file smhi_data\\parameter_5\\station_96610-SE3.csv:  37%|███▋      | 7/19 [00:00<00:00, 186.71it/s]\n"
     ]
    },
    {
     "name": "stdout",
     "output_type": "stream",
     "text": [
      "smhi_data\\parameter_5\\station_96640-SE3.csv\n"
     ]
    },
    {
     "name": "stderr",
     "output_type": "stream",
     "text": [
      "Writing to file smhi_data\\parameter_5\\station_96640-SE3.csv:  37%|███▋      | 7/19 [00:00<00:00, 777.67it/s]\n"
     ]
    },
    {
     "name": "stdout",
     "output_type": "stream",
     "text": [
      "smhi_data\\parameter_5\\station_97070-SE3.csv\n"
     ]
    },
    {
     "name": "stderr",
     "output_type": "stream",
     "text": [
      "Writing to file smhi_data\\parameter_5\\station_97070-SE3.csv:  42%|████▏     | 8/19 [00:00<00:00, 132.71it/s]\n"
     ]
    },
    {
     "name": "stdout",
     "output_type": "stream",
     "text": [
      "Bad file\n",
      "smhi_data\\parameter_5\\station_97100-SE3.csv\n"
     ]
    },
    {
     "name": "stderr",
     "output_type": "stream",
     "text": [
      "Writing to file smhi_data\\parameter_5\\station_97100-SE3.csv:  47%|████▋     | 9/19 [00:00<00:00, 142.28it/s]\n"
     ]
    },
    {
     "name": "stdout",
     "output_type": "stream",
     "text": [
      "Bad file\n",
      "smhi_data\\parameter_5\\station_97120-SE3.csv\n"
     ]
    },
    {
     "name": "stderr",
     "output_type": "stream",
     "text": [
      "Writing to file smhi_data\\parameter_5\\station_97120-SE3.csv:  47%|████▋     | 9/19 [00:00<00:00, 131.02it/s]\n"
     ]
    },
    {
     "name": "stdout",
     "output_type": "stream",
     "text": [
      "Bad file\n",
      "smhi_data\\parameter_5\\station_97150-SE3.csv\n"
     ]
    },
    {
     "name": "stderr",
     "output_type": "stream",
     "text": [
      "Writing to file smhi_data\\parameter_5\\station_97150-SE3.csv:  37%|███▋      | 7/19 [00:00<00:00, 104.65it/s]\n"
     ]
    },
    {
     "name": "stdout",
     "output_type": "stream",
     "text": [
      "smhi_data\\parameter_5\\station_97170-SE3.csv\n"
     ]
    },
    {
     "name": "stderr",
     "output_type": "stream",
     "text": [
      "Writing to file smhi_data\\parameter_5\\station_97170-SE3.csv:  42%|████▏     | 8/19 [00:00<00:00, 123.06it/s]\n"
     ]
    },
    {
     "name": "stdout",
     "output_type": "stream",
     "text": [
      "Bad file\n",
      "smhi_data\\parameter_5\\station_97180-SE3.csv\n"
     ]
    },
    {
     "name": "stderr",
     "output_type": "stream",
     "text": [
      "Writing to file smhi_data\\parameter_5\\station_97180-SE3.csv:  37%|███▋      | 7/19 [00:00<00:00, 160.72it/s]\n"
     ]
    },
    {
     "name": "stdout",
     "output_type": "stream",
     "text": [
      "smhi_data\\parameter_5\\station_97200-SE3.csv\n"
     ]
    },
    {
     "name": "stderr",
     "output_type": "stream",
     "text": [
      "Writing to file smhi_data\\parameter_5\\station_97200-SE3.csv:  37%|███▋      | 7/19 [00:00<00:00, 143.80it/s]\n"
     ]
    },
    {
     "name": "stdout",
     "output_type": "stream",
     "text": [
      "smhi_data\\parameter_5\\station_97210-SE3.csv\n"
     ]
    },
    {
     "name": "stderr",
     "output_type": "stream",
     "text": [
      "Writing to file smhi_data\\parameter_5\\station_97210-SE3.csv:  37%|███▋      | 7/19 [00:00<00:00, 159.98it/s]\n"
     ]
    },
    {
     "name": "stdout",
     "output_type": "stream",
     "text": [
      "smhi_data\\parameter_5\\station_97220-SE3.csv\n"
     ]
    },
    {
     "name": "stderr",
     "output_type": "stream",
     "text": [
      "Writing to file smhi_data\\parameter_5\\station_97220-SE3.csv:  42%|████▏     | 8/19 [00:00<00:00, 154.84it/s]\n"
     ]
    },
    {
     "name": "stdout",
     "output_type": "stream",
     "text": [
      "smhi_data\\parameter_5\\station_97240-SE3.csv\n"
     ]
    },
    {
     "name": "stderr",
     "output_type": "stream",
     "text": [
      "Writing to file smhi_data\\parameter_5\\station_97240-SE3.csv:  37%|███▋      | 7/19 [00:00<00:00, 168.99it/s]\n"
     ]
    },
    {
     "name": "stdout",
     "output_type": "stream",
     "text": [
      "smhi_data\\parameter_5\\station_97260-SE3.csv\n"
     ]
    },
    {
     "name": "stderr",
     "output_type": "stream",
     "text": [
      "Writing to file smhi_data\\parameter_5\\station_97260-SE3.csv:  37%|███▋      | 7/19 [00:00<00:00, 174.81it/s]\n"
     ]
    },
    {
     "name": "stdout",
     "output_type": "stream",
     "text": [
      "smhi_data\\parameter_5\\station_97270-SE3.csv\n"
     ]
    },
    {
     "name": "stderr",
     "output_type": "stream",
     "text": [
      "Writing to file smhi_data\\parameter_5\\station_97270-SE3.csv:  37%|███▋      | 7/19 [00:00<00:00, 191.36it/s]\n"
     ]
    },
    {
     "name": "stdout",
     "output_type": "stream",
     "text": [
      "smhi_data\\parameter_5\\station_97370-SE3.csv\n"
     ]
    },
    {
     "name": "stderr",
     "output_type": "stream",
     "text": [
      "Writing to file smhi_data\\parameter_5\\station_97370-SE3.csv:  37%|███▋      | 7/19 [00:00<00:00, 184.91it/s]\n"
     ]
    },
    {
     "name": "stdout",
     "output_type": "stream",
     "text": [
      "Bad file\n",
      "smhi_data\\parameter_5\\station_97390-SE3.csv\n"
     ]
    },
    {
     "name": "stderr",
     "output_type": "stream",
     "text": [
      "Writing to file smhi_data\\parameter_5\\station_97390-SE3.csv:  42%|████▏     | 8/19 [00:00<00:00, 148.12it/s]\n"
     ]
    },
    {
     "name": "stdout",
     "output_type": "stream",
     "text": [
      "smhi_data\\parameter_5\\station_97490-SE3.csv\n"
     ]
    },
    {
     "name": "stderr",
     "output_type": "stream",
     "text": [
      "Writing to file smhi_data\\parameter_5\\station_97490-SE3.csv:  37%|███▋      | 7/19 [00:00<00:00, 141.07it/s]\n"
     ]
    },
    {
     "name": "stdout",
     "output_type": "stream",
     "text": [
      "smhi_data\\parameter_5\\station_97510-SE3.csv\n"
     ]
    },
    {
     "name": "stderr",
     "output_type": "stream",
     "text": [
      "Writing to file smhi_data\\parameter_5\\station_97510-SE3.csv:  42%|████▏     | 8/19 [00:00<00:00, 164.66it/s]\n"
     ]
    },
    {
     "name": "stdout",
     "output_type": "stream",
     "text": [
      "Bad file\n",
      "smhi_data\\parameter_5\\station_97520-SE3.csv\n"
     ]
    },
    {
     "name": "stderr",
     "output_type": "stream",
     "text": [
      "Writing to file smhi_data\\parameter_5\\station_97520-SE3.csv:  42%|████▏     | 8/19 [00:00<00:00, 61.15it/s]\n"
     ]
    },
    {
     "name": "stdout",
     "output_type": "stream",
     "text": [
      "Bad file\n",
      "smhi_data\\parameter_5\\station_97530-SE3.csv\n"
     ]
    },
    {
     "name": "stderr",
     "output_type": "stream",
     "text": [
      "Writing to file smhi_data\\parameter_5\\station_97530-SE3.csv:  37%|███▋      | 7/19 [00:00<00:00, 145.15it/s]\n"
     ]
    },
    {
     "name": "stdout",
     "output_type": "stream",
     "text": [
      "Bad file\n",
      "smhi_data\\parameter_5\\station_97560-SE3.csv\n"
     ]
    },
    {
     "name": "stderr",
     "output_type": "stream",
     "text": [
      "Writing to file smhi_data\\parameter_5\\station_97560-SE3.csv:  37%|███▋      | 7/19 [00:00<00:00, 636.27it/s]\n"
     ]
    },
    {
     "name": "stdout",
     "output_type": "stream",
     "text": [
      "smhi_data\\parameter_5\\station_97620-SE3.csv\n"
     ]
    },
    {
     "name": "stderr",
     "output_type": "stream",
     "text": [
      "Writing to file smhi_data\\parameter_5\\station_97620-SE3.csv:  37%|███▋      | 7/19 [00:00<00:00, 200.88it/s]\n"
     ]
    },
    {
     "name": "stdout",
     "output_type": "stream",
     "text": [
      "smhi_data\\parameter_5\\station_97630-SE3.csv\n"
     ]
    },
    {
     "name": "stderr",
     "output_type": "stream",
     "text": [
      "Writing to file smhi_data\\parameter_5\\station_97630-SE3.csv:  37%|███▋      | 7/19 [00:00<00:00, 174.87it/s]\n"
     ]
    },
    {
     "name": "stdout",
     "output_type": "stream",
     "text": [
      "smhi_data\\parameter_5\\station_97700-SE3.csv\n"
     ]
    },
    {
     "name": "stderr",
     "output_type": "stream",
     "text": [
      "Writing to file smhi_data\\parameter_5\\station_97700-SE3.csv:  37%|███▋      | 7/19 [00:00<00:00, 218.79it/s]\n"
     ]
    },
    {
     "name": "stdout",
     "output_type": "stream",
     "text": [
      "smhi_data\\parameter_5\\station_97750-SE3.csv\n"
     ]
    },
    {
     "name": "stderr",
     "output_type": "stream",
     "text": [
      "Writing to file smhi_data\\parameter_5\\station_97750-SE3.csv:  37%|███▋      | 7/19 [00:00<00:00, 1172.44it/s]\n"
     ]
    },
    {
     "name": "stdout",
     "output_type": "stream",
     "text": [
      "smhi_data\\parameter_5\\station_98040-SE3.csv\n"
     ]
    },
    {
     "name": "stderr",
     "output_type": "stream",
     "text": [
      "Writing to file smhi_data\\parameter_5\\station_98040-SE3.csv:  42%|████▏     | 8/19 [00:00<00:00, 142.42it/s]\n"
     ]
    },
    {
     "name": "stdout",
     "output_type": "stream",
     "text": [
      "Bad file\n",
      "smhi_data\\parameter_5\\station_98140-SE3.csv\n"
     ]
    },
    {
     "name": "stderr",
     "output_type": "stream",
     "text": [
      "Writing to file smhi_data\\parameter_5\\station_98140-SE3.csv:  42%|████▏     | 8/19 [00:00<00:00, 150.68it/s]\n"
     ]
    },
    {
     "name": "stdout",
     "output_type": "stream",
     "text": [
      "Bad file\n",
      "smhi_data\\parameter_5\\station_98170-SE3.csv\n"
     ]
    },
    {
     "name": "stderr",
     "output_type": "stream",
     "text": [
      "Writing to file smhi_data\\parameter_5\\station_98170-SE3.csv:  58%|█████▊    | 11/19 [00:00<00:00, 161.69it/s]\n"
     ]
    },
    {
     "name": "stdout",
     "output_type": "stream",
     "text": [
      "Bad file\n",
      "smhi_data\\parameter_5\\station_98180-SE3.csv\n"
     ]
    },
    {
     "name": "stderr",
     "output_type": "stream",
     "text": [
      "Writing to file smhi_data\\parameter_5\\station_98180-SE3.csv:  37%|███▋      | 7/19 [00:00<00:00, 148.93it/s]\n"
     ]
    },
    {
     "name": "stdout",
     "output_type": "stream",
     "text": [
      "Bad file\n",
      "smhi_data\\parameter_5\\station_98210-SE3.csv\n"
     ]
    },
    {
     "name": "stderr",
     "output_type": "stream",
     "text": [
      "Writing to file smhi_data\\parameter_5\\station_98210-SE3.csv:  37%|███▋      | 7/19 [00:00<00:00, 80.22it/s]\n"
     ]
    },
    {
     "name": "stdout",
     "output_type": "stream",
     "text": [
      "Bad file\n",
      "smhi_data\\parameter_5\\station_98230-SE3.csv\n"
     ]
    },
    {
     "name": "stderr",
     "output_type": "stream",
     "text": [
      "Writing to file smhi_data\\parameter_5\\station_98230-SE3.csv:  37%|███▋      | 7/19 [00:00<00:00, 999.36it/s]\n"
     ]
    },
    {
     "name": "stdout",
     "output_type": "stream",
     "text": [
      "Bad file\n",
      "smhi_data\\parameter_5\\station_98260-SE3.csv\n"
     ]
    },
    {
     "name": "stderr",
     "output_type": "stream",
     "text": [
      "Writing to file smhi_data\\parameter_5\\station_98260-SE3.csv:  37%|███▋      | 7/19 [00:00<00:00, 117.64it/s]\n"
     ]
    },
    {
     "name": "stdout",
     "output_type": "stream",
     "text": [
      "smhi_data\\parameter_5\\station_98290-SE3.csv\n"
     ]
    },
    {
     "name": "stderr",
     "output_type": "stream",
     "text": [
      "Writing to file smhi_data\\parameter_5\\station_98290-SE3.csv:  37%|███▋      | 7/19 [00:00<00:00, 119.45it/s]\n"
     ]
    },
    {
     "name": "stdout",
     "output_type": "stream",
     "text": [
      "Bad file\n",
      "smhi_data\\parameter_5\\station_98400-SE3.csv\n"
     ]
    },
    {
     "name": "stderr",
     "output_type": "stream",
     "text": [
      "Writing to file smhi_data\\parameter_5\\station_98400-SE3.csv:  37%|███▋      | 7/19 [00:00<00:00, 128.66it/s]\n"
     ]
    },
    {
     "name": "stdout",
     "output_type": "stream",
     "text": [
      "smhi_data\\parameter_5\\station_98460-SE3.csv\n"
     ]
    },
    {
     "name": "stderr",
     "output_type": "stream",
     "text": [
      "Writing to file smhi_data\\parameter_5\\station_98460-SE3.csv:  53%|█████▎    | 10/19 [00:00<00:00, 183.25it/s]\n"
     ]
    },
    {
     "name": "stdout",
     "output_type": "stream",
     "text": [
      "smhi_data\\parameter_5\\station_98510-SE3.csv\n"
     ]
    },
    {
     "name": "stderr",
     "output_type": "stream",
     "text": [
      "Writing to file smhi_data\\parameter_5\\station_98510-SE3.csv:  37%|███▋      | 7/19 [00:00<00:00, 378.54it/s]\n"
     ]
    },
    {
     "name": "stdout",
     "output_type": "stream",
     "text": [
      "smhi_data\\parameter_5\\station_98590-SE3.csv\n"
     ]
    },
    {
     "name": "stderr",
     "output_type": "stream",
     "text": [
      "Writing to file smhi_data\\parameter_5\\station_98590-SE3.csv:  37%|███▋      | 7/19 [00:00<00:00, 129.71it/s]\n"
     ]
    },
    {
     "name": "stdout",
     "output_type": "stream",
     "text": [
      "smhi_data\\parameter_5\\station_98610-SE3.csv\n"
     ]
    },
    {
     "name": "stderr",
     "output_type": "stream",
     "text": [
      "Writing to file smhi_data\\parameter_5\\station_98610-SE3.csv:  37%|███▋      | 7/19 [00:00<00:00, 160.46it/s]\n"
     ]
    },
    {
     "name": "stdout",
     "output_type": "stream",
     "text": [
      "smhi_data\\parameter_5\\station_98630-SE3.csv\n"
     ]
    },
    {
     "name": "stderr",
     "output_type": "stream",
     "text": [
      "Writing to file smhi_data\\parameter_5\\station_98630-SE3.csv:  37%|███▋      | 7/19 [00:00<00:00, 371.13it/s]\n"
     ]
    },
    {
     "name": "stdout",
     "output_type": "stream",
     "text": [
      "smhi_data\\parameter_5\\station_99150-SE3.csv\n"
     ]
    },
    {
     "name": "stderr",
     "output_type": "stream",
     "text": [
      "Writing to file smhi_data\\parameter_5\\station_99150-SE3.csv:  37%|███▋      | 7/19 [00:00<00:00, 172.98it/s]\n"
     ]
    },
    {
     "name": "stdout",
     "output_type": "stream",
     "text": [
      "smhi_data\\parameter_5\\station_99270-SE3.csv\n"
     ]
    },
    {
     "name": "stderr",
     "output_type": "stream",
     "text": [
      "Writing to file smhi_data\\parameter_5\\station_99270-SE3.csv:  37%|███▋      | 7/19 [00:00<00:00, 87.10it/s]\n"
     ]
    },
    {
     "name": "stdout",
     "output_type": "stream",
     "text": [
      "Bad file\n",
      "smhi_data\\parameter_5\\station_99450-SE3.csv\n"
     ]
    },
    {
     "name": "stderr",
     "output_type": "stream",
     "text": [
      "Writing to file smhi_data\\parameter_5\\station_99450-SE3.csv:  37%|███▋      | 7/19 [00:00<00:00, 143.33it/s]\n"
     ]
    },
    {
     "name": "stdout",
     "output_type": "stream",
     "text": [
      "smhi_data\\parameter_8\\station_102170-SE3.csv\n"
     ]
    },
    {
     "name": "stderr",
     "output_type": "stream",
     "text": [
      "Writing to file smhi_data\\parameter_8\\station_102170-SE3.csv:  37%|███▋      | 7/19 [00:00<00:00, 416.69it/s]\n"
     ]
    },
    {
     "name": "stdout",
     "output_type": "stream",
     "text": [
      "Bad file\n",
      "smhi_data\\parameter_8\\station_102190-SE3.csv\n"
     ]
    },
    {
     "name": "stderr",
     "output_type": "stream",
     "text": [
      "Writing to file smhi_data\\parameter_8\\station_102190-SE3.csv:  42%|████▏     | 8/19 [00:00<00:00, 189.62it/s]\n"
     ]
    },
    {
     "name": "stdout",
     "output_type": "stream",
     "text": [
      "smhi_data\\parameter_8\\station_102200-SE3.csv\n"
     ]
    },
    {
     "name": "stderr",
     "output_type": "stream",
     "text": [
      "Writing to file smhi_data\\parameter_8\\station_102200-SE3.csv:  37%|███▋      | 7/19 [00:00<00:00, 679.92it/s]\n"
     ]
    },
    {
     "name": "stdout",
     "output_type": "stream",
     "text": [
      "smhi_data\\parameter_8\\station_102210-SE3.csv\n"
     ]
    },
    {
     "name": "stderr",
     "output_type": "stream",
     "text": [
      "Writing to file smhi_data\\parameter_8\\station_102210-SE3.csv:  42%|████▏     | 8/19 [00:00<00:00, 312.07it/s]\n"
     ]
    },
    {
     "name": "stdout",
     "output_type": "stream",
     "text": [
      "smhi_data\\parameter_8\\station_102540-SE3.csv\n"
     ]
    },
    {
     "name": "stderr",
     "output_type": "stream",
     "text": [
      "Writing to file smhi_data\\parameter_8\\station_102540-SE3.csv:  37%|███▋      | 7/19 [00:00<00:00, 100.87it/s]\n"
     ]
    },
    {
     "name": "stdout",
     "output_type": "stream",
     "text": [
      "Bad file\n",
      "smhi_data\\parameter_8\\station_103050-SE3.csv\n"
     ]
    },
    {
     "name": "stderr",
     "output_type": "stream",
     "text": [
      "Writing to file smhi_data\\parameter_8\\station_103050-SE3.csv:  37%|███▋      | 7/19 [00:00<00:00, 998.92it/s]\n"
     ]
    },
    {
     "name": "stdout",
     "output_type": "stream",
     "text": [
      "smhi_data\\parameter_8\\station_103080-SE3.csv\n"
     ]
    },
    {
     "name": "stderr",
     "output_type": "stream",
     "text": [
      "Writing to file smhi_data\\parameter_8\\station_103080-SE3.csv:  58%|█████▊    | 11/19 [00:00<00:00, 800.30it/s]\n"
     ]
    },
    {
     "name": "stdout",
     "output_type": "stream",
     "text": [
      "Bad file\n",
      "smhi_data\\parameter_8\\station_103090-SE3.csv\n"
     ]
    },
    {
     "name": "stderr",
     "output_type": "stream",
     "text": [
      "Writing to file smhi_data\\parameter_8\\station_103090-SE3.csv:  42%|████▏     | 8/19 [00:00<00:00, 158.98it/s]\n"
     ]
    },
    {
     "name": "stdout",
     "output_type": "stream",
     "text": [
      "Bad file\n",
      "smhi_data\\parameter_8\\station_103290-SE3.csv\n"
     ]
    },
    {
     "name": "stderr",
     "output_type": "stream",
     "text": [
      "Writing to file smhi_data\\parameter_8\\station_103290-SE3.csv:  37%|███▋      | 7/19 [00:00<00:00, 1445.96it/s]\n"
     ]
    },
    {
     "name": "stdout",
     "output_type": "stream",
     "text": [
      "smhi_data\\parameter_8\\station_103410-SE3.csv\n"
     ]
    },
    {
     "name": "stderr",
     "output_type": "stream",
     "text": [
      "Writing to file smhi_data\\parameter_8\\station_103410-SE3.csv:  47%|████▋     | 9/19 [00:00<00:00, 148.05it/s]\n"
     ]
    },
    {
     "name": "stdout",
     "output_type": "stream",
     "text": [
      "Bad file\n",
      "smhi_data\\parameter_8\\station_103570-SE3.csv\n"
     ]
    },
    {
     "name": "stderr",
     "output_type": "stream",
     "text": [
      "Writing to file smhi_data\\parameter_8\\station_103570-SE3.csv:  47%|████▋     | 9/19 [00:00<00:00, 189.42it/s]\n"
     ]
    },
    {
     "name": "stdout",
     "output_type": "stream",
     "text": [
      "Bad file\n",
      "smhi_data\\parameter_8\\station_103600-SE3.csv\n"
     ]
    },
    {
     "name": "stderr",
     "output_type": "stream",
     "text": [
      "Writing to file smhi_data\\parameter_8\\station_103600-SE3.csv:  37%|███▋      | 7/19 [00:00<00:00, 778.10it/s]\n"
     ]
    },
    {
     "name": "stdout",
     "output_type": "stream",
     "text": [
      "smhi_data\\parameter_8\\station_104090-SE3.csv\n"
     ]
    },
    {
     "name": "stderr",
     "output_type": "stream",
     "text": [
      "Writing to file smhi_data\\parameter_8\\station_104090-SE3.csv:  53%|█████▎    | 10/19 [00:00<00:00, 333.34it/s]\n"
     ]
    },
    {
     "name": "stdout",
     "output_type": "stream",
     "text": [
      "Bad file\n",
      "smhi_data\\parameter_8\\station_104120-SE3.csv\n"
     ]
    },
    {
     "name": "stderr",
     "output_type": "stream",
     "text": [
      "Writing to file smhi_data\\parameter_8\\station_104120-SE3.csv:  37%|███▋      | 7/19 [00:00<00:00, 875.27it/s]\n"
     ]
    },
    {
     "name": "stdout",
     "output_type": "stream",
     "text": [
      "smhi_data\\parameter_8\\station_104300-SE3.csv\n"
     ]
    },
    {
     "name": "stderr",
     "output_type": "stream",
     "text": [
      "Writing to file smhi_data\\parameter_8\\station_104300-SE3.csv:  58%|█████▊    | 11/19 [00:00<00:00, 130.67it/s]\n"
     ]
    },
    {
     "name": "stdout",
     "output_type": "stream",
     "text": [
      "Bad file\n",
      "smhi_data\\parameter_8\\station_104530-SE3.csv\n"
     ]
    },
    {
     "name": "stderr",
     "output_type": "stream",
     "text": [
      "Writing to file smhi_data\\parameter_8\\station_104530-SE3.csv:  37%|███▋      | 7/19 [00:00<00:00, 409.34it/s]\n"
     ]
    },
    {
     "name": "stdout",
     "output_type": "stream",
     "text": [
      "smhi_data\\parameter_8\\station_104580-SE3.csv\n"
     ]
    },
    {
     "name": "stderr",
     "output_type": "stream",
     "text": [
      "Writing to file smhi_data\\parameter_8\\station_104580-SE3.csv:  58%|█████▊    | 11/19 [00:00<00:00, 203.61it/s]\n"
     ]
    },
    {
     "name": "stdout",
     "output_type": "stream",
     "text": [
      "smhi_data\\parameter_8\\station_104600-SE3.csv\n"
     ]
    },
    {
     "name": "stderr",
     "output_type": "stream",
     "text": [
      "Writing to file smhi_data\\parameter_8\\station_104600-SE3.csv:  37%|███▋      | 7/19 [00:00<00:00, 1543.24it/s]\n"
     ]
    },
    {
     "name": "stdout",
     "output_type": "stream",
     "text": [
      "smhi_data\\parameter_8\\station_105200-SE3.csv\n"
     ]
    },
    {
     "name": "stderr",
     "output_type": "stream",
     "text": [
      "Writing to file smhi_data\\parameter_8\\station_105200-SE3.csv:  37%|███▋      | 7/19 [00:00<00:00, 1261.23it/s]\n"
     ]
    },
    {
     "name": "stdout",
     "output_type": "stream",
     "text": [
      "smhi_data\\parameter_8\\station_105210-SE3.csv\n"
     ]
    },
    {
     "name": "stderr",
     "output_type": "stream",
     "text": [
      "Writing to file smhi_data\\parameter_8\\station_105210-SE3.csv:  42%|████▏     | 8/19 [00:00<00:00, 438.67it/s]\n"
     ]
    },
    {
     "name": "stdout",
     "output_type": "stream",
     "text": [
      "smhi_data\\parameter_8\\station_105220-SE3.csv\n"
     ]
    },
    {
     "name": "stderr",
     "output_type": "stream",
     "text": [
      "Writing to file smhi_data\\parameter_8\\station_105220-SE3.csv:  37%|███▋      | 7/19 [00:00<00:00, 1414.13it/s]\n"
     ]
    },
    {
     "name": "stdout",
     "output_type": "stream",
     "text": [
      "smhi_data\\parameter_8\\station_105230-SE3.csv\n"
     ]
    },
    {
     "name": "stderr",
     "output_type": "stream",
     "text": [
      "Writing to file smhi_data\\parameter_8\\station_105230-SE3.csv:  37%|███▋      | 7/19 [00:00<00:00, 604.64it/s]\n"
     ]
    },
    {
     "name": "stdout",
     "output_type": "stream",
     "text": [
      "smhi_data\\parameter_8\\station_105260-SE3.csv\n"
     ]
    },
    {
     "name": "stderr",
     "output_type": "stream",
     "text": [
      "Writing to file smhi_data\\parameter_8\\station_105260-SE3.csv:  53%|█████▎    | 10/19 [00:00<00:00, 352.26it/s]\n"
     ]
    },
    {
     "name": "stdout",
     "output_type": "stream",
     "text": [
      "smhi_data\\parameter_8\\station_105310-SE3.csv\n"
     ]
    },
    {
     "name": "stderr",
     "output_type": "stream",
     "text": [
      "Writing to file smhi_data\\parameter_8\\station_105310-SE3.csv:  47%|████▋     | 9/19 [00:00<00:00, 173.21it/s]\n"
     ]
    },
    {
     "name": "stdout",
     "output_type": "stream",
     "text": [
      "Bad file\n",
      "smhi_data\\parameter_8\\station_105360-SE3.csv\n"
     ]
    },
    {
     "name": "stderr",
     "output_type": "stream",
     "text": [
      "Writing to file smhi_data\\parameter_8\\station_105360-SE3.csv:  37%|███▋      | 7/19 [00:00<00:00, 422.14it/s]\n"
     ]
    },
    {
     "name": "stdout",
     "output_type": "stream",
     "text": [
      "smhi_data\\parameter_8\\station_105370-SE3.csv\n"
     ]
    },
    {
     "name": "stderr",
     "output_type": "stream",
     "text": [
      "Writing to file smhi_data\\parameter_8\\station_105370-SE3.csv:  47%|████▋     | 9/19 [00:00<00:00, 160.99it/s]\n"
     ]
    },
    {
     "name": "stdout",
     "output_type": "stream",
     "text": [
      "Bad file\n",
      "smhi_data\\parameter_8\\station_105410-SE3.csv\n"
     ]
    },
    {
     "name": "stderr",
     "output_type": "stream",
     "text": [
      "Writing to file smhi_data\\parameter_8\\station_105410-SE3.csv:  42%|████▏     | 8/19 [00:00<00:00, 1081.28it/s]\n"
     ]
    },
    {
     "name": "stdout",
     "output_type": "stream",
     "text": [
      "smhi_data\\parameter_8\\station_105450-SE3.csv\n"
     ]
    },
    {
     "name": "stderr",
     "output_type": "stream",
     "text": [
      "Writing to file smhi_data\\parameter_8\\station_105450-SE3.csv:  47%|████▋     | 9/19 [00:00<00:00, 160.42it/s]\n"
     ]
    },
    {
     "name": "stdout",
     "output_type": "stream",
     "text": [
      "Bad file\n",
      "smhi_data\\parameter_8\\station_105550-SE3.csv\n"
     ]
    },
    {
     "name": "stderr",
     "output_type": "stream",
     "text": [
      "Writing to file smhi_data\\parameter_8\\station_105550-SE3.csv:  42%|████▏     | 8/19 [00:00<00:00, 411.11it/s]\n"
     ]
    },
    {
     "name": "stdout",
     "output_type": "stream",
     "text": [
      "smhi_data\\parameter_8\\station_105630-SE3.csv\n"
     ]
    },
    {
     "name": "stderr",
     "output_type": "stream",
     "text": [
      "Writing to file smhi_data\\parameter_8\\station_105630-SE3.csv:  37%|███▋      | 7/19 [00:00<00:00, 1422.62it/s]\n"
     ]
    },
    {
     "name": "stdout",
     "output_type": "stream",
     "text": [
      "smhi_data\\parameter_8\\station_105640-SE3.csv\n"
     ]
    },
    {
     "name": "stderr",
     "output_type": "stream",
     "text": [
      "Writing to file smhi_data\\parameter_8\\station_105640-SE3.csv:  37%|███▋      | 7/19 [00:00<00:00, 1002.22it/s]\n"
     ]
    },
    {
     "name": "stdout",
     "output_type": "stream",
     "text": [
      "smhi_data\\parameter_8\\station_106040-SE3.csv\n"
     ]
    },
    {
     "name": "stderr",
     "output_type": "stream",
     "text": [
      "Writing to file smhi_data\\parameter_8\\station_106040-SE3.csv:  37%|███▋      | 7/19 [00:00<00:00, 154.18it/s]\n"
     ]
    },
    {
     "name": "stdout",
     "output_type": "stream",
     "text": [
      "Bad file\n",
      "smhi_data\\parameter_8\\station_106060-SE3.csv\n"
     ]
    },
    {
     "name": "stderr",
     "output_type": "stream",
     "text": [
      "Writing to file smhi_data\\parameter_8\\station_106060-SE3.csv:  37%|███▋      | 7/19 [00:00<00:00, 1140.64it/s]\n"
     ]
    },
    {
     "name": "stdout",
     "output_type": "stream",
     "text": [
      "smhi_data\\parameter_8\\station_106070-SE3.csv\n"
     ]
    },
    {
     "name": "stderr",
     "output_type": "stream",
     "text": [
      "Writing to file smhi_data\\parameter_8\\station_106070-SE3.csv:  37%|███▋      | 7/19 [00:00<00:00, 158.99it/s]\n"
     ]
    },
    {
     "name": "stdout",
     "output_type": "stream",
     "text": [
      "Bad file\n",
      "smhi_data\\parameter_8\\station_106080-SE3.csv\n"
     ]
    },
    {
     "name": "stderr",
     "output_type": "stream",
     "text": [
      "Writing to file smhi_data\\parameter_8\\station_106080-SE3.csv:  37%|███▋      | 7/19 [00:00<00:00, 159.24it/s]\n"
     ]
    },
    {
     "name": "stdout",
     "output_type": "stream",
     "text": [
      "smhi_data\\parameter_8\\station_106100-SE3.csv\n"
     ]
    },
    {
     "name": "stderr",
     "output_type": "stream",
     "text": [
      "Writing to file smhi_data\\parameter_8\\station_106100-SE3.csv:  47%|████▋     | 9/19 [00:00<00:00, 172.26it/s]\n"
     ]
    },
    {
     "name": "stdout",
     "output_type": "stream",
     "text": [
      "smhi_data\\parameter_8\\station_106170-SE3.csv\n"
     ]
    },
    {
     "name": "stderr",
     "output_type": "stream",
     "text": [
      "Writing to file smhi_data\\parameter_8\\station_106170-SE3.csv:  37%|███▋      | 7/19 [00:00<00:00, 1698.20it/s]\n"
     ]
    },
    {
     "name": "stdout",
     "output_type": "stream",
     "text": [
      "smhi_data\\parameter_8\\station_106270-SE3.csv\n"
     ]
    },
    {
     "name": "stderr",
     "output_type": "stream",
     "text": [
      "Writing to file smhi_data\\parameter_8\\station_106270-SE3.csv:  37%|███▋      | 7/19 [00:00<00:00, 1750.02it/s]\n"
     ]
    },
    {
     "name": "stdout",
     "output_type": "stream",
     "text": [
      "smhi_data\\parameter_8\\station_106340-SE3.csv\n"
     ]
    },
    {
     "name": "stderr",
     "output_type": "stream",
     "text": [
      "Writing to file smhi_data\\parameter_8\\station_106340-SE3.csv:  37%|███▋      | 7/19 [00:00<00:00, 1533.25it/s]\n"
     ]
    },
    {
     "name": "stdout",
     "output_type": "stream",
     "text": [
      "smhi_data\\parameter_8\\station_106360-SE3.csv\n"
     ]
    },
    {
     "name": "stderr",
     "output_type": "stream",
     "text": [
      "Writing to file smhi_data\\parameter_8\\station_106360-SE3.csv:  47%|████▋     | 9/19 [00:00<00:00, 337.54it/s]\n"
     ]
    },
    {
     "name": "stdout",
     "output_type": "stream",
     "text": [
      "Bad file\n",
      "smhi_data\\parameter_8\\station_106500-SE3.csv\n"
     ]
    },
    {
     "name": "stderr",
     "output_type": "stream",
     "text": [
      "Writing to file smhi_data\\parameter_8\\station_106500-SE3.csv:  47%|████▋     | 9/19 [00:00<00:00, 496.86it/s]"
     ]
    },
    {
     "name": "stdout",
     "output_type": "stream",
     "text": [
      "smhi_data\\parameter_8\\station_106580-SE3.csv\n"
     ]
    },
    {
     "name": "stderr",
     "output_type": "stream",
     "text": [
      "\n",
      "Writing to file smhi_data\\parameter_8\\station_106580-SE3.csv:  37%|███▋      | 7/19 [00:00<00:00, 372.02it/s]\n"
     ]
    },
    {
     "name": "stdout",
     "output_type": "stream",
     "text": [
      "smhi_data\\parameter_8\\station_107020-SE3.csv\n"
     ]
    },
    {
     "name": "stderr",
     "output_type": "stream",
     "text": [
      "Writing to file smhi_data\\parameter_8\\station_107020-SE3.csv:  37%|███▋      | 7/19 [00:00<00:00, 1166.43it/s]\n"
     ]
    },
    {
     "name": "stdout",
     "output_type": "stream",
     "text": [
      "smhi_data\\parameter_8\\station_107040-SE3.csv\n"
     ]
    },
    {
     "name": "stderr",
     "output_type": "stream",
     "text": [
      "Writing to file smhi_data\\parameter_8\\station_107040-SE3.csv:  42%|████▏     | 8/19 [00:00<00:00, 612.91it/s]\n"
     ]
    },
    {
     "name": "stdout",
     "output_type": "stream",
     "text": [
      "Bad file\n",
      "smhi_data\\parameter_8\\station_107050-SE3.csv\n"
     ]
    },
    {
     "name": "stderr",
     "output_type": "stream",
     "text": [
      "Writing to file smhi_data\\parameter_8\\station_107050-SE3.csv:  37%|███▋      | 7/19 [00:00<00:00, 1749.71it/s]\n"
     ]
    },
    {
     "name": "stdout",
     "output_type": "stream",
     "text": [
      "smhi_data\\parameter_8\\station_107120-SE3.csv\n"
     ]
    },
    {
     "name": "stderr",
     "output_type": "stream",
     "text": [
      "Writing to file smhi_data\\parameter_8\\station_107120-SE3.csv:  37%|███▋      | 7/19 [00:00<00:00, 595.79it/s]\n"
     ]
    },
    {
     "name": "stdout",
     "output_type": "stream",
     "text": [
      "smhi_data\\parameter_8\\station_107130-SE3.csv\n"
     ]
    },
    {
     "name": "stderr",
     "output_type": "stream",
     "text": [
      "Writing to file smhi_data\\parameter_8\\station_107130-SE3.csv:  42%|████▏     | 8/19 [00:00<00:00, 172.72it/s]\n"
     ]
    },
    {
     "name": "stdout",
     "output_type": "stream",
     "text": [
      "Bad file\n",
      "smhi_data\\parameter_8\\station_107180-SE3.csv\n"
     ]
    },
    {
     "name": "stderr",
     "output_type": "stream",
     "text": [
      "Writing to file smhi_data\\parameter_8\\station_107180-SE3.csv:  37%|███▋      | 7/19 [00:00<00:00, 2100.30it/s]\n"
     ]
    },
    {
     "name": "stdout",
     "output_type": "stream",
     "text": [
      "smhi_data\\parameter_8\\station_107220-SE3.csv\n"
     ]
    },
    {
     "name": "stderr",
     "output_type": "stream",
     "text": [
      "Writing to file smhi_data\\parameter_8\\station_107220-SE3.csv:  37%|███▋      | 7/19 [00:00<00:00, 789.63it/s]\n"
     ]
    },
    {
     "name": "stdout",
     "output_type": "stream",
     "text": [
      "smhi_data\\parameter_8\\station_107270-SE3.csv\n"
     ]
    },
    {
     "name": "stderr",
     "output_type": "stream",
     "text": [
      "Writing to file smhi_data\\parameter_8\\station_107270-SE3.csv:  37%|███▋      | 7/19 [00:00<00:00, 315.20it/s]\n"
     ]
    },
    {
     "name": "stdout",
     "output_type": "stream",
     "text": [
      "smhi_data\\parameter_8\\station_107330-SE3.csv\n"
     ]
    },
    {
     "name": "stderr",
     "output_type": "stream",
     "text": [
      "Writing to file smhi_data\\parameter_8\\station_107330-SE3.csv:  37%|███▋      | 7/19 [00:00<00:00, 1265.30it/s]\n"
     ]
    },
    {
     "name": "stdout",
     "output_type": "stream",
     "text": [
      "smhi_data\\parameter_8\\station_107400-SE3.csv\n"
     ]
    },
    {
     "name": "stderr",
     "output_type": "stream",
     "text": [
      "Writing to file smhi_data\\parameter_8\\station_107400-SE3.csv:  79%|███████▉  | 15/19 [00:00<00:00, 213.59it/s]"
     ]
    },
    {
     "name": "stdout",
     "output_type": "stream",
     "text": [
      "smhi_data\\parameter_8\\station_107440-SE3.csv\n"
     ]
    },
    {
     "name": "stderr",
     "output_type": "stream",
     "text": [
      "\n",
      "Writing to file smhi_data\\parameter_8\\station_107440-SE3.csv:  37%|███▋      | 7/19 [00:00<00:00, 774.63it/s]\n"
     ]
    },
    {
     "name": "stdout",
     "output_type": "stream",
     "text": [
      "smhi_data\\parameter_8\\station_107450-SE3.csv\n"
     ]
    },
    {
     "name": "stderr",
     "output_type": "stream",
     "text": [
      "Writing to file smhi_data\\parameter_8\\station_107450-SE3.csv:  37%|███▋      | 7/19 [00:00<00:00, 428.17it/s]\n"
     ]
    },
    {
     "name": "stdout",
     "output_type": "stream",
     "text": [
      "smhi_data\\parameter_8\\station_107530-SE3.csv\n"
     ]
    },
    {
     "name": "stderr",
     "output_type": "stream",
     "text": [
      "Writing to file smhi_data\\parameter_8\\station_107530-SE3.csv:  37%|███▋      | 7/19 [00:00<00:00, 1655.02it/s]\n"
     ]
    },
    {
     "name": "stdout",
     "output_type": "stream",
     "text": [
      "smhi_data\\parameter_8\\station_108100-SE3.csv\n"
     ]
    },
    {
     "name": "stderr",
     "output_type": "stream",
     "text": [
      "Writing to file smhi_data\\parameter_8\\station_108100-SE3.csv:  37%|███▋      | 7/19 [00:00<00:00, 177.05it/s]\n"
     ]
    },
    {
     "name": "stdout",
     "output_type": "stream",
     "text": [
      "smhi_data\\parameter_8\\station_108110-SE3.csv\n"
     ]
    },
    {
     "name": "stderr",
     "output_type": "stream",
     "text": [
      "Writing to file smhi_data\\parameter_8\\station_108110-SE3.csv:  37%|███▋      | 7/19 [00:00<00:00, 1384.91it/s]\n"
     ]
    },
    {
     "name": "stdout",
     "output_type": "stream",
     "text": [
      "Bad file\n",
      "smhi_data\\parameter_8\\station_108170-SE3.csv\n"
     ]
    },
    {
     "name": "stderr",
     "output_type": "stream",
     "text": [
      "Writing to file smhi_data\\parameter_8\\station_108170-SE3.csv:  42%|████▏     | 8/19 [00:00<00:00, 776.79it/s]\n"
     ]
    },
    {
     "name": "stdout",
     "output_type": "stream",
     "text": [
      "smhi_data\\parameter_8\\station_108320-SE3.csv\n"
     ]
    },
    {
     "name": "stderr",
     "output_type": "stream",
     "text": [
      "Writing to file smhi_data\\parameter_8\\station_108320-SE3.csv:  42%|████▏     | 8/19 [00:00<00:00, 181.49it/s]\n"
     ]
    },
    {
     "name": "stdout",
     "output_type": "stream",
     "text": [
      "smhi_data\\parameter_8\\station_108600-SE3.csv\n"
     ]
    },
    {
     "name": "stderr",
     "output_type": "stream",
     "text": [
      "Writing to file smhi_data\\parameter_8\\station_108600-SE3.csv:  37%|███▋      | 7/19 [00:00<00:00, 1750.75it/s]\n"
     ]
    },
    {
     "name": "stdout",
     "output_type": "stream",
     "text": [
      "smhi_data\\parameter_8\\station_108640-SE3.csv\n"
     ]
    },
    {
     "name": "stderr",
     "output_type": "stream",
     "text": [
      "Writing to file smhi_data\\parameter_8\\station_108640-SE3.csv:  37%|███▋      | 7/19 [00:00<00:00, 416.78it/s]\n"
     ]
    },
    {
     "name": "stdout",
     "output_type": "stream",
     "text": [
      "smhi_data\\parameter_8\\station_112080-SE3.csv\n"
     ]
    },
    {
     "name": "stderr",
     "output_type": "stream",
     "text": [
      "Writing to file smhi_data\\parameter_8\\station_112080-SE3.csv:  47%|████▋     | 9/19 [00:00<00:00, 346.08it/s]\n"
     ]
    },
    {
     "name": "stdout",
     "output_type": "stream",
     "text": [
      "smhi_data\\parameter_8\\station_112170-SE3.csv\n"
     ]
    },
    {
     "name": "stderr",
     "output_type": "stream",
     "text": [
      "Writing to file smhi_data\\parameter_8\\station_112170-SE3.csv:  37%|███▋      | 7/19 [00:00<00:00, 259.08it/s]\n"
     ]
    },
    {
     "name": "stdout",
     "output_type": "stream",
     "text": [
      "smhi_data\\parameter_8\\station_113100-SE3.csv\n"
     ]
    },
    {
     "name": "stderr",
     "output_type": "stream",
     "text": [
      "Writing to file smhi_data\\parameter_8\\station_113100-SE3.csv:  37%|███▋      | 7/19 [00:00<00:00, 146.01it/s]\n"
     ]
    },
    {
     "name": "stdout",
     "output_type": "stream",
     "text": [
      "smhi_data\\parameter_8\\station_113230-SE3.csv\n"
     ]
    },
    {
     "name": "stderr",
     "output_type": "stream",
     "text": [
      "Writing to file smhi_data\\parameter_8\\station_113230-SE3.csv:  37%|███▋      | 7/19 [00:00<00:00, 164.46it/s]\n"
     ]
    },
    {
     "name": "stdout",
     "output_type": "stream",
     "text": [
      "Bad file\n",
      "smhi_data\\parameter_8\\station_113610-SE3.csv\n"
     ]
    },
    {
     "name": "stderr",
     "output_type": "stream",
     "text": [
      "Writing to file smhi_data\\parameter_8\\station_113610-SE3.csv:  42%|████▏     | 8/19 [00:00<00:00, 776.33it/s]\n"
     ]
    },
    {
     "name": "stdout",
     "output_type": "stream",
     "text": [
      "smhi_data\\parameter_8\\station_114160-SE3.csv\n"
     ]
    },
    {
     "name": "stderr",
     "output_type": "stream",
     "text": [
      "Writing to file smhi_data\\parameter_8\\station_114160-SE3.csv:  42%|████▏     | 8/19 [00:00<00:00, 313.26it/s]\n"
     ]
    },
    {
     "name": "stdout",
     "output_type": "stream",
     "text": [
      "smhi_data\\parameter_8\\station_115040-SE3.csv\n"
     ]
    },
    {
     "name": "stderr",
     "output_type": "stream",
     "text": [
      "Writing to file smhi_data\\parameter_8\\station_115040-SE3.csv:  37%|███▋      | 7/19 [00:00<00:00, 330.69it/s]\n"
     ]
    },
    {
     "name": "stdout",
     "output_type": "stream",
     "text": [
      "smhi_data\\parameter_8\\station_115050-SE3.csv\n"
     ]
    },
    {
     "name": "stderr",
     "output_type": "stream",
     "text": [
      "Writing to file smhi_data\\parameter_8\\station_115050-SE3.csv:  37%|███▋      | 7/19 [00:00<00:00, 1369.35it/s]\n"
     ]
    },
    {
     "name": "stdout",
     "output_type": "stream",
     "text": [
      "smhi_data\\parameter_8\\station_115630-SE3.csv\n"
     ]
    },
    {
     "name": "stderr",
     "output_type": "stream",
     "text": [
      "Writing to file smhi_data\\parameter_8\\station_115630-SE3.csv:  37%|███▋      | 7/19 [00:00<00:00, 1050.98it/s]\n"
     ]
    },
    {
     "name": "stdout",
     "output_type": "stream",
     "text": [
      "smhi_data\\parameter_8\\station_117610-SE3.csv\n"
     ]
    },
    {
     "name": "stderr",
     "output_type": "stream",
     "text": [
      "Writing to file smhi_data\\parameter_8\\station_117610-SE3.csv:  37%|███▋      | 7/19 [00:00<00:00, 929.38it/s]\n"
     ]
    },
    {
     "name": "stdout",
     "output_type": "stream",
     "text": [
      "smhi_data\\parameter_8\\station_71190-SE3.csv\n"
     ]
    },
    {
     "name": "stderr",
     "output_type": "stream",
     "text": [
      "Writing to file smhi_data\\parameter_8\\station_71190-SE3.csv:  42%|████▏     | 8/19 [00:00<00:00, 317.19it/s]\n"
     ]
    },
    {
     "name": "stdout",
     "output_type": "stream",
     "text": [
      "smhi_data\\parameter_8\\station_71380-SE3.csv\n"
     ]
    },
    {
     "name": "stderr",
     "output_type": "stream",
     "text": [
      "Writing to file smhi_data\\parameter_8\\station_71380-SE3.csv:  37%|███▋      | 7/19 [00:00<00:00, 615.97it/s]\n"
     ]
    },
    {
     "name": "stdout",
     "output_type": "stream",
     "text": [
      "smhi_data\\parameter_8\\station_71420-SE3.csv\n"
     ]
    },
    {
     "name": "stderr",
     "output_type": "stream",
     "text": [
      "Writing to file smhi_data\\parameter_8\\station_71420-SE3.csv:  47%|████▋     | 9/19 [00:00<00:00, 818.24it/s]\n"
     ]
    },
    {
     "name": "stdout",
     "output_type": "stream",
     "text": [
      "smhi_data\\parameter_8\\station_71430-SE3.csv\n"
     ]
    },
    {
     "name": "stderr",
     "output_type": "stream",
     "text": [
      "Writing to file smhi_data\\parameter_8\\station_71430-SE3.csv:  37%|███▋      | 7/19 [00:00<00:00, 287.63it/s]\n"
     ]
    },
    {
     "name": "stdout",
     "output_type": "stream",
     "text": [
      "smhi_data\\parameter_8\\station_71470-SE3.csv\n"
     ]
    },
    {
     "name": "stderr",
     "output_type": "stream",
     "text": [
      "Writing to file smhi_data\\parameter_8\\station_71470-SE3.csv:  37%|███▋      | 7/19 [00:00<00:00, 133.90it/s]\n"
     ]
    },
    {
     "name": "stdout",
     "output_type": "stream",
     "text": [
      "smhi_data\\parameter_8\\station_71500-SE3.csv\n"
     ]
    },
    {
     "name": "stderr",
     "output_type": "stream",
     "text": [
      "Writing to file smhi_data\\parameter_8\\station_71500-SE3.csv:  37%|███▋      | 7/19 [00:00<00:00, 1722.10it/s]\n"
     ]
    },
    {
     "name": "stdout",
     "output_type": "stream",
     "text": [
      "smhi_data\\parameter_8\\station_71510-SE3.csv\n"
     ]
    },
    {
     "name": "stderr",
     "output_type": "stream",
     "text": [
      "Writing to file smhi_data\\parameter_8\\station_71510-SE3.csv:  47%|████▋     | 9/19 [00:00<00:00, 454.85it/s]\n"
     ]
    },
    {
     "name": "stdout",
     "output_type": "stream",
     "text": [
      "Bad file\n",
      "smhi_data\\parameter_8\\station_72290-SE3.csv\n"
     ]
    },
    {
     "name": "stderr",
     "output_type": "stream",
     "text": [
      "Writing to file smhi_data\\parameter_8\\station_72290-SE3.csv:  42%|████▏     | 8/19 [00:00<00:00, 600.24it/s]\n"
     ]
    },
    {
     "name": "stdout",
     "output_type": "stream",
     "text": [
      "smhi_data\\parameter_8\\station_72300-SE3.csv\n"
     ]
    },
    {
     "name": "stderr",
     "output_type": "stream",
     "text": [
      "Writing to file smhi_data\\parameter_8\\station_72300-SE3.csv:  47%|████▋     | 9/19 [00:00<00:00, 320.37it/s]\n"
     ]
    },
    {
     "name": "stdout",
     "output_type": "stream",
     "text": [
      "Bad file\n",
      "smhi_data\\parameter_8\\station_72400-SE3.csv\n"
     ]
    },
    {
     "name": "stderr",
     "output_type": "stream",
     "text": [
      "Writing to file smhi_data\\parameter_8\\station_72400-SE3.csv:  42%|████▏     | 8/19 [00:00<00:00, 155.53it/s]\n"
     ]
    },
    {
     "name": "stdout",
     "output_type": "stream",
     "text": [
      "Bad file\n",
      "smhi_data\\parameter_8\\station_72420-SE3.csv\n"
     ]
    },
    {
     "name": "stderr",
     "output_type": "stream",
     "text": [
      "Writing to file smhi_data\\parameter_8\\station_72420-SE3.csv:  42%|████▏     | 8/19 [00:00<00:00, 456.72it/s]\n"
     ]
    },
    {
     "name": "stdout",
     "output_type": "stream",
     "text": [
      "smhi_data\\parameter_8\\station_72450-SE3.csv\n"
     ]
    },
    {
     "name": "stderr",
     "output_type": "stream",
     "text": [
      "Writing to file smhi_data\\parameter_8\\station_72450-SE3.csv:  37%|███▋      | 7/19 [00:00<00:00, 174.90it/s]\n"
     ]
    },
    {
     "name": "stdout",
     "output_type": "stream",
     "text": [
      "Bad file\n",
      "smhi_data\\parameter_8\\station_72500-SE3.csv\n"
     ]
    },
    {
     "name": "stderr",
     "output_type": "stream",
     "text": [
      "Writing to file smhi_data\\parameter_8\\station_72500-SE3.csv:  37%|███▋      | 7/19 [00:00<00:00, 1674.56it/s]\n"
     ]
    },
    {
     "name": "stdout",
     "output_type": "stream",
     "text": [
      "smhi_data\\parameter_8\\station_72520-SE3.csv\n"
     ]
    },
    {
     "name": "stderr",
     "output_type": "stream",
     "text": [
      "Writing to file smhi_data\\parameter_8\\station_72520-SE3.csv:  37%|███▋      | 7/19 [00:00<00:00, 1609.30it/s]\n"
     ]
    },
    {
     "name": "stdout",
     "output_type": "stream",
     "text": [
      "smhi_data\\parameter_8\\station_72630-SE3.csv\n"
     ]
    },
    {
     "name": "stderr",
     "output_type": "stream",
     "text": [
      "Writing to file smhi_data\\parameter_8\\station_72630-SE3.csv:  37%|███▋      | 7/19 [00:00<00:00, 449.59it/s]\n"
     ]
    },
    {
     "name": "stdout",
     "output_type": "stream",
     "text": [
      "smhi_data\\parameter_8\\station_73170-SE3.csv\n"
     ]
    },
    {
     "name": "stderr",
     "output_type": "stream",
     "text": [
      "Writing to file smhi_data\\parameter_8\\station_73170-SE3.csv:  37%|███▋      | 7/19 [00:00<00:00, 1165.82it/s]\n"
     ]
    },
    {
     "name": "stdout",
     "output_type": "stream",
     "text": [
      "smhi_data\\parameter_8\\station_73190-SE3.csv\n"
     ]
    },
    {
     "name": "stderr",
     "output_type": "stream",
     "text": [
      "Writing to file smhi_data\\parameter_8\\station_73190-SE3.csv:  37%|███▋      | 7/19 [00:00<00:00, 1167.87it/s]\n"
     ]
    },
    {
     "name": "stdout",
     "output_type": "stream",
     "text": [
      "smhi_data\\parameter_8\\station_73230-SE3.csv\n"
     ]
    },
    {
     "name": "stderr",
     "output_type": "stream",
     "text": [
      "Writing to file smhi_data\\parameter_8\\station_73230-SE3.csv:  42%|████▏     | 8/19 [00:00<00:00, 150.67it/s]\n"
     ]
    },
    {
     "name": "stdout",
     "output_type": "stream",
     "text": [
      "Bad file\n",
      "smhi_data\\parameter_8\\station_73250-SE3.csv\n"
     ]
    },
    {
     "name": "stderr",
     "output_type": "stream",
     "text": [
      "Writing to file smhi_data\\parameter_8\\station_73250-SE3.csv:  37%|███▋      | 7/19 [00:00<00:00, 712.43it/s]\n"
     ]
    },
    {
     "name": "stdout",
     "output_type": "stream",
     "text": [
      "smhi_data\\parameter_8\\station_73390-SE3.csv\n"
     ]
    },
    {
     "name": "stderr",
     "output_type": "stream",
     "text": [
      "Writing to file smhi_data\\parameter_8\\station_73390-SE3.csv:  37%|███▋      | 7/19 [00:00<00:00, 1201.12it/s]\n"
     ]
    },
    {
     "name": "stdout",
     "output_type": "stream",
     "text": [
      "smhi_data\\parameter_8\\station_73430-SE3.csv\n"
     ]
    },
    {
     "name": "stderr",
     "output_type": "stream",
     "text": [
      "Writing to file smhi_data\\parameter_8\\station_73430-SE3.csv:  37%|███▋      | 7/19 [00:00<00:00, 571.55it/s]\n"
     ]
    },
    {
     "name": "stdout",
     "output_type": "stream",
     "text": [
      "smhi_data\\parameter_8\\station_73470-SE3.csv\n"
     ]
    },
    {
     "name": "stderr",
     "output_type": "stream",
     "text": [
      "Writing to file smhi_data\\parameter_8\\station_73470-SE3.csv:  53%|█████▎    | 10/19 [00:00<00:00, 131.93it/s]\n"
     ]
    },
    {
     "name": "stdout",
     "output_type": "stream",
     "text": [
      "Bad file\n",
      "smhi_data\\parameter_8\\station_73560-SE3.csv\n"
     ]
    },
    {
     "name": "stderr",
     "output_type": "stream",
     "text": [
      "Writing to file smhi_data\\parameter_8\\station_73560-SE3.csv:  53%|█████▎    | 10/19 [00:00<00:00, 412.99it/s]\n"
     ]
    },
    {
     "name": "stdout",
     "output_type": "stream",
     "text": [
      "Bad file\n",
      "smhi_data\\parameter_8\\station_73570-SE3.csv\n"
     ]
    },
    {
     "name": "stderr",
     "output_type": "stream",
     "text": [
      "Writing to file smhi_data\\parameter_8\\station_73570-SE3.csv:  37%|███▋      | 7/19 [00:00<00:00, 333.05it/s]\n"
     ]
    },
    {
     "name": "stdout",
     "output_type": "stream",
     "text": [
      "smhi_data\\parameter_8\\station_73660-SE3.csv\n"
     ]
    },
    {
     "name": "stderr",
     "output_type": "stream",
     "text": [
      "Writing to file smhi_data\\parameter_8\\station_73660-SE3.csv:  42%|████▏     | 8/19 [00:00<00:00, 1142.98it/s]\n"
     ]
    },
    {
     "name": "stdout",
     "output_type": "stream",
     "text": [
      "Bad file\n",
      "smhi_data\\parameter_8\\station_73680-SE3.csv\n"
     ]
    },
    {
     "name": "stderr",
     "output_type": "stream",
     "text": [
      "Writing to file smhi_data\\parameter_8\\station_73680-SE3.csv:  37%|███▋      | 7/19 [00:00<00:00, 1738.73it/s]\n"
     ]
    },
    {
     "name": "stdout",
     "output_type": "stream",
     "text": [
      "smhi_data\\parameter_8\\station_73690-SE3.csv\n"
     ]
    },
    {
     "name": "stderr",
     "output_type": "stream",
     "text": [
      "Writing to file smhi_data\\parameter_8\\station_73690-SE3.csv:  37%|███▋      | 7/19 [00:00<00:00, 777.75it/s]\n"
     ]
    },
    {
     "name": "stdout",
     "output_type": "stream",
     "text": [
      "smhi_data\\parameter_8\\station_74180-SE3.csv\n"
     ]
    },
    {
     "name": "stderr",
     "output_type": "stream",
     "text": [
      "Writing to file smhi_data\\parameter_8\\station_74180-SE3.csv:  42%|████▏     | 8/19 [00:00<00:00, 156.84it/s]\n"
     ]
    },
    {
     "name": "stdout",
     "output_type": "stream",
     "text": [
      "smhi_data\\parameter_8\\station_74240-SE3.csv\n"
     ]
    },
    {
     "name": "stderr",
     "output_type": "stream",
     "text": [
      "Writing to file smhi_data\\parameter_8\\station_74240-SE3.csv:  42%|████▏     | 8/19 [00:00<00:00, 514.71it/s]\n"
     ]
    },
    {
     "name": "stdout",
     "output_type": "stream",
     "text": [
      "Bad file\n",
      "smhi_data\\parameter_8\\station_74340-SE3.csv\n"
     ]
    },
    {
     "name": "stderr",
     "output_type": "stream",
     "text": [
      "Writing to file smhi_data\\parameter_8\\station_74340-SE3.csv:  37%|███▋      | 7/19 [00:00<00:00, 1395.64it/s]\n"
     ]
    },
    {
     "name": "stdout",
     "output_type": "stream",
     "text": [
      "smhi_data\\parameter_8\\station_74350-SE3.csv\n"
     ]
    },
    {
     "name": "stderr",
     "output_type": "stream",
     "text": [
      "Writing to file smhi_data\\parameter_8\\station_74350-SE3.csv:  37%|███▋      | 7/19 [00:00<00:00, 852.53it/s]\n"
     ]
    },
    {
     "name": "stdout",
     "output_type": "stream",
     "text": [
      "smhi_data\\parameter_8\\station_74390-SE3.csv\n"
     ]
    },
    {
     "name": "stderr",
     "output_type": "stream",
     "text": [
      "Writing to file smhi_data\\parameter_8\\station_74390-SE3.csv:  42%|████▏     | 8/19 [00:00<00:00, 303.91it/s]\n"
     ]
    },
    {
     "name": "stdout",
     "output_type": "stream",
     "text": [
      "smhi_data\\parameter_8\\station_74420-SE3.csv\n"
     ]
    },
    {
     "name": "stderr",
     "output_type": "stream",
     "text": [
      "Writing to file smhi_data\\parameter_8\\station_74420-SE3.csv:  47%|████▋     | 9/19 [00:00<00:00, 396.72it/s]\n"
     ]
    },
    {
     "name": "stdout",
     "output_type": "stream",
     "text": [
      "Bad file\n",
      "smhi_data\\parameter_8\\station_74440-SE3.csv\n"
     ]
    },
    {
     "name": "stderr",
     "output_type": "stream",
     "text": [
      "Writing to file smhi_data\\parameter_8\\station_74440-SE3.csv:  42%|████▏     | 8/19 [00:00<00:00, 192.16it/s]\n"
     ]
    },
    {
     "name": "stdout",
     "output_type": "stream",
     "text": [
      "Bad file\n",
      "smhi_data\\parameter_8\\station_74450-SE3.csv\n"
     ]
    },
    {
     "name": "stderr",
     "output_type": "stream",
     "text": [
      "Writing to file smhi_data\\parameter_8\\station_74450-SE3.csv:  37%|███▋      | 7/19 [00:00<00:00, 869.44it/s]\n"
     ]
    },
    {
     "name": "stdout",
     "output_type": "stream",
     "text": [
      "smhi_data\\parameter_8\\station_74460-SE3.csv\n"
     ]
    },
    {
     "name": "stderr",
     "output_type": "stream",
     "text": [
      "Writing to file smhi_data\\parameter_8\\station_74460-SE3.csv:  37%|███▋      | 7/19 [00:00<00:00, 616.06it/s]\n"
     ]
    },
    {
     "name": "stdout",
     "output_type": "stream",
     "text": [
      "smhi_data\\parameter_8\\station_74470-SE3.csv\n"
     ]
    },
    {
     "name": "stderr",
     "output_type": "stream",
     "text": [
      "Writing to file smhi_data\\parameter_8\\station_74470-SE3.csv:  47%|████▋     | 9/19 [00:00<00:00, 473.47it/s]\n"
     ]
    },
    {
     "name": "stdout",
     "output_type": "stream",
     "text": [
      "Bad file\n",
      "smhi_data\\parameter_8\\station_74480-SE3.csv\n"
     ]
    },
    {
     "name": "stderr",
     "output_type": "stream",
     "text": [
      "Writing to file smhi_data\\parameter_8\\station_74480-SE3.csv:  37%|███▋      | 7/19 [00:00<00:00, 995.19it/s]\n"
     ]
    },
    {
     "name": "stdout",
     "output_type": "stream",
     "text": [
      "Bad file\n",
      "smhi_data\\parameter_8\\station_74490-SE3.csv\n"
     ]
    },
    {
     "name": "stderr",
     "output_type": "stream",
     "text": [
      "Writing to file smhi_data\\parameter_8\\station_74490-SE3.csv:  37%|███▋      | 7/19 [00:00<00:00, 441.84it/s]\n"
     ]
    },
    {
     "name": "stdout",
     "output_type": "stream",
     "text": [
      "Bad file\n",
      "smhi_data\\parameter_8\\station_74510-SE3.csv\n"
     ]
    },
    {
     "name": "stderr",
     "output_type": "stream",
     "text": [
      "Writing to file smhi_data\\parameter_8\\station_74510-SE3.csv:  37%|███▋      | 7/19 [00:00<00:00, 1158.83it/s]\n"
     ]
    },
    {
     "name": "stdout",
     "output_type": "stream",
     "text": [
      "smhi_data\\parameter_8\\station_74530-SE3.csv\n"
     ]
    },
    {
     "name": "stderr",
     "output_type": "stream",
     "text": [
      "Writing to file smhi_data\\parameter_8\\station_74530-SE3.csv:  37%|███▋      | 7/19 [00:00<00:00, 398.97it/s]\n"
     ]
    },
    {
     "name": "stdout",
     "output_type": "stream",
     "text": [
      "smhi_data\\parameter_8\\station_74640-SE3.csv\n"
     ]
    },
    {
     "name": "stderr",
     "output_type": "stream",
     "text": [
      "Writing to file smhi_data\\parameter_8\\station_74640-SE3.csv:  37%|███▋      | 7/19 [00:00<00:00, 1532.13it/s]\n"
     ]
    },
    {
     "name": "stdout",
     "output_type": "stream",
     "text": [
      "smhi_data\\parameter_8\\station_74650-SE3.csv\n"
     ]
    },
    {
     "name": "stderr",
     "output_type": "stream",
     "text": [
      "Writing to file smhi_data\\parameter_8\\station_74650-SE3.csv:  37%|███▋      | 7/19 [00:00<00:00, 873.68it/s]\n"
     ]
    },
    {
     "name": "stdout",
     "output_type": "stream",
     "text": [
      "smhi_data\\parameter_8\\station_75140-SE3.csv\n"
     ]
    },
    {
     "name": "stderr",
     "output_type": "stream",
     "text": [
      "Writing to file smhi_data\\parameter_8\\station_75140-SE3.csv:  37%|███▋      | 7/19 [00:00<00:00, 405.01it/s]\n"
     ]
    },
    {
     "name": "stdout",
     "output_type": "stream",
     "text": [
      "smhi_data\\parameter_8\\station_75160-SE3.csv\n"
     ]
    },
    {
     "name": "stderr",
     "output_type": "stream",
     "text": [
      "Writing to file smhi_data\\parameter_8\\station_75160-SE3.csv:  37%|███▋      | 7/19 [00:00<00:00, 1129.41it/s]\n"
     ]
    },
    {
     "name": "stdout",
     "output_type": "stream",
     "text": [
      "smhi_data\\parameter_8\\station_75240-SE3.csv\n"
     ]
    },
    {
     "name": "stderr",
     "output_type": "stream",
     "text": [
      "Writing to file smhi_data\\parameter_8\\station_75240-SE3.csv:  53%|█████▎    | 10/19 [00:00<00:00, 173.95it/s]\n"
     ]
    },
    {
     "name": "stdout",
     "output_type": "stream",
     "text": [
      "smhi_data\\parameter_8\\station_75380-SE3.csv\n"
     ]
    },
    {
     "name": "stderr",
     "output_type": "stream",
     "text": [
      "Writing to file smhi_data\\parameter_8\\station_75380-SE3.csv:  58%|█████▊    | 11/19 [00:00<00:00, 386.71it/s]\n"
     ]
    },
    {
     "name": "stdout",
     "output_type": "stream",
     "text": [
      "Bad file\n",
      "smhi_data\\parameter_8\\station_75400-SE3.csv\n"
     ]
    },
    {
     "name": "stderr",
     "output_type": "stream",
     "text": [
      "Writing to file smhi_data\\parameter_8\\station_75400-SE3.csv:  37%|███▋      | 7/19 [00:00<00:00, 416.34it/s]\n"
     ]
    },
    {
     "name": "stdout",
     "output_type": "stream",
     "text": [
      "smhi_data\\parameter_8\\station_75410-SE3.csv\n"
     ]
    },
    {
     "name": "stderr",
     "output_type": "stream",
     "text": [
      "Writing to file smhi_data\\parameter_8\\station_75410-SE3.csv:  37%|███▋      | 7/19 [00:00<00:00, 304.20it/s]\n"
     ]
    },
    {
     "name": "stdout",
     "output_type": "stream",
     "text": [
      "smhi_data\\parameter_8\\station_76160-SE3.csv\n"
     ]
    },
    {
     "name": "stderr",
     "output_type": "stream",
     "text": [
      "Writing to file smhi_data\\parameter_8\\station_76160-SE3.csv:  42%|████▏     | 8/19 [00:00<00:00, 185.39it/s]\n"
     ]
    },
    {
     "name": "stdout",
     "output_type": "stream",
     "text": [
      "Bad file\n",
      "smhi_data\\parameter_8\\station_76380-SE3.csv\n"
     ]
    },
    {
     "name": "stderr",
     "output_type": "stream",
     "text": [
      "Writing to file smhi_data\\parameter_8\\station_76380-SE3.csv:  42%|████▏     | 8/19 [00:00<00:00, 526.21it/s]\n"
     ]
    },
    {
     "name": "stdout",
     "output_type": "stream",
     "text": [
      "smhi_data\\parameter_8\\station_76430-SE3.csv\n"
     ]
    },
    {
     "name": "stderr",
     "output_type": "stream",
     "text": [
      "Writing to file smhi_data\\parameter_8\\station_76430-SE3.csv:  37%|███▋      | 7/19 [00:00<00:00, 1271.22it/s]\n"
     ]
    },
    {
     "name": "stdout",
     "output_type": "stream",
     "text": [
      "smhi_data\\parameter_8\\station_76470-SE3.csv\n"
     ]
    },
    {
     "name": "stderr",
     "output_type": "stream",
     "text": [
      "Writing to file smhi_data\\parameter_8\\station_76470-SE3.csv:  42%|████▏     | 8/19 [00:00<00:00, 164.42it/s]\n"
     ]
    },
    {
     "name": "stdout",
     "output_type": "stream",
     "text": [
      "smhi_data\\parameter_8\\station_76530-SE3.csv\n"
     ]
    },
    {
     "name": "stderr",
     "output_type": "stream",
     "text": [
      "Writing to file smhi_data\\parameter_8\\station_76530-SE3.csv:  42%|████▏     | 8/19 [00:00<00:00, 1323.44it/s]\n"
     ]
    },
    {
     "name": "stdout",
     "output_type": "stream",
     "text": [
      "smhi_data\\parameter_8\\station_77170-SE3.csv\n"
     ]
    },
    {
     "name": "stderr",
     "output_type": "stream",
     "text": [
      "Writing to file smhi_data\\parameter_8\\station_77170-SE3.csv:  37%|███▋      | 7/19 [00:00<00:00, 871.76it/s]\n"
     ]
    },
    {
     "name": "stdout",
     "output_type": "stream",
     "text": [
      "smhi_data\\parameter_8\\station_77180-SE3.csv\n"
     ]
    },
    {
     "name": "stderr",
     "output_type": "stream",
     "text": [
      "Writing to file smhi_data\\parameter_8\\station_77180-SE3.csv:  37%|███▋      | 7/19 [00:00<00:00, 479.25it/s]\n"
     ]
    },
    {
     "name": "stdout",
     "output_type": "stream",
     "text": [
      "smhi_data\\parameter_8\\station_77220-SE3.csv\n"
     ]
    },
    {
     "name": "stderr",
     "output_type": "stream",
     "text": [
      "Writing to file smhi_data\\parameter_8\\station_77220-SE3.csv:  42%|████▏     | 8/19 [00:00<00:00, 185.30it/s]\n"
     ]
    },
    {
     "name": "stdout",
     "output_type": "stream",
     "text": [
      "Bad file\n",
      "smhi_data\\parameter_8\\station_78140-SE3.csv\n"
     ]
    },
    {
     "name": "stderr",
     "output_type": "stream",
     "text": [
      "Writing to file smhi_data\\parameter_8\\station_78140-SE3.csv:  42%|████▏     | 8/19 [00:00<00:00, 532.42it/s]\n"
     ]
    },
    {
     "name": "stdout",
     "output_type": "stream",
     "text": [
      "Bad file\n",
      "smhi_data\\parameter_8\\station_78240-SE3.csv\n"
     ]
    },
    {
     "name": "stderr",
     "output_type": "stream",
     "text": [
      "Writing to file smhi_data\\parameter_8\\station_78240-SE3.csv:  42%|████▏     | 8/19 [00:00<00:00, 723.87it/s]\n"
     ]
    },
    {
     "name": "stdout",
     "output_type": "stream",
     "text": [
      "smhi_data\\parameter_8\\station_78250-SE3.csv\n"
     ]
    },
    {
     "name": "stderr",
     "output_type": "stream",
     "text": [
      "Writing to file smhi_data\\parameter_8\\station_78250-SE3.csv:  42%|████▏     | 8/19 [00:00<00:00, 189.10it/s]\n"
     ]
    },
    {
     "name": "stdout",
     "output_type": "stream",
     "text": [
      "smhi_data\\parameter_8\\station_78280-SE3.csv\n"
     ]
    },
    {
     "name": "stderr",
     "output_type": "stream",
     "text": [
      "Writing to file smhi_data\\parameter_8\\station_78280-SE3.csv:  37%|███▋      | 7/19 [00:00<00:00, 1529.97it/s]\n"
     ]
    },
    {
     "name": "stdout",
     "output_type": "stream",
     "text": [
      "smhi_data\\parameter_8\\station_78310-SE3.csv\n"
     ]
    },
    {
     "name": "stderr",
     "output_type": "stream",
     "text": [
      "Writing to file smhi_data\\parameter_8\\station_78310-SE3.csv:  37%|███▋      | 7/19 [00:00<00:00, 2267.72it/s]\n"
     ]
    },
    {
     "name": "stdout",
     "output_type": "stream",
     "text": [
      "smhi_data\\parameter_8\\station_78320-SE3.csv\n"
     ]
    },
    {
     "name": "stderr",
     "output_type": "stream",
     "text": [
      "Writing to file smhi_data\\parameter_8\\station_78320-SE3.csv:  37%|███▋      | 7/19 [00:00<00:00, 349.31it/s]\n"
     ]
    },
    {
     "name": "stdout",
     "output_type": "stream",
     "text": [
      "Bad file\n",
      "smhi_data\\parameter_8\\station_78360-SE3.csv\n"
     ]
    },
    {
     "name": "stderr",
     "output_type": "stream",
     "text": [
      "Writing to file smhi_data\\parameter_8\\station_78360-SE3.csv:  37%|███▋      | 7/19 [00:00<00:00, 705.53it/s]\n"
     ]
    },
    {
     "name": "stdout",
     "output_type": "stream",
     "text": [
      "smhi_data\\parameter_8\\station_78390-SE3.csv\n"
     ]
    },
    {
     "name": "stderr",
     "output_type": "stream",
     "text": [
      "Writing to file smhi_data\\parameter_8\\station_78390-SE3.csv:  58%|█████▊    | 11/19 [00:00<00:00, 137.14it/s]\n"
     ]
    },
    {
     "name": "stdout",
     "output_type": "stream",
     "text": [
      "Bad file\n",
      "smhi_data\\parameter_8\\station_78400-SE3.csv\n"
     ]
    },
    {
     "name": "stderr",
     "output_type": "stream",
     "text": [
      "Writing to file smhi_data\\parameter_8\\station_78400-SE3.csv:  37%|███▋      | 7/19 [00:00<00:00, 169.14it/s]\n"
     ]
    },
    {
     "name": "stdout",
     "output_type": "stream",
     "text": [
      "smhi_data\\parameter_8\\station_78420-SE3.csv\n"
     ]
    },
    {
     "name": "stderr",
     "output_type": "stream",
     "text": [
      "Writing to file smhi_data\\parameter_8\\station_78420-SE3.csv:  42%|████▏     | 8/19 [00:00<00:00, 392.42it/s]\n"
     ]
    },
    {
     "name": "stdout",
     "output_type": "stream",
     "text": [
      "Bad file\n",
      "smhi_data\\parameter_8\\station_79580-SE3.csv\n"
     ]
    },
    {
     "name": "stderr",
     "output_type": "stream",
     "text": [
      "Writing to file smhi_data\\parameter_8\\station_79580-SE3.csv:  37%|███▋      | 7/19 [00:00<00:00, 335.76it/s]\n"
     ]
    },
    {
     "name": "stdout",
     "output_type": "stream",
     "text": [
      "smhi_data\\parameter_8\\station_81010-SE3.csv\n"
     ]
    },
    {
     "name": "stderr",
     "output_type": "stream",
     "text": [
      "Writing to file smhi_data\\parameter_8\\station_81010-SE3.csv:  37%|███▋      | 7/19 [00:00<00:00, 703.47it/s]\n"
     ]
    },
    {
     "name": "stdout",
     "output_type": "stream",
     "text": [
      "smhi_data\\parameter_8\\station_81040-SE3.csv\n"
     ]
    },
    {
     "name": "stderr",
     "output_type": "stream",
     "text": [
      "Writing to file smhi_data\\parameter_8\\station_81040-SE3.csv:  37%|███▋      | 7/19 [00:00<00:00, 392.24it/s]\n"
     ]
    },
    {
     "name": "stdout",
     "output_type": "stream",
     "text": [
      "Bad file\n",
      "smhi_data\\parameter_8\\station_81060-SE3.csv\n"
     ]
    },
    {
     "name": "stderr",
     "output_type": "stream",
     "text": [
      "Writing to file smhi_data\\parameter_8\\station_81060-SE3.csv:  37%|███▋      | 7/19 [00:00<00:00, 653.46it/s]\n"
     ]
    },
    {
     "name": "stdout",
     "output_type": "stream",
     "text": [
      "smhi_data\\parameter_8\\station_81130-SE3.csv\n"
     ]
    },
    {
     "name": "stderr",
     "output_type": "stream",
     "text": [
      "Writing to file smhi_data\\parameter_8\\station_81130-SE3.csv:  37%|███▋      | 7/19 [00:00<00:00, 422.67it/s]\n"
     ]
    },
    {
     "name": "stdout",
     "output_type": "stream",
     "text": [
      "smhi_data\\parameter_8\\station_81150-SE3.csv\n"
     ]
    },
    {
     "name": "stderr",
     "output_type": "stream",
     "text": [
      "Writing to file smhi_data\\parameter_8\\station_81150-SE3.csv:  37%|███▋      | 7/19 [00:00<00:00, 1001.10it/s]\n"
     ]
    },
    {
     "name": "stdout",
     "output_type": "stream",
     "text": [
      "smhi_data\\parameter_8\\station_81210-SE3.csv\n"
     ]
    },
    {
     "name": "stderr",
     "output_type": "stream",
     "text": [
      "Writing to file smhi_data\\parameter_8\\station_81210-SE3.csv:  53%|█████▎    | 10/19 [00:00<00:00, 179.51it/s]\n"
     ]
    },
    {
     "name": "stdout",
     "output_type": "stream",
     "text": [
      "Bad file\n",
      "smhi_data\\parameter_8\\station_81220-SE3.csv\n"
     ]
    },
    {
     "name": "stderr",
     "output_type": "stream",
     "text": [
      "Writing to file smhi_data\\parameter_8\\station_81220-SE3.csv:  37%|███▋      | 7/19 [00:00<00:00, 1738.11it/s]\n"
     ]
    },
    {
     "name": "stdout",
     "output_type": "stream",
     "text": [
      "smhi_data\\parameter_8\\station_81320-SE3.csv\n"
     ]
    },
    {
     "name": "stderr",
     "output_type": "stream",
     "text": [
      "Writing to file smhi_data\\parameter_8\\station_81320-SE3.csv:  37%|███▋      | 7/19 [00:00<00:00, 701.39it/s]\n"
     ]
    },
    {
     "name": "stdout",
     "output_type": "stream",
     "text": [
      "smhi_data\\parameter_8\\station_81340-SE3.csv\n"
     ]
    },
    {
     "name": "stderr",
     "output_type": "stream",
     "text": [
      "Writing to file smhi_data\\parameter_8\\station_81340-SE3.csv:  37%|███▋      | 7/19 [00:00<00:00, 535.76it/s]\n"
     ]
    },
    {
     "name": "stdout",
     "output_type": "stream",
     "text": [
      "smhi_data\\parameter_8\\station_81540-SE3.csv\n"
     ]
    },
    {
     "name": "stderr",
     "output_type": "stream",
     "text": [
      "Writing to file smhi_data\\parameter_8\\station_81540-SE3.csv:  42%|████▏     | 8/19 [00:00<00:00, 338.36it/s]\n"
     ]
    },
    {
     "name": "stdout",
     "output_type": "stream",
     "text": [
      "smhi_data\\parameter_8\\station_81560-SE3.csv\n"
     ]
    },
    {
     "name": "stderr",
     "output_type": "stream",
     "text": [
      "Writing to file smhi_data\\parameter_8\\station_81560-SE3.csv:  37%|███▋      | 7/19 [00:00<00:00, 224.10it/s]\n"
     ]
    },
    {
     "name": "stdout",
     "output_type": "stream",
     "text": [
      "smhi_data\\parameter_8\\station_81620-SE3.csv\n"
     ]
    },
    {
     "name": "stderr",
     "output_type": "stream",
     "text": [
      "Writing to file smhi_data\\parameter_8\\station_81620-SE3.csv:  37%|███▋      | 7/19 [00:00<00:00, 369.21it/s]\n"
     ]
    },
    {
     "name": "stdout",
     "output_type": "stream",
     "text": [
      "smhi_data\\parameter_8\\station_81630-SE3.csv\n"
     ]
    },
    {
     "name": "stderr",
     "output_type": "stream",
     "text": [
      "Writing to file smhi_data\\parameter_8\\station_81630-SE3.csv:  37%|███▋      | 7/19 [00:00<00:00, 1262.86it/s]\n"
     ]
    },
    {
     "name": "stdout",
     "output_type": "stream",
     "text": [
      "smhi_data\\parameter_8\\station_81640-SE3.csv\n"
     ]
    },
    {
     "name": "stderr",
     "output_type": "stream",
     "text": [
      "Writing to file smhi_data\\parameter_8\\station_81640-SE3.csv:  37%|███▋      | 7/19 [00:00<00:00, 1072.83it/s]\n"
     ]
    },
    {
     "name": "stdout",
     "output_type": "stream",
     "text": [
      "smhi_data\\parameter_8\\station_82000-SE3.csv\n"
     ]
    },
    {
     "name": "stderr",
     "output_type": "stream",
     "text": [
      "Writing to file smhi_data\\parameter_8\\station_82000-SE3.csv:  37%|███▋      | 7/19 [00:00<00:00, 549.72it/s]\n"
     ]
    },
    {
     "name": "stdout",
     "output_type": "stream",
     "text": [
      "smhi_data\\parameter_8\\station_82010-SE3.csv\n"
     ]
    },
    {
     "name": "stderr",
     "output_type": "stream",
     "text": [
      "Writing to file smhi_data\\parameter_8\\station_82010-SE3.csv:  37%|███▋      | 7/19 [00:00<00:00, 699.10it/s]\n"
     ]
    },
    {
     "name": "stdout",
     "output_type": "stream",
     "text": [
      "smhi_data\\parameter_8\\station_82030-SE3.csv\n"
     ]
    },
    {
     "name": "stderr",
     "output_type": "stream",
     "text": [
      "Writing to file smhi_data\\parameter_8\\station_82030-SE3.csv:  37%|███▋      | 7/19 [00:00<00:00, 1065.82it/s]\n"
     ]
    },
    {
     "name": "stdout",
     "output_type": "stream",
     "text": [
      "smhi_data\\parameter_8\\station_82100-SE3.csv\n"
     ]
    },
    {
     "name": "stderr",
     "output_type": "stream",
     "text": [
      "Writing to file smhi_data\\parameter_8\\station_82100-SE3.csv:  37%|███▋      | 7/19 [00:00<00:00, 1327.61it/s]\n"
     ]
    },
    {
     "name": "stdout",
     "output_type": "stream",
     "text": [
      "smhi_data\\parameter_8\\station_82110-SE3.csv\n"
     ]
    },
    {
     "name": "stderr",
     "output_type": "stream",
     "text": [
      "Writing to file smhi_data\\parameter_8\\station_82110-SE3.csv:  42%|████▏     | 8/19 [00:00<00:00, 180.72it/s]\n"
     ]
    },
    {
     "name": "stdout",
     "output_type": "stream",
     "text": [
      "Bad file\n",
      "smhi_data\\parameter_8\\station_82190-SE3.csv\n"
     ]
    },
    {
     "name": "stderr",
     "output_type": "stream",
     "text": [
      "Writing to file smhi_data\\parameter_8\\station_82190-SE3.csv:  37%|███▋      | 7/19 [00:00<00:00, 874.05it/s]\n"
     ]
    },
    {
     "name": "stdout",
     "output_type": "stream",
     "text": [
      "smhi_data\\parameter_8\\station_82200-SE3.csv\n"
     ]
    },
    {
     "name": "stderr",
     "output_type": "stream",
     "text": [
      "Writing to file smhi_data\\parameter_8\\station_82200-SE3.csv:  42%|████▏     | 8/19 [00:00<00:00, 797.28it/s]\n"
     ]
    },
    {
     "name": "stdout",
     "output_type": "stream",
     "text": [
      "smhi_data\\parameter_8\\station_82230-SE3.csv\n"
     ]
    },
    {
     "name": "stderr",
     "output_type": "stream",
     "text": [
      "Writing to file smhi_data\\parameter_8\\station_82230-SE3.csv:  42%|████▏     | 8/19 [00:00<00:00, 193.46it/s]\n"
     ]
    },
    {
     "name": "stdout",
     "output_type": "stream",
     "text": [
      "Bad file\n",
      "smhi_data\\parameter_8\\station_82250-SE3.csv\n"
     ]
    },
    {
     "name": "stderr",
     "output_type": "stream",
     "text": [
      "Writing to file smhi_data\\parameter_8\\station_82250-SE3.csv:  37%|███▋      | 7/19 [00:00<00:00, 1224.87it/s]\n"
     ]
    },
    {
     "name": "stdout",
     "output_type": "stream",
     "text": [
      "smhi_data\\parameter_8\\station_82260-SE3.csv\n"
     ]
    },
    {
     "name": "stderr",
     "output_type": "stream",
     "text": [
      "Writing to file smhi_data\\parameter_8\\station_82260-SE3.csv:  42%|████▏     | 8/19 [00:00<00:00, 124.52it/s]\n"
     ]
    },
    {
     "name": "stdout",
     "output_type": "stream",
     "text": [
      "Bad file\n",
      "smhi_data\\parameter_8\\station_82380-SE3.csv\n"
     ]
    },
    {
     "name": "stderr",
     "output_type": "stream",
     "text": [
      "Writing to file smhi_data\\parameter_8\\station_82380-SE3.csv:  47%|████▋     | 9/19 [00:00<00:00, 630.27it/s]\n"
     ]
    },
    {
     "name": "stdout",
     "output_type": "stream",
     "text": [
      "Bad file\n",
      "smhi_data\\parameter_8\\station_82540-SE3.csv\n"
     ]
    },
    {
     "name": "stderr",
     "output_type": "stream",
     "text": [
      "Writing to file smhi_data\\parameter_8\\station_82540-SE3.csv:  37%|███▋      | 7/19 [00:00<00:00, 184.03it/s]\n"
     ]
    },
    {
     "name": "stdout",
     "output_type": "stream",
     "text": [
      "smhi_data\\parameter_8\\station_82620-SE3.csv\n"
     ]
    },
    {
     "name": "stderr",
     "output_type": "stream",
     "text": [
      "Writing to file smhi_data\\parameter_8\\station_82620-SE3.csv:  37%|███▋      | 7/19 [00:00<00:00, 777.98it/s]\n"
     ]
    },
    {
     "name": "stdout",
     "output_type": "stream",
     "text": [
      "smhi_data\\parameter_8\\station_82640-SE3.csv\n"
     ]
    },
    {
     "name": "stderr",
     "output_type": "stream",
     "text": [
      "Writing to file smhi_data\\parameter_8\\station_82640-SE3.csv:  37%|███▋      | 7/19 [00:00<00:00, 1067.68it/s]\n"
     ]
    },
    {
     "name": "stdout",
     "output_type": "stream",
     "text": [
      "smhi_data\\parameter_8\\station_82650-SE3.csv\n"
     ]
    },
    {
     "name": "stderr",
     "output_type": "stream",
     "text": [
      "Writing to file smhi_data\\parameter_8\\station_82650-SE3.csv:  37%|███▋      | 7/19 [00:00<00:00, 500.02it/s]\n"
     ]
    },
    {
     "name": "stdout",
     "output_type": "stream",
     "text": [
      "smhi_data\\parameter_8\\station_82660-SE3.csv\n"
     ]
    },
    {
     "name": "stderr",
     "output_type": "stream",
     "text": [
      "Writing to file smhi_data\\parameter_8\\station_82660-SE3.csv:  37%|███▋      | 7/19 [00:00<00:00, 583.45it/s]\n"
     ]
    },
    {
     "name": "stdout",
     "output_type": "stream",
     "text": [
      "smhi_data\\parameter_8\\station_83050-SE3.csv\n"
     ]
    },
    {
     "name": "stderr",
     "output_type": "stream",
     "text": [
      "Writing to file smhi_data\\parameter_8\\station_83050-SE3.csv:  37%|███▋      | 7/19 [00:00<00:00, 1750.75it/s]\n"
     ]
    },
    {
     "name": "stdout",
     "output_type": "stream",
     "text": [
      "smhi_data\\parameter_8\\station_83090-SE3.csv\n"
     ]
    },
    {
     "name": "stderr",
     "output_type": "stream",
     "text": [
      "Writing to file smhi_data\\parameter_8\\station_83090-SE3.csv:  47%|████▋     | 9/19 [00:00<00:00, 416.88it/s]\n"
     ]
    },
    {
     "name": "stdout",
     "output_type": "stream",
     "text": [
      "Bad file\n",
      "smhi_data\\parameter_8\\station_83130-SE3.csv\n"
     ]
    },
    {
     "name": "stderr",
     "output_type": "stream",
     "text": [
      "Writing to file smhi_data\\parameter_8\\station_83130-SE3.csv:  37%|███▋      | 7/19 [00:00<00:00, 397.34it/s]\n"
     ]
    },
    {
     "name": "stdout",
     "output_type": "stream",
     "text": [
      "smhi_data\\parameter_8\\station_83150-SE3.csv\n"
     ]
    },
    {
     "name": "stderr",
     "output_type": "stream",
     "text": [
      "Writing to file smhi_data\\parameter_8\\station_83150-SE3.csv:  42%|████▏     | 8/19 [00:00<00:00, 726.22it/s]\n"
     ]
    },
    {
     "name": "stdout",
     "output_type": "stream",
     "text": [
      "Bad file\n",
      "smhi_data\\parameter_8\\station_83170-SE3.csv\n"
     ]
    },
    {
     "name": "stderr",
     "output_type": "stream",
     "text": [
      "Writing to file smhi_data\\parameter_8\\station_83170-SE3.csv:  37%|███▋      | 7/19 [00:00<00:00, 265.29it/s]\n"
     ]
    },
    {
     "name": "stdout",
     "output_type": "stream",
     "text": [
      "smhi_data\\parameter_8\\station_83200-SE3.csv\n"
     ]
    },
    {
     "name": "stderr",
     "output_type": "stream",
     "text": [
      "Writing to file smhi_data\\parameter_8\\station_83200-SE3.csv:  37%|███▋      | 7/19 [00:00<00:00, 1399.63it/s]\n"
     ]
    },
    {
     "name": "stdout",
     "output_type": "stream",
     "text": [
      "smhi_data\\parameter_8\\station_83210-SE3.csv\n"
     ]
    },
    {
     "name": "stderr",
     "output_type": "stream",
     "text": [
      "Writing to file smhi_data\\parameter_8\\station_83210-SE3.csv:  37%|███▋      | 7/19 [00:00<00:00, 778.82it/s]\n"
     ]
    },
    {
     "name": "stdout",
     "output_type": "stream",
     "text": [
      "Bad file\n",
      "smhi_data\\parameter_8\\station_83230-SE3.csv\n"
     ]
    },
    {
     "name": "stderr",
     "output_type": "stream",
     "text": [
      "Writing to file smhi_data\\parameter_8\\station_83230-SE3.csv:  37%|███▋      | 7/19 [00:00<00:00, 141.68it/s]\n"
     ]
    },
    {
     "name": "stdout",
     "output_type": "stream",
     "text": [
      "Bad file\n",
      "smhi_data\\parameter_8\\station_83240-SE3.csv\n"
     ]
    },
    {
     "name": "stderr",
     "output_type": "stream",
     "text": [
      "Writing to file smhi_data\\parameter_8\\station_83240-SE3.csv:  37%|███▋      | 7/19 [00:00<00:00, 1389.17it/s]\n"
     ]
    },
    {
     "name": "stdout",
     "output_type": "stream",
     "text": [
      "smhi_data\\parameter_8\\station_83270-SE3.csv\n"
     ]
    },
    {
     "name": "stderr",
     "output_type": "stream",
     "text": [
      "Writing to file smhi_data\\parameter_8\\station_83270-SE3.csv:  47%|████▋     | 9/19 [00:00<00:00, 168.38it/s]\n"
     ]
    },
    {
     "name": "stdout",
     "output_type": "stream",
     "text": [
      "Bad file\n",
      "smhi_data\\parameter_8\\station_83280-SE3.csv\n"
     ]
    },
    {
     "name": "stderr",
     "output_type": "stream",
     "text": [
      "Writing to file smhi_data\\parameter_8\\station_83280-SE3.csv:  53%|█████▎    | 10/19 [00:00<00:00, 199.87it/s]\n"
     ]
    },
    {
     "name": "stdout",
     "output_type": "stream",
     "text": [
      "Bad file\n",
      "smhi_data\\parameter_8\\station_83320-SE3.csv\n"
     ]
    },
    {
     "name": "stderr",
     "output_type": "stream",
     "text": [
      "Writing to file smhi_data\\parameter_8\\station_83320-SE3.csv:  42%|████▏     | 8/19 [00:00<00:00, 430.84it/s]\n"
     ]
    },
    {
     "name": "stdout",
     "output_type": "stream",
     "text": [
      "Bad file\n",
      "smhi_data\\parameter_8\\station_83340-SE3.csv\n"
     ]
    },
    {
     "name": "stderr",
     "output_type": "stream",
     "text": [
      "Writing to file smhi_data\\parameter_8\\station_83340-SE3.csv:  42%|████▏     | 8/19 [00:00<00:00, 382.29it/s]\n"
     ]
    },
    {
     "name": "stdout",
     "output_type": "stream",
     "text": [
      "smhi_data\\parameter_8\\station_83440-SE3.csv\n"
     ]
    },
    {
     "name": "stderr",
     "output_type": "stream",
     "text": [
      "Writing to file smhi_data\\parameter_8\\station_83440-SE3.csv:  42%|████▏     | 8/19 [00:00<00:00, 756.45it/s]\n"
     ]
    },
    {
     "name": "stdout",
     "output_type": "stream",
     "text": [
      "Bad file\n",
      "smhi_data\\parameter_8\\station_83460-SE3.csv\n"
     ]
    },
    {
     "name": "stderr",
     "output_type": "stream",
     "text": [
      "Writing to file smhi_data\\parameter_8\\station_83460-SE3.csv:  37%|███▋      | 7/19 [00:00<00:00, 1095.98it/s]\n"
     ]
    },
    {
     "name": "stdout",
     "output_type": "stream",
     "text": [
      "smhi_data\\parameter_8\\station_83540-SE3.csv\n"
     ]
    },
    {
     "name": "stderr",
     "output_type": "stream",
     "text": [
      "Writing to file smhi_data\\parameter_8\\station_83540-SE3.csv:  37%|███▋      | 7/19 [00:00<00:00, 328.72it/s]\n"
     ]
    },
    {
     "name": "stdout",
     "output_type": "stream",
     "text": [
      "smhi_data\\parameter_8\\station_83610-SE3.csv\n"
     ]
    },
    {
     "name": "stderr",
     "output_type": "stream",
     "text": [
      "Writing to file smhi_data\\parameter_8\\station_83610-SE3.csv:  37%|███▋      | 7/19 [00:00<00:00, 1275.70it/s]\n"
     ]
    },
    {
     "name": "stdout",
     "output_type": "stream",
     "text": [
      "smhi_data\\parameter_8\\station_83630-SE3.csv\n"
     ]
    },
    {
     "name": "stderr",
     "output_type": "stream",
     "text": [
      "Writing to file smhi_data\\parameter_8\\station_83630-SE3.csv:  37%|███▋      | 7/19 [00:00<00:00, 1126.07it/s]\n"
     ]
    },
    {
     "name": "stdout",
     "output_type": "stream",
     "text": [
      "smhi_data\\parameter_8\\station_83640-SE3.csv\n"
     ]
    },
    {
     "name": "stderr",
     "output_type": "stream",
     "text": [
      "Writing to file smhi_data\\parameter_8\\station_83640-SE3.csv:  37%|███▋      | 7/19 [00:00<00:00, 411.32it/s]\n"
     ]
    },
    {
     "name": "stdout",
     "output_type": "stream",
     "text": [
      "smhi_data\\parameter_8\\station_83660-SE3.csv\n"
     ]
    },
    {
     "name": "stderr",
     "output_type": "stream",
     "text": [
      "Writing to file smhi_data\\parameter_8\\station_83660-SE3.csv:  37%|███▋      | 7/19 [00:00<00:00, 389.53it/s]\n"
     ]
    },
    {
     "name": "stdout",
     "output_type": "stream",
     "text": [
      "smhi_data\\parameter_8\\station_83670-SE3.csv\n"
     ]
    },
    {
     "name": "stderr",
     "output_type": "stream",
     "text": [
      "Writing to file smhi_data\\parameter_8\\station_83670-SE3.csv:  37%|███▋      | 7/19 [00:00<00:00, 1394.05it/s]\n"
     ]
    },
    {
     "name": "stdout",
     "output_type": "stream",
     "text": [
      "smhi_data\\parameter_8\\station_83690-SE3.csv\n"
     ]
    },
    {
     "name": "stderr",
     "output_type": "stream",
     "text": [
      "Writing to file smhi_data\\parameter_8\\station_83690-SE3.csv:  37%|███▋      | 7/19 [00:00<00:00, 1220.44it/s]\n"
     ]
    },
    {
     "name": "stdout",
     "output_type": "stream",
     "text": [
      "smhi_data\\parameter_8\\station_83740-SE3.csv\n"
     ]
    },
    {
     "name": "stderr",
     "output_type": "stream",
     "text": [
      "Writing to file smhi_data\\parameter_8\\station_83740-SE3.csv:  37%|███▋      | 7/19 [00:00<00:00, 1527.74it/s]\n"
     ]
    },
    {
     "name": "stdout",
     "output_type": "stream",
     "text": [
      "smhi_data\\parameter_8\\station_84020-SE3.csv\n"
     ]
    },
    {
     "name": "stderr",
     "output_type": "stream",
     "text": [
      "Writing to file smhi_data\\parameter_8\\station_84020-SE3.csv:  42%|████▏     | 8/19 [00:00<00:00, 843.75it/s]\n"
     ]
    },
    {
     "name": "stdout",
     "output_type": "stream",
     "text": [
      "Bad file\n",
      "smhi_data\\parameter_8\\station_84060-SE3.csv\n"
     ]
    },
    {
     "name": "stderr",
     "output_type": "stream",
     "text": [
      "Writing to file smhi_data\\parameter_8\\station_84060-SE3.csv:  58%|█████▊    | 11/19 [00:00<00:00, 381.51it/s]\n"
     ]
    },
    {
     "name": "stdout",
     "output_type": "stream",
     "text": [
      "smhi_data\\parameter_8\\station_84310-SE3.csv\n"
     ]
    },
    {
     "name": "stderr",
     "output_type": "stream",
     "text": [
      "Writing to file smhi_data\\parameter_8\\station_84310-SE3.csv:  42%|████▏     | 8/19 [00:00<00:00, 121.63it/s]\n"
     ]
    },
    {
     "name": "stdout",
     "output_type": "stream",
     "text": [
      "smhi_data\\parameter_8\\station_84390-SE3.csv\n"
     ]
    },
    {
     "name": "stderr",
     "output_type": "stream",
     "text": [
      "Writing to file smhi_data\\parameter_8\\station_84390-SE3.csv:  47%|████▋     | 9/19 [00:00<00:00, 157.60it/s]\n"
     ]
    },
    {
     "name": "stdout",
     "output_type": "stream",
     "text": [
      "Bad file\n",
      "smhi_data\\parameter_8\\station_84470-SE3.csv\n"
     ]
    },
    {
     "name": "stderr",
     "output_type": "stream",
     "text": [
      "Writing to file smhi_data\\parameter_8\\station_84470-SE3.csv:  47%|████▋     | 9/19 [00:00<00:00, 397.00it/s]\n"
     ]
    },
    {
     "name": "stdout",
     "output_type": "stream",
     "text": [
      "Bad file\n",
      "smhi_data\\parameter_8\\station_84580-SE3.csv\n"
     ]
    },
    {
     "name": "stderr",
     "output_type": "stream",
     "text": [
      "Writing to file smhi_data\\parameter_8\\station_84580-SE3.csv:  47%|████▋     | 9/19 [00:00<00:00, 156.46it/s]\n"
     ]
    },
    {
     "name": "stdout",
     "output_type": "stream",
     "text": [
      "Bad file\n",
      "smhi_data\\parameter_8\\station_84610-SE3.csv\n"
     ]
    },
    {
     "name": "stderr",
     "output_type": "stream",
     "text": [
      "Writing to file smhi_data\\parameter_8\\station_84610-SE3.csv:  37%|███▋      | 7/19 [00:00<00:00, 1397.24it/s]\n"
     ]
    },
    {
     "name": "stdout",
     "output_type": "stream",
     "text": [
      "smhi_data\\parameter_8\\station_84620-SE3.csv\n"
     ]
    },
    {
     "name": "stderr",
     "output_type": "stream",
     "text": [
      "Writing to file smhi_data\\parameter_8\\station_84620-SE3.csv:  37%|███▋      | 7/19 [00:00<00:00, 388.74it/s]\n"
     ]
    },
    {
     "name": "stdout",
     "output_type": "stream",
     "text": [
      "smhi_data\\parameter_8\\station_84630-SE3.csv\n"
     ]
    },
    {
     "name": "stderr",
     "output_type": "stream",
     "text": [
      "Writing to file smhi_data\\parameter_8\\station_84630-SE3.csv:  37%|███▋      | 7/19 [00:00<00:00, 2327.03it/s]\n"
     ]
    },
    {
     "name": "stdout",
     "output_type": "stream",
     "text": [
      "smhi_data\\parameter_8\\station_84660-SE3.csv\n"
     ]
    },
    {
     "name": "stderr",
     "output_type": "stream",
     "text": [
      "Writing to file smhi_data\\parameter_8\\station_84660-SE3.csv:  37%|███▋      | 7/19 [00:00<00:00, 2304.92it/s]\n"
     ]
    },
    {
     "name": "stdout",
     "output_type": "stream",
     "text": [
      "smhi_data\\parameter_8\\station_84690-SE3.csv\n"
     ]
    },
    {
     "name": "stderr",
     "output_type": "stream",
     "text": [
      "Writing to file smhi_data\\parameter_8\\station_84690-SE3.csv:  37%|███▋      | 7/19 [00:00<00:00, 1538.47it/s]\n"
     ]
    },
    {
     "name": "stdout",
     "output_type": "stream",
     "text": [
      "smhi_data\\parameter_8\\station_84780-SE3.csv\n"
     ]
    },
    {
     "name": "stderr",
     "output_type": "stream",
     "text": [
      "Writing to file smhi_data\\parameter_8\\station_84780-SE3.csv:  37%|███▋      | 7/19 [00:00<00:00, 2260.91it/s]\n"
     ]
    },
    {
     "name": "stdout",
     "output_type": "stream",
     "text": [
      "smhi_data\\parameter_8\\station_85010-SE3.csv\n"
     ]
    },
    {
     "name": "stderr",
     "output_type": "stream",
     "text": [
      "Writing to file smhi_data\\parameter_8\\station_85010-SE3.csv:  37%|███▋      | 7/19 [00:00<00:00, 1394.25it/s]\n"
     ]
    },
    {
     "name": "stdout",
     "output_type": "stream",
     "text": [
      "smhi_data\\parameter_8\\station_85040-SE3.csv\n"
     ]
    },
    {
     "name": "stderr",
     "output_type": "stream",
     "text": [
      "Writing to file smhi_data\\parameter_8\\station_85040-SE3.csv:  47%|████▋     | 9/19 [00:00<00:00, 141.17it/s]\n"
     ]
    },
    {
     "name": "stdout",
     "output_type": "stream",
     "text": [
      "smhi_data\\parameter_8\\station_85130-SE3.csv\n"
     ]
    },
    {
     "name": "stderr",
     "output_type": "stream",
     "text": [
      "Writing to file smhi_data\\parameter_8\\station_85130-SE3.csv:  47%|████▋     | 9/19 [00:00<00:00, 1285.06it/s]\n"
     ]
    },
    {
     "name": "stdout",
     "output_type": "stream",
     "text": [
      "smhi_data\\parameter_8\\station_85160-SE3.csv\n"
     ]
    },
    {
     "name": "stderr",
     "output_type": "stream",
     "text": [
      "Writing to file smhi_data\\parameter_8\\station_85160-SE3.csv:  37%|███▋      | 7/19 [00:00<00:00, 636.15it/s]\n"
     ]
    },
    {
     "name": "stdout",
     "output_type": "stream",
     "text": [
      "smhi_data\\parameter_8\\station_85180-SE3.csv\n"
     ]
    },
    {
     "name": "stderr",
     "output_type": "stream",
     "text": [
      "Writing to file smhi_data\\parameter_8\\station_85180-SE3.csv:  37%|███▋      | 7/19 [00:00<00:00, 228.66it/s]\n"
     ]
    },
    {
     "name": "stdout",
     "output_type": "stream",
     "text": [
      "Bad file\n",
      "smhi_data\\parameter_8\\station_85210-SE3.csv\n"
     ]
    },
    {
     "name": "stderr",
     "output_type": "stream",
     "text": [
      "Writing to file smhi_data\\parameter_8\\station_85210-SE3.csv:  37%|███▋      | 7/19 [00:00<00:00, 871.61it/s]\n"
     ]
    },
    {
     "name": "stdout",
     "output_type": "stream",
     "text": [
      "smhi_data\\parameter_8\\station_85220-SE3.csv\n"
     ]
    },
    {
     "name": "stderr",
     "output_type": "stream",
     "text": [
      "Writing to file smhi_data\\parameter_8\\station_85220-SE3.csv:  37%|███▋      | 7/19 [00:00<00:00, 975.94it/s]\n"
     ]
    },
    {
     "name": "stdout",
     "output_type": "stream",
     "text": [
      "smhi_data\\parameter_8\\station_85240-SE3.csv\n"
     ]
    },
    {
     "name": "stderr",
     "output_type": "stream",
     "text": [
      "Writing to file smhi_data\\parameter_8\\station_85240-SE3.csv:  37%|███▋      | 7/19 [00:00<00:00, 112.09it/s]\n"
     ]
    },
    {
     "name": "stdout",
     "output_type": "stream",
     "text": [
      "Bad file\n",
      "smhi_data\\parameter_8\\station_85250-SE3.csv\n"
     ]
    },
    {
     "name": "stderr",
     "output_type": "stream",
     "text": [
      "Writing to file smhi_data\\parameter_8\\station_85250-SE3.csv:  47%|████▋     | 9/19 [00:00<00:00, 184.00it/s]\n"
     ]
    },
    {
     "name": "stdout",
     "output_type": "stream",
     "text": [
      "Bad file\n",
      "smhi_data\\parameter_8\\station_85270-SE3.csv\n"
     ]
    },
    {
     "name": "stderr",
     "output_type": "stream",
     "text": [
      "Writing to file smhi_data\\parameter_8\\station_85270-SE3.csv:  37%|███▋      | 7/19 [00:00<00:00, 1391.34it/s]\n"
     ]
    },
    {
     "name": "stdout",
     "output_type": "stream",
     "text": [
      "smhi_data\\parameter_8\\station_85280-SE3.csv\n"
     ]
    },
    {
     "name": "stderr",
     "output_type": "stream",
     "text": [
      "Writing to file smhi_data\\parameter_8\\station_85280-SE3.csv:  42%|████▏     | 8/19 [00:00<00:00, 490.71it/s]\n"
     ]
    },
    {
     "name": "stdout",
     "output_type": "stream",
     "text": [
      "Bad file\n",
      "smhi_data\\parameter_8\\station_85330-SE3.csv\n"
     ]
    },
    {
     "name": "stderr",
     "output_type": "stream",
     "text": [
      "Writing to file smhi_data\\parameter_8\\station_85330-SE3.csv:  47%|████▋     | 9/19 [00:00<00:00, 377.73it/s]\n"
     ]
    },
    {
     "name": "stdout",
     "output_type": "stream",
     "text": [
      "Bad file\n",
      "smhi_data\\parameter_8\\station_85450-SE3.csv\n"
     ]
    },
    {
     "name": "stderr",
     "output_type": "stream",
     "text": [
      "Writing to file smhi_data\\parameter_8\\station_85450-SE3.csv:  58%|█████▊    | 11/19 [00:00<00:00, 189.16it/s]\n"
     ]
    },
    {
     "name": "stdout",
     "output_type": "stream",
     "text": [
      "Bad file\n",
      "smhi_data\\parameter_8\\station_85490-SE3.csv\n"
     ]
    },
    {
     "name": "stderr",
     "output_type": "stream",
     "text": [
      "Writing to file smhi_data\\parameter_8\\station_85490-SE3.csv:  37%|███▋      | 7/19 [00:00<00:00, 175.85it/s]\n"
     ]
    },
    {
     "name": "stdout",
     "output_type": "stream",
     "text": [
      "Bad file\n",
      "smhi_data\\parameter_8\\station_85520-SE3.csv\n"
     ]
    },
    {
     "name": "stderr",
     "output_type": "stream",
     "text": [
      "Writing to file smhi_data\\parameter_8\\station_85520-SE3.csv:  42%|████▏     | 8/19 [00:00<00:00, 532.31it/s]\n"
     ]
    },
    {
     "name": "stdout",
     "output_type": "stream",
     "text": [
      "smhi_data\\parameter_8\\station_85630-SE3.csv\n"
     ]
    },
    {
     "name": "stderr",
     "output_type": "stream",
     "text": [
      "Writing to file smhi_data\\parameter_8\\station_85630-SE3.csv:  37%|███▋      | 7/19 [00:00<00:00, 1375.83it/s]\n"
     ]
    },
    {
     "name": "stdout",
     "output_type": "stream",
     "text": [
      "smhi_data\\parameter_8\\station_85650-SE3.csv\n"
     ]
    },
    {
     "name": "stderr",
     "output_type": "stream",
     "text": [
      "Writing to file smhi_data\\parameter_8\\station_85650-SE3.csv:  37%|███▋      | 7/19 [00:00<00:00, 422.14it/s]\n"
     ]
    },
    {
     "name": "stdout",
     "output_type": "stream",
     "text": [
      "smhi_data\\parameter_8\\station_86010-SE3.csv\n"
     ]
    },
    {
     "name": "stderr",
     "output_type": "stream",
     "text": [
      "Writing to file smhi_data\\parameter_8\\station_86010-SE3.csv:  47%|████▋     | 9/19 [00:00<00:00, 349.71it/s]\n"
     ]
    },
    {
     "name": "stdout",
     "output_type": "stream",
     "text": [
      "Bad file\n",
      "smhi_data\\parameter_8\\station_86090-SE3.csv\n"
     ]
    },
    {
     "name": "stderr",
     "output_type": "stream",
     "text": [
      "Writing to file smhi_data\\parameter_8\\station_86090-SE3.csv:  37%|███▋      | 7/19 [00:00<00:00, 761.22it/s]\n"
     ]
    },
    {
     "name": "stdout",
     "output_type": "stream",
     "text": [
      "smhi_data\\parameter_8\\station_86200-SE3.csv\n"
     ]
    },
    {
     "name": "stderr",
     "output_type": "stream",
     "text": [
      "Writing to file smhi_data\\parameter_8\\station_86200-SE3.csv:  37%|███▋      | 7/19 [00:00<00:00, 678.20it/s]\n"
     ]
    },
    {
     "name": "stdout",
     "output_type": "stream",
     "text": [
      "smhi_data\\parameter_8\\station_86330-SE3.csv\n"
     ]
    },
    {
     "name": "stderr",
     "output_type": "stream",
     "text": [
      "Writing to file smhi_data\\parameter_8\\station_86330-SE3.csv:  37%|███▋      | 7/19 [00:00<00:00, 367.46it/s]\n"
     ]
    },
    {
     "name": "stdout",
     "output_type": "stream",
     "text": [
      "smhi_data\\parameter_8\\station_86340-SE3.csv\n"
     ]
    },
    {
     "name": "stderr",
     "output_type": "stream",
     "text": [
      "Writing to file smhi_data\\parameter_8\\station_86340-SE3.csv:  42%|████▏     | 8/19 [00:00<00:00, 194.94it/s]\n"
     ]
    },
    {
     "name": "stdout",
     "output_type": "stream",
     "text": [
      "Bad file\n",
      "smhi_data\\parameter_8\\station_86350-SE3.csv\n"
     ]
    },
    {
     "name": "stderr",
     "output_type": "stream",
     "text": [
      "Writing to file smhi_data\\parameter_8\\station_86350-SE3.csv:  37%|███▋      | 7/19 [00:00<00:00, 241.19it/s]\n"
     ]
    },
    {
     "name": "stdout",
     "output_type": "stream",
     "text": [
      "smhi_data\\parameter_8\\station_86360-SE3.csv\n"
     ]
    },
    {
     "name": "stderr",
     "output_type": "stream",
     "text": [
      "Writing to file smhi_data\\parameter_8\\station_86360-SE3.csv:  37%|███▋      | 7/19 [00:00<00:00, 576.34it/s]\n"
     ]
    },
    {
     "name": "stdout",
     "output_type": "stream",
     "text": [
      "smhi_data\\parameter_8\\station_86370-SE3.csv\n"
     ]
    },
    {
     "name": "stderr",
     "output_type": "stream",
     "text": [
      "Writing to file smhi_data\\parameter_8\\station_86370-SE3.csv:  37%|███▋      | 7/19 [00:00<00:00, 142.78it/s]\n"
     ]
    },
    {
     "name": "stdout",
     "output_type": "stream",
     "text": [
      "smhi_data\\parameter_8\\station_86470-SE3.csv\n"
     ]
    },
    {
     "name": "stderr",
     "output_type": "stream",
     "text": [
      "Writing to file smhi_data\\parameter_8\\station_86470-SE3.csv:  42%|████▏     | 8/19 [00:00<00:00, 369.82it/s]\n"
     ]
    },
    {
     "name": "stdout",
     "output_type": "stream",
     "text": [
      "Bad file\n",
      "smhi_data\\parameter_8\\station_86480-SE3.csv\n"
     ]
    },
    {
     "name": "stderr",
     "output_type": "stream",
     "text": [
      "Writing to file smhi_data\\parameter_8\\station_86480-SE3.csv:  37%|███▋      | 7/19 [00:00<00:00, 178.50it/s]\n"
     ]
    },
    {
     "name": "stdout",
     "output_type": "stream",
     "text": [
      "smhi_data\\parameter_8\\station_86650-SE3.csv\n"
     ]
    },
    {
     "name": "stderr",
     "output_type": "stream",
     "text": [
      "Writing to file smhi_data\\parameter_8\\station_86650-SE3.csv:  37%|███▋      | 7/19 [00:00<00:00, 1746.17it/s]\n"
     ]
    },
    {
     "name": "stdout",
     "output_type": "stream",
     "text": [
      "smhi_data\\parameter_8\\station_86660-SE3.csv\n"
     ]
    },
    {
     "name": "stderr",
     "output_type": "stream",
     "text": [
      "Writing to file smhi_data\\parameter_8\\station_86660-SE3.csv:  42%|████▏     | 8/19 [00:00<00:00, 632.65it/s]\n"
     ]
    },
    {
     "name": "stdout",
     "output_type": "stream",
     "text": [
      "Bad file\n",
      "smhi_data\\parameter_8\\station_86670-SE3.csv\n"
     ]
    },
    {
     "name": "stderr",
     "output_type": "stream",
     "text": [
      "Writing to file smhi_data\\parameter_8\\station_86670-SE3.csv:  37%|███▋      | 7/19 [00:00<00:00, 723.67it/s]\n"
     ]
    },
    {
     "name": "stdout",
     "output_type": "stream",
     "text": [
      "smhi_data\\parameter_8\\station_86700-SE3.csv\n"
     ]
    },
    {
     "name": "stderr",
     "output_type": "stream",
     "text": [
      "Writing to file smhi_data\\parameter_8\\station_86700-SE3.csv:  37%|███▋      | 7/19 [00:00<00:00, 356.56it/s]\n"
     ]
    },
    {
     "name": "stdout",
     "output_type": "stream",
     "text": [
      "smhi_data\\parameter_8\\station_87150-SE3.csv\n"
     ]
    },
    {
     "name": "stderr",
     "output_type": "stream",
     "text": [
      "Writing to file smhi_data\\parameter_8\\station_87150-SE3.csv:  37%|███▋      | 7/19 [00:00<00:00, 146.50it/s]\n"
     ]
    },
    {
     "name": "stdout",
     "output_type": "stream",
     "text": [
      "smhi_data\\parameter_8\\station_87400-SE3.csv\n"
     ]
    },
    {
     "name": "stderr",
     "output_type": "stream",
     "text": [
      "Writing to file smhi_data\\parameter_8\\station_87400-SE3.csv:  42%|████▏     | 8/19 [00:00<00:00, 274.02it/s]\n"
     ]
    },
    {
     "name": "stdout",
     "output_type": "stream",
     "text": [
      "Bad file\n",
      "smhi_data\\parameter_8\\station_87450-SE3.csv\n"
     ]
    },
    {
     "name": "stderr",
     "output_type": "stream",
     "text": [
      "Writing to file smhi_data\\parameter_8\\station_87450-SE3.csv:  53%|█████▎    | 10/19 [00:00<00:00, 146.67it/s]\n"
     ]
    },
    {
     "name": "stdout",
     "output_type": "stream",
     "text": [
      "Bad file\n",
      "smhi_data\\parameter_8\\station_87520-SE3.csv\n"
     ]
    },
    {
     "name": "stderr",
     "output_type": "stream",
     "text": [
      "Writing to file smhi_data\\parameter_8\\station_87520-SE3.csv:  37%|███▋      | 7/19 [00:00<00:00, 1610.36it/s]\n"
     ]
    },
    {
     "name": "stdout",
     "output_type": "stream",
     "text": [
      "smhi_data\\parameter_8\\station_87540-SE3.csv\n"
     ]
    },
    {
     "name": "stderr",
     "output_type": "stream",
     "text": [
      "Writing to file smhi_data\\parameter_8\\station_87540-SE3.csv:  37%|███▋      | 7/19 [00:00<00:00, 1168.56it/s]\n"
     ]
    },
    {
     "name": "stdout",
     "output_type": "stream",
     "text": [
      "smhi_data\\parameter_8\\station_87570-SE3.csv\n"
     ]
    },
    {
     "name": "stderr",
     "output_type": "stream",
     "text": [
      "Writing to file smhi_data\\parameter_8\\station_87570-SE3.csv:  47%|████▋     | 9/19 [00:00<00:00, 890.28it/s]\n"
     ]
    },
    {
     "name": "stdout",
     "output_type": "stream",
     "text": [
      "Bad file\n",
      "smhi_data\\parameter_8\\station_88570-SE3.csv\n"
     ]
    },
    {
     "name": "stderr",
     "output_type": "stream",
     "text": [
      "Writing to file smhi_data\\parameter_8\\station_88570-SE3.csv:  37%|███▋      | 7/19 [00:00<00:00, 665.49it/s]\n"
     ]
    },
    {
     "name": "stdout",
     "output_type": "stream",
     "text": [
      "smhi_data\\parameter_8\\station_88580-SE3.csv\n"
     ]
    },
    {
     "name": "stderr",
     "output_type": "stream",
     "text": [
      "Writing to file smhi_data\\parameter_8\\station_88580-SE3.csv:  37%|███▋      | 7/19 [00:00<00:00, 1164.39it/s]\n"
     ]
    },
    {
     "name": "stdout",
     "output_type": "stream",
     "text": [
      "smhi_data\\parameter_8\\station_88590-SE3.csv\n"
     ]
    },
    {
     "name": "stderr",
     "output_type": "stream",
     "text": [
      "Writing to file smhi_data\\parameter_8\\station_88590-SE3.csv:  37%|███▋      | 7/19 [00:00<00:00, 698.98it/s]\n"
     ]
    },
    {
     "name": "stdout",
     "output_type": "stream",
     "text": [
      "smhi_data\\parameter_8\\station_89240-SE3.csv\n"
     ]
    },
    {
     "name": "stderr",
     "output_type": "stream",
     "text": [
      "Writing to file smhi_data\\parameter_8\\station_89240-SE3.csv:  37%|███▋      | 7/19 [00:00<00:00, 138.61it/s]\n"
     ]
    },
    {
     "name": "stdout",
     "output_type": "stream",
     "text": [
      "smhi_data\\parameter_8\\station_91120-SE3.csv\n"
     ]
    },
    {
     "name": "stderr",
     "output_type": "stream",
     "text": [
      "Writing to file smhi_data\\parameter_8\\station_91120-SE3.csv:  37%|███▋      | 7/19 [00:00<00:00, 1131.63it/s]\n"
     ]
    },
    {
     "name": "stdout",
     "output_type": "stream",
     "text": [
      "smhi_data\\parameter_8\\station_91130-SE3.csv\n"
     ]
    },
    {
     "name": "stderr",
     "output_type": "stream",
     "text": [
      "Writing to file smhi_data\\parameter_8\\station_91130-SE3.csv:  37%|███▋      | 7/19 [00:00<00:00, 608.01it/s]\n"
     ]
    },
    {
     "name": "stdout",
     "output_type": "stream",
     "text": [
      "smhi_data\\parameter_8\\station_91370-SE3.csv\n"
     ]
    },
    {
     "name": "stderr",
     "output_type": "stream",
     "text": [
      "Writing to file smhi_data\\parameter_8\\station_91370-SE3.csv:  37%|███▋      | 7/19 [00:00<00:00, 183.68it/s]\n"
     ]
    },
    {
     "name": "stdout",
     "output_type": "stream",
     "text": [
      "smhi_data\\parameter_8\\station_91520-SE3.csv\n"
     ]
    },
    {
     "name": "stderr",
     "output_type": "stream",
     "text": [
      "Writing to file smhi_data\\parameter_8\\station_91520-SE3.csv:  37%|███▋      | 7/19 [00:00<00:00, 687.48it/s]\n"
     ]
    },
    {
     "name": "stdout",
     "output_type": "stream",
     "text": [
      "smhi_data\\parameter_8\\station_91620-SE3.csv\n"
     ]
    },
    {
     "name": "stderr",
     "output_type": "stream",
     "text": [
      "Writing to file smhi_data\\parameter_8\\station_91620-SE3.csv:  37%|███▋      | 7/19 [00:00<00:00, 580.89it/s]\n"
     ]
    },
    {
     "name": "stdout",
     "output_type": "stream",
     "text": [
      "smhi_data\\parameter_8\\station_91660-SE3.csv\n"
     ]
    },
    {
     "name": "stderr",
     "output_type": "stream",
     "text": [
      "Writing to file smhi_data\\parameter_8\\station_91660-SE3.csv:  37%|███▋      | 7/19 [00:00<00:00, 635.73it/s]\n"
     ]
    },
    {
     "name": "stdout",
     "output_type": "stream",
     "text": [
      "smhi_data\\parameter_8\\station_92030-SE3.csv\n"
     ]
    },
    {
     "name": "stderr",
     "output_type": "stream",
     "text": [
      "Writing to file smhi_data\\parameter_8\\station_92030-SE3.csv:  37%|███▋      | 7/19 [00:00<00:00, 548.88it/s]\n"
     ]
    },
    {
     "name": "stdout",
     "output_type": "stream",
     "text": [
      "smhi_data\\parameter_8\\station_92100-SE3.csv\n"
     ]
    },
    {
     "name": "stderr",
     "output_type": "stream",
     "text": [
      "Writing to file smhi_data\\parameter_8\\station_92100-SE3.csv:  42%|████▏     | 8/19 [00:00<00:00, 173.39it/s]\n"
     ]
    },
    {
     "name": "stdout",
     "output_type": "stream",
     "text": [
      "Bad file\n",
      "smhi_data\\parameter_8\\station_92170-SE3.csv\n"
     ]
    },
    {
     "name": "stderr",
     "output_type": "stream",
     "text": [
      "Writing to file smhi_data\\parameter_8\\station_92170-SE3.csv:  37%|███▋      | 7/19 [00:00<00:00, 410.44it/s]\n"
     ]
    },
    {
     "name": "stdout",
     "output_type": "stream",
     "text": [
      "smhi_data\\parameter_8\\station_92370-SE3.csv\n"
     ]
    },
    {
     "name": "stderr",
     "output_type": "stream",
     "text": [
      "Writing to file smhi_data\\parameter_8\\station_92370-SE3.csv:  37%|███▋      | 7/19 [00:00<00:00, 1374.60it/s]\n"
     ]
    },
    {
     "name": "stdout",
     "output_type": "stream",
     "text": [
      "smhi_data\\parameter_8\\station_92380-SE3.csv\n"
     ]
    },
    {
     "name": "stderr",
     "output_type": "stream",
     "text": [
      "Writing to file smhi_data\\parameter_8\\station_92380-SE3.csv:  42%|████▏     | 8/19 [00:00<00:00, 663.14it/s]\n"
     ]
    },
    {
     "name": "stdout",
     "output_type": "stream",
     "text": [
      "Bad file\n",
      "smhi_data\\parameter_8\\station_92400-SE3.csv\n"
     ]
    },
    {
     "name": "stderr",
     "output_type": "stream",
     "text": [
      "Writing to file smhi_data\\parameter_8\\station_92400-SE3.csv:  47%|████▋     | 9/19 [00:00<00:00, 171.55it/s]\n"
     ]
    },
    {
     "name": "stdout",
     "output_type": "stream",
     "text": [
      "smhi_data\\parameter_8\\station_92480-SE3.csv\n"
     ]
    },
    {
     "name": "stderr",
     "output_type": "stream",
     "text": [
      "Writing to file smhi_data\\parameter_8\\station_92480-SE3.csv:  37%|███▋      | 7/19 [00:00<00:00, 1105.51it/s]\n"
     ]
    },
    {
     "name": "stdout",
     "output_type": "stream",
     "text": [
      "smhi_data\\parameter_8\\station_92630-SE3.csv\n"
     ]
    },
    {
     "name": "stderr",
     "output_type": "stream",
     "text": [
      "Writing to file smhi_data\\parameter_8\\station_92630-SE3.csv:  37%|███▋      | 7/19 [00:00<00:00, 1688.14it/s]\n"
     ]
    },
    {
     "name": "stdout",
     "output_type": "stream",
     "text": [
      "smhi_data\\parameter_8\\station_93220-SE3.csv\n"
     ]
    },
    {
     "name": "stderr",
     "output_type": "stream",
     "text": [
      "Writing to file smhi_data\\parameter_8\\station_93220-SE3.csv:  42%|████▏     | 8/19 [00:00<00:00, 166.13it/s]\n"
     ]
    },
    {
     "name": "stdout",
     "output_type": "stream",
     "text": [
      "smhi_data\\parameter_8\\station_93230-SE3.csv\n"
     ]
    },
    {
     "name": "stderr",
     "output_type": "stream",
     "text": [
      "Writing to file smhi_data\\parameter_8\\station_93230-SE3.csv:  37%|███▋      | 7/19 [00:00<00:00, 1405.33it/s]\n"
     ]
    },
    {
     "name": "stdout",
     "output_type": "stream",
     "text": [
      "smhi_data\\parameter_8\\station_93240-SE3.csv\n"
     ]
    },
    {
     "name": "stderr",
     "output_type": "stream",
     "text": [
      "Writing to file smhi_data\\parameter_8\\station_93240-SE3.csv:  42%|████▏     | 8/19 [00:00<00:00, 362.11it/s]\n"
     ]
    },
    {
     "name": "stdout",
     "output_type": "stream",
     "text": [
      "smhi_data\\parameter_8\\station_93250-SE3.csv\n"
     ]
    },
    {
     "name": "stderr",
     "output_type": "stream",
     "text": [
      "Writing to file smhi_data\\parameter_8\\station_93250-SE3.csv:  53%|█████▎    | 10/19 [00:00<00:00, 803.18it/s]\n"
     ]
    },
    {
     "name": "stdout",
     "output_type": "stream",
     "text": [
      "Bad file\n",
      "smhi_data\\parameter_8\\station_93340-SE3.csv\n"
     ]
    },
    {
     "name": "stderr",
     "output_type": "stream",
     "text": [
      "Writing to file smhi_data\\parameter_8\\station_93340-SE3.csv:  42%|████▏     | 8/19 [00:00<00:00, 381.10it/s]\n"
     ]
    },
    {
     "name": "stdout",
     "output_type": "stream",
     "text": [
      "smhi_data\\parameter_8\\station_93360-SE3.csv\n"
     ]
    },
    {
     "name": "stderr",
     "output_type": "stream",
     "text": [
      "Writing to file smhi_data\\parameter_8\\station_93360-SE3.csv:  37%|███▋      | 7/19 [00:00<00:00, 776.58it/s]\n"
     ]
    },
    {
     "name": "stdout",
     "output_type": "stream",
     "text": [
      "smhi_data\\parameter_8\\station_93520-SE3.csv\n"
     ]
    },
    {
     "name": "stderr",
     "output_type": "stream",
     "text": [
      "Writing to file smhi_data\\parameter_8\\station_93520-SE3.csv:  37%|███▋      | 7/19 [00:00<00:00, 1744.72it/s]\n"
     ]
    },
    {
     "name": "stdout",
     "output_type": "stream",
     "text": [
      "smhi_data\\parameter_8\\station_93580-SE3.csv\n"
     ]
    },
    {
     "name": "stderr",
     "output_type": "stream",
     "text": [
      "Writing to file smhi_data\\parameter_8\\station_93580-SE3.csv:  53%|█████▎    | 10/19 [00:00<00:00, 357.43it/s]\n"
     ]
    },
    {
     "name": "stdout",
     "output_type": "stream",
     "text": [
      "smhi_data\\parameter_8\\station_94050-SE3.csv\n"
     ]
    },
    {
     "name": "stderr",
     "output_type": "stream",
     "text": [
      "Writing to file smhi_data\\parameter_8\\station_94050-SE3.csv:  42%|████▏     | 8/19 [00:00<00:00, 157.57it/s]\n"
     ]
    },
    {
     "name": "stdout",
     "output_type": "stream",
     "text": [
      "Bad file\n",
      "smhi_data\\parameter_8\\station_94140-SE3.csv\n"
     ]
    },
    {
     "name": "stderr",
     "output_type": "stream",
     "text": [
      "Writing to file smhi_data\\parameter_8\\station_94140-SE3.csv:  42%|████▏     | 8/19 [00:00<00:00, 189.61it/s]\n"
     ]
    },
    {
     "name": "stdout",
     "output_type": "stream",
     "text": [
      "Bad file\n",
      "smhi_data\\parameter_8\\station_94170-SE3.csv\n"
     ]
    },
    {
     "name": "stderr",
     "output_type": "stream",
     "text": [
      "Writing to file smhi_data\\parameter_8\\station_94170-SE3.csv:  42%|████▏     | 8/19 [00:00<00:00, 190.47it/s]\n"
     ]
    },
    {
     "name": "stdout",
     "output_type": "stream",
     "text": [
      "smhi_data\\parameter_8\\station_94180-SE3.csv\n"
     ]
    },
    {
     "name": "stderr",
     "output_type": "stream",
     "text": [
      "Writing to file smhi_data\\parameter_8\\station_94180-SE3.csv:  42%|████▏     | 8/19 [00:00<00:00, 191.43it/s]\n"
     ]
    },
    {
     "name": "stdout",
     "output_type": "stream",
     "text": [
      "Bad file\n",
      "smhi_data\\parameter_8\\station_94200-SE3.csv\n"
     ]
    },
    {
     "name": "stderr",
     "output_type": "stream",
     "text": [
      "Writing to file smhi_data\\parameter_8\\station_94200-SE3.csv:  42%|████▏     | 8/19 [00:00<00:00, 828.32it/s]\n"
     ]
    },
    {
     "name": "stdout",
     "output_type": "stream",
     "text": [
      "Bad file\n",
      "smhi_data\\parameter_8\\station_94320-SE3.csv\n"
     ]
    },
    {
     "name": "stderr",
     "output_type": "stream",
     "text": [
      "Writing to file smhi_data\\parameter_8\\station_94320-SE3.csv:  42%|████▏     | 8/19 [00:00<00:00, 1886.35it/s]\n"
     ]
    },
    {
     "name": "stdout",
     "output_type": "stream",
     "text": [
      "smhi_data\\parameter_8\\station_94370-SE3.csv\n"
     ]
    },
    {
     "name": "stderr",
     "output_type": "stream",
     "text": [
      "Writing to file smhi_data\\parameter_8\\station_94370-SE3.csv:  37%|███▋      | 7/19 [00:00<00:00, 433.97it/s]\n"
     ]
    },
    {
     "name": "stdout",
     "output_type": "stream",
     "text": [
      "smhi_data\\parameter_8\\station_94410-SE3.csv\n"
     ]
    },
    {
     "name": "stderr",
     "output_type": "stream",
     "text": [
      "Writing to file smhi_data\\parameter_8\\station_94410-SE3.csv:  37%|███▋      | 7/19 [00:00<00:00, 1000.17it/s]\n"
     ]
    },
    {
     "name": "stdout",
     "output_type": "stream",
     "text": [
      "smhi_data\\parameter_8\\station_94430-SE3.csv\n"
     ]
    },
    {
     "name": "stderr",
     "output_type": "stream",
     "text": [
      "Writing to file smhi_data\\parameter_8\\station_94430-SE3.csv:  37%|███▋      | 7/19 [00:00<00:00, 426.88it/s]\n"
     ]
    },
    {
     "name": "stdout",
     "output_type": "stream",
     "text": [
      "smhi_data\\parameter_8\\station_94450-SE3.csv\n"
     ]
    },
    {
     "name": "stderr",
     "output_type": "stream",
     "text": [
      "Writing to file smhi_data\\parameter_8\\station_94450-SE3.csv:  42%|████▏     | 8/19 [00:00<00:00, 446.92it/s]\n"
     ]
    },
    {
     "name": "stdout",
     "output_type": "stream",
     "text": [
      "Bad file\n",
      "smhi_data\\parameter_8\\station_94560-SE3.csv\n"
     ]
    },
    {
     "name": "stderr",
     "output_type": "stream",
     "text": [
      "Writing to file smhi_data\\parameter_8\\station_94560-SE3.csv:  37%|███▋      | 7/19 [00:00<00:00, 1293.97it/s]\n"
     ]
    },
    {
     "name": "stdout",
     "output_type": "stream",
     "text": [
      "smhi_data\\parameter_8\\station_94580-SE3.csv\n"
     ]
    },
    {
     "name": "stderr",
     "output_type": "stream",
     "text": [
      "Writing to file smhi_data\\parameter_8\\station_94580-SE3.csv:  47%|████▋     | 9/19 [00:00<00:00, 151.82it/s]\n"
     ]
    },
    {
     "name": "stdout",
     "output_type": "stream",
     "text": [
      "Bad file\n",
      "smhi_data\\parameter_8\\station_94600-SE3.csv\n"
     ]
    },
    {
     "name": "stderr",
     "output_type": "stream",
     "text": [
      "Writing to file smhi_data\\parameter_8\\station_94600-SE3.csv:  37%|███▋      | 7/19 [00:00<00:00, 1383.41it/s]\n"
     ]
    },
    {
     "name": "stdout",
     "output_type": "stream",
     "text": [
      "smhi_data\\parameter_8\\station_94660-SE3.csv\n"
     ]
    },
    {
     "name": "stderr",
     "output_type": "stream",
     "text": [
      "Writing to file smhi_data\\parameter_8\\station_94660-SE3.csv:  37%|███▋      | 7/19 [00:00<00:00, 839.34it/s]\n"
     ]
    },
    {
     "name": "stdout",
     "output_type": "stream",
     "text": [
      "smhi_data\\parameter_8\\station_95020-SE3.csv\n"
     ]
    },
    {
     "name": "stderr",
     "output_type": "stream",
     "text": [
      "Writing to file smhi_data\\parameter_8\\station_95020-SE3.csv:  37%|███▋      | 7/19 [00:00<00:00, 1655.30it/s]\n"
     ]
    },
    {
     "name": "stdout",
     "output_type": "stream",
     "text": [
      "smhi_data\\parameter_8\\station_95030-SE3.csv\n"
     ]
    },
    {
     "name": "stderr",
     "output_type": "stream",
     "text": [
      "Writing to file smhi_data\\parameter_8\\station_95030-SE3.csv:  58%|█████▊    | 11/19 [00:00<00:00, 174.51it/s]\n"
     ]
    },
    {
     "name": "stdout",
     "output_type": "stream",
     "text": [
      "Bad file\n",
      "smhi_data\\parameter_8\\station_95160-SE3.csv\n"
     ]
    },
    {
     "name": "stderr",
     "output_type": "stream",
     "text": [
      "Writing to file smhi_data\\parameter_8\\station_95160-SE3.csv:  58%|█████▊    | 11/19 [00:00<00:00, 185.77it/s]\n"
     ]
    },
    {
     "name": "stdout",
     "output_type": "stream",
     "text": [
      "Bad file\n",
      "smhi_data\\parameter_8\\station_95230-SE3.csv\n"
     ]
    },
    {
     "name": "stderr",
     "output_type": "stream",
     "text": [
      "Writing to file smhi_data\\parameter_8\\station_95230-SE3.csv:  37%|███▋      | 7/19 [00:00<00:00, 1008.14it/s]\n"
     ]
    },
    {
     "name": "stdout",
     "output_type": "stream",
     "text": [
      "smhi_data\\parameter_8\\station_95300-SE3.csv\n"
     ]
    },
    {
     "name": "stderr",
     "output_type": "stream",
     "text": [
      "Writing to file smhi_data\\parameter_8\\station_95300-SE3.csv:  42%|████▏     | 8/19 [00:00<00:00, 605.41it/s]\n"
     ]
    },
    {
     "name": "stdout",
     "output_type": "stream",
     "text": [
      "Bad file\n",
      "smhi_data\\parameter_8\\station_95320-SE3.csv\n"
     ]
    },
    {
     "name": "stderr",
     "output_type": "stream",
     "text": [
      "Writing to file smhi_data\\parameter_8\\station_95320-SE3.csv:  42%|████▏     | 8/19 [00:00<00:00, 286.80it/s]\n"
     ]
    },
    {
     "name": "stdout",
     "output_type": "stream",
     "text": [
      "smhi_data\\parameter_8\\station_95350-SE3.csv\n"
     ]
    },
    {
     "name": "stderr",
     "output_type": "stream",
     "text": [
      "Writing to file smhi_data\\parameter_8\\station_95350-SE3.csv:  42%|████▏     | 8/19 [00:00<00:00, 568.46it/s]\n"
     ]
    },
    {
     "name": "stdout",
     "output_type": "stream",
     "text": [
      "smhi_data\\parameter_8\\station_95380-SE3.csv\n"
     ]
    },
    {
     "name": "stderr",
     "output_type": "stream",
     "text": [
      "Writing to file smhi_data\\parameter_8\\station_95380-SE3.csv:  37%|███▋      | 7/19 [00:00<00:00, 496.51it/s]\n"
     ]
    },
    {
     "name": "stdout",
     "output_type": "stream",
     "text": [
      "smhi_data\\parameter_8\\station_95490-SE3.csv\n"
     ]
    },
    {
     "name": "stderr",
     "output_type": "stream",
     "text": [
      "Writing to file smhi_data\\parameter_8\\station_95490-SE3.csv:  42%|████▏     | 8/19 [00:00<00:00, 297.74it/s]\n"
     ]
    },
    {
     "name": "stdout",
     "output_type": "stream",
     "text": [
      "Bad file\n",
      "smhi_data\\parameter_8\\station_95500-SE3.csv\n"
     ]
    },
    {
     "name": "stderr",
     "output_type": "stream",
     "text": [
      "Writing to file smhi_data\\parameter_8\\station_95500-SE3.csv:  37%|███▋      | 7/19 [00:00<00:00, 798.05it/s]\n"
     ]
    },
    {
     "name": "stdout",
     "output_type": "stream",
     "text": [
      "smhi_data\\parameter_8\\station_95530-SE3.csv\n"
     ]
    },
    {
     "name": "stderr",
     "output_type": "stream",
     "text": [
      "Writing to file smhi_data\\parameter_8\\station_95530-SE3.csv:  37%|███▋      | 7/19 [00:00<00:00, 538.11it/s]\n"
     ]
    },
    {
     "name": "stdout",
     "output_type": "stream",
     "text": [
      "Bad file\n",
      "smhi_data\\parameter_8\\station_95640-SE3.csv\n"
     ]
    },
    {
     "name": "stderr",
     "output_type": "stream",
     "text": [
      "Writing to file smhi_data\\parameter_8\\station_95640-SE3.csv:  37%|███▋      | 7/19 [00:00<00:00, 920.78it/s]\n"
     ]
    },
    {
     "name": "stdout",
     "output_type": "stream",
     "text": [
      "smhi_data\\parameter_8\\station_95660-SE3.csv\n"
     ]
    },
    {
     "name": "stderr",
     "output_type": "stream",
     "text": [
      "Writing to file smhi_data\\parameter_8\\station_95660-SE3.csv:  37%|███▋      | 7/19 [00:00<00:00, 1267.98it/s]\n"
     ]
    },
    {
     "name": "stdout",
     "output_type": "stream",
     "text": [
      "smhi_data\\parameter_8\\station_96000-SE3.csv\n"
     ]
    },
    {
     "name": "stderr",
     "output_type": "stream",
     "text": [
      "Writing to file smhi_data\\parameter_8\\station_96000-SE3.csv:  37%|███▋      | 7/19 [00:00<00:00, 340.95it/s]\n"
     ]
    },
    {
     "name": "stdout",
     "output_type": "stream",
     "text": [
      "Bad file\n",
      "smhi_data\\parameter_8\\station_96030-SE3.csv\n"
     ]
    },
    {
     "name": "stderr",
     "output_type": "stream",
     "text": [
      "Writing to file smhi_data\\parameter_8\\station_96030-SE3.csv:  37%|███▋      | 7/19 [00:00<00:00, 1292.77it/s]\n"
     ]
    },
    {
     "name": "stdout",
     "output_type": "stream",
     "text": [
      "smhi_data\\parameter_8\\station_96040-SE3.csv\n"
     ]
    },
    {
     "name": "stderr",
     "output_type": "stream",
     "text": [
      "Writing to file smhi_data\\parameter_8\\station_96040-SE3.csv:  37%|███▋      | 7/19 [00:00<00:00, 1136.18it/s]\n"
     ]
    },
    {
     "name": "stdout",
     "output_type": "stream",
     "text": [
      "smhi_data\\parameter_8\\station_96120-SE3.csv\n"
     ]
    },
    {
     "name": "stderr",
     "output_type": "stream",
     "text": [
      "Writing to file smhi_data\\parameter_8\\station_96120-SE3.csv:  42%|████▏     | 8/19 [00:00<00:00, 371.07it/s]\n"
     ]
    },
    {
     "name": "stdout",
     "output_type": "stream",
     "text": [
      "smhi_data\\parameter_8\\station_96140-SE3.csv\n"
     ]
    },
    {
     "name": "stderr",
     "output_type": "stream",
     "text": [
      "Writing to file smhi_data\\parameter_8\\station_96140-SE3.csv:  42%|████▏     | 8/19 [00:00<00:00, 485.42it/s]\n"
     ]
    },
    {
     "name": "stdout",
     "output_type": "stream",
     "text": [
      "Bad file\n",
      "smhi_data\\parameter_8\\station_96210-SE3.csv\n"
     ]
    },
    {
     "name": "stderr",
     "output_type": "stream",
     "text": [
      "Writing to file smhi_data\\parameter_8\\station_96210-SE3.csv:  42%|████▏     | 8/19 [00:00<00:00, 433.21it/s]\n"
     ]
    },
    {
     "name": "stdout",
     "output_type": "stream",
     "text": [
      "smhi_data\\parameter_8\\station_96230-SE3.csv\n"
     ]
    },
    {
     "name": "stderr",
     "output_type": "stream",
     "text": [
      "Writing to file smhi_data\\parameter_8\\station_96230-SE3.csv:  47%|████▋     | 9/19 [00:00<00:00, 355.20it/s]\n"
     ]
    },
    {
     "name": "stdout",
     "output_type": "stream",
     "text": [
      "Bad file\n",
      "smhi_data\\parameter_8\\station_96310-SE3.csv\n"
     ]
    },
    {
     "name": "stderr",
     "output_type": "stream",
     "text": [
      "Writing to file smhi_data\\parameter_8\\station_96310-SE3.csv:  47%|████▋     | 9/19 [00:00<00:00, 738.07it/s]\n"
     ]
    },
    {
     "name": "stdout",
     "output_type": "stream",
     "text": [
      "smhi_data\\parameter_8\\station_96350-SE3.csv\n"
     ]
    },
    {
     "name": "stderr",
     "output_type": "stream",
     "text": [
      "Writing to file smhi_data\\parameter_8\\station_96350-SE3.csv:  53%|█████▎    | 10/19 [00:00<00:00, 137.23it/s]\n"
     ]
    },
    {
     "name": "stdout",
     "output_type": "stream",
     "text": [
      "Bad file\n",
      "smhi_data\\parameter_8\\station_96370-SE3.csv\n"
     ]
    },
    {
     "name": "stderr",
     "output_type": "stream",
     "text": [
      "Writing to file smhi_data\\parameter_8\\station_96370-SE3.csv:  42%|████▏     | 8/19 [00:00<00:00, 155.28it/s]\n"
     ]
    },
    {
     "name": "stdout",
     "output_type": "stream",
     "text": [
      "smhi_data\\parameter_8\\station_96480-SE3.csv\n"
     ]
    },
    {
     "name": "stderr",
     "output_type": "stream",
     "text": [
      "Writing to file smhi_data\\parameter_8\\station_96480-SE3.csv:  37%|███▋      | 7/19 [00:00<00:00, 1075.07it/s]\n"
     ]
    },
    {
     "name": "stdout",
     "output_type": "stream",
     "text": [
      "smhi_data\\parameter_8\\station_96501-SE3.csv\n"
     ]
    },
    {
     "name": "stderr",
     "output_type": "stream",
     "text": [
      "Writing to file smhi_data\\parameter_8\\station_96501-SE3.csv:  37%|███▋      | 7/19 [00:00<00:00, 1359.77it/s]\n"
     ]
    },
    {
     "name": "stdout",
     "output_type": "stream",
     "text": [
      "smhi_data\\parameter_8\\station_96550-SE3.csv\n"
     ]
    },
    {
     "name": "stderr",
     "output_type": "stream",
     "text": [
      "Writing to file smhi_data\\parameter_8\\station_96550-SE3.csv:  47%|████▋     | 9/19 [00:00<00:00, 182.37it/s]\n"
     ]
    },
    {
     "name": "stdout",
     "output_type": "stream",
     "text": [
      "Bad file\n",
      "smhi_data\\parameter_8\\station_96610-SE3.csv\n"
     ]
    },
    {
     "name": "stderr",
     "output_type": "stream",
     "text": [
      "Writing to file smhi_data\\parameter_8\\station_96610-SE3.csv:  37%|███▋      | 7/19 [00:00<00:00, 1000.07it/s]\n"
     ]
    },
    {
     "name": "stdout",
     "output_type": "stream",
     "text": [
      "smhi_data\\parameter_8\\station_96640-SE3.csv\n"
     ]
    },
    {
     "name": "stderr",
     "output_type": "stream",
     "text": [
      "Writing to file smhi_data\\parameter_8\\station_96640-SE3.csv:  37%|███▋      | 7/19 [00:00<00:00, 999.09it/s]\n"
     ]
    },
    {
     "name": "stdout",
     "output_type": "stream",
     "text": [
      "smhi_data\\parameter_8\\station_97070-SE3.csv\n"
     ]
    },
    {
     "name": "stderr",
     "output_type": "stream",
     "text": [
      "Writing to file smhi_data\\parameter_8\\station_97070-SE3.csv:  42%|████▏     | 8/19 [00:00<00:00, 1124.59it/s]\n"
     ]
    },
    {
     "name": "stdout",
     "output_type": "stream",
     "text": [
      "Bad file\n",
      "smhi_data\\parameter_8\\station_97100-SE3.csv\n"
     ]
    },
    {
     "name": "stderr",
     "output_type": "stream",
     "text": [
      "Writing to file smhi_data\\parameter_8\\station_97100-SE3.csv:  42%|████▏     | 8/19 [00:00<00:00, 159.36it/s]\n"
     ]
    },
    {
     "name": "stdout",
     "output_type": "stream",
     "text": [
      "smhi_data\\parameter_8\\station_97120-SE3.csv\n"
     ]
    },
    {
     "name": "stderr",
     "output_type": "stream",
     "text": [
      "Writing to file smhi_data\\parameter_8\\station_97120-SE3.csv:  47%|████▋     | 9/19 [00:00<00:00, 376.42it/s]\n"
     ]
    },
    {
     "name": "stdout",
     "output_type": "stream",
     "text": [
      "Bad file\n",
      "smhi_data\\parameter_8\\station_97150-SE3.csv\n"
     ]
    },
    {
     "name": "stderr",
     "output_type": "stream",
     "text": [
      "Writing to file smhi_data\\parameter_8\\station_97150-SE3.csv:  37%|███▋      | 7/19 [00:00<00:00, 1166.10it/s]\n"
     ]
    },
    {
     "name": "stdout",
     "output_type": "stream",
     "text": [
      "smhi_data\\parameter_8\\station_97170-SE3.csv\n"
     ]
    },
    {
     "name": "stderr",
     "output_type": "stream",
     "text": [
      "Writing to file smhi_data\\parameter_8\\station_97170-SE3.csv:  42%|████▏     | 8/19 [00:00<00:00, 380.85it/s]\n"
     ]
    },
    {
     "name": "stdout",
     "output_type": "stream",
     "text": [
      "Bad file\n",
      "smhi_data\\parameter_8\\station_97180-SE3.csv\n"
     ]
    },
    {
     "name": "stderr",
     "output_type": "stream",
     "text": [
      "Writing to file smhi_data\\parameter_8\\station_97180-SE3.csv:  37%|███▋      | 7/19 [00:00<00:00, 623.94it/s]\n"
     ]
    },
    {
     "name": "stdout",
     "output_type": "stream",
     "text": [
      "smhi_data\\parameter_8\\station_97200-SE3.csv\n"
     ]
    },
    {
     "name": "stderr",
     "output_type": "stream",
     "text": [
      "Writing to file smhi_data\\parameter_8\\station_97200-SE3.csv:  37%|███▋      | 7/19 [00:00<00:00, 153.82it/s]\n"
     ]
    },
    {
     "name": "stdout",
     "output_type": "stream",
     "text": [
      "smhi_data\\parameter_8\\station_97210-SE3.csv\n"
     ]
    },
    {
     "name": "stderr",
     "output_type": "stream",
     "text": [
      "Writing to file smhi_data\\parameter_8\\station_97210-SE3.csv:  37%|███▋      | 7/19 [00:00<00:00, 999.02it/s]\n"
     ]
    },
    {
     "name": "stdout",
     "output_type": "stream",
     "text": [
      "smhi_data\\parameter_8\\station_97220-SE3.csv\n"
     ]
    },
    {
     "name": "stderr",
     "output_type": "stream",
     "text": [
      "Writing to file smhi_data\\parameter_8\\station_97220-SE3.csv:  42%|████▏     | 8/19 [00:00<00:00, 791.51it/s]\n"
     ]
    },
    {
     "name": "stdout",
     "output_type": "stream",
     "text": [
      "smhi_data\\parameter_8\\station_97240-SE3.csv\n"
     ]
    },
    {
     "name": "stderr",
     "output_type": "stream",
     "text": [
      "Writing to file smhi_data\\parameter_8\\station_97240-SE3.csv:  37%|███▋      | 7/19 [00:00<00:00, 1753.68it/s]\n"
     ]
    },
    {
     "name": "stdout",
     "output_type": "stream",
     "text": [
      "smhi_data\\parameter_8\\station_97260-SE3.csv\n"
     ]
    },
    {
     "name": "stderr",
     "output_type": "stream",
     "text": [
      "Writing to file smhi_data\\parameter_8\\station_97260-SE3.csv:  37%|███▋      | 7/19 [00:00<00:00, 165.13it/s]\n"
     ]
    },
    {
     "name": "stdout",
     "output_type": "stream",
     "text": [
      "smhi_data\\parameter_8\\station_97270-SE3.csv\n"
     ]
    },
    {
     "name": "stderr",
     "output_type": "stream",
     "text": [
      "Writing to file smhi_data\\parameter_8\\station_97270-SE3.csv:  37%|███▋      | 7/19 [00:00<00:00, 1269.79it/s]\n"
     ]
    },
    {
     "name": "stdout",
     "output_type": "stream",
     "text": [
      "smhi_data\\parameter_8\\station_97370-SE3.csv\n"
     ]
    },
    {
     "name": "stderr",
     "output_type": "stream",
     "text": [
      "Writing to file smhi_data\\parameter_8\\station_97370-SE3.csv:  37%|███▋      | 7/19 [00:00<00:00, 838.84it/s]\n"
     ]
    },
    {
     "name": "stdout",
     "output_type": "stream",
     "text": [
      "Bad file\n",
      "smhi_data\\parameter_8\\station_97390-SE3.csv\n"
     ]
    },
    {
     "name": "stderr",
     "output_type": "stream",
     "text": [
      "Writing to file smhi_data\\parameter_8\\station_97390-SE3.csv:  42%|████▏     | 8/19 [00:00<00:00, 168.74it/s]\n"
     ]
    },
    {
     "name": "stdout",
     "output_type": "stream",
     "text": [
      "smhi_data\\parameter_8\\station_97490-SE3.csv\n"
     ]
    },
    {
     "name": "stderr",
     "output_type": "stream",
     "text": [
      "Writing to file smhi_data\\parameter_8\\station_97490-SE3.csv:  37%|███▋      | 7/19 [00:00<00:00, 424.95it/s]\n"
     ]
    },
    {
     "name": "stdout",
     "output_type": "stream",
     "text": [
      "smhi_data\\parameter_8\\station_97510-SE3.csv\n"
     ]
    },
    {
     "name": "stderr",
     "output_type": "stream",
     "text": [
      "Writing to file smhi_data\\parameter_8\\station_97510-SE3.csv:  42%|████▏     | 8/19 [00:00<00:00, 791.98it/s]\n"
     ]
    },
    {
     "name": "stdout",
     "output_type": "stream",
     "text": [
      "Bad file\n",
      "smhi_data\\parameter_8\\station_97520-SE3.csv\n"
     ]
    },
    {
     "name": "stderr",
     "output_type": "stream",
     "text": [
      "Writing to file smhi_data\\parameter_8\\station_97520-SE3.csv:  42%|████▏     | 8/19 [00:00<00:00, 151.34it/s]\n"
     ]
    },
    {
     "name": "stdout",
     "output_type": "stream",
     "text": [
      "Bad file\n",
      "smhi_data\\parameter_8\\station_97530-SE3.csv\n"
     ]
    },
    {
     "name": "stderr",
     "output_type": "stream",
     "text": [
      "Writing to file smhi_data\\parameter_8\\station_97530-SE3.csv:  37%|███▋      | 7/19 [00:00<00:00, 131.31it/s]\n"
     ]
    },
    {
     "name": "stdout",
     "output_type": "stream",
     "text": [
      "smhi_data\\parameter_8\\station_97560-SE3.csv\n"
     ]
    },
    {
     "name": "stderr",
     "output_type": "stream",
     "text": [
      "Writing to file smhi_data\\parameter_8\\station_97560-SE3.csv:  37%|███▋      | 7/19 [00:00<00:00, 874.91it/s]\n"
     ]
    },
    {
     "name": "stdout",
     "output_type": "stream",
     "text": [
      "smhi_data\\parameter_8\\station_97620-SE3.csv\n"
     ]
    },
    {
     "name": "stderr",
     "output_type": "stream",
     "text": [
      "Writing to file smhi_data\\parameter_8\\station_97620-SE3.csv:  37%|███▋      | 7/19 [00:00<00:00, 484.07it/s]\n"
     ]
    },
    {
     "name": "stdout",
     "output_type": "stream",
     "text": [
      "smhi_data\\parameter_8\\station_97630-SE3.csv\n"
     ]
    },
    {
     "name": "stderr",
     "output_type": "stream",
     "text": [
      "Writing to file smhi_data\\parameter_8\\station_97630-SE3.csv:  37%|███▋      | 7/19 [00:00<00:00, 850.55it/s]\n"
     ]
    },
    {
     "name": "stdout",
     "output_type": "stream",
     "text": [
      "smhi_data\\parameter_8\\station_97700-SE3.csv\n"
     ]
    },
    {
     "name": "stderr",
     "output_type": "stream",
     "text": [
      "Writing to file smhi_data\\parameter_8\\station_97700-SE3.csv:  37%|███▋      | 7/19 [00:00<00:00, 1377.96it/s]\n"
     ]
    },
    {
     "name": "stdout",
     "output_type": "stream",
     "text": [
      "smhi_data\\parameter_8\\station_97750-SE3.csv\n"
     ]
    },
    {
     "name": "stderr",
     "output_type": "stream",
     "text": [
      "Writing to file smhi_data\\parameter_8\\station_97750-SE3.csv:  37%|███▋      | 7/19 [00:00<00:00, 1166.84it/s]\n"
     ]
    },
    {
     "name": "stdout",
     "output_type": "stream",
     "text": [
      "smhi_data\\parameter_8\\station_98040-SE3.csv\n"
     ]
    },
    {
     "name": "stderr",
     "output_type": "stream",
     "text": [
      "Writing to file smhi_data\\parameter_8\\station_98040-SE3.csv:  37%|███▋      | 7/19 [00:00<00:00, 150.09it/s]\n"
     ]
    },
    {
     "name": "stdout",
     "output_type": "stream",
     "text": [
      "smhi_data\\parameter_8\\station_98140-SE3.csv\n"
     ]
    },
    {
     "name": "stderr",
     "output_type": "stream",
     "text": [
      "Writing to file smhi_data\\parameter_8\\station_98140-SE3.csv:  42%|████▏     | 8/19 [00:00<00:00, 800.12it/s]\n"
     ]
    },
    {
     "name": "stdout",
     "output_type": "stream",
     "text": [
      "Bad file\n",
      "smhi_data\\parameter_8\\station_98170-SE3.csv\n"
     ]
    },
    {
     "name": "stderr",
     "output_type": "stream",
     "text": [
      "Writing to file smhi_data\\parameter_8\\station_98170-SE3.csv:  42%|████▏     | 8/19 [00:00<00:00, 463.70it/s]\n"
     ]
    },
    {
     "name": "stdout",
     "output_type": "stream",
     "text": [
      "Bad file\n",
      "smhi_data\\parameter_8\\station_98180-SE3.csv\n"
     ]
    },
    {
     "name": "stderr",
     "output_type": "stream",
     "text": [
      "Writing to file smhi_data\\parameter_8\\station_98180-SE3.csv:  37%|███▋      | 7/19 [00:00<00:00, 1282.05it/s]\n"
     ]
    },
    {
     "name": "stdout",
     "output_type": "stream",
     "text": [
      "Bad file\n",
      "smhi_data\\parameter_8\\station_98210-SE3.csv\n"
     ]
    },
    {
     "name": "stderr",
     "output_type": "stream",
     "text": [
      "Writing to file smhi_data\\parameter_8\\station_98210-SE3.csv:  37%|███▋      | 7/19 [00:00<00:00, 179.35it/s]\n"
     ]
    },
    {
     "name": "stdout",
     "output_type": "stream",
     "text": [
      "Bad file\n",
      "smhi_data\\parameter_8\\station_98230-SE3.csv\n"
     ]
    },
    {
     "name": "stderr",
     "output_type": "stream",
     "text": [
      "Writing to file smhi_data\\parameter_8\\station_98230-SE3.csv: 100%|██████████| 19/19 [00:00<00:00, 3658.10it/s]\n"
     ]
    },
    {
     "name": "stdout",
     "output_type": "stream",
     "text": [
      "Bad file\n",
      "smhi_data\\parameter_8\\station_98260-SE3.csv\n"
     ]
    },
    {
     "name": "stderr",
     "output_type": "stream",
     "text": [
      "Writing to file smhi_data\\parameter_8\\station_98260-SE3.csv:  37%|███▋      | 7/19 [00:00<00:00, 1050.30it/s]\n"
     ]
    },
    {
     "name": "stdout",
     "output_type": "stream",
     "text": [
      "smhi_data\\parameter_8\\station_98290-SE3.csv\n"
     ]
    },
    {
     "name": "stderr",
     "output_type": "stream",
     "text": [
      "Writing to file smhi_data\\parameter_8\\station_98290-SE3.csv:  37%|███▋      | 7/19 [00:00<00:00, 966.75it/s]\n"
     ]
    },
    {
     "name": "stdout",
     "output_type": "stream",
     "text": [
      "Bad file\n",
      "smhi_data\\parameter_8\\station_98400-SE3.csv\n"
     ]
    },
    {
     "name": "stderr",
     "output_type": "stream",
     "text": [
      "Writing to file smhi_data\\parameter_8\\station_98400-SE3.csv:  37%|███▋      | 7/19 [00:00<00:00, 1166.24it/s]\n"
     ]
    },
    {
     "name": "stdout",
     "output_type": "stream",
     "text": [
      "smhi_data\\parameter_8\\station_98460-SE3.csv\n"
     ]
    },
    {
     "name": "stderr",
     "output_type": "stream",
     "text": [
      "Writing to file smhi_data\\parameter_8\\station_98460-SE3.csv:  53%|█████▎    | 10/19 [00:00<00:00, 666.11it/s]\n"
     ]
    },
    {
     "name": "stdout",
     "output_type": "stream",
     "text": [
      "smhi_data\\parameter_8\\station_98510-SE3.csv\n"
     ]
    },
    {
     "name": "stderr",
     "output_type": "stream",
     "text": [
      "Writing to file smhi_data\\parameter_8\\station_98510-SE3.csv:  37%|███▋      | 7/19 [00:00<00:00, 729.79it/s]\n"
     ]
    },
    {
     "name": "stdout",
     "output_type": "stream",
     "text": [
      "smhi_data\\parameter_8\\station_98590-SE3.csv\n"
     ]
    },
    {
     "name": "stderr",
     "output_type": "stream",
     "text": [
      "Writing to file smhi_data\\parameter_8\\station_98590-SE3.csv:  37%|███▋      | 7/19 [00:00<00:00, 1166.47it/s]\n"
     ]
    },
    {
     "name": "stdout",
     "output_type": "stream",
     "text": [
      "smhi_data\\parameter_8\\station_98610-SE3.csv\n"
     ]
    },
    {
     "name": "stderr",
     "output_type": "stream",
     "text": [
      "Writing to file smhi_data\\parameter_8\\station_98610-SE3.csv:  37%|███▋      | 7/19 [00:00<00:00, 1392.33it/s]\n"
     ]
    },
    {
     "name": "stdout",
     "output_type": "stream",
     "text": [
      "smhi_data\\parameter_8\\station_98630-SE3.csv\n"
     ]
    },
    {
     "name": "stderr",
     "output_type": "stream",
     "text": [
      "Writing to file smhi_data\\parameter_8\\station_98630-SE3.csv:  37%|███▋      | 7/19 [00:00<00:00, 1316.89it/s]\n"
     ]
    },
    {
     "name": "stdout",
     "output_type": "stream",
     "text": [
      "smhi_data\\parameter_8\\station_99150-SE3.csv\n"
     ]
    },
    {
     "name": "stderr",
     "output_type": "stream",
     "text": [
      "Writing to file smhi_data\\parameter_8\\station_99150-SE3.csv:  37%|███▋      | 7/19 [00:00<00:00, 629.07it/s]\n"
     ]
    },
    {
     "name": "stdout",
     "output_type": "stream",
     "text": [
      "smhi_data\\parameter_8\\station_99270-SE3.csv\n"
     ]
    },
    {
     "name": "stderr",
     "output_type": "stream",
     "text": [
      "Writing to file smhi_data\\parameter_8\\station_99270-SE3.csv:  37%|███▋      | 7/19 [00:00<00:00, 133.28it/s]\n"
     ]
    },
    {
     "name": "stdout",
     "output_type": "stream",
     "text": [
      "Bad file\n",
      "smhi_data\\parameter_8\\station_99450-SE3.csv\n"
     ]
    },
    {
     "name": "stderr",
     "output_type": "stream",
     "text": [
      "Writing to file smhi_data\\parameter_8\\station_99450-SE3.csv:  37%|███▋      | 7/19 [00:00<00:00, 368.27it/s]\n"
     ]
    },
    {
     "name": "stdout",
     "output_type": "stream",
     "text": [
      "smhi_data\\parameter_10\\station_105285-SE3.csv\n"
     ]
    },
    {
     "name": "stderr",
     "output_type": "stream",
     "text": [
      "Writing to file smhi_data\\parameter_10\\station_105285-SE3.csv:  37%|███▋      | 7/19 [00:00<00:00, 30.61it/s]\n"
     ]
    },
    {
     "name": "stdout",
     "output_type": "stream",
     "text": [
      "Bad file\n",
      "smhi_data\\parameter_10\\station_71415-SE3.csv\n"
     ]
    },
    {
     "name": "stderr",
     "output_type": "stream",
     "text": [
      "Writing to file smhi_data\\parameter_10\\station_71415-SE3.csv:  42%|████▏     | 8/19 [00:00<00:00, 38.17it/s]\n"
     ]
    },
    {
     "name": "stdout",
     "output_type": "stream",
     "text": [
      "Bad file\n",
      "smhi_data\\parameter_10\\station_77215-SE3.csv\n"
     ]
    },
    {
     "name": "stderr",
     "output_type": "stream",
     "text": [
      "Writing to file smhi_data\\parameter_10\\station_77215-SE3.csv:  37%|███▋      | 7/19 [00:00<00:00, 54.84it/s]\n"
     ]
    },
    {
     "name": "stdout",
     "output_type": "stream",
     "text": [
      "Bad file\n",
      "smhi_data\\parameter_10\\station_78645-SE3.csv\n"
     ]
    },
    {
     "name": "stderr",
     "output_type": "stream",
     "text": [
      "Writing to file smhi_data\\parameter_10\\station_78645-SE3.csv:  37%|███▋      | 7/19 [00:00<00:00, 36.75it/s]\n"
     ]
    },
    {
     "name": "stdout",
     "output_type": "stream",
     "text": [
      "Bad file\n",
      "smhi_data\\parameter_10\\station_81525-SE3.csv\n"
     ]
    },
    {
     "name": "stderr",
     "output_type": "stream",
     "text": [
      "Writing to file smhi_data\\parameter_10\\station_81525-SE3.csv:  37%|███▋      | 7/19 [00:00<00:00, 66.20it/s]\n"
     ]
    },
    {
     "name": "stdout",
     "output_type": "stream",
     "text": [
      "Bad file\n",
      "smhi_data\\parameter_10\\station_86655-SE3.csv\n"
     ]
    },
    {
     "name": "stderr",
     "output_type": "stream",
     "text": [
      "Writing to file smhi_data\\parameter_10\\station_86655-SE3.csv:  37%|███▋      | 7/19 [00:00<00:00, 35.13it/s]\n"
     ]
    },
    {
     "name": "stdout",
     "output_type": "stream",
     "text": [
      "Bad file\n",
      "smhi_data\\parameter_10\\station_93235-SE3.csv\n"
     ]
    },
    {
     "name": "stderr",
     "output_type": "stream",
     "text": [
      "Writing to file smhi_data\\parameter_10\\station_93235-SE3.csv:  37%|███▋      | 7/19 [00:00<00:00, 38.69it/s]\n"
     ]
    },
    {
     "name": "stdout",
     "output_type": "stream",
     "text": [
      "Bad file\n",
      "smhi_data\\parameter_10\\station_98735-SE3.csv\n"
     ]
    },
    {
     "name": "stderr",
     "output_type": "stream",
     "text": [
      "Writing to file smhi_data\\parameter_10\\station_98735-SE3.csv:  37%|███▋      | 7/19 [00:00<00:00, 38.44it/s]\n"
     ]
    },
    {
     "name": "stdout",
     "output_type": "stream",
     "text": [
      "Bad file\n",
      "smhi_data\\parameter_10\\station_99275-SE3.csv\n"
     ]
    },
    {
     "name": "stderr",
     "output_type": "stream",
     "text": [
      "Writing to file smhi_data\\parameter_10\\station_99275-SE3.csv:  37%|███▋      | 7/19 [00:00<00:00, 67.17it/s]"
     ]
    },
    {
     "name": "stdout",
     "output_type": "stream",
     "text": [
      "Bad file\n"
     ]
    },
    {
     "name": "stderr",
     "output_type": "stream",
     "text": [
      "\n"
     ]
    }
   ],
   "source": [
    "for param in params:\n",
    "    # defining the path, i.e., the folder where the data from the corresponding parameter exist, and accessing all .csv files\n",
    "    p = Path(f\"./smhi_data/parameter_{param}\").glob(\"*.csv\")\n",
    "    Path(f\"./smhi_data_2014-today/parameter_{param}\").mkdir(parents=True, exist_ok=True)\n",
    "\n",
    "    # defining the target path, i.e., the folder where the processed data file should be saved\n",
    "    target_path = Path(f\"./smhi_data_2022-today/parameter_{param}\")\n",
    "    files = [x for x in p if x.is_file()]\n",
    "\n",
    "    # Start Date should be aligned with the data from the company:\n",
    "    start_date = pd.Timestamp(\"2014-01-01\")                       # ---> change the date here\n",
    "    \n",
    "    # Read, clean, re-save data\n",
    "    for f in files:\n",
    "        try:\n",
    "            print(f) # keep track of the files toggling\n",
    "    \n",
    "            '''\n",
    "            IMPORTANT:\n",
    "            We try to find the start of the data set based on the different formats in the original files.\n",
    "            If you HAVE ADDED ADDITIONAL parameters, check the corresponding files to revise the code below properly.\n",
    "            '''\n",
    "            for i in tqdm(range(1, 20, 1), desc=f'Writing to file {f}'): # csv files variable length header \n",
    "                try:\n",
    "                    if param == 2: # this format is met in files corresponding to parameter 2\n",
    "                        df = pd.read_csv(f, sep=\";\", skiprows=i, usecols=[\"Representativt dygn\", \"Lufttemperatur\", \"Kvalitet\"])\n",
    "                        df.rename(columns={'Representativt dygn': 'Datum'}, inplace=True)\n",
    "                    elif param == 5: # this format is met in files corresponding to parameter 5\n",
    "                        df = pd.read_csv(f, sep=\";\", skiprows=i, usecols=[\"Representativt dygn\", \"Nederbördsmängd\", \"Kvalitet\"])\n",
    "                        df.rename(columns={'Representativt dygn': 'Datum'}, inplace=True)\n",
    "                    elif param == 8: # this format is met in files corresponding to parameter 8\n",
    "                        df = pd.read_csv(f, sep=\";\", skiprows=i, usecols=[\"Datum\", \"Tid (UTC)\", \"Snödjup\", \"Kvalitet\"])\n",
    "                    elif param == 10: # this format is met in files corresponding to parameter 10\n",
    "                        df = pd.read_csv(f, sep=\";\", skiprows=i, usecols=[\"Datum\", \"Tid (UTC)\", \"Solskenstid\", \"Kvalitet\"])\n",
    "                    break\n",
    "                except:\n",
    "                    continue\n",
    "        \n",
    "            # Check that the file has correct timespan\n",
    "            last_time = df[\"Datum\"].tail(1).apply(pd.to_datetime)\n",
    "        \n",
    "            if last_time.iloc[0] > start_date:\n",
    "                # Quick remove all unneccecary data and save\n",
    "                idx = df[\"Datum\"].str.contains(\"2014\").idxmax()   # ---> change the date here, too\n",
    "                df = df.drop(df.index[:idx])\n",
    "                df.to_csv((target_path / f.name), index=False)\n",
    "                \n",
    "        except:\n",
    "            print(\"Bad file\")\n",
    "            continue"
   ]
  },
  {
   "cell_type": "code",
   "execution_count": null,
   "metadata": {},
   "outputs": [],
   "source": []
  }
 ],
 "metadata": {
  "kernelspec": {
   "display_name": "Python 3",
   "language": "python",
   "name": "python3"
  },
  "language_info": {
   "codemirror_mode": {
    "name": "ipython",
    "version": 3
   },
   "file_extension": ".py",
   "mimetype": "text/x-python",
   "name": "python",
   "nbconvert_exporter": "python",
   "pygments_lexer": "ipython3",
   "version": "3.12.9"
  }
 },
 "nbformat": 4,
 "nbformat_minor": 4
}
